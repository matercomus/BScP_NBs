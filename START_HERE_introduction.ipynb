{
 "cells": [
  {
   "cell_type": "markdown",
   "id": "5bfa504a-fbb2-4f19-9029-44aaecc364f2",
   "metadata": {
    "tags": []
   },
   "source": [
    "# Introduction to User Trial\n",
    "\n",
    "Welcome to my user trial! This trial is part of a thesis project that presents the design and implementation of an explainable AI development environment for processing heterogeneous IoT data. The system leverages knowledge graphs, SAREF ontology, and visualization techniques to provide users with a comprehensive understanding of the data.\n",
    "\n",
    "As a participant, you will have access to a fully customizable environment that is accessible through a web browser and features a familiar JupyterLab interface with per-user persistent data storage. The demo/learning environment consists of a set of Jupyter notebooks that guide you through the process of implementing your own smart connector. You will be asked to edit these notebooks in indicated places by comments like `# EDIT THIS` or similar. Your task will be to add functionality for checking and setting humidity readings, saving them to a graph database, and querying this database via smart connectors of several knowledge bases, all orchestrated by a common knowledge base.\n",
    "\n",
    "After completing the trial, you will be asked to fill out an anonymous questionnaire to provide feedback on your experience. The questionnaire can be accessed at [link to questionnaire].\n",
    "\n",
    "I appreciate your participation and feedback as I strive to improve my demo/tutorial. If you have any questions or concerns, please feel free to contact me at m.g.kedzia@student.vu.nl . \n",
    "Thank you for your time and effort! 😊"
   ]
  },
  {
   "cell_type": "markdown",
   "id": "b7e946d4-2c2e-4be6-a0f7-d5857c7c27ac",
   "metadata": {},
   "source": [
    "**⚠️ IMPORTANT ⚠️: Before starting the trial, please make sure to copy all files from `/work/shared_data` into `/work`. Otherwise, you will not be able to save changes! `/work` is your own private directory that is persistent between logins, so you can save and leave and later pick up where you left off.  Please do not edit files outside of the indicated places.**"
   ]
  },
  {
   "cell_type": "markdown",
   "id": "abf0a261-ca8f-4d57-9e7f-87c7749c74d6",
   "metadata": {},
   "source": [
    "# Table of Contents\n",
    "1. [START HERE introduction](./START_HERE_introduction.ipynb)\n",
    "1. [ThermostatAPI](./ThermostatAPI.ipynb)\n",
    "1. [ThermostatUI REST](./ThermostatUI_REST.ipynb)\n",
    "1. [ThermostatSC](./ThermostatSC.ipynb)\n",
    "1. [ThermostatUI SC](./ThermostatUI_SC.ipynb)\n",
    "1. [StorageSC](./StorageSC.ipynb)\n",
    "1. [MonitorSC](./MonitorSC.ipynb)\n"
   ]
  },
  {
   "cell_type": "markdown",
   "id": "d8a46e21-5764-46f3-a5e8-7a7bb76250c9",
   "metadata": {},
   "source": [
    "# Project Architecture\n",
    "\n",
    "<img src=\"./bscp_diagram_LIGHT.svg\" alt=\"Project Architecture Diagram\">\n"
   ]
  },
  {
   "cell_type": "code",
   "execution_count": null,
   "id": "f4689fab-7fce-47ba-9560-360107a58094",
   "metadata": {},
   "outputs": [],
   "source": []
  }
 ],
 "metadata": {
  "kernelspec": {
   "display_name": "Python 3 (ipykernel)",
   "language": "python",
   "name": "python3"
  },
  "language_info": {
   "codemirror_mode": {
    "name": "ipython",
    "version": 3
   },
   "file_extension": ".py",
   "mimetype": "text/x-python",
   "name": "python",
   "nbconvert_exporter": "python",
   "pygments_lexer": "ipython3",
   "version": "3.10.11"
  }
 },
 "nbformat": 4,
 "nbformat_minor": 5
}
