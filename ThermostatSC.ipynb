{
 "cells": [
  {
   "cell_type": "markdown",
   "id": "eca32e76-b7b2-42fa-803b-d85f46845c7f",
   "metadata": {},
   "source": [
    "# Smart Connector for Thermostat API\n",
    "\n",
    "This notebook acts as a translation layer between the thermostat API and a knowledge engine. It serves as a knowledge base and registers with the knowledge engine using functions `register_post_knowledge_interaction` and `register_react_knowledge_interaction`. In turn, it receives an ID for each interaction that is necessary to post or handle a react.\n",
    "\n",
    "There are two types of interactions: POST/REACT and ASK/ANSWER. When the graph pattern of this smart connector's post_knowledge_interaction gets matched by the knowledge engine with the graph pattern of another knowledge base's react_knowledge_interaction, the post side sends bindings that are then received and handled by the react side. ASK/ANSWER interactions will be explained in further notebooks.\n",
    "\n",
    "This smart connector has four main knowledge interactions:\n",
    "\n",
    "## `(POST)` \"post-temp-measurements\" \n",
    "\n",
    "This knowledge interaction is used to post live temperature measurements to the knowledge engine. It takes the current temperature as measured by the thermostat API, constructs bindings describing the measurement, and sends them to the knowledge engine. This interaction runs in a separate thread in the background.\n",
    "\n",
    "## `(REACT)`  \"set-desired-temp\" \n",
    "\n",
    "This knowledge interaction changes the desired temperature of the thermostat. When triggered, it calls a function that takes a list of bindings as an argument. This function logs a message indicating that it is changing the desired temperature to the value specified in the binding. Then, it sends a PUT request to the thermostat API's `/desired_temperature` endpoint with the desired temperature value as a query parameter to update the desired temperature of the thermostat. This interaction is handled by the main thread, which is occupied by a handle_loop that handles react KIs.\n",
    "\n",
    "## `(POST)` \"post-humidity-measurements\"\n",
    "\n",
    "This knowledge interaction is used to post live humidity measurements to the knowledge engine. It takes the current humidity as measured by the thermostat API, constructs bindings describing the measurement, and sends them to the knowledge engine. This interaction runs in a separate thread in the background.\n",
    "\n",
    "## `(REACT)`  \"set-desired-humidity\"\n",
    "\n",
    "This knowledge interaction changes the desired humidity of the thermostat. When triggered, it calls a function that takes a list of bindings as an argument. This function logs a message indicating that it is changing the desired humidity to the value specified in the binding. Then, it sends a PUT request to the thermostat API's `/desired_humidity` endpoint with the desired humidity value as a query parameter to update the desired humidity of the thermostat. This interaction is handled by the main thread, which is occupied by a handle_loop that handles react KIs.\n",
    "\n",
    "All four KIs have their own RDF graph patterns that describe them using the SAREF ontology. These graph patterns are string constants and are hardcoded when registering them with the knowledge engine. After that, only bindings are set and received. These graph patterns can be used by the knowledge engine to interact with this smart connector and other similar knowledge bases."
   ]
  },
  {
   "cell_type": "code",
   "execution_count": null,
   "id": "61647269-6e83-493b-b577-7b68e32377ff",
   "metadata": {
    "tags": []
   },
   "outputs": [],
   "source": [
    "# ThermostatSC2"
   ]
  },
  {
   "cell_type": "code",
   "execution_count": null,
   "id": "c4db569e-8369-44ed-8890-082de12dcef6",
   "metadata": {
    "tags": []
   },
   "outputs": [],
   "source": [
    "import datetime\n",
    "import logging\n",
    "import random\n",
    "import time\n",
    "import uuid\n",
    "\n",
    "import helpers as sp\n",
    "from utils import *\n",
    "\n",
    "logging.basicConfig(level=logging.INFO)\n",
    "logger = logging.getLogger(\"ThermostatSC\")"
   ]
  },
  {
   "cell_type": "code",
   "execution_count": null,
   "id": "cea49628-aa9a-425b-a728-d8bccc7f413e",
   "metadata": {
    "tags": []
   },
   "outputs": [],
   "source": [
    "THERMOSTAT_API_URL = \"http://0.0.0.0:8001/thermostat\"\n",
    "# prefixes of ontologies used in the graph patterns\n",
    "PREFIXES = {\n",
    "    \"rdf\": \"http://www.w3.org/1999/02/22-rdf-syntax-ns#\",\n",
    "    \"saref\": \"https://w3id.org/saref#\",\n",
    "    \"xsd\": \"http://www.w3.org/2001/XMLSchema#\",\n",
    "}\n",
    "# temp measurement graph pattern\n",
    "TEMP_MEAS_GRAPH_PATTERN = \"\"\"?meas rdf:type saref:Measurement .\n",
    "                        ?meas saref:hasValue ?temp .\n",
    "                        ?meas saref:isMeasuredIn saref:TemperatureUnit .\n",
    "                        ?meas saref:hasTimestamp ?timestamp .\n",
    "                        ?meas saref:isMeasurementOf ?room_id .\n",
    "                        ?meas saref:relatesToProperty saref:Temperature .\n",
    "                        ?meas saref:measurementMadeBy ?device_id .\"\"\"\n",
    "# graph pattern describing the change of the ?desired_temp setting of the thermostat\n",
    "TEMP_SETTING_GRAPH_PATTERN = \"\"\"?setting rdf:type saref:SetLevelCommand .\n",
    "                            ?setting saref:hasValue ?desired_temp .\n",
    "                            ?setting saref:isMeasuredIn saref:TemperatureUnit .\n",
    "                            ?setting saref:hasTimestamp ?timestamp .\n",
    "                            ?setting saref:isCommandOf ?room_id .\n",
    "                            ?setting saref:relatesToProperty saref:Temperature .\n",
    "                            ?setting saref:commandIssuedBy ?device_id .\n",
    "                            \"\"\"\n",
    "# humidity measurement graph pattern\n",
    "HUMIDITY_MEAS_GRAPH_PATTERN = \"\"\"?meas rdf:type saref:Measurement .\n",
    "                        ?meas saref:hasValue ?humidity .\n",
    "                        ?meas saref:isMeasuredIn saref:HumidityUnit .\n",
    "                        ?meas saref:hasTimestamp ?timestamp .\n",
    "                        ?meas saref:isMeasurementOf ?room_id .\n",
    "                        ?meas saref:relatesToProperty saref:Humidity .\n",
    "                        ?meas saref:measurementMadeBy ?device_id .\"\"\"\n",
    "# graph pattern describing the change of the ?desired_humidity setting of the thermostat\n",
    "HUMIDITY_SETTING_GRAPH_PATTERN = \"\"\"?setting rdf:type saref:SetLevelCommand .\n",
    "                            ?setting saref:hasValue ?desired_humidity .\n",
    "                            ?setting saref:isMeasuredIn saref:HumidityUnit .\n",
    "                            ?setting saref:hasTimestamp ?timestamp .\n",
    "                            ?setting saref:isCommandOf ?room_id .\n",
    "                            ?setting saref:relatesToProperty saref:Humidity .\n",
    "                            ?setting saref:commandIssuedBy ?device_id .\n",
    "                            \"\"\""
   ]
  },
  {
   "cell_type": "code",
   "execution_count": null,
   "id": "73710bef-3f03-4748-b722-f9bf1ac11356",
   "metadata": {},
   "outputs": [],
   "source": [
    "def get_temp_now():\n",
    "    return requests.get(THERMOSTAT_API_URL + \"/actual_temperature\").json()"
   ]
  },
  {
   "cell_type": "code",
   "execution_count": null,
   "id": "18514138-f473-4e9f-80f0-88033b784113",
   "metadata": {},
   "outputs": [],
   "source": [
    "def temp_measurement_loop(post_temp_ki_id, kb_id, ke_endpoint):\n",
    "    value = get_temp_now()\n",
    "    logger.info(\n",
    "        f\"attempting to post temp measurement of {value} units at {sp.get_timestamp_now()}\"\n",
    "    )\n",
    "    post(\n",
    "        [\n",
    "            {\n",
    "                \"meas\": f\"<{THERMOSTAT_API_URL}/measurements/{str(uuid.uuid4())}>\",\n",
    "                \"temp\": f\"{value}\",\n",
    "                \"timestamp\": f'\"{sp.get_timestamp_now()}\"',  # ISO 8601 format\n",
    "                \"room_id\": f'\"{THERMOSTAT_API_URL}/rooms/1\"',\n",
    "                \"device_id\": f'\"{THERMOSTAT_API_URL}/devices/1\"',\n",
    "            }\n",
    "        ],\n",
    "        post_temp_ki_id,\n",
    "        kb_id,\n",
    "        ke_endpoint,\n",
    "    )\n",
    "    logger.info(\n",
    "        f\"Published temperature measurement of {value} units at {sp.get_timestamp_now()}\"\n",
    "    )\n",
    "\n",
    "    time.sleep(5)"
   ]
  },
  {
   "cell_type": "code",
   "execution_count": null,
   "id": "42b86e23-6a92-46f9-b828-fedf3a3486a1",
   "metadata": {},
   "outputs": [],
   "source": [
    "def get_humidity_now():\n",
    "    return requests.get(THERMOSTAT_API_URL + \"/actual_humidity\").json()"
   ]
  },
  {
   "cell_type": "code",
   "execution_count": null,
   "id": "8f71b513-da76-41e1-a575-2ef815af126f",
   "metadata": {},
   "outputs": [],
   "source": [
    "def humidity_measurement_loop(post_humidity_ki_id, kb_id, ke_endpoint):\n",
    "    value = get_humidity_now()\n",
    "    logger.info(\n",
    "        f\"attempting to post humidity measurement of {value} units at {sp.get_timestamp_now()}\"\n",
    "    )\n",
    "\n",
    "    post(\n",
    "        [\n",
    "            {\n",
    "                \"meas\": f\"<{THERMOSTAT_API_URL}/measurements/{str(uuid.uuid4())}>\",\n",
    "                \"humidity\": f\"{value}\",\n",
    "                \"timestamp\": f'\"{sp.get_timestamp_now()}\"',  # ISO 8601 format\n",
    "                \"room_id\": f'\"{THERMOSTAT_API_URL}/rooms/1\"',\n",
    "                \"device_id\": f'\"{THERMOSTAT_API_URL}/devices/1\"',\n",
    "            }\n",
    "        ],\n",
    "        post_humidity_ki_id,\n",
    "        kb_id,\n",
    "        ke_endpoint,\n",
    "    )\n",
    "    logger.info(\n",
    "        f\"Published humidity measurement of {value} units at {sp.get_timestamp_now()}\"\n",
    "    )\n",
    "\n",
    "    time.sleep(5)"
   ]
  },
  {
   "cell_type": "code",
   "execution_count": null,
   "id": "1b8bbb05-558e-4bc4-9744-5a3ec04d2401",
   "metadata": {
    "tags": []
   },
   "outputs": [],
   "source": [
    "def handle_react_change_desired_temp(bindings):\n",
    "    for binding in bindings:\n",
    "        logger.info(f\"Changing desired temperature to: {binding['desired_temp']}\")\n",
    "        # change desired temp\n",
    "        requests.put(\n",
    "            THERMOSTAT_API_URL\n",
    "            + \"/desired_temperature\"\n",
    "            + f'?desired_temperature={int(binding[\"desired_temp\"])}'\n",
    "        )\n",
    "    return []"
   ]
  },
  {
   "cell_type": "code",
   "execution_count": null,
   "id": "7c3c574b-1826-4fd6-9993-3ab056913602",
   "metadata": {},
   "outputs": [],
   "source": [
    "def handle_react_change_desired_humidity(bindings):\n",
    "    for binding in bindings:\n",
    "        logger.info(f\"Changing desired humidity to: {binding['desired_humidity']}\")\n",
    "        # change desired temp\n",
    "        requests.put(\n",
    "            THERMOSTAT_API_URL\n",
    "            + \"/desired_humidity\"\n",
    "            + f'?desired_humidity={int(binding[\"desired_humidity\"])}'\n",
    "        )\n",
    "    return []"
   ]
  },
  {
   "cell_type": "code",
   "execution_count": null,
   "id": "f6b6300c-f6b7-4edf-b9ca-8cb10bf16599",
   "metadata": {
    "tags": []
   },
   "outputs": [],
   "source": [
    "import threading\n",
    "\n",
    "\n",
    "def start_sensor_kb(\n",
    "    kb_id, kb_name, kb_description, ke_endpoint, post_live_measurements=True\n",
    "):\n",
    "    # delete in case allready exists\n",
    "    delete_knowledge_base(kb_id, ke_endpoint)\n",
    "\n",
    "    # register kb\n",
    "    register_knowledge_base(kb_id, kb_name, kb_description, ke_endpoint)\n",
    "\n",
    "    post_temp_ki_id = register_post_knowledge_interaction(\n",
    "        TEMP_MEAS_GRAPH_PATTERN,\n",
    "        None,\n",
    "        \"post-temp-measurements\",\n",
    "        kb_id,\n",
    "        ke_endpoint,\n",
    "        PREFIXES,\n",
    "    )\n",
    "\n",
    "    post_humidity_ki_id = register_post_knowledge_interaction(\n",
    "        HUMIDITY_MEAS_GRAPH_PATTERN,\n",
    "        None,\n",
    "        \"post-humidity-measurements\",\n",
    "        kb_id,\n",
    "        ke_endpoint,\n",
    "        PREFIXES,\n",
    "    )\n",
    "\n",
    "    temp_react_ki_id = register_react_knowledge_interaction(\n",
    "        TEMP_SETTING_GRAPH_PATTERN,\n",
    "        None,\n",
    "        \"set-desired-temp\",\n",
    "        kb_id,\n",
    "        ke_endpoint,\n",
    "        PREFIXES,\n",
    "    )\n",
    "\n",
    "    humidity_react_ki_id = register_react_knowledge_interaction(\n",
    "        HUMIDITY_SETTING_GRAPH_PATTERN,\n",
    "        None,\n",
    "        \"set-desired-humidity\",\n",
    "        kb_id,\n",
    "        ke_endpoint,\n",
    "        PREFIXES,\n",
    "    )\n",
    "\n",
    "    def measurement_loop(post_temp_ki_id, post_humidity_ki_id, kb_id, ke_endpoint):\n",
    "        while True:\n",
    "            temp_measurement_loop(post_temp_ki_id, kb_id, ke_endpoint)\n",
    "            humidity_measurement_loop(post_humidity_ki_id, kb_id, ke_endpoint)\n",
    "\n",
    "    measurement_thread = threading.Thread(\n",
    "        target=measurement_loop,\n",
    "        args=(\n",
    "            post_temp_ki_id,\n",
    "            post_humidity_ki_id,\n",
    "            kb_id,\n",
    "            ke_endpoint,\n",
    "        ),\n",
    "    )\n",
    "\n",
    "    if post_live_measurements:\n",
    "        measurement_thread.start()\n",
    "\n",
    "    # Start the start_handle_loop function in a separate thread\n",
    "    start_handle_loop(\n",
    "        {\n",
    "            temp_react_ki_id: handle_react_change_desired_temp,\n",
    "            humidity_react_ki_id: handle_react_change_desired_humidity,\n",
    "        },\n",
    "        kb_id,\n",
    "        ke_endpoint,\n",
    "    )"
   ]
  },
  {
   "cell_type": "code",
   "execution_count": null,
   "id": "7066e3da-bf1a-4bad-b476-4835ea3220a2",
   "metadata": {
    "tags": []
   },
   "outputs": [],
   "source": [
    "start_sensor_kb(\n",
    "    \"http://example.org/thermostatSC\",\n",
    "    \"Thermostat_1\",\n",
    "    \"A thermostat\",\n",
    "    \"http://knowledge_engine:8280/rest/\",\n",
    ")"
   ]
  },
  {
   "cell_type": "code",
   "execution_count": null,
   "id": "51817962-3265-4a9d-8299-1df3c0097cff",
   "metadata": {},
   "outputs": [],
   "source": []
  },
  {
   "cell_type": "code",
   "execution_count": null,
   "id": "1d26273b-4ca1-46bd-baf0-e796d1e33621",
   "metadata": {},
   "outputs": [],
   "source": []
  },
  {
   "cell_type": "code",
   "execution_count": null,
   "id": "411ef9c2-d952-4846-b434-c7d215abea22",
   "metadata": {},
   "outputs": [],
   "source": []
  }
 ],
 "metadata": {
  "kernelspec": {
   "display_name": "Python 3 (ipykernel)",
   "language": "python",
   "name": "python3"
  },
  "language_info": {
   "codemirror_mode": {
    "name": "ipython",
    "version": 3
   },
   "file_extension": ".py",
   "mimetype": "text/x-python",
   "name": "python",
   "nbconvert_exporter": "python",
   "pygments_lexer": "ipython3",
   "version": "3.10.11"
  }
 },
 "nbformat": 4,
 "nbformat_minor": 5
}
