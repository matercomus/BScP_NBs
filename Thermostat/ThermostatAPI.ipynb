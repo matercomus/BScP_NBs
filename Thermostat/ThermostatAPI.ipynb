{
 "cells": [
  {
   "cell_type": "code",
   "execution_count": 1,
   "metadata": {
    "ExecuteTime": {
     "end_time": "2023-05-03T15:19:09.142725700Z",
     "start_time": "2023-05-03T15:19:08.100783634Z"
    }
   },
   "outputs": [],
   "source": [
    "# Simple thermostat API using FastAPI\n",
    "# importing libraries\n",
    "from fastapi import FastAPI, Depends\n",
    "import uvicorn\n",
    "import nest_asyncio\n",
    "from pydantic import BaseModel, AnyUrl\n",
    "\n",
    "app = FastAPI()\n"
   ]
  },
  {
   "cell_type": "code",
   "execution_count": 2,
   "outputs": [],
   "source": [
    "class Thermostat(BaseModel):\n",
    "    name: str\n",
    "    desired_temperature: int = 0\n",
    "    actual_temperature: int = 0\n",
    "    humidity: int = 0\n",
    "    mode: str = \"heat\"\n",
    "    kb_id: AnyUrl\n"
   ],
   "metadata": {
    "collapsed": false,
    "ExecuteTime": {
     "end_time": "2023-05-03T15:19:09.144588488Z",
     "start_time": "2023-05-03T15:19:08.951820470Z"
    }
   }
  },
  {
   "cell_type": "code",
   "execution_count": 3,
   "metadata": {
    "collapsed": false,
    "jupyter": {
     "outputs_hidden": false
    },
    "ExecuteTime": {
     "end_time": "2023-05-03T15:19:09.145143499Z",
     "start_time": "2023-05-03T15:19:08.981673798Z"
    }
   },
   "outputs": [],
   "source": [
    "# Creating a thermostat object\n",
    "thermostat = Thermostat(name=\"Thermostat\",\n",
    "                        desired_temperature=20,\n",
    "                        #actual_temperature=18,\n",
    "                        humidity=50,\n",
    "                        mode=\"heat\",\n",
    "                         kb_id=\"http://127.0.0.1:8000/thermostat\",\n",
    "                        )"
   ]
  },
  {
   "cell_type": "code",
   "execution_count": 4,
   "metadata": {
    "collapsed": false,
    "jupyter": {
     "outputs_hidden": false
    },
    "ExecuteTime": {
     "end_time": "2023-05-03T15:19:09.292367086Z",
     "start_time": "2023-05-03T15:19:09.008938185Z"
    }
   },
   "outputs": [
    {
     "data": {
      "text/plain": "{'name': 'Thermostat',\n 'desired_temperature': 20,\n 'actual_temperature': 0,\n 'humidity': 50,\n 'mode': 'heat',\n 'kb_id': AnyUrl('http://127.0.0.1:8000/thermostat', scheme='http', host='127.0.0.1', host_type='ipv4', port='8000', path='/thermostat')}"
     },
     "execution_count": 4,
     "metadata": {},
     "output_type": "execute_result"
    }
   ],
   "source": [
    "thermostat.dict()"
   ]
  },
  {
   "cell_type": "code",
   "execution_count": 5,
   "metadata": {
    "collapsed": false,
    "jupyter": {
     "outputs_hidden": false
    },
    "ExecuteTime": {
     "end_time": "2023-05-03T15:19:09.345308255Z",
     "start_time": "2023-05-03T15:19:09.027635512Z"
    }
   },
   "outputs": [],
   "source": [
    "# Defining the API endpoints\n",
    "@app.get(\"/\")\n",
    "async def root():\n",
    "    return {\"message\": \"Welcome to the thermostat API\"}\n",
    "\n",
    "\n",
    "@app.get(\"/thermostat\")\n",
    "async def get_thermostat() -> Thermostat:\n",
    "    return thermostat\n",
    "\n",
    "\n",
    "@app.get(\"/thermostat/name\")\n",
    "async def get_name():\n",
    "    return thermostat.name\n",
    "\n",
    "# TODO: maybe make this more random\n",
    "@app.get(\"/thermostat/actual_temperature\")\n",
    "async def get_actual_temperature() -> int:\n",
    "    return thermostat.desired_temperature\n",
    "\n",
    "\n",
    "@app.get(\"/thermostat/desired_temperature\")\n",
    "async def get_desired_temperature() -> int:\n",
    "    return thermostat.desired_temperature\n",
    "\n",
    "\n",
    "@app.get(\"/thermostat/humidity\")\n",
    "async def get_humidity():\n",
    "    return thermostat.humidity\n",
    "\n",
    "\n",
    "@app.get(\"/thermostat/mode\")\n",
    "async def get_mode():\n",
    "    return thermostat.mode\n",
    "\n",
    "\n",
    "@app.get(\"/thermostat/kb_id\")\n",
    "async def get_kb_id():\n",
    "    return thermostat.kb_id\n",
    "\n",
    "\n",
    "@app.put(\"/thermostat\")\n",
    "async def set_thermostat(commons: Thermostat = Depends()) -> Thermostat:\n",
    "    thermostat.__dict__.update(commons.__dict__)\n",
    "    return thermostat\n",
    "\n",
    "\n",
    "@app.put(\"/thermostat/desired_temperature\")\n",
    "async def set_desired_temperature(desired_temperature: int) -> int:\n",
    "    thermostat.desired_temperature = desired_temperature\n",
    "    return thermostat.desired_temperature\n",
    "\n",
    "\n",
    "@app.put(\"/thermostat/humidity\")\n",
    "async def set_humidity(humidity: int):\n",
    "    thermostat.humidity = humidity\n",
    "    return thermostat.humidity\n",
    "\n",
    "\n",
    "@app.put(\"/thermostat/mode\")\n",
    "async def set_mode(mode: str):\n",
    "    thermostat.mode = mode\n",
    "    return thermostat.mode\n",
    "\n",
    "\n",
    "@app.put(\"/thermostat/name\")\n",
    "async def set_name(name: str):\n",
    "    thermostat.name = name\n",
    "    return thermostat.name\n",
    "\n",
    "\n",
    "@app.put(\"/thermostat/kb_id\")\n",
    "async def set_kb_id(kb_id: str):\n",
    "    thermostat.kb_id = kb_id\n",
    "    return thermostat.kb_id\n"
   ]
  },
  {
   "cell_type": "code",
   "execution_count": null,
   "metadata": {
    "collapsed": false,
    "jupyter": {
     "outputs_hidden": false
    },
    "is_executing": true,
    "ExecuteTime": {
     "start_time": "2023-05-03T15:19:09.087535434Z"
    }
   },
   "outputs": [
    {
     "name": "stderr",
     "output_type": "stream",
     "text": [
      "INFO:     Started server process [23077]\n",
      "INFO:     Waiting for application startup.\n",
      "INFO:     Application startup complete.\n",
      "INFO:     Uvicorn running on http://127.0.0.1:8000 (Press CTRL+C to quit)\n"
     ]
    },
    {
     "name": "stdout",
     "output_type": "stream",
     "text": [
      "INFO:     127.0.0.1:50858 - \"GET /thermostat/actual_temperature HTTP/1.1\" 200 OK\n"
     ]
    }
   ],
   "source": [
    "# Running the API\n",
    "if __name__ == \"__main__\":\n",
    "    nest_asyncio.apply()\n",
    "    #uvicorn.run(app, host=\"0.0.0.0\", port=8001)\n",
    "    uvicorn.run(app)"
   ]
  },
  {
   "cell_type": "code",
   "execution_count": null,
   "outputs": [],
   "source": [],
   "metadata": {
    "collapsed": false,
    "is_executing": true
   }
  }
 ],
 "metadata": {
  "kernelspec": {
   "display_name": "Python 3 (ipykernel)",
   "language": "python",
   "name": "python3"
  },
  "language_info": {
   "codemirror_mode": {
    "name": "ipython",
    "version": 3
   },
   "file_extension": ".py",
   "mimetype": "text/x-python",
   "name": "python",
   "nbconvert_exporter": "python",
   "pygments_lexer": "ipython3",
   "version": "3.10.8"
  }
 },
 "nbformat": 4,
 "nbformat_minor": 4
}
