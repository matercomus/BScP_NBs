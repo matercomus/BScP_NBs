{
 "cells": [
  {
   "cell_type": "code",
   "execution_count": 10,
   "outputs": [],
   "source": [
    "# desc"
   ],
   "metadata": {
    "collapsed": false,
    "ExecuteTime": {
     "end_time": "2023-05-12T14:19:24.479275121Z",
     "start_time": "2023-05-12T14:19:24.473612484Z"
    }
   }
  },
  {
   "cell_type": "code",
   "execution_count": 11,
   "outputs": [],
   "source": [
    "import json\n",
    "import uuid\n",
    "\n",
    "import requests\n",
    "\n",
    "# import the smartpynector module\n",
    "from NBs import smartpynector as sp\n"
   ],
   "metadata": {
    "collapsed": false,
    "ExecuteTime": {
     "end_time": "2023-05-12T14:19:24.630195728Z",
     "start_time": "2023-05-12T14:19:24.473983059Z"
    }
   }
  },
  {
   "cell_type": "code",
   "execution_count": 12,
   "outputs": [],
   "source": [
    "# Defining constants\n",
    "# Knowledge engine REST API URL\n",
    "KNOWLEDGE_ENGINE_URL = \"http://127.0.0.1:8280/rest\"\n",
    "THERMOSTAT_API_URL = \"http://127.0.0.1:8000/thermostat\"\n"
   ],
   "metadata": {
    "collapsed": false,
    "ExecuteTime": {
     "end_time": "2023-05-12T14:19:24.630660692Z",
     "start_time": "2023-05-12T14:19:24.474495415Z"
    }
   }
  },
  {
   "cell_type": "code",
   "execution_count": 13,
   "outputs": [],
   "source": [
    "# Defining the Smart Connector\n",
    "smart_connector = sp.SmartConnector(\n",
    "    knowledgeBaseId=THERMOSTAT_API_URL,\n",
    "    knowledgeBaseName=\"thermostat 1\",\n",
    "    knowledgeBaseDescription=\"thermostat 1\",\n",
    "    reasonerEnabled=False,\n",
    ")"
   ],
   "metadata": {
    "collapsed": false,
    "ExecuteTime": {
     "end_time": "2023-05-12T14:19:24.630960364Z",
     "start_time": "2023-05-12T14:19:24.480295270Z"
    }
   }
  },
  {
   "cell_type": "code",
   "execution_count": 14,
   "outputs": [
    {
     "name": "stderr",
     "output_type": "stream",
     "text": [
      "2023-05-12 16:19:24 DEBUG Starting new HTTP connection (1): 127.0.0.1:8280\n",
      "2023-05-12 16:19:26 DEBUG http://127.0.0.1:8280 \"POST /rest/sc HTTP/1.1\" 200 0\n",
      "2023-05-12 16:19:26 INFO Request successful\n",
      "2023-05-12 16:19:26 DEBUG \n"
     ]
    },
    {
     "data": {
      "text/plain": "<Response [200]>"
     },
     "execution_count": 14,
     "metadata": {},
     "output_type": "execute_result"
    }
   ],
   "source": [
    "sp.create_smart_connector(smart_connector, KNOWLEDGE_ENGINE_URL)"
   ],
   "metadata": {
    "collapsed": false,
    "ExecuteTime": {
     "end_time": "2023-05-12T14:19:27.027451128Z",
     "start_time": "2023-05-12T14:19:24.486740331Z"
    }
   }
  },
  {
   "cell_type": "code",
   "execution_count": 15,
   "outputs": [],
   "source": [
    "\n",
    "GRAPH_PATTERN = '''?meas rdf:type saref:Measurement .\n",
    "         ?meas saref:hasValue ?temp .\n",
    "         ?meas saref:isMeasuredIn saref:TemperatureUnit .\n",
    "         ?meas saref:hasTimestamp ?timestamp .\n",
    "         ?meas saref:isMeasurementOf ?room_id .\n",
    "         ?meas saref:relatesToProperty saref:Temperature .\n",
    "         ?meas saref:measurementMadeBy ?device_id .'''\n",
    "PREFIXES = {\n",
    "    \"rdf\": \"http://www.w3.org/1999/02/22-rdf-syntax-ns#\",\n",
    "    \"saref\": \"https://w3id.org/saref#\",\n",
    "}\n",
    "HEADERS = {\n",
    "    \"Content-Type\": \"application/json\",\n",
    "    \"knowledge-Base-Id\": THERMOSTAT_API_URL,\n",
    "}\n"
   ],
   "metadata": {
    "collapsed": false,
    "ExecuteTime": {
     "end_time": "2023-05-12T14:19:27.027985187Z",
     "start_time": "2023-05-12T14:19:26.982803543Z"
    }
   }
  },
  {
   "cell_type": "code",
   "execution_count": 16,
   "outputs": [
    {
     "name": "stderr",
     "output_type": "stream",
     "text": [
      "2023-05-12 16:19:27 DEBUG Starting new HTTP connection (1): 127.0.0.1:8280\n",
      "2023-05-12 16:19:27 DEBUG http://127.0.0.1:8280 \"POST /rest/sc/ki HTTP/1.1\" 200 110\n",
      "2023-05-12 16:19:27 INFO Request successful\n",
      "2023-05-12 16:19:27 DEBUG {\"knowledgeInteractionId\":\"http://127.0.0.1:8000/thermostat/interaction/be4fdc09-a3a1-46d5-b6ad-e802510e167d\"}\n"
     ]
    },
    {
     "data": {
      "text/plain": "'http://127.0.0.1:8000/thermostat/interaction/be4fdc09-a3a1-46d5-b6ad-e802510e167d'"
     },
     "execution_count": 16,
     "metadata": {},
     "output_type": "execute_result"
    }
   ],
   "source": [
    "answer_ki_id = sp.register_knowledge_interaction(\n",
    "    knowledge_interaction_type=\"AnswerKnowledgeInteraction\",\n",
    "    knowledge_engine_url=KNOWLEDGE_ENGINE_URL,\n",
    "    prefixes=PREFIXES,\n",
    "    graph_pattern=GRAPH_PATTERN,\n",
    "    headers=HEADERS,\n",
    ").json()[\"knowledgeInteractionId\"]\n",
    "\n",
    "answer_ki_id"
   ],
   "metadata": {
    "collapsed": false,
    "ExecuteTime": {
     "end_time": "2023-05-12T14:19:27.231298827Z",
     "start_time": "2023-05-12T14:19:26.992894708Z"
    }
   }
  },
  {
   "cell_type": "code",
   "execution_count": 17,
   "outputs": [
    {
     "name": "stderr",
     "output_type": "stream",
     "text": [
      "2023-05-12 16:19:27 DEBUG Starting new HTTP connection (1): 127.0.0.1:8000\n",
      "2023-05-12 16:19:27 DEBUG http://127.0.0.1:8000 \"GET /thermostat/actual_temperature HTTP/1.1\" 200 2\n"
     ]
    },
    {
     "data": {
      "text/plain": "20"
     },
     "execution_count": 17,
     "metadata": {},
     "output_type": "execute_result"
    }
   ],
   "source": [
    "thermostat_actual_temperature = requests.get(THERMOSTAT_API_URL + '/actual_temperature').json()\n",
    "thermostat_actual_temperature"
   ],
   "metadata": {
    "collapsed": false,
    "ExecuteTime": {
     "end_time": "2023-05-12T14:19:27.266669567Z",
     "start_time": "2023-05-12T14:19:27.231925786Z"
    }
   }
  },
  {
   "cell_type": "code",
   "execution_count": 18,
   "outputs": [
    {
     "name": "stderr",
     "output_type": "stream",
     "text": [
      "2023-05-12 16:19:27 DEBUG Starting new HTTP connection (1): 127.0.0.1:8280\n",
      "2023-05-12 16:19:30 DEBUG http://127.0.0.1:8280 \"GET /rest/sc/handle HTTP/1.1\" 200 209\n",
      "2023-05-12 16:19:30 DEBUG Starting new HTTP connection (1): 127.0.0.1:8280\n",
      "2023-05-12 16:19:30 DEBUG http://127.0.0.1:8280 \"POST /rest/sc/handle HTTP/1.1\" 200 0\n"
     ]
    },
    {
     "data": {
      "text/plain": "<Response [200]>"
     },
     "execution_count": 18,
     "metadata": {},
     "output_type": "execute_result"
    }
   ],
   "source": [
    "# %%timeit\n",
    "sp.perform_answer_knowledge_interaction(\n",
    "    knowledge_engine_url=KNOWLEDGE_ENGINE_URL,\n",
    "    knowledge_base_id=THERMOSTAT_API_URL,\n",
    "    knowledge_interaction_id=answer_ki_id,\n",
    "    answer_binding_set=[{\n",
    "        \"meas\": f'<{THERMOSTAT_API_URL}/measurements/{str(uuid.uuid4())}>',\n",
    "        \"temp\": f\"{thermostat_actual_temperature}\",\n",
    "        \"timestamp\": f'\"{sp.get_timestamp_now()}\"',  # ISO 8601 format\n",
    "        \"room_id\": f'\"{THERMOSTAT_API_URL}/rooms/1\"',\n",
    "        \"device_id\": f'\"{THERMOSTAT_API_URL}/devices/1\"',\n",
    "    }]\n",
    ")"
   ],
   "metadata": {
    "collapsed": false,
    "ExecuteTime": {
     "end_time": "2023-05-12T14:19:31.171277764Z",
     "start_time": "2023-05-12T14:19:27.257083883Z"
    }
   }
  },
  {
   "cell_type": "code",
   "execution_count": 19,
   "outputs": [],
   "source": [
    "# Lets try implementing a POST / REACT knowledge interaction"
   ],
   "metadata": {
    "collapsed": false,
    "ExecuteTime": {
     "end_time": "2023-05-12T14:19:31.316616656Z",
     "start_time": "2023-05-12T14:19:30.996397208Z"
    }
   }
  },
  {
   "cell_type": "code",
   "execution_count": 20,
   "outputs": [
    {
     "name": "stderr",
     "output_type": "stream",
     "text": [
      "2023-05-12 16:19:31 DEBUG Starting new HTTP connection (1): 127.0.0.1:8280\n",
      "2023-05-12 16:19:31 DEBUG http://127.0.0.1:8280 \"POST /rest/sc/ki HTTP/1.1\" 200 110\n",
      "2023-05-12 16:19:31 INFO Request successful\n",
      "2023-05-12 16:19:31 DEBUG {\"knowledgeInteractionId\":\"http://127.0.0.1:8000/thermostat/interaction/e1ad3a09-361b-4044-aa45-21306f414abc\"}\n"
     ]
    },
    {
     "data": {
      "text/plain": "'http://127.0.0.1:8000/thermostat/interaction/e1ad3a09-361b-4044-aa45-21306f414abc'"
     },
     "execution_count": 20,
     "metadata": {},
     "output_type": "execute_result"
    }
   ],
   "source": [
    "react_ki = sp.register_knowledge_interaction(\n",
    "    'ReactKnowledgeInteraction', KNOWLEDGE_ENGINE_URL, PREFIXES, headers= HEADERS,\n",
    "    argument_graph_pattern=\"?a rdf:type saref:Measurement . ?a saref:hasValueInMeters ?b .\",\n",
    "    result_graph_pattern=\"?a rdf:type saref:Measurement . ?a saref:hasValueInYards ?b .\",\n",
    ")\n",
    "react_ki.json()['knowledgeInteractionId']"
   ],
   "metadata": {
    "collapsed": false,
    "ExecuteTime": {
     "end_time": "2023-05-12T14:19:31.432189247Z",
     "start_time": "2023-05-12T14:19:31.008777449Z"
    }
   }
  },
  {
   "cell_type": "code",
   "execution_count": 20,
   "outputs": [],
   "source": [],
   "metadata": {
    "collapsed": false,
    "ExecuteTime": {
     "end_time": "2023-05-12T14:19:31.432798589Z",
     "start_time": "2023-05-12T14:19:31.247531942Z"
    }
   }
  }
 ],
 "metadata": {
  "kernelspec": {
   "display_name": "Python 3",
   "language": "python",
   "name": "python3"
  },
  "language_info": {
   "codemirror_mode": {
    "name": "ipython",
    "version": 2
   },
   "file_extension": ".py",
   "mimetype": "text/x-python",
   "name": "python",
   "nbconvert_exporter": "python",
   "pygments_lexer": "ipython2",
   "version": "2.7.6"
  }
 },
 "nbformat": 4,
 "nbformat_minor": 0
}
