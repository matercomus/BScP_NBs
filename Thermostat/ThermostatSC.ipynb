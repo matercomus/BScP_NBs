{
 "cells": [
  {
   "cell_type": "code",
   "execution_count": 1,
   "outputs": [],
   "source": [
    "# desc"
   ],
   "metadata": {
    "collapsed": false,
    "ExecuteTime": {
     "end_time": "2023-05-02T14:17:19.096613751Z",
     "start_time": "2023-05-02T14:17:18.824196664Z"
    }
   }
  },
  {
   "cell_type": "code",
   "execution_count": 2,
   "outputs": [],
   "source": [
    "import json\n",
    "\n",
    "import requests\n",
    "\n",
    "# import the smartpynector module\n",
    "from NBs import smartpynector as sp\n"
   ],
   "metadata": {
    "collapsed": false,
    "ExecuteTime": {
     "end_time": "2023-05-02T14:17:19.160818129Z",
     "start_time": "2023-05-02T14:17:18.824500308Z"
    }
   }
  },
  {
   "cell_type": "code",
   "execution_count": 3,
   "outputs": [],
   "source": [
    "# Defining constants\n",
    "# Knowledge engine REST API URL\n",
    "KNOWLEDGE_ENGINE_URL = \"http://127.0.0.1:8280/rest\"\n",
    "THERMOSTAT_API_URL = \"http://127.0.0.1:8000/thermostat\""
   ],
   "metadata": {
    "collapsed": false,
    "ExecuteTime": {
     "end_time": "2023-05-02T14:17:19.162359821Z",
     "start_time": "2023-05-02T14:17:19.033548808Z"
    }
   }
  },
  {
   "cell_type": "code",
   "execution_count": 4,
   "outputs": [],
   "source": [
    "# Defining the Smart Connector\n",
    "smart_connector = sp.SmartConnector(\n",
    "    knowledgeBaseId=THERMOSTAT_API_URL,\n",
    "    knowledgeBaseName=\"thermostat 1\",\n",
    "    knowledgeBaseDescription=\"thermostat 1\",\n",
    "    reasonerEnabled=False,\n",
    ")"
   ],
   "metadata": {
    "collapsed": false,
    "ExecuteTime": {
     "end_time": "2023-05-02T14:17:19.163457829Z",
     "start_time": "2023-05-02T14:17:19.077530562Z"
    }
   }
  },
  {
   "cell_type": "code",
   "execution_count": 5,
   "outputs": [
    {
     "name": "stderr",
     "output_type": "stream",
     "text": [
      "2023-05-02 16:17:19 DEBUG Starting new HTTP connection (1): 127.0.0.1:8280\n",
      "2023-05-02 16:17:20 DEBUG http://127.0.0.1:8280 \"POST /rest/sc HTTP/1.1\" 200 0\n",
      "2023-05-02 16:17:20 INFO Request successful\n",
      "2023-05-02 16:17:20 DEBUG \n"
     ]
    },
    {
     "data": {
      "text/plain": "<Response [200]>"
     },
     "execution_count": 5,
     "metadata": {},
     "output_type": "execute_result"
    }
   ],
   "source": [
    "sp.create_smart_connector(smart_connector, KNOWLEDGE_ENGINE_URL)"
   ],
   "metadata": {
    "collapsed": false,
    "ExecuteTime": {
     "end_time": "2023-05-02T14:17:20.982165254Z",
     "start_time": "2023-05-02T14:17:19.077747582Z"
    }
   }
  },
  {
   "cell_type": "code",
   "execution_count": 6,
   "outputs": [
    {
     "name": "stderr",
     "output_type": "stream",
     "text": [
      "2023-05-02 16:17:20 DEBUG Starting new HTTP connection (1): 127.0.0.1:8280\n",
      "2023-05-02 16:17:21 DEBUG http://127.0.0.1:8280 \"POST /rest/sc/ki HTTP/1.1\" 200 110\n",
      "2023-05-02 16:17:21 INFO Request successful\n",
      "2023-05-02 16:17:21 DEBUG {\"knowledgeInteractionId\":\"http://127.0.0.1:8000/thermostat/interaction/83bf8d2b-96d7-4bad-98c5-fa6485ffc70d\"}\n"
     ]
    },
    {
     "data": {
      "text/plain": "'http://127.0.0.1:8000/thermostat/interaction/83bf8d2b-96d7-4bad-98c5-fa6485ffc70d'"
     },
     "execution_count": 6,
     "metadata": {},
     "output_type": "execute_result"
    }
   ],
   "source": [
    "answer_ki_id = sp.register_knowledge_interaction(\n",
    "    knowledge_interaction_type=\"AnswerKnowledgeInteraction\",\n",
    "    knowledge_engine_url=KNOWLEDGE_ENGINE_URL,\n",
    "    prefixes={\n",
    "        \"rdf\": \"http://www.w3.org/1999/02/22-rdf-syntax-ns#\",\n",
    "        \"saref\": \"https://w3id.org/saref#\",\n",
    "    },\n",
    "    graph_pattern='''?meas rdf:type saref:Measurement .\n",
    "         ?meas saref:hasValue ?temp .\n",
    "         ?meas saref:isMeasuredIn saref:TemperatureUnit .\n",
    "         ?meas saref:hasTimestamp ?timestamp .\n",
    "         ?meas saref:isMeasurementOf ?room_id .\n",
    "         ?meas saref:relatesToProperty saref:Temperature .\n",
    "         ?meas saref:measurementMadeBy ?device_id .''',\n",
    "    headers={\n",
    "        \"Content-Type\": \"application/json\",\n",
    "        \"knowledge-Base-Id\": THERMOSTAT_API_URL\n",
    "    },\n",
    ")[\"knowledgeInteractionId\"]\n",
    "\n",
    "answer_ki_id"
   ],
   "metadata": {
    "collapsed": false,
    "ExecuteTime": {
     "end_time": "2023-05-02T14:17:21.184219171Z",
     "start_time": "2023-05-02T14:17:20.954810922Z"
    }
   }
  },
  {
   "cell_type": "code",
   "execution_count": 7,
   "outputs": [
    {
     "name": "stderr",
     "output_type": "stream",
     "text": [
      "2023-05-02 16:17:21 DEBUG Starting new HTTP connection (1): 127.0.0.1:8000\n",
      "2023-05-02 16:17:21 DEBUG http://127.0.0.1:8000 \"GET /thermostat/actual_temperature HTTP/1.1\" 200 2\n"
     ]
    },
    {
     "data": {
      "text/plain": "20"
     },
     "execution_count": 7,
     "metadata": {},
     "output_type": "execute_result"
    }
   ],
   "source": [
    "thermostat_actual_temperature = requests.get(THERMOSTAT_API_URL + '/actual_temperature').json()\n",
    "thermostat_actual_temperature"
   ],
   "metadata": {
    "collapsed": false,
    "ExecuteTime": {
     "end_time": "2023-05-02T14:17:21.242223428Z",
     "start_time": "2023-05-02T14:17:21.174171167Z"
    }
   }
  },
  {
   "cell_type": "code",
   "execution_count": 8,
   "outputs": [
    {
     "data": {
      "text/plain": "int"
     },
     "execution_count": 8,
     "metadata": {},
     "output_type": "execute_result"
    }
   ],
   "source": [
    "type(thermostat_actual_temperature)"
   ],
   "metadata": {
    "collapsed": false,
    "ExecuteTime": {
     "end_time": "2023-05-02T14:17:21.242721326Z",
     "start_time": "2023-05-02T14:17:21.197572363Z"
    }
   }
  },
  {
   "cell_type": "code",
   "execution_count": 9,
   "outputs": [
    {
     "name": "stderr",
     "output_type": "stream",
     "text": [
      "2023-05-02 16:17:21 DEBUG Starting new HTTP connection (1): 127.0.0.1:8280\n",
      "2023-05-02 16:17:24 DEBUG http://127.0.0.1:8280 \"GET /rest/sc/handle HTTP/1.1\" 200 209\n",
      "2023-05-02 16:17:24 DEBUG Starting new HTTP connection (1): 127.0.0.1:8280\n",
      "2023-05-02 16:17:25 DEBUG http://127.0.0.1:8280 \"POST /rest/sc/handle HTTP/1.1\" 200 0\n"
     ]
    },
    {
     "data": {
      "text/plain": "<Response [200]>"
     },
     "execution_count": 9,
     "metadata": {},
     "output_type": "execute_result"
    }
   ],
   "source": [
    "# %%timeit\n",
    "sp.perform_answer_knowledge_interaction(\n",
    "    knowledge_engine_url=KNOWLEDGE_ENGINE_URL,\n",
    "    knowledge_base_id=THERMOSTAT_API_URL,\n",
    "    knowledge_interaction_id=answer_ki_id,\n",
    "    answer_binding_set=[{\n",
    "        \"meas\": f'<{THERMOSTAT_API_URL}/measurements/1>',\n",
    "        \"temp\": f\"{thermostat_actual_temperature}\",\n",
    "        \"timestamp\": f'\"{sp.get_timestamp_now()}\"',  # ISO 8601 format\n",
    "        \"room_id\": f'\"{THERMOSTAT_API_URL}/rooms/1\"',\n",
    "        \"device_id\": f'\"{THERMOSTAT_API_URL}/devices/1\"',\n",
    "    }]\n",
    ")"
   ],
   "metadata": {
    "collapsed": false,
    "ExecuteTime": {
     "end_time": "2023-05-02T14:17:25.201791Z",
     "start_time": "2023-05-02T14:17:21.204500412Z"
    }
   }
  }
 ],
 "metadata": {
  "kernelspec": {
   "display_name": "Python 3",
   "language": "python",
   "name": "python3"
  },
  "language_info": {
   "codemirror_mode": {
    "name": "ipython",
    "version": 2
   },
   "file_extension": ".py",
   "mimetype": "text/x-python",
   "name": "python",
   "nbconvert_exporter": "python",
   "pygments_lexer": "ipython2",
   "version": "2.7.6"
  }
 },
 "nbformat": 4,
 "nbformat_minor": 0
}
