{
 "cells": [
  {
   "cell_type": "code",
   "execution_count": 1,
   "outputs": [],
   "source": [
    "# desc"
   ],
   "metadata": {
    "collapsed": false
   }
  },
  {
   "cell_type": "code",
   "execution_count": 2,
   "outputs": [],
   "source": [
    "import json\n",
    "# import the smartpynector module\n",
    "from NBs import smartpynector as sp\n"
   ],
   "metadata": {
    "collapsed": false
   }
  },
  {
   "cell_type": "code",
   "execution_count": 3,
   "outputs": [],
   "source": [
    "# Defining constants\n",
    "# Knowledge engine REST API URL\n",
    "KNOWLEDGE_ENGINE_URL = \"http://127.0.0.1:8280/rest\"\n",
    "THERMOSTAT_ID = \"http://127.0.0.1:8000/thermostat\""
   ],
   "metadata": {
    "collapsed": false
   }
  },
  {
   "cell_type": "code",
   "execution_count": 4,
   "outputs": [],
   "source": [
    "# Defining the Smart Connector\n",
    "smart_connector = sp.SmartConnector(\n",
    "    knowledgeBaseId=THERMOSTAT_ID,\n",
    "    knowledgeBaseName=\"thermostat 1\",\n",
    "    knowledgeBaseDescription=\"thermostat 1\",\n",
    "    reasonerEnabled=False,\n",
    ")"
   ],
   "metadata": {
    "collapsed": false
   }
  },
  {
   "cell_type": "code",
   "execution_count": 5,
   "outputs": [
    {
     "name": "stderr",
     "output_type": "stream",
     "text": [
      "2023-03-09 02:05:01 DEBUG HTTP Request: POST http://127.0.0.1:8280/rest/sc \"HTTP/1.1 200 OK\"\n",
      "2023-03-09 02:05:01 INFO Request successful\n",
      "2023-03-09 02:05:01 DEBUG \n"
     ]
    },
    {
     "data": {
      "text/plain": "<Response [200 OK]>"
     },
     "execution_count": 5,
     "metadata": {},
     "output_type": "execute_result"
    }
   ],
   "source": [
    "sp.create_smart_connector(smart_connector, KNOWLEDGE_ENGINE_URL)"
   ],
   "metadata": {
    "collapsed": false
   }
  },
  {
   "cell_type": "code",
   "execution_count": 6,
   "outputs": [
    {
     "name": "stderr",
     "output_type": "stream",
     "text": [
      "2023-03-09 02:05:01 DEBUG HTTP Request: POST http://127.0.0.1:8280/rest/sc/ki \"HTTP/1.1 200 OK\"\n",
      "2023-03-09 02:05:01 INFO Request successful\n",
      "2023-03-09 02:05:01 DEBUG {\"knowledgeInteractionId\":\"http://127.0.0.1:8000/thermostat/interaction/e81ef0b5-834b-495e-8f1d-ba814f87d553\"}\n"
     ]
    },
    {
     "data": {
      "text/plain": "'http://127.0.0.1:8000/thermostat/interaction/e81ef0b5-834b-495e-8f1d-ba814f87d553'"
     },
     "execution_count": 6,
     "metadata": {},
     "output_type": "execute_result"
    }
   ],
   "source": [
    "answer_ki_id = sp.register_knowledge_interaction(\n",
    "    knowledge_interaction_type=\"AnswerKnowledgeInteraction\",\n",
    "    knowledge_engine_url=KNOWLEDGE_ENGINE_URL,\n",
    "    prefixes={\n",
    "        \"rdf\": \"http://www.w3.org/1999/02/22-rdf-syntax-ns#\",\n",
    "        \"saref\": \"https://w3id.org/saref#\",\n",
    "    },\n",
    "    graph_pattern='''?meas rdf:type saref:Measurement .\n",
    "         ?meas saref:hasValue ?temp .\n",
    "         ?meas saref:isMeasuredIn saref:TemperatureUnit .\n",
    "         ?meas saref:hasTimestamp ?timestamp .\n",
    "         ?meas saref:isMeasurementOf ?room_id .\n",
    "         ?meas saref:relatesToProperty saref:Temperature .\n",
    "         ?meas saref:measurementMadeBy ?device_id .''',\n",
    "    headers={\n",
    "        \"Content-Type\": \"application/json\",\n",
    "        \"knowledge-Base-Id\": THERMOSTAT_ID\n",
    "    },\n",
    ").json()[\"knowledgeInteractionId\"]\n",
    "\n",
    "answer_ki_id"
   ],
   "metadata": {
    "collapsed": false
   }
  },
  {
   "cell_type": "code",
   "execution_count": 7,
   "outputs": [
    {
     "name": "stderr",
     "output_type": "stream",
     "text": [
      "2023-03-09 02:05:07 DEBUG HTTP Request: GET http://127.0.0.1:8280/rest/sc/handle \"HTTP/1.1 200 OK\"\n",
      "2023-03-09 02:05:07 INFO Request successful\n",
      "2023-03-09 02:05:07 DEBUG {\"knowledgeInteractionId\":\"http://127.0.0.1:8000/thermostat/interaction/e81ef0b5-834b-495e-8f1d-ba814f87d553\",\"handleRequestId\":1,\"bindingSet\":[],\"requestingKnowledgeBaseId\":\"http://127.0.0.1:8000/subscriber\"}\n",
      "2023-03-09 02:05:07 DEBUG HTTP Request: POST http://127.0.0.1:8280/rest/sc/handle \"HTTP/1.1 200 OK\"\n",
      "2023-03-09 02:05:07 INFO Request successful\n",
      "2023-03-09 02:05:07 DEBUG \n"
     ]
    },
    {
     "data": {
      "text/plain": "<Response [200 OK]>"
     },
     "execution_count": 7,
     "metadata": {},
     "output_type": "execute_result"
    }
   ],
   "source": [
    "sp.perform_answer_knowledge_interaction(\n",
    "    knowledge_engine_url=KNOWLEDGE_ENGINE_URL,\n",
    "    knowledge_base_id=THERMOSTAT_ID,\n",
    "    knowledge_interaction_id=answer_ki_id,\n",
    "    # answer_binding_set=json.dumps(\n",
    "    #     dict(\n",
    "    #         meas=f'{THERMOSTAT_ID}/measurements/1',\n",
    "    #         temp=\"23.5\",\n",
    "    #         timestamp=sp.get_timestamp_now(),  # ISO 8601 format\n",
    "    #         room_id=f'\"{THERMOSTAT_ID}/rooms/1\"',\n",
    "    #         device_id=f'\"{THERMOSTAT_ID}/devices/1\"',\n",
    "    #     )\n",
    "    # )\n",
    "    answer_binding_set=[{\n",
    "        \"meas\": f'<{THERMOSTAT_ID}/measurements/1>',\n",
    "        \"temp\": \"23.5\",\n",
    "        \"timestamp\": '\"{sp.get_timestamp_now()}\"',  # ISO 8601 format\n",
    "        \"room_id\": f'\"{THERMOSTAT_ID}/rooms/1\"',\n",
    "        \"device_id\": f'\"{THERMOSTAT_ID}/devices/1\"',\n",
    "    }]\n",
    ")"
   ],
   "metadata": {
    "collapsed": false
   }
  },
  {
   "cell_type": "code",
   "execution_count": 7,
   "outputs": [],
   "source": [],
   "metadata": {
    "collapsed": false
   }
  }
 ],
 "metadata": {
  "kernelspec": {
   "display_name": "Python 3",
   "language": "python",
   "name": "python3"
  },
  "language_info": {
   "codemirror_mode": {
    "name": "ipython",
    "version": 2
   },
   "file_extension": ".py",
   "mimetype": "text/x-python",
   "name": "python",
   "nbconvert_exporter": "python",
   "pygments_lexer": "ipython2",
   "version": "2.7.6"
  }
 },
 "nbformat": 4,
 "nbformat_minor": 0
}
