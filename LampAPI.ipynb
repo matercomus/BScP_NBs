{
 "cells": [
  {
   "cell_type": "code",
   "execution_count": null,
   "outputs": [],
   "source": [
    "import random\n",
    "import json"
   ],
   "metadata": {
    "collapsed": false
   }
  },
  {
   "cell_type": "code",
   "execution_count": null,
   "outputs": [],
   "source": [
    "\n",
    "global status\n",
    "global DEVICE_ID\n",
    "DEVICE_ID = \"Lamp_1\"\n",
    "status = \"off\"\n",
    "power_consumption = 0"
   ],
   "metadata": {
    "collapsed": false
   }
  },
  {
   "cell_type": "code",
   "execution_count": null,
   "outputs": [],
   "source": [
    "# GET /lamp\n",
    "#req = json.loads(REQUEST)\n",
    "if status == \"off\":\n",
    "    power_consumption = 0\n",
    "else:\n",
    "    power_consumption = random.randint(0, 10)\n",
    "print(json.dumps({\"DeviceID\":DEVICE_ID,\"status\": status, \"power_consumption\": power_consumption}))\n"
   ],
   "metadata": {
    "collapsed": false
   }
  },
  {
   "cell_type": "code",
   "execution_count": null,
   "outputs": [],
   "source": [
    "# GET /lamp/power_consumption\n",
    "if status == \"off\":\n",
    "    power_consumption = 0\n",
    "else:\n",
    "    power_consumption = random.randint(0, 10)\n",
    "print(json.dumps({\"DeviceID\":DEVICE_ID,\"power_consumption\": power_consumption}))\n"
   ],
   "metadata": {
    "collapsed": false
   }
  },
  {
   "cell_type": "code",
   "execution_count": null,
   "outputs": [],
   "source": [
    "# GET /lamp/toggle\n",
    "if status == \"on\":\n",
    "    status = \"off\"\n",
    "else:\n",
    "    status = \"on\"\n",
    "print(json.dumps({\"DeviceID\":DEVICE_ID,\"status\": status}))\n"
   ],
   "metadata": {
    "collapsed": false
   }
  },
  {
   "cell_type": "code",
   "execution_count": null,
   "outputs": [],
   "source": [
    "# GET /lamp/on\n",
    "status = \"on\"\n",
    "print(json.dumps({\"DeviceID\":DEVICE_ID,\"status\": status}))\n"
   ],
   "metadata": {
    "collapsed": false
   }
  },
  {
   "cell_type": "code",
   "execution_count": null,
   "outputs": [],
   "source": [
    "# GET /lamp/off\n",
    "status = \"off\"\n",
    "print(json.dumps({\"DeviceID\":DEVICE_ID,\"status\": status}))\n"
   ],
   "metadata": {
    "collapsed": false
   }
  },
  {
   "cell_type": "code",
   "execution_count": null,
   "outputs": [],
   "source": [
    "# GET /lamp/status\n",
    "print(json.dumps({\"DeviceID\":DEVICE_ID,\"status\": status}))\n"
   ],
   "metadata": {
    "collapsed": false
   }
  },
  {
   "cell_type": "code",
   "execution_count": null,
   "outputs": [],
   "source": [
    "# GET /lamp/device_id\n",
    "print(json.dumps({\"DeviceID\":DEVICE_ID}))\n"
   ],
   "metadata": {
    "collapsed": false
   }
  },
  {
   "cell_type": "code",
   "execution_count": null,
   "outputs": [],
   "source": [
    "\n",
    "!jupyter kernelgateway --api='kernel_gateway.notebook_http' \\\n",
    "    --seed_uri='/home/matt/Dev/BSCProject/jupyterhub-deploy-docker/shared_data/LampAPI.ipynb' \\\n",
    "    --port 8889\n"
   ],
   "metadata": {
    "collapsed": false
   }
  },
  {
   "cell_type": "code",
   "execution_count": null,
   "outputs": [],
   "source": [],
   "metadata": {
    "collapsed": false
   }
  }
 ],
 "metadata": {
  "kernelspec": {
   "display_name": "Python 3",
   "language": "python",
   "name": "python3"
  },
  "language_info": {
   "codemirror_mode": {
    "name": "ipython",
    "version": 2
   },
   "file_extension": ".py",
   "mimetype": "text/x-python",
   "name": "python",
   "nbconvert_exporter": "python",
   "pygments_lexer": "ipython2",
   "version": "2.7.6"
  }
 },
 "nbformat": 4,
 "nbformat_minor": 0
}
