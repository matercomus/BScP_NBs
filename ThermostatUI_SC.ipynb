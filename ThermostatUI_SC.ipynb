{
 "cells": [
  {
   "cell_type": "markdown",
   "id": "3a9e14bf-20a6-4b67-badc-f528b9703307",
   "metadata": {},
   "source": [
    "# User Interface for Thermostat Smart Connector\n",
    "\n",
    "This notebook is a knowledge base that acts as a user interface for the thermostat smart connector. It uses ipywidgets to construct an interface for setting the desired temperature and humidity, as well as viewing the actual live temperature and humidity.\n",
    "\n",
    "The interface includes a slider for setting the desired temperature and a vertical progress bar for viewing the actual live temperature. It also includes a slider for setting the desired humidity and a vertical progress bar for viewing the actual live humidity. When the submit button is clicked, two post knowledge interactions: \"post-desired-temp\" and \"post-desired-humidity\" are sent to the knowledge engine.\n",
    "\n",
    "This notebook also has two react knowledge interactions that react to the live temperature and humidity measurements sent by the earlier described smart connector notebook. These interactions handle the measurements by updating the respective UI progress bars to view the changing values.\n",
    "\n",
    "In summary, this notebook provides an interactive user interface for controlling and monitoring the thermostat through the smart connector and knowledge engine. It allows users to set the desired temperature and humidity, view the actual live temperature and humidity."
   ]
  },
  {
   "cell_type": "code",
   "execution_count": 1,
   "id": "d5e3ad65-5dcf-4000-a1e8-0459c89d27bd",
   "metadata": {
    "tags": []
   },
   "outputs": [],
   "source": [
    "# Thermostat UI2"
   ]
  },
  {
   "cell_type": "code",
   "execution_count": 2,
   "id": "43ef0da5-5651-4c83-8b17-1fbc3c11a391",
   "metadata": {
    "tags": []
   },
   "outputs": [],
   "source": [
    "import logging\n",
    "import time\n",
    "import uuid\n",
    "\n",
    "import helpers as sp\n",
    "import ipywidgets as widgets\n",
    "import requests\n",
    "from IPython.display import display\n",
    "from ipywidgets import Button, HBox, IntProgress, IntSlider, Label, Layout, Output, VBox\n",
    "from utils import *\n",
    "\n",
    "logging.basicConfig(level=logging.INFO)\n",
    "logger = logging.getLogger(\"ThermostatUI\")"
   ]
  },
  {
   "cell_type": "code",
   "execution_count": 3,
   "id": "45b09c5f-545d-458a-b30e-e9f06cabb123",
   "metadata": {
    "tags": []
   },
   "outputs": [],
   "source": [
    "THERMOSTAT_API_URL = \"http://0.0.0.0:8001/thermostat\"\n",
    "# prefixes of ontologies used in the graph patterns\n",
    "PREFIXES = {\n",
    "    \"rdf\": \"http://www.w3.org/1999/02/22-rdf-syntax-ns#\",\n",
    "    \"saref\": \"https://w3id.org/saref#\",\n",
    "    \"xsd\": \"http://www.w3.org/2001/XMLSchema#\",\n",
    "}\n",
    "# temp measurement graph pattern\n",
    "TEMP_MEAS_GRAPH_PATTERN = \"\"\"?meas rdf:type saref:Measurement .\n",
    "                        ?meas saref:hasValue ?temp .\n",
    "                        ?meas saref:isMeasuredIn saref:TemperatureUnit .\n",
    "                        ?meas saref:hasTimestamp ?timestamp .\n",
    "                        ?meas saref:isMeasurementOf ?room_id .\n",
    "                        ?meas saref:relatesToProperty saref:Temperature .\n",
    "                        ?meas saref:measurementMadeBy ?device_id .\"\"\"\n",
    "# graph pattern describing the change of the ?desired_temp setting of the thermostat\n",
    "TEMP_SETTING_GRAPH_PATTERN = \"\"\"?setting rdf:type saref:SetLevelCommand .\n",
    "                            ?setting saref:hasValue ?desired_temp .\n",
    "                            ?setting saref:isMeasuredIn saref:TemperatureUnit .\n",
    "                            ?setting saref:hasTimestamp ?timestamp .\n",
    "                            ?setting saref:isCommandOf ?room_id .\n",
    "                            ?setting saref:relatesToProperty saref:Temperature .\n",
    "                            ?setting saref:commandIssuedBy ?device_id .\n",
    "                            \"\"\"\n",
    "# humidity measurement graph pattern\n",
    "HUMIDITY_MEAS_GRAPH_PATTERN = \"\"\"EDIT THIS\"\"\"\n",
    "# graph pattern describing the change of the ?desired_humidity setting of the thermostat\n",
    "HUMIDITY_SETTING_GRAPH_PATTERN = \"\"\"EDIT THIS\"\"\""
   ]
  },
  {
   "cell_type": "code",
   "execution_count": 4,
   "id": "bbfd159a-1f18-4bcd-82e1-1b742ea38500",
   "metadata": {
    "tags": []
   },
   "outputs": [],
   "source": [
    "# this function get triggered to handle the temperature react ki. The progres bar and label get updated with values from the binding\n",
    "def handle_temp_react_measurements(bindings):\n",
    "    for binding in bindings:\n",
    "        temp_progress.value = binding[\"temp\"]\n",
    "        label_actual_temp.value = f\"{ binding['temp'] } ℃\"\n",
    "    return []"
   ]
  },
  {
   "cell_type": "code",
   "execution_count": 5,
   "id": "f5ccfbe6-eeb6-477d-8e84-46091d46c1b6",
   "metadata": {},
   "outputs": [],
   "source": [
    "# this function get triggered to handle the humidity react ki. The progres bar and label get updated with values from the binding\n",
    "def handle_humidity_react_measurements(bindings):\n",
    "    for binding in bindings:\n",
    "        pass  # EDIT THIS\n",
    "    return []"
   ]
  },
  {
   "cell_type": "code",
   "execution_count": 6,
   "id": "910fb8da-30ef-4891-98d4-457ff3721eca",
   "metadata": {
    "tags": []
   },
   "outputs": [
    {
     "name": "stderr",
     "output_type": "stream",
     "text": [
      "2023-06-25 23:55:15 INFO {\"messageType\":\"error\",\"message\":\"Deletion of knowledge base failed, because it could not be found.\"}\n",
      "2023-06-25 23:55:15 INFO registered UI\n",
      "2023-06-25 23:55:15 INFO received issued knowledge interaction id: http://example.org/ui/interaction/react-temp-measurements\n",
      "2023-06-25 23:55:15 INFO received issued knowledge interaction id: http://example.org/ui/interaction/post-desired-temp\n"
     ]
    }
   ],
   "source": [
    "import threading\n",
    "\n",
    "\n",
    "def start_ui_kb(kb_id, kb_name, kb_description, ke_endpoint):\n",
    "    # delete in case allready exists\n",
    "    delete_knowledge_base(kb_id, ke_endpoint)\n",
    "\n",
    "    # register kb\n",
    "    register_knowledge_base(kb_id, kb_name, kb_description, ke_endpoint)\n",
    "\n",
    "    # registering temp react ki\n",
    "    temp_react_measurements_ki = register_react_knowledge_interaction(\n",
    "        TEMP_MEAS_GRAPH_PATTERN,\n",
    "        None,\n",
    "        \"react-temp-measurements\",\n",
    "        kb_id,\n",
    "        ke_endpoint,\n",
    "        PREFIXES,\n",
    "    )\n",
    "\n",
    "    # registering temp post ki\n",
    "    global temp_post_ki_id  # this is set to global bc we use it in button_click post\n",
    "    temp_post_ki_id = register_post_knowledge_interaction(\n",
    "        TEMP_SETTING_GRAPH_PATTERN,\n",
    "        None,\n",
    "        \"post-desired-temp\",\n",
    "        kb_id,\n",
    "        ke_endpoint,\n",
    "        PREFIXES,\n",
    "    )\n",
    "\n",
    "    # registering humidity react ki\n",
    "    humidity_react_measurements_ki = \"EDIT THIS\"\n",
    "\n",
    "    # registering humidity post ki\n",
    "    global humidity_post_ki_id  # this is set to global bc we use it in button_click post\n",
    "    humidity_post_ki_id = \"EDIT THIS\"\n",
    "\n",
    "    # staring the handle loop for react ki in a separate thread\n",
    "    thread = threading.Thread(\n",
    "        target=start_handle_loop,\n",
    "        args=(\n",
    "            {\n",
    "                temp_react_measurements_ki: handle_temp_react_measurements,\n",
    "                # ADD SOMETHING HERE\n",
    "            },\n",
    "            kb_id,\n",
    "            ke_endpoint,\n",
    "        ),\n",
    "    )\n",
    "    thread.start()\n",
    "\n",
    "\n",
    "start_ui_kb(\n",
    "    \"http://example.org/ui\",\n",
    "    \"UI\",\n",
    "    \"UI for measurement\",\n",
    "    \"http://knowledge_engine:8280/rest/\",\n",
    ")"
   ]
  },
  {
   "cell_type": "code",
   "execution_count": 7,
   "id": "c4dbc75a-61e5-4129-853b-68502ed22a53",
   "metadata": {
    "tags": []
   },
   "outputs": [],
   "source": [
    "# NOTHING TO CHNAGE HERE!\n",
    "# constructing the ipywidget\n",
    "# temp\n",
    "label_actual_temp = widgets.Label(value=\"\", orientation=\"vertical\")\n",
    "temp_progress = widgets.IntProgress(\n",
    "    value=0,\n",
    "    min=0,\n",
    "    max=50,\n",
    "    step=1,\n",
    "    description=\"\",\n",
    "    bar_style=\"info\",\n",
    "    orientation=\"vertical\",\n",
    ")\n",
    "desired_temp_slider = IntSlider(value=0, min=0, max=50, orientation=\"vertical\")\n",
    "label_desired_temp = widgets.Label(value=\"\", orientation=\"vertical\")\n",
    "\n",
    "temp_box = HBox(\n",
    "    [\n",
    "        label_actual_temp,\n",
    "        temp_progress,\n",
    "        desired_temp_slider,\n",
    "    ]\n",
    ")\n",
    "# humidity\n",
    "label_actual_humidity = widgets.Label(value=\"\", orientation=\"vertical\")\n",
    "humidity_progress = widgets.IntProgress(\n",
    "    value=0,\n",
    "    min=0,\n",
    "    max=100,\n",
    "    step=1,\n",
    "    description=\"\",\n",
    "    bar_style=\"info\",\n",
    "    orientation=\"vertical\",\n",
    ")\n",
    "desired_humidity_slider = IntSlider(value=0, min=0, max=100, orientation=\"vertical\")\n",
    "label_desired_humidity = widgets.Label(value=\"\", orientation=\"vertical\")\n",
    "\n",
    "humidity_box = HBox(\n",
    "    [\n",
    "        label_actual_humidity,\n",
    "        humidity_progress,\n",
    "        desired_humidity_slider,\n",
    "    ]\n",
    ")\n",
    "out = Output()\n",
    "submit_button = Button(description=\"Submit\", button_style=\"danger\")"
   ]
  },
  {
   "cell_type": "code",
   "execution_count": 8,
   "id": "2e2a928e-0c59-4bb0-8dc5-d291323d3823",
   "metadata": {},
   "outputs": [],
   "source": [
    "def button_click(\n",
    "    desired_temp,\n",
    "    temp_post_ki_id,\n",
    "    desired_humidity,\n",
    "    humidity_post_ki_id,\n",
    "    kb_id,\n",
    "    ke_endpoint,\n",
    "):\n",
    "    with out:\n",
    "        out.clear_output()\n",
    "        logger.info(f\"Posting desired temp: {desired_temp}\")\n",
    "        # performing temp post ki with the follwing bindings. Notice that each ?variable in the post graph pattern is present in the binding\n",
    "        post(\n",
    "            [\n",
    "                {\n",
    "                    \"setting\": f\"<{THERMOSTAT_API_URL}/settings/{str(uuid.uuid4())}>\",\n",
    "                    \"desired_temp\": f\"{desired_temp}\",\n",
    "                    \"timestamp\": f'\"{sp.get_timestamp_now()}\"',  # ISO 8601 format\n",
    "                    \"room_id\": f'\"{THERMOSTAT_API_URL}/rooms/1\"',\n",
    "                    \"device_id\": f'\"{THERMOSTAT_API_URL}/devices/1\"',\n",
    "                }\n",
    "            ],\n",
    "            temp_post_ki_id,\n",
    "            kb_id,\n",
    "            ke_endpoint,\n",
    "        )\n",
    "\n",
    "        # UNCOMMENT AND EDIT <[{\"EDIT\": \"THIS\"}]>\n",
    "        # logger.info(f\"Posting desired humidity: {desired_humidity}\")\n",
    "        # performing humidity post ki with the follwing bindings. Notice that each ?variable in the post graph pattern is present in the binding\n",
    "\n",
    "        # post(\n",
    "        #     [{\"EDIT\": \"THIS\"}],\n",
    "        #     humidity_post_ki_id,\n",
    "        #     kb_id,\n",
    "        #     ke_endpoint,\n",
    "        # )\n",
    "\n",
    "\n",
    "# we set the button to call the button_click function whenever clicked.\n",
    "submit_button.on_click(\n",
    "    lambda x: button_click(\n",
    "        desired_temp,\n",
    "        temp_post_ki_id,\n",
    "        desired_humidity,\n",
    "        humidity_post_ki_id,\n",
    "        \"http://example.org/ui\",\n",
    "        \"http://knowledge_engine:8280/rest/\",\n",
    "    )\n",
    ")"
   ]
  },
  {
   "cell_type": "code",
   "execution_count": 9,
   "id": "b3ef55b3-46d0-4de6-9aa7-33691184448c",
   "metadata": {},
   "outputs": [],
   "source": [
    "# DO NOT EDIT!\n",
    "desired_temp = 0\n",
    "desired_humidity = 0\n",
    "\n",
    "\n",
    "def update_desired_temp(change):\n",
    "    global desired_temp\n",
    "    # setting desired_temp to whatever the slider is set to\n",
    "    desired_temp = change.new\n",
    "\n",
    "\n",
    "def update_desired_humidity(change):\n",
    "    global desired_humidity\n",
    "    # setting desired_temp to whatever the slider is set to\n",
    "    desired_humidity = change.new\n",
    "\n",
    "\n",
    "# this makes the desired_temp update to what the sliders value is\n",
    "desired_temp_slider.observe(update_desired_temp, names=\"value\")\n",
    "desired_humidity_slider.observe(update_desired_humidity, names=\"value\")"
   ]
  },
  {
   "cell_type": "code",
   "execution_count": 10,
   "id": "71416d3b-5d87-4a73-a112-8b6dad4295fe",
   "metadata": {},
   "outputs": [
    {
     "data": {
      "application/vnd.jupyter.widget-view+json": {
       "model_id": "e1508b47ce004eb4947646f121d4b0c0",
       "version_major": 2,
       "version_minor": 0
      },
      "text/plain": [
       "VBox(children=(HBox(children=(HBox(children=(Label(value=''), IntProgress(value=0, bar_style='info', max=50, o…"
      ]
     },
     "metadata": {},
     "output_type": "display_data"
    }
   ],
   "source": [
    "# DO NOT EDIT!\n",
    "display(\n",
    "    VBox(\n",
    "        [\n",
    "            HBox(\n",
    "                [\n",
    "                    temp_box,\n",
    "                    humidity_box,\n",
    "                ]\n",
    "            ),\n",
    "            submit_button,\n",
    "            out,\n",
    "        ]\n",
    "    )\n",
    ")"
   ]
  },
  {
   "cell_type": "code",
   "execution_count": null,
   "id": "5ed4a5ce-167b-4bbb-8f89-d1c1fdffa9b8",
   "metadata": {},
   "outputs": [],
   "source": []
  }
 ],
 "metadata": {
  "kernelspec": {
   "display_name": "Python 3 (ipykernel)",
   "language": "python",
   "name": "python3"
  },
  "language_info": {
   "codemirror_mode": {
    "name": "ipython",
    "version": 3
   },
   "file_extension": ".py",
   "mimetype": "text/x-python",
   "name": "python",
   "nbconvert_exporter": "python",
   "pygments_lexer": "ipython3",
   "version": "3.10.11"
  }
 },
 "nbformat": 4,
 "nbformat_minor": 5
}
