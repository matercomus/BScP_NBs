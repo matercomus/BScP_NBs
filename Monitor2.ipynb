{
 "cells": [
  {
   "cell_type": "code",
   "execution_count": 1,
   "metadata": {
    "collapsed": true
   },
   "outputs": [
    {
     "name": "stdout",
     "output_type": "stream",
     "text": [
      "<Response [200 OK]>\n",
      "Response text: \n"
     ]
    }
   ],
   "source": [
    "# register Monitor2 API in the knowledge engine\n",
    "import httpx\n",
    "\n",
    "# Knowledge engine REST API URL\n",
    "URL = \"http://127.0.0.1:8280/rest\"\n",
    "\n",
    "# Creating a smart connector\n",
    "def create_smart_connector():\n",
    "    # Smart connector data\n",
    "    sc_data = {\n",
    "        \"knowledgeBaseId\": \"http://127.0.0.1:8001/monitor2\",\n",
    "        \"knowledgeBaseName\": \"Thermostat API v0.0.1\",\n",
    "        \"knowledgeBaseDescription\": \"Thermostat API v0.0.1 for the Smart Home\",\n",
    "        \"reasonerEnabled\": \"false\",\n",
    "    }\n",
    "\n",
    "    headers2= {\n",
    "        'Content-Type': 'application/json',\n",
    "        'Knowledge-Base-Id': \"http://127.0.0.1:8001/monitor2\"\n",
    "    }\n",
    "\n",
    "    # Registering the smart connector\n",
    "    response = httpx.post(URL + \"/sc\", headers=headers2, json=sc_data)\n",
    "\n",
    "    print(response)\n",
    "    print(f'Response text: {response.text}')\n",
    "\n",
    "create_smart_connector()\n"
   ]
  }
 ],
 "metadata": {
  "kernelspec": {
   "display_name": "Python 3",
   "language": "python",
   "name": "python3"
  },
  "language_info": {
   "codemirror_mode": {
    "name": "ipython",
    "version": 2
   },
   "file_extension": ".py",
   "mimetype": "text/x-python",
   "name": "python",
   "nbconvert_exporter": "python",
   "pygments_lexer": "ipython2",
   "version": "2.7.6"
  }
 },
 "nbformat": 4,
 "nbformat_minor": 0
}
