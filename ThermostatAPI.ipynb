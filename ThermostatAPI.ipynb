{
 "cells": [
  {
   "cell_type": "markdown",
   "metadata": {},
   "source": [
    "# Thermostat API\n",
    "\n",
    "This API allows you to control a virtual thermostat.\n",
    "You can set and get the desired temperature, actual temperature, desired humidity, actual humidity, mode, name, and kb_id of the thermostat.\n",
    "\n",
    "## Endpoints\n",
    "\n",
    "### `GET /thermostat/name`\n",
    "\n",
    "Returns the name of the thermostat.\n",
    "\n",
    "**Response:**\n",
    "```json\n",
    "\"Thermostat Name\"\n",
    "```\n",
    "\n",
    "### `GET /thermostat`\n",
    "\n",
    "Returns the current state of the thermostat including its actual temperature, desired temperature, actual humidity, desired humidity, mode, name, and kb_id.\n",
    "\n",
    "**Response:**\n",
    "```json\n",
    "{\n",
    "    \"actual_temperature\": 22.5,\n",
    "    \"desired_temperature\": 25.0,\n",
    "    \"actual_humidity\": 50,\n",
    "    \"desired_humidity\": 55,\n",
    "    \"mode\": \"cool\",\n",
    "    \"name\": \"Thermostat Name\",\n",
    "    \"kb_id\": \"12345\"\n",
    "}\n",
    "```\n",
    "\n",
    "### `GET /thermostat/actual_temperature`\n",
    "\n",
    "Returns the current temperature as measured by the thermostat.\n",
    "\n",
    "**Response:**\n",
    "```json\n",
    "22.5\n",
    "```\n",
    "\n",
    "### `GET /thermostat/desired_temperature`\n",
    "\n",
    "Returns the desired temperature set for the thermostat.\n",
    "\n",
    "**Response:**\n",
    "```json\n",
    "25.0\n",
    "```\n",
    "\n",
    "### `GET /thermostat/actual_humidity`\n",
    "\n",
    "Returns the current humidity as measured by the thermostat.\n",
    "\n",
    "**Response:**\n",
    "```json\n",
    "50\n",
    "```\n",
    "\n",
    "### `GET /thermostat/desired_humidity`\n",
    "\n",
    "Returns the desired humidity set for the thermostat.\n",
    "\n",
    "**Response:**\n",
    "```json\n",
    "55\n",
    "```\n",
    "\n",
    "### `GET /thermostat/mode`\n",
    "\n",
    "Returns the current mode of the thermostat (e.g. cool, heat).\n",
    "\n",
    "**Response:**\n",
    "```json\n",
    "\"cool\"\n",
    "```\n",
    "\n",
    "### `GET /thermostat/kb_id`\n",
    "\n",
    "Returns the kb_id of the thermostat.\n",
    "\n",
    "**Response:**\n",
    "```json\n",
    "\"12345\"\n",
    "```\n",
    "\n",
    "### `PUT /thermostat`\n",
    "\n",
    "Updates multiple fields of the thermostat at once.\n",
    "\n",
    "**Request body:**\n",
    "```json\n",
    "{\n",
    "    \"desired_temperature\": 25.0,\n",
    "    \"desired_humidity\": 55,\n",
    "    \"mode\": \"cool\",\n",
    "    \"name\": \"Thermostat Name\",\n",
    "    \"kb_id\": \"12345\"\n",
    "}\n",
    "```\n",
    "\n",
    "**Response:**\n",
    "```json\n",
    "{\n",
    "    \"actual_temperature\": 22.5,\n",
    "    \"desired_temperature\": 25.0,\n",
    "    \"actual_humidity\": 50,\n",
    "    \"desired_humidity\": 55,\n",
    "    \"mode\": \"cool\",\n",
    "    \"name\": \"Thermostat Name\",\n",
    "    \"kb_id\": \"12345\"\n",
    "}\n",
    "```\n",
    "\n",
    "### `PUT /thermostat/desired_temperature`\n",
    "\n",
    "Sets the desired temperature for the thermostat.\n",
    "\n",
    "**Request body:**\n",
    "```json\n",
    "25.0\n",
    "```\n",
    "\n",
    "**Response:**\n",
    "```json\n",
    "25.0\n",
    "```\n",
    "\n",
    "### `PUT /thermostat/desired_humidity`\n",
    "\n",
    "Sets the desired humidity for the thermostat.\n",
    "\n",
    "**Request body:**\n",
    "```json\n",
    "55\n",
    "```\n",
    "\n",
    "**Response:**\n",
    "```json\n",
    "55\n",
    "```"
   ]
  },
  {
   "cell_type": "code",
   "execution_count": null,
   "metadata": {
    "ExecuteTime": {
     "end_time": "2023-05-12T14:17:46.010127487Z",
     "start_time": "2023-05-12T14:17:45.740407276Z"
    }
   },
   "outputs": [],
   "source": [
    "# Simple thermostat API using FastAPI\n",
    "# importing libraries\n",
    "import random\n",
    "\n",
    "import nest_asyncio\n",
    "import uvicorn\n",
    "from fastapi import Depends, FastAPI\n",
    "from pydantic import AnyUrl, BaseModel\n",
    "\n",
    "app = FastAPI()"
   ]
  },
  {
   "cell_type": "code",
   "execution_count": null,
   "metadata": {
    "ExecuteTime": {
     "end_time": "2023-05-12T14:17:46.010996956Z",
     "start_time": "2023-05-12T14:17:45.964547923Z"
    },
    "collapsed": false,
    "jupyter": {
     "outputs_hidden": false
    }
   },
   "outputs": [],
   "source": [
    "class Thermostat(BaseModel):\n",
    "    name: str\n",
    "    desired_temperature: int = 0\n",
    "    actual_temperature: int = 0\n",
    "    desired_humidity: int = 0\n",
    "    actual_humidity: int = 0\n",
    "    mode: str = \"heat\"\n",
    "    kb_id: AnyUrl"
   ]
  },
  {
   "cell_type": "code",
   "execution_count": null,
   "metadata": {
    "ExecuteTime": {
     "end_time": "2023-05-12T14:17:46.011735698Z",
     "start_time": "2023-05-12T14:17:45.972799193Z"
    },
    "collapsed": false,
    "jupyter": {
     "outputs_hidden": false
    }
   },
   "outputs": [],
   "source": [
    "# Creating a thermostat object\n",
    "thermostat = Thermostat(\n",
    "    name=\"Thermostat\",\n",
    "    desired_temperature=20,\n",
    "    desired_humidity=50,\n",
    "    mode=\"heat\",\n",
    "    kb_id=\"http://0.0.0.0:8001/thermostat\",\n",
    ")"
   ]
  },
  {
   "cell_type": "code",
   "execution_count": null,
   "metadata": {
    "ExecuteTime": {
     "end_time": "2023-05-12T14:17:46.102162247Z",
     "start_time": "2023-05-12T14:17:46.007956441Z"
    },
    "collapsed": false,
    "jupyter": {
     "outputs_hidden": false
    }
   },
   "outputs": [],
   "source": [
    "thermostat.dict()"
   ]
  },
  {
   "cell_type": "code",
   "execution_count": null,
   "metadata": {
    "ExecuteTime": {
     "end_time": "2023-05-12T14:17:46.150356071Z",
     "start_time": "2023-05-12T14:17:46.022865099Z"
    },
    "collapsed": false,
    "jupyter": {
     "outputs_hidden": false
    }
   },
   "outputs": [],
   "source": [
    "# Defining the API endpoints\n",
    "\n",
    "\n",
    "@app.get(\"/\")\n",
    "async def root():\n",
    "    return {\"message\": \"Welcome to the thermostat API\"}\n",
    "\n",
    "\n",
    "@app.get(\"/thermostat/name\")\n",
    "async def get_name():\n",
    "    return thermostat.name\n",
    "\n",
    "\n",
    "@app.get(\"/thermostat\")\n",
    "async def get_thermostat() -> Thermostat:\n",
    "    thermostat.actual_temperature = int(\n",
    "        thermostat.desired_temperature + random.uniform(-3.0, 3.0)\n",
    "    )\n",
    "    thermostat.actual_humidity = int(\n",
    "        thermostat.desired_humidity + random.uniform(-2.0, 2.0)\n",
    "    )\n",
    "    return thermostat\n",
    "\n",
    "\n",
    "@app.get(\"/thermostat/actual_temperature\")\n",
    "async def get_actual_temperature() -> int:\n",
    "    return int(thermostat.desired_temperature + random.uniform(-3.0, 3.0))\n",
    "\n",
    "\n",
    "@app.get(\"/thermostat/desired_temperature\")\n",
    "async def get_desired_temperature() -> int:\n",
    "    return thermostat.desired_temperature\n",
    "\n",
    "\n",
    "@app.get(\"/thermostat/actual_humidity\")\n",
    "async def get_actual_humidity() -> int:\n",
    "    return int(thermostat.desired_humidity + random.uniform(-2.0, 2.0))\n",
    "\n",
    "\n",
    "@app.get(\"/thermostat/desired_humidity\")\n",
    "async def get_desired_humidity() -> int:\n",
    "    return thermostat.desired_humidity\n",
    "\n",
    "\n",
    "@app.get(\"/thermostat/mode\")\n",
    "async def get_mode():\n",
    "    return thermostat.mode\n",
    "\n",
    "\n",
    "@app.get(\"/thermostat/kb_id\")\n",
    "async def get_kb_id():\n",
    "    return thermostat.kb_id\n",
    "\n",
    "\n",
    "@app.put(\"/thermostat\")\n",
    "async def set_thermostat(commons: Thermostat = Depends()) -> Thermostat:\n",
    "    thermostat.actual_temperature = thermostat.desired_temperature + random.uniform(\n",
    "        -3.0, 3.0\n",
    "    )\n",
    "    thermostat.actual_humidity = thermostat.desired_humidity + random.uniform(-2.0, 2.0)\n",
    "    thermostat.__dict__.update(commons.__dict__)\n",
    "    return thermostat\n",
    "\n",
    "\n",
    "@app.put(\"/thermostat/desired_temperature\")\n",
    "async def set_desired_temperature(desired_temperature: int) -> int:\n",
    "    thermostat.desired_temperature = desired_temperature\n",
    "    return thermostat.desired_temperature\n",
    "\n",
    "\n",
    "@app.put(\"/thermostat/desired_humidity\")\n",
    "async def set_desired_humidity(desired_humidity: int) -> int:\n",
    "    thermostat.desired_humidity = desired_humidity\n",
    "    return thermostat.desired_humidity\n",
    "\n",
    "\n",
    "@app.put(\"/thermostat/mode\")\n",
    "async def set_mode(mode: str):\n",
    "    thermostat.mode = mode\n",
    "    return thermostat.mode\n",
    "\n",
    "\n",
    "@app.put(\"/thermostat/name\")\n",
    "async def set_name(name: str):\n",
    "    thermostat.name = name\n",
    "    return thermostat.name\n",
    "\n",
    "\n",
    "@app.put(\"/thermostat/kb_id\")\n",
    "async def set_kb_id(kb_id: str):\n",
    "    thermostat.kb_id = kb_id\n",
    "    return thermostat.kb_id"
   ]
  },
  {
   "cell_type": "code",
   "execution_count": null,
   "metadata": {
    "ExecuteTime": {
     "start_time": "2023-05-12T14:17:46.051990822Z"
    },
    "collapsed": false,
    "is_executing": true,
    "jupyter": {
     "outputs_hidden": false
    }
   },
   "outputs": [],
   "source": [
    "# Running the API\n",
    "if __name__ == \"__main__\":\n",
    "    nest_asyncio.apply()\n",
    "    uvicorn.run(app, host=\"0.0.0.0\", port=8001)\n",
    "    # uvicorn.run(app)"
   ]
  },
  {
   "cell_type": "code",
   "execution_count": null,
   "metadata": {
    "collapsed": false,
    "is_executing": true,
    "jupyter": {
     "outputs_hidden": false
    }
   },
   "outputs": [],
   "source": []
  },
  {
   "cell_type": "code",
   "execution_count": null,
   "metadata": {},
   "outputs": [],
   "source": []
  },
  {
   "cell_type": "code",
   "execution_count": null,
   "metadata": {},
   "outputs": [],
   "source": []
  }
 ],
 "metadata": {
  "kernelspec": {
   "display_name": "Python 3 (ipykernel)",
   "language": "python",
   "name": "python3"
  },
  "language_info": {
   "codemirror_mode": {
    "name": "ipython",
    "version": 3
   },
   "file_extension": ".py",
   "mimetype": "text/x-python",
   "name": "python",
   "nbconvert_exporter": "python",
   "pygments_lexer": "ipython3",
   "version": "3.10.11"
  }
 },
 "nbformat": 4,
 "nbformat_minor": 4
}
