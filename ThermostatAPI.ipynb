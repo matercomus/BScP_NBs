{
 "cells": [
  {
   "cell_type": "markdown",
   "metadata": {},
   "source": [
    "# Thermostat API\n",
    "\n",
    "**⚠️ IMPORTANT ⚠️: DO NOT EDIT THIS NOTEBOOK**  \n",
    "This API allows you to control a virtual thermostat.\n",
    "You can set and get the desired temperature, actual temperature, desired humidity, actual humidity, mode, name, and kb_id of the thermostat.\n",
    "\n",
    "## Endpoints\n",
    "\n",
    "### `GET /thermostat/name`\n",
    "\n",
    "Returns the name of the thermostat.\n",
    "\n",
    "**Response:**\n",
    "```json\n",
    "\"Thermostat Name\"\n",
    "```\n",
    "\n",
    "### `GET /thermostat`\n",
    "\n",
    "Returns the current state of the thermostat including its actual temperature, desired temperature, actual humidity, desired humidity, mode, name, and kb_id.\n",
    "\n",
    "**Response:**\n",
    "```json\n",
    "{\n",
    "    \"actual_temperature\": 22.5,\n",
    "    \"desired_temperature\": 25.0,\n",
    "    \"actual_humidity\": 50,\n",
    "    \"desired_humidity\": 55,\n",
    "    \"mode\": \"cool\",\n",
    "    \"name\": \"Thermostat Name\",\n",
    "    \"kb_id\": \"12345\"\n",
    "}\n",
    "```\n",
    "\n",
    "### `GET /thermostat/actual_temperature`\n",
    "\n",
    "Returns the current temperature as measured by the thermostat.\n",
    "\n",
    "**Response:**\n",
    "```json\n",
    "22.5\n",
    "```\n",
    "\n",
    "### `GET /thermostat/desired_temperature`\n",
    "\n",
    "Returns the desired temperature set for the thermostat.\n",
    "\n",
    "**Response:**\n",
    "```json\n",
    "25.0\n",
    "```\n",
    "\n",
    "### `GET /thermostat/actual_humidity`\n",
    "\n",
    "Returns the current humidity as measured by the thermostat.\n",
    "\n",
    "**Response:**\n",
    "```json\n",
    "50\n",
    "```\n",
    "\n",
    "### `GET /thermostat/desired_humidity`\n",
    "\n",
    "Returns the desired humidity set for the thermostat.\n",
    "\n",
    "**Response:**\n",
    "```json\n",
    "55\n",
    "```\n",
    "\n",
    "### `GET /thermostat/mode`\n",
    "\n",
    "Returns the current mode of the thermostat (e.g. cool, heat).\n",
    "\n",
    "**Response:**\n",
    "```json\n",
    "\"cool\"\n",
    "```\n",
    "\n",
    "### `GET /thermostat/kb_id`\n",
    "\n",
    "Returns the kb_id of the thermostat.\n",
    "\n",
    "**Response:**\n",
    "```json\n",
    "\"12345\"\n",
    "```\n",
    "\n",
    "### `PUT /thermostat`\n",
    "\n",
    "Updates multiple fields of the thermostat at once.\n",
    "\n",
    "**Request body:**\n",
    "```json\n",
    "{\n",
    "    \"desired_temperature\": 25.0,\n",
    "    \"desired_humidity\": 55,\n",
    "    \"mode\": \"cool\",\n",
    "    \"name\": \"Thermostat Name\",\n",
    "    \"kb_id\": \"12345\"\n",
    "}\n",
    "```\n",
    "\n",
    "**Response:**\n",
    "```json\n",
    "{\n",
    "    \"actual_temperature\": 22.5,\n",
    "    \"desired_temperature\": 25.0,\n",
    "    \"actual_humidity\": 50,\n",
    "    \"desired_humidity\": 55,\n",
    "    \"mode\": \"cool\",\n",
    "    \"name\": \"Thermostat Name\",\n",
    "    \"kb_id\": \"12345\"\n",
    "}\n",
    "```\n",
    "\n",
    "### `PUT /thermostat/desired_temperature`\n",
    "\n",
    "Sets the desired temperature for the thermostat.\n",
    "\n",
    "**Request body:**\n",
    "```json\n",
    "25.0\n",
    "```\n",
    "\n",
    "**Response:**\n",
    "```json\n",
    "25.0\n",
    "```\n",
    "\n",
    "### `PUT /thermostat/desired_humidity`\n",
    "\n",
    "Sets the desired humidity for the thermostat.\n",
    "\n",
    "**Request body:**\n",
    "```json\n",
    "55\n",
    "```\n",
    "\n",
    "**Response:**\n",
    "```json\n",
    "55\n",
    "```"
   ]
  },
  {
   "cell_type": "code",
   "execution_count": 1,
   "metadata": {
    "ExecuteTime": {
     "end_time": "2023-05-12T14:17:46.010127487Z",
     "start_time": "2023-05-12T14:17:45.740407276Z"
    }
   },
   "outputs": [],
   "source": [
    "# Simple thermostat API using FastAPI\n",
    "# importing libraries\n",
    "import random\n",
    "\n",
    "import nest_asyncio\n",
    "import uvicorn\n",
    "from fastapi import Depends, FastAPI\n",
    "from pydantic import AnyUrl, BaseModel\n",
    "\n",
    "app = FastAPI()"
   ]
  },
  {
   "cell_type": "code",
   "execution_count": 2,
   "metadata": {
    "ExecuteTime": {
     "end_time": "2023-05-12T14:17:46.010996956Z",
     "start_time": "2023-05-12T14:17:45.964547923Z"
    },
    "collapsed": false,
    "jupyter": {
     "outputs_hidden": false
    }
   },
   "outputs": [],
   "source": [
    "class Thermostat(BaseModel):\n",
    "    name: str\n",
    "    desired_temperature: int = 0\n",
    "    actual_temperature: int = 0\n",
    "    desired_humidity: int = 0\n",
    "    actual_humidity: int = 0\n",
    "    mode: str = \"heat\"\n",
    "    kb_id: AnyUrl"
   ]
  },
  {
   "cell_type": "code",
   "execution_count": 3,
   "metadata": {
    "ExecuteTime": {
     "end_time": "2023-05-12T14:17:46.011735698Z",
     "start_time": "2023-05-12T14:17:45.972799193Z"
    },
    "collapsed": false,
    "jupyter": {
     "outputs_hidden": false
    }
   },
   "outputs": [],
   "source": [
    "# Creating a thermostat object\n",
    "thermostat = Thermostat(\n",
    "    name=\"Thermostat\",\n",
    "    desired_temperature=20,\n",
    "    desired_humidity=50,\n",
    "    mode=\"heat\",\n",
    "    kb_id=\"http://0.0.0.0:8001/thermostat\",\n",
    ")"
   ]
  },
  {
   "cell_type": "code",
   "execution_count": 4,
   "metadata": {
    "ExecuteTime": {
     "end_time": "2023-05-12T14:17:46.102162247Z",
     "start_time": "2023-05-12T14:17:46.007956441Z"
    },
    "collapsed": false,
    "jupyter": {
     "outputs_hidden": false
    }
   },
   "outputs": [
    {
     "data": {
      "text/plain": [
       "{'name': 'Thermostat',\n",
       " 'desired_temperature': 20,\n",
       " 'actual_temperature': 0,\n",
       " 'desired_humidity': 50,\n",
       " 'actual_humidity': 0,\n",
       " 'mode': 'heat',\n",
       " 'kb_id': AnyUrl('http://0.0.0.0:8001/thermostat', scheme='http', host='0.0.0.0', host_type='ipv4', port='8001', path='/thermostat')}"
      ]
     },
     "execution_count": 4,
     "metadata": {},
     "output_type": "execute_result"
    }
   ],
   "source": [
    "thermostat.dict()"
   ]
  },
  {
   "cell_type": "code",
   "execution_count": 5,
   "metadata": {
    "ExecuteTime": {
     "end_time": "2023-05-12T14:17:46.150356071Z",
     "start_time": "2023-05-12T14:17:46.022865099Z"
    },
    "collapsed": false,
    "jupyter": {
     "outputs_hidden": false
    }
   },
   "outputs": [],
   "source": [
    "# Defining the API endpoints\n",
    "\n",
    "\n",
    "@app.get(\"/\")\n",
    "async def root():\n",
    "    return {\"message\": \"Welcome to the thermostat API\"}\n",
    "\n",
    "\n",
    "@app.get(\"/thermostat/name\")\n",
    "async def get_name():\n",
    "    return thermostat.name\n",
    "\n",
    "\n",
    "@app.get(\"/thermostat\")\n",
    "async def get_thermostat() -> Thermostat:\n",
    "    thermostat.actual_temperature = int(\n",
    "        thermostat.desired_temperature + random.uniform(-3.0, 3.0)\n",
    "    )\n",
    "    thermostat.actual_humidity = int(\n",
    "        thermostat.desired_humidity + random.uniform(-2.0, 2.0)\n",
    "    )\n",
    "    return thermostat\n",
    "\n",
    "\n",
    "@app.get(\"/thermostat/actual_temperature\")\n",
    "async def get_actual_temperature() -> int:\n",
    "    return int(thermostat.desired_temperature + random.uniform(-3.0, 3.0))\n",
    "\n",
    "\n",
    "@app.get(\"/thermostat/desired_temperature\")\n",
    "async def get_desired_temperature() -> int:\n",
    "    return thermostat.desired_temperature\n",
    "\n",
    "\n",
    "@app.get(\"/thermostat/actual_humidity\")\n",
    "async def get_actual_humidity() -> int:\n",
    "    return int(thermostat.desired_humidity + random.uniform(-2.0, 2.0))\n",
    "\n",
    "\n",
    "@app.get(\"/thermostat/desired_humidity\")\n",
    "async def get_desired_humidity() -> int:\n",
    "    return thermostat.desired_humidity\n",
    "\n",
    "\n",
    "@app.get(\"/thermostat/mode\")\n",
    "async def get_mode():\n",
    "    return thermostat.mode\n",
    "\n",
    "\n",
    "@app.get(\"/thermostat/kb_id\")\n",
    "async def get_kb_id():\n",
    "    return thermostat.kb_id\n",
    "\n",
    "\n",
    "@app.put(\"/thermostat\")\n",
    "async def set_thermostat(commons: Thermostat = Depends()) -> Thermostat:\n",
    "    thermostat.actual_temperature = thermostat.desired_temperature + random.uniform(\n",
    "        -3.0, 3.0\n",
    "    )\n",
    "    thermostat.actual_humidity = thermostat.desired_humidity + random.uniform(-2.0, 2.0)\n",
    "    thermostat.__dict__.update(commons.__dict__)\n",
    "    return thermostat\n",
    "\n",
    "\n",
    "@app.put(\"/thermostat/desired_temperature\")\n",
    "async def set_desired_temperature(desired_temperature: int) -> int:\n",
    "    thermostat.desired_temperature = desired_temperature\n",
    "    return thermostat.desired_temperature\n",
    "\n",
    "\n",
    "@app.put(\"/thermostat/desired_humidity\")\n",
    "async def set_desired_humidity(desired_humidity: int) -> int:\n",
    "    thermostat.desired_humidity = desired_humidity\n",
    "    return thermostat.desired_humidity\n",
    "\n",
    "\n",
    "@app.put(\"/thermostat/mode\")\n",
    "async def set_mode(mode: str):\n",
    "    thermostat.mode = mode\n",
    "    return thermostat.mode\n",
    "\n",
    "\n",
    "@app.put(\"/thermostat/name\")\n",
    "async def set_name(name: str):\n",
    "    thermostat.name = name\n",
    "    return thermostat.name\n",
    "\n",
    "\n",
    "@app.put(\"/thermostat/kb_id\")\n",
    "async def set_kb_id(kb_id: str):\n",
    "    thermostat.kb_id = kb_id\n",
    "    return thermostat.kb_id"
   ]
  },
  {
   "cell_type": "code",
   "execution_count": 6,
   "metadata": {
    "ExecuteTime": {
     "start_time": "2023-05-12T14:17:46.051990822Z"
    },
    "collapsed": false,
    "is_executing": true,
    "jupyter": {
     "outputs_hidden": false
    }
   },
   "outputs": [
    {
     "name": "stderr",
     "output_type": "stream",
     "text": [
      "INFO:     Started server process [1347]\n",
      "INFO:     Waiting for application startup.\n",
      "INFO:     Application startup complete.\n",
      "INFO:     Uvicorn running on http://0.0.0.0:8001 (Press CTRL+C to quit)\n"
     ]
    },
    {
     "name": "stdout",
     "output_type": "stream",
     "text": [
      "INFO:     127.0.0.1:39766 - \"GET /thermostat HTTP/1.1\" 200 OK\n",
      "INFO:     127.0.0.1:39776 - \"GET /thermostat HTTP/1.1\" 200 OK\n",
      "INFO:     127.0.0.1:39784 - \"GET /thermostat HTTP/1.1\" 200 OK\n",
      "INFO:     127.0.0.1:54298 - \"GET /thermostat HTTP/1.1\" 200 OK\n",
      "INFO:     127.0.0.1:54312 - \"GET /thermostat HTTP/1.1\" 200 OK\n",
      "INFO:     127.0.0.1:56112 - \"GET /thermostat/actual_temperature HTTP/1.1\" 200 OK\n",
      "INFO:     127.0.0.1:37354 - \"GET /thermostat/actual_temperature HTTP/1.1\" 200 OK\n",
      "INFO:     127.0.0.1:37358 - \"GET /thermostat/actual_temperature HTTP/1.1\" 200 OK\n",
      "INFO:     127.0.0.1:42016 - \"GET /thermostat/actual_temperature HTTP/1.1\" 200 OK\n",
      "INFO:     127.0.0.1:42028 - \"PUT /thermostat/desired_temperature?desired_temperature=7 HTTP/1.1\" 200 OK\n",
      "INFO:     127.0.0.1:42040 - \"GET /thermostat/actual_temperature HTTP/1.1\" 200 OK\n",
      "INFO:     127.0.0.1:47520 - \"GET /thermostat/actual_temperature HTTP/1.1\" 200 OK\n",
      "INFO:     127.0.0.1:47526 - \"GET /thermostat/actual_temperature HTTP/1.1\" 200 OK\n",
      "INFO:     127.0.0.1:60354 - \"GET /thermostat/actual_temperature HTTP/1.1\" 200 OK\n",
      "INFO:     127.0.0.1:60356 - \"GET /thermostat/actual_temperature HTTP/1.1\" 200 OK\n",
      "INFO:     127.0.0.1:54312 - \"GET /thermostat/actual_temperature HTTP/1.1\" 200 OK\n",
      "INFO:     127.0.0.1:56046 - \"GET /thermostat/actual_temperature HTTP/1.1\" 200 OK\n",
      "INFO:     127.0.0.1:56060 - \"GET /thermostat/actual_temperature HTTP/1.1\" 200 OK\n",
      "INFO:     127.0.0.1:48702 - \"GET /thermostat/actual_temperature HTTP/1.1\" 200 OK\n",
      "INFO:     127.0.0.1:48716 - \"GET /thermostat/actual_temperature HTTP/1.1\" 200 OK\n",
      "INFO:     127.0.0.1:59530 - \"GET /thermostat/actual_temperature HTTP/1.1\" 200 OK\n"
     ]
    },
    {
     "ename": "RuntimeError",
     "evalue": "Event loop stopped before Future completed.",
     "output_type": "error",
     "traceback": [
      "\u001b[0;31m---------------------------------------------------------------------------\u001b[0m",
      "\u001b[0;31mRuntimeError\u001b[0m                              Traceback (most recent call last)",
      "Cell \u001b[0;32mIn[6], line 4\u001b[0m\n\u001b[1;32m      2\u001b[0m \u001b[38;5;28;01mif\u001b[39;00m \u001b[38;5;18m__name__\u001b[39m \u001b[38;5;241m==\u001b[39m \u001b[38;5;124m\"\u001b[39m\u001b[38;5;124m__main__\u001b[39m\u001b[38;5;124m\"\u001b[39m:\n\u001b[1;32m      3\u001b[0m     nest_asyncio\u001b[38;5;241m.\u001b[39mapply()\n\u001b[0;32m----> 4\u001b[0m     \u001b[43muvicorn\u001b[49m\u001b[38;5;241;43m.\u001b[39;49m\u001b[43mrun\u001b[49m\u001b[43m(\u001b[49m\u001b[43mapp\u001b[49m\u001b[43m,\u001b[49m\u001b[43m \u001b[49m\u001b[43mhost\u001b[49m\u001b[38;5;241;43m=\u001b[39;49m\u001b[38;5;124;43m\"\u001b[39;49m\u001b[38;5;124;43m0.0.0.0\u001b[39;49m\u001b[38;5;124;43m\"\u001b[39;49m\u001b[43m,\u001b[49m\u001b[43m \u001b[49m\u001b[43mport\u001b[49m\u001b[38;5;241;43m=\u001b[39;49m\u001b[38;5;241;43m8001\u001b[39;49m\u001b[43m)\u001b[49m\n\u001b[1;32m      5\u001b[0m     \u001b[38;5;66;03m# uvicorn.run(app)\u001b[39;00m\n",
      "File \u001b[0;32m/opt/conda/lib/python3.10/site-packages/uvicorn/main.py:578\u001b[0m, in \u001b[0;36mrun\u001b[0;34m(app, host, port, uds, fd, loop, http, ws, ws_max_size, ws_ping_interval, ws_ping_timeout, ws_per_message_deflate, lifespan, interface, reload, reload_dirs, reload_includes, reload_excludes, reload_delay, workers, env_file, log_config, log_level, access_log, proxy_headers, server_header, date_header, forwarded_allow_ips, root_path, limit_concurrency, backlog, limit_max_requests, timeout_keep_alive, timeout_graceful_shutdown, ssl_keyfile, ssl_certfile, ssl_keyfile_password, ssl_version, ssl_cert_reqs, ssl_ca_certs, ssl_ciphers, headers, use_colors, app_dir, factory, h11_max_incomplete_event_size)\u001b[0m\n\u001b[1;32m    576\u001b[0m     Multiprocess(config, target\u001b[38;5;241m=\u001b[39mserver\u001b[38;5;241m.\u001b[39mrun, sockets\u001b[38;5;241m=\u001b[39m[sock])\u001b[38;5;241m.\u001b[39mrun()\n\u001b[1;32m    577\u001b[0m \u001b[38;5;28;01melse\u001b[39;00m:\n\u001b[0;32m--> 578\u001b[0m     \u001b[43mserver\u001b[49m\u001b[38;5;241;43m.\u001b[39;49m\u001b[43mrun\u001b[49m\u001b[43m(\u001b[49m\u001b[43m)\u001b[49m\n\u001b[1;32m    579\u001b[0m \u001b[38;5;28;01mif\u001b[39;00m config\u001b[38;5;241m.\u001b[39muds \u001b[38;5;129;01mand\u001b[39;00m os\u001b[38;5;241m.\u001b[39mpath\u001b[38;5;241m.\u001b[39mexists(config\u001b[38;5;241m.\u001b[39muds):\n\u001b[1;32m    580\u001b[0m     os\u001b[38;5;241m.\u001b[39mremove(config\u001b[38;5;241m.\u001b[39muds)  \u001b[38;5;66;03m# pragma: py-win32\u001b[39;00m\n",
      "File \u001b[0;32m/opt/conda/lib/python3.10/site-packages/uvicorn/server.py:61\u001b[0m, in \u001b[0;36mServer.run\u001b[0;34m(self, sockets)\u001b[0m\n\u001b[1;32m     59\u001b[0m \u001b[38;5;28;01mdef\u001b[39;00m \u001b[38;5;21mrun\u001b[39m(\u001b[38;5;28mself\u001b[39m, sockets: Optional[List[socket\u001b[38;5;241m.\u001b[39msocket]] \u001b[38;5;241m=\u001b[39m \u001b[38;5;28;01mNone\u001b[39;00m) \u001b[38;5;241m-\u001b[39m\u001b[38;5;241m>\u001b[39m \u001b[38;5;28;01mNone\u001b[39;00m:\n\u001b[1;32m     60\u001b[0m     \u001b[38;5;28mself\u001b[39m\u001b[38;5;241m.\u001b[39mconfig\u001b[38;5;241m.\u001b[39msetup_event_loop()\n\u001b[0;32m---> 61\u001b[0m     \u001b[38;5;28;01mreturn\u001b[39;00m \u001b[43masyncio\u001b[49m\u001b[38;5;241;43m.\u001b[39;49m\u001b[43mrun\u001b[49m\u001b[43m(\u001b[49m\u001b[38;5;28;43mself\u001b[39;49m\u001b[38;5;241;43m.\u001b[39;49m\u001b[43mserve\u001b[49m\u001b[43m(\u001b[49m\u001b[43msockets\u001b[49m\u001b[38;5;241;43m=\u001b[39;49m\u001b[43msockets\u001b[49m\u001b[43m)\u001b[49m\u001b[43m)\u001b[49m\n",
      "File \u001b[0;32m/opt/conda/lib/python3.10/site-packages/nest_asyncio.py:35\u001b[0m, in \u001b[0;36m_patch_asyncio.<locals>.run\u001b[0;34m(main, debug)\u001b[0m\n\u001b[1;32m     33\u001b[0m task \u001b[38;5;241m=\u001b[39m asyncio\u001b[38;5;241m.\u001b[39mensure_future(main)\n\u001b[1;32m     34\u001b[0m \u001b[38;5;28;01mtry\u001b[39;00m:\n\u001b[0;32m---> 35\u001b[0m     \u001b[38;5;28;01mreturn\u001b[39;00m \u001b[43mloop\u001b[49m\u001b[38;5;241;43m.\u001b[39;49m\u001b[43mrun_until_complete\u001b[49m\u001b[43m(\u001b[49m\u001b[43mtask\u001b[49m\u001b[43m)\u001b[49m\n\u001b[1;32m     36\u001b[0m \u001b[38;5;28;01mfinally\u001b[39;00m:\n\u001b[1;32m     37\u001b[0m     \u001b[38;5;28;01mif\u001b[39;00m \u001b[38;5;129;01mnot\u001b[39;00m task\u001b[38;5;241m.\u001b[39mdone():\n",
      "File \u001b[0;32m/opt/conda/lib/python3.10/site-packages/nest_asyncio.py:88\u001b[0m, in \u001b[0;36m_patch_loop.<locals>.run_until_complete\u001b[0;34m(self, future)\u001b[0m\n\u001b[1;32m     86\u001b[0m         \u001b[38;5;28;01mbreak\u001b[39;00m\n\u001b[1;32m     87\u001b[0m \u001b[38;5;28;01mif\u001b[39;00m \u001b[38;5;129;01mnot\u001b[39;00m f\u001b[38;5;241m.\u001b[39mdone():\n\u001b[0;32m---> 88\u001b[0m     \u001b[38;5;28;01mraise\u001b[39;00m \u001b[38;5;167;01mRuntimeError\u001b[39;00m(\n\u001b[1;32m     89\u001b[0m         \u001b[38;5;124m'\u001b[39m\u001b[38;5;124mEvent loop stopped before Future completed.\u001b[39m\u001b[38;5;124m'\u001b[39m)\n\u001b[1;32m     90\u001b[0m \u001b[38;5;28;01mreturn\u001b[39;00m f\u001b[38;5;241m.\u001b[39mresult()\n",
      "\u001b[0;31mRuntimeError\u001b[0m: Event loop stopped before Future completed."
     ]
    }
   ],
   "source": [
    "# Running the API\n",
    "if __name__ == \"__main__\":\n",
    "    nest_asyncio.apply()\n",
    "    uvicorn.run(app, host=\"0.0.0.0\", port=8001)\n",
    "    # uvicorn.run(app)"
   ]
  },
  {
   "cell_type": "code",
   "execution_count": null,
   "metadata": {
    "collapsed": false,
    "is_executing": true,
    "jupyter": {
     "outputs_hidden": false
    }
   },
   "outputs": [],
   "source": []
  },
  {
   "cell_type": "code",
   "execution_count": null,
   "metadata": {},
   "outputs": [],
   "source": []
  },
  {
   "cell_type": "code",
   "execution_count": null,
   "metadata": {},
   "outputs": [],
   "source": []
  }
 ],
 "metadata": {
  "kernelspec": {
   "display_name": "Python 3 (ipykernel)",
   "language": "python",
   "name": "python3"
  },
  "language_info": {
   "codemirror_mode": {
    "name": "ipython",
    "version": 3
   },
   "file_extension": ".py",
   "mimetype": "text/x-python",
   "name": "python",
   "nbconvert_exporter": "python",
   "pygments_lexer": "ipython3",
   "version": "3.10.11"
  }
 },
 "nbformat": 4,
 "nbformat_minor": 4
}
