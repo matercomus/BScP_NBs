{
 "cells": [
  {
   "cell_type": "code",
   "execution_count": 1,
   "metadata": {
    "collapsed": true
   },
   "outputs": [],
   "source": [
    "# this notebook is a intro into the interconnect project through peeking into what is happening in the network of one of the knowledge engines\n",
    "# see https://gitlab.inesctec.pt/interconnect-public/knowledge-engine/-/blob/main/openapi-sc.yaml\n"
   ]
  },
  {
   "cell_type": "code",
   "execution_count": 2,
   "outputs": [],
   "source": [
    "# importing libraries\n",
    "import httpx\n",
    "import json\n",
    "import re"
   ],
   "metadata": {
    "collapsed": false
   }
  },
  {
   "cell_type": "code",
   "execution_count": 3,
   "outputs": [],
   "source": [
    "# function for pretty printing JSON\n",
    "def print_json(json_string):\n",
    "    print(json.dumps(json.loads(json_string), indent=4))\n",
    "\n",
    "\n",
    "# function for pretty printing RDF\n",
    "def display_rdf_pattern(string):\n",
    "    return re.sub(r'(\\.\\s)', r'\\1\\n', string)\n",
    "\n",
    "\n",
    "# function summary of available Knowledge Interactions\n",
    "def print_ki_summary(json_string):\n",
    "    print_json(json_string)\n",
    "    print()\n",
    "    for ki in json.loads(json_string):\n",
    "        print(ki['knowledgeInteractionName'])\n",
    "        print('argumentGraphPattern')\n",
    "        print(display_rdf_pattern(ki['argumentGraphPattern']))\n",
    "        print('resultGraphPattern')\n",
    "        print(display_rdf_pattern(ki['resultGraphPattern']))"
   ],
   "metadata": {
    "collapsed": false
   }
  },
  {
   "cell_type": "code",
   "execution_count": 4,
   "outputs": [],
   "source": [
    "# set the URL\n",
    "URL = \"https://ke.interconnectproject.eu/rest/\""
   ],
   "metadata": {
    "collapsed": false
   }
  },
  {
   "cell_type": "code",
   "execution_count": 5,
   "outputs": [],
   "source": [
    "# GET request /sc - Either get all available Smart Connectors or a specific one if the Knowledge-Base-Id is provided.\n",
    "headers1 = {\n",
    "    'accept': 'application/json; charset=UTF-8',\n",
    "    'Knowledge-Base-Id': '',\n",
    "}\n",
    "# r = httpx.get(URL + \"sc\", headers=headers1)"
   ],
   "metadata": {
    "collapsed": false
   }
  },
  {
   "cell_type": "code",
   "execution_count": 6,
   "outputs": [],
   "source": [
    "# GET request /sc/ki - Get all KnowledgeInteractions for a given Knowledge-Base-Id\n",
    "headers2 = {\n",
    "    'accept': 'application/json; charset=UTF-8',\n",
    "    'Knowledge-Base-Id': 'https://ke.interconnectproject.eu/adapter/evtd-kb',\n",
    "}\n",
    "r = httpx.get(URL + \"sc/ki\", headers=headers2)"
   ],
   "metadata": {
    "collapsed": false
   }
  },
  {
   "cell_type": "code",
   "execution_count": 7,
   "outputs": [
    {
     "name": "stdout",
     "output_type": "stream",
     "text": [
      "[\n",
      "    {\n",
      "        \"knowledgeInteractionId\": \"https://ke.interconnectproject.eu/adapter/evtd-kb/interaction/evtd-metering-data\",\n",
      "        \"knowledgeInteractionType\": \"PostKnowledgeInteraction\",\n",
      "        \"knowledgeInteractionName\": \"evtd-metering-data\",\n",
      "        \"communicativeAct\": {\n",
      "            \"requiredPurposes\": [\n",
      "                \"https://w3id.org/knowledge-engine/InformPurpose\"\n",
      "            ],\n",
      "            \"satisfiedPurposes\": [\n",
      "                \"https://w3id.org/knowledge-engine/InformPurpose\"\n",
      "            ]\n",
      "        },\n",
      "        \"argumentGraphPattern\": \"?dp <http://www.w3.org/1999/02/22-rdf-syntax-ns#type> <http://ontology.tno.nl/interconnect/datapoint#DataPoint> . ?dp <http://ontology.tno.nl/interconnect/device#hasConnectionID> ?tid . ?dp <http://www.ontology-of-units-of-measure.org/resource/om-2/hasValue> ?fr . ?fr <http://www.ontology-of-units-of-measure.org/resource/om-2/hasNumericalValue> ?firstResult . ?dp <http://www.ontology-of-units-of-measure.org/resource/om-2/hasValue> ?ps . ?ps <http://www.ontology-of-units-of-measure.org/resource/om-2/hasNumericalValue> ?pageSize . \",\n",
      "        \"resultGraphPattern\": \"?resmetdata <https://saref.etsi.org/core/hasValue> ?rc . ?rc <http://www.w3.org/2000/01/rdf-schema#comment> ?desc . ?resmetdata <http://www.ontology-of-units-of-measure.org/resource/om-2/hasValue> ?tr . ?tr <http://www.ontology-of-units-of-measure.org/resource/om-2/hasNumericalValue> ?totalRows . ?resmetdata <http://ontology.tno.nl/interconnect/datapoint#hasDataPoint> ?lst . ?lst <http://www.w3.org/1999/02/22-rdf-syntax-ns#type> <http://ontology.tno.nl/interconnect/datapoint#DataPoint> . ?lst <http://ontology.tno.nl/interconnect/device#hasConnectionID> ?tid . ?lst <http://ontology.tno.nl/interconnect/datapoint#hasEffectivePeriod> ?time . ?time <http://www.w3.org/1999/02/22-rdf-syntax-ns#type> <http://www.w3.org/2006/time#Interval> . ?time <https://saref.etsi.org/core/hasBeginning> ?begts . ?begts <http://www.w3.org/2006/time#inXSDDateTimeStamp> ?timeUtc . ?lst <http://www.ontology-of-units-of-measure.org/resource/om-2/hasValue> ?ven . ?ven <http://www.ontology-of-units-of-measure.org/resource/om-2/hasNumericalValue> ?energykWh . ?ven <http://www.ontology-of-units-of-measure.org/resource/om-2/hasUnit> <http://www.ontology-of-units-of-measure.org/resource/om-2/KilowattHour> . ?lst <http://www.ontology-of-units-of-measure.org/resource/om-2/hasValue> ?power . ?power <http://www.ontology-of-units-of-measure.org/resource/om-2/hasNumericalValue> ?powerkW . ?power <http://www.ontology-of-units-of-measure.org/resource/om-2/hasUnit> <http://www.ontology-of-units-of-measure.org/resource/om-2/kilowatt> . \"\n",
      "    },\n",
      "    {\n",
      "        \"knowledgeInteractionId\": \"https://ke.interconnectproject.eu/adapter/evtd-kb/interaction/evtd-tx-data\",\n",
      "        \"knowledgeInteractionType\": \"PostKnowledgeInteraction\",\n",
      "        \"knowledgeInteractionName\": \"evtd-tx-data\",\n",
      "        \"communicativeAct\": {\n",
      "            \"requiredPurposes\": [\n",
      "                \"https://w3id.org/knowledge-engine/InformPurpose\"\n",
      "            ],\n",
      "            \"satisfiedPurposes\": [\n",
      "                \"https://w3id.org/knowledge-engine/InformPurpose\"\n",
      "            ]\n",
      "        },\n",
      "        \"argumentGraphPattern\": \"?dp <http://www.w3.org/1999/02/22-rdf-syntax-ns#type> <http://ontology.tno.nl/interconnect/datapoint#DataPoint> . ?dp <http://ontology.tno.nl/interconnect/topology#hasToplogicalAssociation> ?sid . ?sid <http://www.w3.org/1999/02/22-rdf-syntax-ns#type> <https://saref.etsi.org/saref4auto/Identifier> . ?dp <http://ontology.tno.nl/interconnect/datapoint#hasEffectivePeriod> ?st . ?st <http://www.w3.org/1999/02/22-rdf-syntax-ns#type> <http://www.w3.org/2006/time#Interval> . ?st <https://saref.etsi.org/core/hasBeginning> ?bst . ?bst <http://www.w3.org/2006/time#inXSDDateTimeStamp> ?startTime . ?dp <http://ontology.tno.nl/interconnect/datapoint#hasEffectivePeriod> ?et . ?et <http://www.w3.org/1999/02/22-rdf-syntax-ns#type> <http://www.w3.org/2006/time#Interval> . ?et <https://saref.etsi.org/core/hasBeginning> ?eet . ?eet <http://www.w3.org/2006/time#inXSDDateTimeStamp> ?endTime . ?dp <http://www.ontology-of-units-of-measure.org/resource/om-2/hasValue> ?fr . ?fr <http://www.ontology-of-units-of-measure.org/resource/om-2/hasNumericalValue> ?firstResult . ?dp <http://www.ontology-of-units-of-measure.org/resource/om-2/hasValue> ?ps . ?ps <http://www.ontology-of-units-of-measure.org/resource/om-2/hasNumericalValue> ?pageSize . \",\n",
      "        \"resultGraphPattern\": \"?resdata <https://saref.etsi.org/core/hasValue> ?rc . ?rc <http://www.w3.org/2000/01/rdf-schema#comment> ?desc . ?resdata <http://www.ontology-of-units-of-measure.org/resource/om-2/hasValue> ?tr . ?tr <http://www.ontology-of-units-of-measure.org/resource/om-2/hasNumericalValue> ?totalRows . ?resdata <http://ontology.tno.nl/interconnect/datapoint#hasDataPoint> ?lst . ?lst <http://www.w3.org/1999/02/22-rdf-syntax-ns#type> <http://ontology.tno.nl/interconnect/datapoint#DataPoint> . ?lst <http://ontology.tno.nl/interconnect/device#hasConnectionID> ?tid . ?lst <https://saref.etsi.org/saref4auto/hasIDValue> ?sid . ?sid <http://www.w3.org/1999/02/22-rdf-syntax-ns#type> <https://saref.etsi.org/saref4auto/StationID> . ?lst <http://ontology.tno.nl/interconnect/device#hasDeviceId> ?cardid . ?cardid <http://www.w3.org/1999/02/22-rdf-syntax-ns#type> <https://saref.etsi.org/core/Device> . ?lst <http://ontology.tno.nl/interconnect/datapoint#hasEffectivePeriod> ?beg . ?beg <http://www.w3.org/1999/02/22-rdf-syntax-ns#type> <http://www.w3.org/2006/time#Interval> . ?beg <https://saref.etsi.org/core/hasBeginning> ?begts . ?begts <http://www.w3.org/2006/time#inXSDDateTimeStamp> ?startUtc . ?lst <http://ontology.tno.nl/interconnect/datapoint#hasEffectivePeriod> ?end . ?end <http://www.w3.org/1999/02/22-rdf-syntax-ns#type> <http://www.w3.org/2006/time#Interval> . ?end <https://saref.etsi.org/core/hasEnd> ?endts . ?endts <http://www.w3.org/2006/time#inXSDDateTimeStamp> ?endUtc . ?lst <http://www.w3.org/2006/time#minutes> ?txTimeMin . ?lst <http://www.ontology-of-units-of-measure.org/resource/om-2/hasValue> ?ven . ?ven <http://www.ontology-of-units-of-measure.org/resource/om-2/hasNumericalValue> ?txEnergykWh . ?txEnergykWh <http://www.ontology-of-units-of-measure.org/resource/om-2/hasUnit> <http://www.ontology-of-units-of-measure.org/resource/om-2/KilowattHour> . ?lst <http://www.ontology-of-units-of-measure.org/resource/om-2/hasValue> ?veu . ?veu <http://www.ontology-of-units-of-measure.org/resource/om-2/hasNumericalValue> ?txCostEur . ?txCostEur <http://www.ontology-of-units-of-measure.org/resource/om-2/hasUnit> <http://www.ontology-of-units-of-measure.org/resource/om-2/euro> . \"\n",
      "    }\n",
      "]\n",
      "\n",
      "evtd-metering-data\n",
      "argumentGraphPattern\n",
      "?dp <http://www.w3.org/1999/02/22-rdf-syntax-ns#type> <http://ontology.tno.nl/interconnect/datapoint#DataPoint> . \n",
      "?dp <http://ontology.tno.nl/interconnect/device#hasConnectionID> ?tid . \n",
      "?dp <http://www.ontology-of-units-of-measure.org/resource/om-2/hasValue> ?fr . \n",
      "?fr <http://www.ontology-of-units-of-measure.org/resource/om-2/hasNumericalValue> ?firstResult . \n",
      "?dp <http://www.ontology-of-units-of-measure.org/resource/om-2/hasValue> ?ps . \n",
      "?ps <http://www.ontology-of-units-of-measure.org/resource/om-2/hasNumericalValue> ?pageSize . \n",
      "\n",
      "resultGraphPattern\n",
      "?resmetdata <https://saref.etsi.org/core/hasValue> ?rc . \n",
      "?rc <http://www.w3.org/2000/01/rdf-schema#comment> ?desc . \n",
      "?resmetdata <http://www.ontology-of-units-of-measure.org/resource/om-2/hasValue> ?tr . \n",
      "?tr <http://www.ontology-of-units-of-measure.org/resource/om-2/hasNumericalValue> ?totalRows . \n",
      "?resmetdata <http://ontology.tno.nl/interconnect/datapoint#hasDataPoint> ?lst . \n",
      "?lst <http://www.w3.org/1999/02/22-rdf-syntax-ns#type> <http://ontology.tno.nl/interconnect/datapoint#DataPoint> . \n",
      "?lst <http://ontology.tno.nl/interconnect/device#hasConnectionID> ?tid . \n",
      "?lst <http://ontology.tno.nl/interconnect/datapoint#hasEffectivePeriod> ?time . \n",
      "?time <http://www.w3.org/1999/02/22-rdf-syntax-ns#type> <http://www.w3.org/2006/time#Interval> . \n",
      "?time <https://saref.etsi.org/core/hasBeginning> ?begts . \n",
      "?begts <http://www.w3.org/2006/time#inXSDDateTimeStamp> ?timeUtc . \n",
      "?lst <http://www.ontology-of-units-of-measure.org/resource/om-2/hasValue> ?ven . \n",
      "?ven <http://www.ontology-of-units-of-measure.org/resource/om-2/hasNumericalValue> ?energykWh . \n",
      "?ven <http://www.ontology-of-units-of-measure.org/resource/om-2/hasUnit> <http://www.ontology-of-units-of-measure.org/resource/om-2/KilowattHour> . \n",
      "?lst <http://www.ontology-of-units-of-measure.org/resource/om-2/hasValue> ?power . \n",
      "?power <http://www.ontology-of-units-of-measure.org/resource/om-2/hasNumericalValue> ?powerkW . \n",
      "?power <http://www.ontology-of-units-of-measure.org/resource/om-2/hasUnit> <http://www.ontology-of-units-of-measure.org/resource/om-2/kilowatt> . \n",
      "\n",
      "evtd-tx-data\n",
      "argumentGraphPattern\n",
      "?dp <http://www.w3.org/1999/02/22-rdf-syntax-ns#type> <http://ontology.tno.nl/interconnect/datapoint#DataPoint> . \n",
      "?dp <http://ontology.tno.nl/interconnect/topology#hasToplogicalAssociation> ?sid . \n",
      "?sid <http://www.w3.org/1999/02/22-rdf-syntax-ns#type> <https://saref.etsi.org/saref4auto/Identifier> . \n",
      "?dp <http://ontology.tno.nl/interconnect/datapoint#hasEffectivePeriod> ?st . \n",
      "?st <http://www.w3.org/1999/02/22-rdf-syntax-ns#type> <http://www.w3.org/2006/time#Interval> . \n",
      "?st <https://saref.etsi.org/core/hasBeginning> ?bst . \n",
      "?bst <http://www.w3.org/2006/time#inXSDDateTimeStamp> ?startTime . \n",
      "?dp <http://ontology.tno.nl/interconnect/datapoint#hasEffectivePeriod> ?et . \n",
      "?et <http://www.w3.org/1999/02/22-rdf-syntax-ns#type> <http://www.w3.org/2006/time#Interval> . \n",
      "?et <https://saref.etsi.org/core/hasBeginning> ?eet . \n",
      "?eet <http://www.w3.org/2006/time#inXSDDateTimeStamp> ?endTime . \n",
      "?dp <http://www.ontology-of-units-of-measure.org/resource/om-2/hasValue> ?fr . \n",
      "?fr <http://www.ontology-of-units-of-measure.org/resource/om-2/hasNumericalValue> ?firstResult . \n",
      "?dp <http://www.ontology-of-units-of-measure.org/resource/om-2/hasValue> ?ps . \n",
      "?ps <http://www.ontology-of-units-of-measure.org/resource/om-2/hasNumericalValue> ?pageSize . \n",
      "\n",
      "resultGraphPattern\n",
      "?resdata <https://saref.etsi.org/core/hasValue> ?rc . \n",
      "?rc <http://www.w3.org/2000/01/rdf-schema#comment> ?desc . \n",
      "?resdata <http://www.ontology-of-units-of-measure.org/resource/om-2/hasValue> ?tr . \n",
      "?tr <http://www.ontology-of-units-of-measure.org/resource/om-2/hasNumericalValue> ?totalRows . \n",
      "?resdata <http://ontology.tno.nl/interconnect/datapoint#hasDataPoint> ?lst . \n",
      "?lst <http://www.w3.org/1999/02/22-rdf-syntax-ns#type> <http://ontology.tno.nl/interconnect/datapoint#DataPoint> . \n",
      "?lst <http://ontology.tno.nl/interconnect/device#hasConnectionID> ?tid . \n",
      "?lst <https://saref.etsi.org/saref4auto/hasIDValue> ?sid . \n",
      "?sid <http://www.w3.org/1999/02/22-rdf-syntax-ns#type> <https://saref.etsi.org/saref4auto/StationID> . \n",
      "?lst <http://ontology.tno.nl/interconnect/device#hasDeviceId> ?cardid . \n",
      "?cardid <http://www.w3.org/1999/02/22-rdf-syntax-ns#type> <https://saref.etsi.org/core/Device> . \n",
      "?lst <http://ontology.tno.nl/interconnect/datapoint#hasEffectivePeriod> ?beg . \n",
      "?beg <http://www.w3.org/1999/02/22-rdf-syntax-ns#type> <http://www.w3.org/2006/time#Interval> . \n",
      "?beg <https://saref.etsi.org/core/hasBeginning> ?begts . \n",
      "?begts <http://www.w3.org/2006/time#inXSDDateTimeStamp> ?startUtc . \n",
      "?lst <http://ontology.tno.nl/interconnect/datapoint#hasEffectivePeriod> ?end . \n",
      "?end <http://www.w3.org/1999/02/22-rdf-syntax-ns#type> <http://www.w3.org/2006/time#Interval> . \n",
      "?end <https://saref.etsi.org/core/hasEnd> ?endts . \n",
      "?endts <http://www.w3.org/2006/time#inXSDDateTimeStamp> ?endUtc . \n",
      "?lst <http://www.w3.org/2006/time#minutes> ?txTimeMin . \n",
      "?lst <http://www.ontology-of-units-of-measure.org/resource/om-2/hasValue> ?ven . \n",
      "?ven <http://www.ontology-of-units-of-measure.org/resource/om-2/hasNumericalValue> ?txEnergykWh . \n",
      "?txEnergykWh <http://www.ontology-of-units-of-measure.org/resource/om-2/hasUnit> <http://www.ontology-of-units-of-measure.org/resource/om-2/KilowattHour> . \n",
      "?lst <http://www.ontology-of-units-of-measure.org/resource/om-2/hasValue> ?veu . \n",
      "?veu <http://www.ontology-of-units-of-measure.org/resource/om-2/hasNumericalValue> ?txCostEur . \n",
      "?txCostEur <http://www.ontology-of-units-of-measure.org/resource/om-2/hasUnit> <http://www.ontology-of-units-of-measure.org/resource/om-2/euro> . \n",
      "\n"
     ]
    }
   ],
   "source": [
    "# Printing summary of KIs\n",
    "print_ki_summary(r.text)\n"
   ],
   "metadata": {
    "collapsed": false
   }
  },
  {
   "cell_type": "code",
   "execution_count": 8,
   "outputs": [],
   "source": [
    "# POST request /sc/ask - Execute the given Ask Knowledge Interaction with the given binding set. It is possible to target this ask to a specific Knowledge Base by including a RecipientSelector in the requestBody.\n",
    "headers3 = {\n",
    "'accept': 'application/json; charset=UTF-8',\n",
    "'Knowledge-Base-Id': 'https://ke.interconnectproject.eu/adapter/evtd-kb',\n",
    "'Knowledge-Interaction-Id': 'https://ke.interconnectproject.eu/adapter/evtd-kb/interaction/evtd-tx-data',\n",
    "}\n",
    "# data = {\n",
    "#     \"bindingSet\":\n",
    "#         '''?dp <http://www.w3.org/1999/02/22-rdf-syntax-ns#type> <http://ontology.tno.nl/interconnect/datapoint#DataPoint> .\n",
    "# ?dp <http://ontology.tno.nl/interconnect/topology#hasToplogicalAssociation> ?sid .\n",
    "# ?sid <http://www.w3.org/1999/02/22-rdf-syntax-ns#type> <https://saref.etsi.org/saref4auto/Identifier> .\n",
    "# ?dp <http://ontology.tno.nl/interconnect/datapoint#hasEffectivePeriod> ?st .\n",
    "# ?st <http://www.w3.org/1999/02/22-rdf-syntax-ns#type> <http://www.w3.org/2006/time#Interval> .\n",
    "# ?st <https://saref.etsi.org/core/hasBeginning> ?bst .\n",
    "# ?bst <http://www.w3.org/2006/time#inXSDDateTimeStamp> ?startTime .\n",
    "# ?dp <http://ontology.tno.nl/interconnect/datapoint#hasEffectivePeriod> ?et .\n",
    "# ?et <http://www.w3.org/1999/02/22-rdf-syntax-ns#type> <http://www.w3.org/2006/time#Interval> .\n",
    "# ?et <https://saref.etsi.org/core/hasBeginning> ?eet .\n",
    "# ?eet <http://www.w3.org/2006/time#inXSDDateTimeStamp> ?endTime .\n",
    "# ?dp <http://www.ontology-of-units-of-measure.org/resource/om-2/hasValue> ?fr .\n",
    "# ?fr <http://www.ontology-of-units-of-measure.org/resource/om-2/hasNumericalValue> ?firstResult .\n",
    "# ?dp <http://www.ontology-of-units-of-measure.org/resource/om-2/hasValue> ?ps .''',\n",
    "#  }\n",
    "# data = {\"bindingSet\": json.loads(r.text)[0]['argumetGraphPattern']}\n",
    "\n"
   ],
   "metadata": {
    "collapsed": false
   }
  },
  {
   "cell_type": "code",
   "execution_count": 14,
   "outputs": [],
   "source": [
    "ki1 = json.loads(r.text)[0]\n"
   ],
   "metadata": {
    "collapsed": false
   }
  },
  {
   "cell_type": "code",
   "execution_count": 15,
   "outputs": [
    {
     "data": {
      "text/plain": "'?dp <http://www.w3.org/1999/02/22-rdf-syntax-ns#type> <http://ontology.tno.nl/interconnect/datapoint#DataPoint> . ?dp <http://ontology.tno.nl/interconnect/device#hasConnectionID> ?tid . ?dp <http://www.ontology-of-units-of-measure.org/resource/om-2/hasValue> ?fr . ?fr <http://www.ontology-of-units-of-measure.org/resource/om-2/hasNumericalValue> ?firstResult . ?dp <http://www.ontology-of-units-of-measure.org/resource/om-2/hasValue> ?ps . ?ps <http://www.ontology-of-units-of-measure.org/resource/om-2/hasNumericalValue> ?pageSize . '"
     },
     "execution_count": 15,
     "metadata": {},
     "output_type": "execute_result"
    }
   ],
   "source": [
    "ki1['argumentGraphPattern']"
   ],
   "metadata": {
    "collapsed": false
   }
  },
  {
   "cell_type": "code",
   "execution_count": 22,
   "outputs": [],
   "source": [
    "from rdflib import Graph\n",
    "\n"
   ],
   "metadata": {
    "collapsed": false
   }
  },
  {
   "cell_type": "code",
   "execution_count": 17,
   "outputs": [
    {
     "data": {
      "text/plain": "{'bindingSet': '?dp <http://www.w3.org/1999/02/22-rdf-syntax-ns#type> <http://ontology.tno.nl/interconnect/datapoint#DataPoint> . ?dp <http://ontology.tno.nl/interconnect/device#hasConnectionID> ?tid . ?dp <http://www.ontology-of-units-of-measure.org/resource/om-2/hasValue> ?fr . ?fr <http://www.ontology-of-units-of-measure.org/resource/om-2/hasNumericalValue> ?firstResult . ?dp <http://www.ontology-of-units-of-measure.org/resource/om-2/hasValue> ?ps . ?ps <http://www.ontology-of-units-of-measure.org/resource/om-2/hasNumericalValue> ?pageSize . '}"
     },
     "execution_count": 17,
     "metadata": {},
     "output_type": "execute_result"
    }
   ],
   "source": [
    "data = {\n",
    "    'bindingSet': ki1['argumentGraphPattern']\n",
    "}\n",
    "data"
   ],
   "metadata": {
    "collapsed": false
   }
  },
  {
   "cell_type": "code",
   "execution_count": 18,
   "outputs": [
    {
     "data": {
      "text/plain": "<Response [415 Unsupported Media Type]>"
     },
     "execution_count": 18,
     "metadata": {},
     "output_type": "execute_result"
    }
   ],
   "source": [
    "r = httpx.post(URL + \"sc/ask\", headers=headers3, data=data)\n",
    "r"
   ],
   "metadata": {
    "collapsed": false
   }
  },
  {
   "cell_type": "code",
   "execution_count": 56,
   "outputs": [],
   "source": [],
   "metadata": {
    "collapsed": false
   }
  }
 ],
 "metadata": {
  "kernelspec": {
   "display_name": "Python 3",
   "language": "python",
   "name": "python3"
  },
  "language_info": {
   "codemirror_mode": {
    "name": "ipython",
    "version": 2
   },
   "file_extension": ".py",
   "mimetype": "text/x-python",
   "name": "python",
   "nbconvert_exporter": "python",
   "pygments_lexer": "ipython2",
   "version": "2.7.6"
  }
 },
 "nbformat": 4,
 "nbformat_minor": 0
}
