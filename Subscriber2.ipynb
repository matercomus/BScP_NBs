{
 "cells": [
  {
   "cell_type": "code",
   "execution_count": 1,
   "metadata": {
    "collapsed": true,
    "ExecuteTime": {
     "end_time": "2023-05-01T15:30:33.420609690Z",
     "start_time": "2023-05-01T15:30:33.222183185Z"
    }
   },
   "outputs": [],
   "source": [
    "import json\n",
    "\n",
    "# import the smartpynector module\n",
    "from NBs import smartpynector as sp"
   ]
  },
  {
   "cell_type": "code",
   "execution_count": 2,
   "outputs": [],
   "source": [
    "# Defining constants\n",
    "# Knowledge engine REST API URL\n",
    "KNOWLEDGE_ENGINE_URL = \"http://127.0.0.1:8280/rest\"\n",
    "SUBSCRIBER_ID = \"http://127.0.0.1:8000/subscriber\""
   ],
   "metadata": {
    "collapsed": false,
    "ExecuteTime": {
     "end_time": "2023-05-01T15:30:33.421024432Z",
     "start_time": "2023-05-01T15:30:33.366591731Z"
    }
   }
  },
  {
   "cell_type": "code",
   "execution_count": 3,
   "outputs": [],
   "source": [
    "# Defining the smart connector\n",
    "smart_connector = sp.SmartConnector(\n",
    "    knowledgeBaseId=SUBSCRIBER_ID,\n",
    "    knowledgeBaseName=\"Subscriber2\",\n",
    "    knowledgeBaseDescription=\"Subscriber2\",\n",
    "    reasonerEnabled=False,\n",
    ")"
   ],
   "metadata": {
    "collapsed": false,
    "ExecuteTime": {
     "end_time": "2023-05-01T15:30:33.421344475Z",
     "start_time": "2023-05-01T15:30:33.373171312Z"
    }
   }
  },
  {
   "cell_type": "code",
   "execution_count": 4,
   "outputs": [
    {
     "name": "stderr",
     "output_type": "stream",
     "text": [
      "2023-05-01 17:30:33 DEBUG Starting new HTTP connection (1): 127.0.0.1:8280\n",
      "2023-05-01 17:30:34 DEBUG http://127.0.0.1:8280 \"POST /rest/sc HTTP/1.1\" 200 0\n",
      "2023-05-01 17:30:34 INFO Request successful\n",
      "2023-05-01 17:30:34 DEBUG \n"
     ]
    },
    {
     "data": {
      "text/plain": "<Response [200]>"
     },
     "execution_count": 4,
     "metadata": {},
     "output_type": "execute_result"
    }
   ],
   "source": [
    "sp.create_smart_connector(smart_connector, KNOWLEDGE_ENGINE_URL)"
   ],
   "metadata": {
    "collapsed": false,
    "ExecuteTime": {
     "end_time": "2023-05-01T15:30:34.737086873Z",
     "start_time": "2023-05-01T15:30:33.379271707Z"
    }
   }
  },
  {
   "cell_type": "code",
   "execution_count": 5,
   "outputs": [
    {
     "name": "stderr",
     "output_type": "stream",
     "text": [
      "2023-05-01 17:30:34 DEBUG Starting new HTTP connection (1): 127.0.0.1:8280\n",
      "2023-05-01 17:30:34 DEBUG http://127.0.0.1:8280 \"POST /rest/sc/ki HTTP/1.1\" 200 110\n",
      "2023-05-01 17:30:34 INFO Request successful\n",
      "2023-05-01 17:30:34 DEBUG {\"knowledgeInteractionId\":\"http://127.0.0.1:8000/subscriber/interaction/c61cd94d-dc03-4153-bdd4-ecfaed7e7221\"}\n"
     ]
    },
    {
     "data": {
      "text/plain": "{'knowledgeInteractionId': 'http://127.0.0.1:8000/subscriber/interaction/c61cd94d-dc03-4153-bdd4-ecfaed7e7221',\n 'prefixes': {'rdf': 'http://www.w3.org/1999/02/22-rdf-syntax-ns#',\n  'saref': 'https://w3id.org/saref#'}}"
     },
     "execution_count": 5,
     "metadata": {},
     "output_type": "execute_result"
    }
   ],
   "source": [
    "ask_ki = sp.register_knowledge_interaction(\n",
    "    knowledge_interaction_type=\"AskKnowledgeInteraction\",\n",
    "    knowledge_engine_url=KNOWLEDGE_ENGINE_URL,\n",
    "    prefixes={\n",
    "        \"rdf\": \"http://www.w3.org/1999/02/22-rdf-syntax-ns#\",\n",
    "        \"saref\": \"https://w3id.org/saref#\",\n",
    "    },\n",
    "    graph_pattern='''?meas rdf:type saref:Measurement .\n",
    "         ?meas saref:hasValue ?temp .\n",
    "         ?meas saref:isMeasuredIn saref:TemperatureUnit .\n",
    "         ?meas saref:hasTimestamp ?timestamp .\n",
    "         ?meas saref:isMeasurementOf ?room_id .\n",
    "         ?meas saref:relatesToProperty saref:Temperature .\n",
    "         ?meas saref:measurementMadeBy ?device_id .''',\n",
    "    headers={\n",
    "        \"Content-Type\": \"application/json\",\n",
    "        \"knowledge-Base-Id\": SUBSCRIBER_ID,\n",
    "    },\n",
    ")\n",
    "ask_ki"
   ],
   "metadata": {
    "collapsed": false,
    "ExecuteTime": {
     "end_time": "2023-05-01T15:30:35.000596848Z",
     "start_time": "2023-05-01T15:30:34.709156039Z"
    }
   }
  },
  {
   "cell_type": "code",
   "execution_count": 6,
   "outputs": [
    {
     "data": {
      "text/plain": "'http://127.0.0.1:8000/subscriber/interaction/c61cd94d-dc03-4153-bdd4-ecfaed7e7221'"
     },
     "execution_count": 6,
     "metadata": {},
     "output_type": "execute_result"
    }
   ],
   "source": [
    "ask_ki_id = ask_ki[\"knowledgeInteractionId\"]\n",
    "ask_ki_id"
   ],
   "metadata": {
    "collapsed": false,
    "ExecuteTime": {
     "end_time": "2023-05-01T15:30:35.000883255Z",
     "start_time": "2023-05-01T15:30:34.983982213Z"
    }
   }
  },
  {
   "cell_type": "code",
   "execution_count": 7,
   "outputs": [
    {
     "data": {
      "text/plain": "{'rdf': 'http://www.w3.org/1999/02/22-rdf-syntax-ns#',\n 'saref': 'https://w3id.org/saref#'}"
     },
     "execution_count": 7,
     "metadata": {},
     "output_type": "execute_result"
    }
   ],
   "source": [
    "ask_ki_prefixes = ask_ki[\"prefixes\"]\n",
    "ask_ki_prefixes"
   ],
   "metadata": {
    "collapsed": false,
    "ExecuteTime": {
     "end_time": "2023-05-01T15:30:35.070935588Z",
     "start_time": "2023-05-01T15:30:34.995260658Z"
    }
   }
  },
  {
   "cell_type": "code",
   "execution_count": 8,
   "outputs": [
    {
     "name": "stderr",
     "output_type": "stream",
     "text": [
      "2023-05-01 17:30:35 DEBUG Starting new HTTP connection (1): 127.0.0.1:8280\n",
      "2023-05-01 17:30:35 DEBUG http://127.0.0.1:8280 \"POST /rest/sc/ask HTTP/1.1\" 200 829\n",
      "2023-05-01 17:30:35 INFO Request successful\n",
      "2023-05-01 17:30:35 DEBUG {\"bindingSet\":[{\"room_id\":\"\\\"http://127.0.0.1:8000/thermostat/rooms/1\\\"\",\"temp\":\"23.5\",\"device_id\":\"\\\"http://127.0.0.1:8000/thermostat/devices/1\\\"\",\"meas\":\"<http://127.0.0.1:8000/thermostat/measurements/1>\",\"timestamp\":\"\\\"2023-05-01T17:30:31+02:00\\\"\"}],\"exchangeInfo\":[{\"initiator\":\"knowledgeBase\",\"knowledgeBaseId\":\"http://127.0.0.1:8000/thermostat\",\"knowledgeInteractionId\":\"http://127.0.0.1:8000/thermostat/interaction/52669df0-af2b-43a9-b843-96894b99c0fb\",\"exchangeStart\":\"2023-05-01T15:30:35.382+00:00\",\"exchangeEnd\":\"2023-05-01T15:30:35.580+00:00\",\"status\":\"SUCCEEDED\",\"bindingSet\":[{\"room_id\":\"\\\"http://127.0.0.1:8000/thermostat/rooms/1\\\"\",\"temp\":\"23.5\",\"device_id\":\"\\\"http://127.0.0.1:8000/thermostat/devices/1\\\"\",\"meas\":\"<http://127.0.0.1:8000/thermostat/measurements/1>\",\"timestamp\":\"\\\"2023-05-01T17:30:31+02:00\\\"\"}]}]}\n"
     ]
    }
   ],
   "source": [
    "binding_set = sp.perform_ask_knowledge_interaction(\n",
    "    knowledge_engine_url=KNOWLEDGE_ENGINE_URL,\n",
    "    knowledge_base_id=SUBSCRIBER_ID,\n",
    "    knowledge_interaction_id=ask_ki_id,\n",
    "    ask_data=[]\n",
    ").json()[\"bindingSet\"]"
   ],
   "metadata": {
    "collapsed": false,
    "ExecuteTime": {
     "end_time": "2023-05-01T15:30:35.645482912Z",
     "start_time": "2023-05-01T15:30:35.017176528Z"
    }
   }
  },
  {
   "cell_type": "code",
   "execution_count": 67,
   "outputs": [
    {
     "data": {
      "text/plain": "[{'room_id': '\"http://127.0.0.1:8000/thermostat/rooms/1\"',\n  'temp': '23.5',\n  'device_id': '\"http://127.0.0.1:8000/thermostat/devices/1\"',\n  'meas': '<http://127.0.0.1:8000/thermostat/measurements/1>',\n  'timestamp': '\"2023-05-01T17:30:31+02:00\"'}]"
     },
     "execution_count": 67,
     "metadata": {},
     "output_type": "execute_result"
    }
   ],
   "source": [
    "binding_set"
   ],
   "metadata": {
    "collapsed": false,
    "ExecuteTime": {
     "end_time": "2023-05-01T16:08:29.610916188Z",
     "start_time": "2023-05-01T16:08:29.542098235Z"
    }
   }
  },
  {
   "cell_type": "code",
   "execution_count": 68,
   "outputs": [],
   "source": [
    "def replace_values_in_graph_pattern(graph_pattern, binding_set):\n",
    "    for binding in binding_set:\n",
    "        for key, value in binding.items():\n",
    "            graph_pattern = graph_pattern.replace('?' + key, value)\n",
    "    # Remove < and > characters from graph_pattern\n",
    "    graph_pattern = graph_pattern.replace('<', '').replace('>', '')\n",
    "    graph_pattern = graph_pattern.splitlines()\n",
    "    graph_pattern = [line.strip() for line in graph_pattern if line.strip()]\n",
    "    return graph_pattern"
   ],
   "metadata": {
    "collapsed": false,
    "ExecuteTime": {
     "end_time": "2023-05-01T16:08:31.235129577Z",
     "start_time": "2023-05-01T16:08:31.187971383Z"
    }
   }
  },
  {
   "cell_type": "code",
   "execution_count": 69,
   "outputs": [
    {
     "data": {
      "text/plain": "['http://127.0.0.1:8000/thermostat/measurements/1 rdf:type saref:Measurement .',\n 'http://127.0.0.1:8000/thermostat/measurements/1 saref:hasValue 23.5 .',\n 'http://127.0.0.1:8000/thermostat/measurements/1 saref:isMeasuredIn saref:TemperatureUnit .',\n 'http://127.0.0.1:8000/thermostat/measurements/1 saref:hasTimestamp \"2023-05-01T17:30:31+02:00\" .',\n 'http://127.0.0.1:8000/thermostat/measurements/1 saref:isMeasurementOf \"http://127.0.0.1:8000/thermostat/rooms/1\" .',\n 'http://127.0.0.1:8000/thermostat/measurements/1 saref:relatesToProperty saref:Temperature .',\n 'http://127.0.0.1:8000/thermostat/measurements/1 saref:measurementMadeBy \"http://127.0.0.1:8000/thermostat/devices/1\" .']"
     },
     "execution_count": 69,
     "metadata": {},
     "output_type": "execute_result"
    }
   ],
   "source": [
    "data=replace_values_in_graph_pattern(\n",
    "    graph_pattern='''?meas rdf:type saref:Measurement .\n",
    "         ?meas saref:hasValue ?temp .\n",
    "         ?meas saref:isMeasuredIn saref:TemperatureUnit .\n",
    "         ?meas saref:hasTimestamp ?timestamp .\n",
    "         ?meas saref:isMeasurementOf ?room_id .\n",
    "         ?meas saref:relatesToProperty saref:Temperature .\n",
    "         ?meas saref:measurementMadeBy ?device_id .''',\n",
    "    binding_set=binding_set)\n",
    "data\n"
   ],
   "metadata": {
    "collapsed": false,
    "ExecuteTime": {
     "end_time": "2023-05-01T16:08:32.164373415Z",
     "start_time": "2023-05-01T16:08:32.144733431Z"
    }
   }
  },
  {
   "cell_type": "code",
   "execution_count": 70,
   "outputs": [],
   "source": [
    "def replace_prefixes_with_uris(graph_pattern, prefixes):\n",
    "    result = []\n",
    "    for line in graph_pattern:\n",
    "        for prefix, uri in prefixes.items():\n",
    "            line = line.replace(prefix + ':',uri).replace('\"','')\n",
    "        result.append(line)\n",
    "    return result"
   ],
   "metadata": {
    "collapsed": false,
    "ExecuteTime": {
     "end_time": "2023-05-01T16:08:33.083381115Z",
     "start_time": "2023-05-01T16:08:33.054120560Z"
    }
   }
  },
  {
   "cell_type": "code",
   "execution_count": 71,
   "outputs": [
    {
     "data": {
      "text/plain": "['http://127.0.0.1:8000/thermostat/measurements/1 http://www.w3.org/1999/02/22-rdf-syntax-ns#type https://w3id.org/saref#Measurement .',\n 'http://127.0.0.1:8000/thermostat/measurements/1 https://w3id.org/saref#hasValue 23.5 .',\n 'http://127.0.0.1:8000/thermostat/measurements/1 https://w3id.org/saref#isMeasuredIn https://w3id.org/saref#TemperatureUnit .',\n 'http://127.0.0.1:8000/thermostat/measurements/1 https://w3id.org/saref#hasTimestamp 2023-05-01T17:30:31+02:00 .',\n 'http://127.0.0.1:8000/thermostat/measurements/1 https://w3id.org/saref#isMeasurementOf http://127.0.0.1:8000/thermostat/rooms/1 .',\n 'http://127.0.0.1:8000/thermostat/measurements/1 https://w3id.org/saref#relatesToProperty https://w3id.org/saref#Temperature .',\n 'http://127.0.0.1:8000/thermostat/measurements/1 https://w3id.org/saref#measurementMadeBy http://127.0.0.1:8000/thermostat/devices/1 .']"
     },
     "execution_count": 71,
     "metadata": {},
     "output_type": "execute_result"
    }
   ],
   "source": [
    "data=replace_prefixes_with_uris(\n",
    "    graph_pattern=data,\n",
    "    prefixes=ask_ki_prefixes)\n",
    "data"
   ],
   "metadata": {
    "collapsed": false,
    "ExecuteTime": {
     "end_time": "2023-05-01T16:08:33.777404898Z",
     "start_time": "2023-05-01T16:08:33.733877763Z"
    }
   }
  },
  {
   "cell_type": "code",
   "execution_count": 73,
   "outputs": [
    {
     "name": "stdout",
     "output_type": "stream",
     "text": [
      "<http://127.0.0.1:8000/thermostat/measurements/1> <http://www.w3.org/1999/02/22-rdf-syntax-ns#type> <https://w3id.org/saref#Measurement> .\n",
      "<http://127.0.0.1:8000/thermostat/measurements/1> <https://w3id.org/saref#hasValue> \"23.5\" .\n",
      "<http://127.0.0.1:8000/thermostat/measurements/1> <https://w3id.org/saref#isMeasuredIn> <https://w3id.org/saref#TemperatureUnit> .\n",
      "<http://127.0.0.1:8000/thermostat/measurements/1> <https://w3id.org/saref#hasTimestamp> \"2023-05-01T17:30:31+02:00\" .\n",
      "<http://127.0.0.1:8000/thermostat/measurements/1> <https://w3id.org/saref#isMeasurementOf> <http://127.0.0.1:8000/thermostat/rooms/1> .\n",
      "<http://127.0.0.1:8000/thermostat/measurements/1> <https://w3id.org/saref#relatesToProperty> <https://w3id.org/saref#Temperature> .\n",
      "<http://127.0.0.1:8000/thermostat/measurements/1> <https://w3id.org/saref#measurementMadeBy> <http://127.0.0.1:8000/thermostat/devices/1> .\n",
      "@prefix ns1: <https://w3id.org/saref#> .\n",
      "\n",
      "<http://127.0.0.1:8000/thermostat/measurements/1> a ns1:Measurement ;\n",
      "    ns1:hasTimestamp \"2023-05-01T17:30:31+02:00\" ;\n",
      "    ns1:hasValue \"23.5\" ;\n",
      "    ns1:isMeasuredIn ns1:TemperatureUnit ;\n",
      "    ns1:isMeasurementOf <http://127.0.0.1:8000/thermostat/rooms/1> ;\n",
      "    ns1:measurementMadeBy <http://127.0.0.1:8000/thermostat/devices/1> ;\n",
      "    ns1:relatesToProperty ns1:Temperature .\n",
      "\n",
      "\n"
     ]
    }
   ],
   "source": [
    "from rdflib import Graph, URIRef\n",
    "from rdflib.plugins.stores import sparqlstore\n",
    "\n",
    "def save_graph_to_graphdb(graph, readURL, writeURL):\n",
    "    mystore = sparqlstore.SPARQLUpdateStore()\n",
    "    mystore.open((readURL, writeURL))\n",
    "    mystore.add_graph(graph)\n",
    "\n",
    "def convert_to_turtle_rdf(data):\n",
    "    result = []\n",
    "    for line in data:\n",
    "        subject, predicate, obj = line.split()[:3]\n",
    "        if obj.startswith('http'):\n",
    "            obj = f'<{obj}>'\n",
    "        else:\n",
    "            obj = f'\"{obj}\"'\n",
    "        result.append(f'<{subject}> <{predicate}> {obj} .')\n",
    "    return '\\n'.join(result)\n",
    "\n",
    "def store_data_in_graphdb(data, readURL, writeURL):\n",
    "    turtle_rdf = convert_to_turtle_rdf(data)\n",
    "    print(turtle_rdf)\n",
    "    g = Graph(identifier=URIRef(\"http://example.org/mygraph\"))\n",
    "    g.parse(data=turtle_rdf, format=\"turtle\")\n",
    "    g.print()\n",
    "    save_graph_to_graphdb(g, readURL, writeURL)\n",
    "\n",
    "readURL = \"https://graphdb.odissei.nl/repositories/MateuszTest\"\n",
    "writeURL = \"https://graphdb.odissei.nl/repositories/MateuszTest/statements\"\n",
    "\n",
    "store_data_in_graphdb(data, readURL, writeURL)"
   ],
   "metadata": {
    "collapsed": false,
    "ExecuteTime": {
     "end_time": "2023-05-01T16:15:25.507455181Z",
     "start_time": "2023-05-01T16:15:25.272225746Z"
    }
   }
  },
  {
   "cell_type": "code",
   "execution_count": null,
   "outputs": [],
   "source": [],
   "metadata": {
    "collapsed": false
   }
  }
 ],
 "metadata": {
  "kernelspec": {
   "display_name": "Python 3",
   "language": "python",
   "name": "python3"
  },
  "language_info": {
   "codemirror_mode": {
    "name": "ipython",
    "version": 2
   },
   "file_extension": ".py",
   "mimetype": "text/x-python",
   "name": "python",
   "nbconvert_exporter": "python",
   "pygments_lexer": "ipython2",
   "version": "2.7.6"
  }
 },
 "nbformat": 4,
 "nbformat_minor": 0
}
