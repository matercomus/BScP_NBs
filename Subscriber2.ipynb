{
 "cells": [
  {
   "cell_type": "code",
   "execution_count": 1,
   "metadata": {
    "collapsed": true,
    "ExecuteTime": {
     "end_time": "2023-05-03T18:47:51.517234429Z",
     "start_time": "2023-05-03T18:47:51.102768822Z"
    }
   },
   "outputs": [],
   "source": [
    "import json\n",
    "\n",
    "# import the smartpynector module\n",
    "from NBs import smartpynector as sp"
   ]
  },
  {
   "cell_type": "code",
   "execution_count": 2,
   "outputs": [],
   "source": [
    "# Defining constants\n",
    "# Knowledge engine REST API URL\n",
    "KNOWLEDGE_ENGINE_URL = \"http://127.0.0.1:8280/rest\"\n",
    "SUBSCRIBER_ID = \"http://127.0.0.1:8000/subscriber\""
   ],
   "metadata": {
    "collapsed": false,
    "ExecuteTime": {
     "end_time": "2023-05-03T18:47:51.517941642Z",
     "start_time": "2023-05-03T18:47:51.408116099Z"
    }
   }
  },
  {
   "cell_type": "code",
   "execution_count": 3,
   "outputs": [],
   "source": [
    "# Defining the smart connector\n",
    "smart_connector = sp.SmartConnector(\n",
    "    knowledgeBaseId=SUBSCRIBER_ID,\n",
    "    knowledgeBaseName=\"Subscriber2\",\n",
    "    knowledgeBaseDescription=\"Subscriber2\",\n",
    "    reasonerEnabled=False,\n",
    ")"
   ],
   "metadata": {
    "collapsed": false,
    "ExecuteTime": {
     "end_time": "2023-05-03T18:47:51.518520471Z",
     "start_time": "2023-05-03T18:47:51.433551524Z"
    }
   }
  },
  {
   "cell_type": "code",
   "execution_count": 4,
   "outputs": [
    {
     "name": "stderr",
     "output_type": "stream",
     "text": [
      "2023-05-03 20:47:51 DEBUG Starting new HTTP connection (1): 127.0.0.1:8280\n",
      "2023-05-03 20:47:53 DEBUG http://127.0.0.1:8280 \"POST /rest/sc HTTP/1.1\" 200 0\n",
      "2023-05-03 20:47:53 INFO Request successful\n",
      "2023-05-03 20:47:53 DEBUG \n"
     ]
    },
    {
     "data": {
      "text/plain": "<Response [200]>"
     },
     "execution_count": 4,
     "metadata": {},
     "output_type": "execute_result"
    }
   ],
   "source": [
    "sp.create_smart_connector(smart_connector, KNOWLEDGE_ENGINE_URL)"
   ],
   "metadata": {
    "collapsed": false,
    "ExecuteTime": {
     "end_time": "2023-05-03T18:47:53.471601379Z",
     "start_time": "2023-05-03T18:47:51.442454590Z"
    }
   }
  },
  {
   "cell_type": "code",
   "execution_count": 5,
   "outputs": [],
   "source": [
    "PREFIXES={\n",
    "        \"rdf\": \"http://www.w3.org/1999/02/22-rdf-syntax-ns#\",\n",
    "        \"saref\": \"https://w3id.org/saref#\",\n",
    "    }\n",
    "GRAPH_PATTERN= '''?meas rdf:type saref:Measurement .\n",
    "         ?meas saref:hasValue ?temp .\n",
    "         ?meas saref:isMeasuredIn saref:TemperatureUnit .\n",
    "         ?meas saref:hasTimestamp ?timestamp .\n",
    "         ?meas saref:isMeasurementOf ?room_id .\n",
    "         ?meas saref:relatesToProperty saref:Temperature .\n",
    "         ?meas saref:measurementMadeBy ?device_id .'''"
   ],
   "metadata": {
    "collapsed": false,
    "ExecuteTime": {
     "end_time": "2023-05-03T18:47:53.472156624Z",
     "start_time": "2023-05-03T18:47:53.402702008Z"
    }
   }
  },
  {
   "cell_type": "code",
   "execution_count": 6,
   "outputs": [
    {
     "name": "stderr",
     "output_type": "stream",
     "text": [
      "2023-05-03 20:47:53 DEBUG Starting new HTTP connection (1): 127.0.0.1:8280\n",
      "2023-05-03 20:47:53 DEBUG http://127.0.0.1:8280 \"POST /rest/sc/ki HTTP/1.1\" 200 110\n",
      "2023-05-03 20:47:53 INFO Request successful\n",
      "2023-05-03 20:47:53 DEBUG {\"knowledgeInteractionId\":\"http://127.0.0.1:8000/subscriber/interaction/a9113c3c-382c-4c22-8593-099f7a677741\"}\n"
     ]
    },
    {
     "data": {
      "text/plain": "'http://127.0.0.1:8000/subscriber/interaction/a9113c3c-382c-4c22-8593-099f7a677741'"
     },
     "execution_count": 6,
     "metadata": {},
     "output_type": "execute_result"
    }
   ],
   "source": [
    "ask_ki_id = sp.register_knowledge_interaction(\n",
    "    knowledge_interaction_type=\"AskKnowledgeInteraction\",\n",
    "    knowledge_engine_url=KNOWLEDGE_ENGINE_URL,\n",
    "    prefixes=PREFIXES,\n",
    "    graph_pattern=GRAPH_PATTERN,\n",
    "    headers={\n",
    "        \"Content-Type\": \"application/json\",\n",
    "        \"knowledge-Base-Id\": SUBSCRIBER_ID,\n",
    "    },\n",
    ").json()[\"knowledgeInteractionId\"]\n",
    "ask_ki_id"
   ],
   "metadata": {
    "collapsed": false,
    "ExecuteTime": {
     "end_time": "2023-05-03T18:47:53.956872343Z",
     "start_time": "2023-05-03T18:47:53.419181070Z"
    }
   }
  },
  {
   "cell_type": "code",
   "execution_count": 7,
   "outputs": [
    {
     "name": "stderr",
     "output_type": "stream",
     "text": [
      "2023-05-03 20:47:53 DEBUG Starting new HTTP connection (1): 127.0.0.1:8280\n",
      "2023-05-03 20:47:54 DEBUG http://127.0.0.1:8280 \"POST /rest/sc/ask HTTP/1.1\" 200 895\n",
      "2023-05-03 20:47:54 INFO Request successful\n",
      "2023-05-03 20:47:54 DEBUG {\"bindingSet\":[{\"room_id\":\"\\\"http://127.0.0.1:8000/thermostat/rooms/1\\\"\",\"temp\":\"20\",\"device_id\":\"\\\"http://127.0.0.1:8000/thermostat/devices/1\\\"\",\"meas\":\"<http://127.0.0.1:8000/thermostat/measurements/3ce1a6ce-b910-4701-86f0-a72f91fe020e>\",\"timestamp\":\"\\\"2023-05-03T20:47:53+02:00\\\"\"}],\"exchangeInfo\":[{\"initiator\":\"knowledgeBase\",\"knowledgeBaseId\":\"http://127.0.0.1:8000/thermostat\",\"knowledgeInteractionId\":\"http://127.0.0.1:8000/thermostat/interaction/2f04a809-756f-452f-8233-3f2068cd713d\",\"exchangeStart\":\"2023-05-03T18:47:54.288+00:00\",\"exchangeEnd\":\"2023-05-03T18:47:54.458+00:00\",\"status\":\"SUCCEEDED\",\"bindingSet\":[{\"room_id\":\"\\\"http://127.0.0.1:8000/thermostat/rooms/1\\\"\",\"temp\":\"20\",\"device_id\":\"\\\"http://127.0.0.1:8000/thermostat/devices/1\\\"\",\"meas\":\"<http://127.0.0.1:8000/thermostat/measurements/3ce1a6ce-b910-4701-86f0-a72f91fe020e>\",\"timestamp\":\"\\\"2023-05-03T20:47:53+02:00\\\"\"}]}]}\n"
     ]
    }
   ],
   "source": [
    "binding_set = sp.perform_ask_knowledge_interaction(\n",
    "    knowledge_engine_url=KNOWLEDGE_ENGINE_URL,\n",
    "    knowledge_base_id=SUBSCRIBER_ID,\n",
    "    knowledge_interaction_id=ask_ki_id,\n",
    "    ask_data=[]\n",
    ").json()[\"bindingSet\"]"
   ],
   "metadata": {
    "collapsed": false,
    "ExecuteTime": {
     "end_time": "2023-05-03T18:47:54.700814235Z",
     "start_time": "2023-05-03T18:47:53.923136435Z"
    }
   }
  },
  {
   "cell_type": "code",
   "execution_count": 8,
   "outputs": [
    {
     "name": "stdout",
     "output_type": "stream",
     "text": [
      "Ignoring 500 server error\n"
     ]
    }
   ],
   "source": [
    "READ_URL = \"https://graphdb.odissei.nl/repositories/MateuszTest\"\n",
    "WRITE_URL = \"https://graphdb.odissei.nl/repositories/MateuszTest/statements\"\n",
    "\n",
    "sp.store_data_in_graphdb(\n",
    "    graph_pattern=GRAPH_PATTERN,\n",
    "    binding_set=binding_set,\n",
    "    prefixes=PREFIXES,\n",
    "    read_url=READ_URL,\n",
    "    write_url=WRITE_URL,\n",
    ")"
   ],
   "metadata": {
    "collapsed": false,
    "ExecuteTime": {
     "end_time": "2023-05-03T18:47:55.623530431Z",
     "start_time": "2023-05-03T18:47:54.564976586Z"
    }
   }
  },
  {
   "cell_type": "code",
   "execution_count": 8,
   "outputs": [],
   "source": [],
   "metadata": {
    "collapsed": false,
    "ExecuteTime": {
     "end_time": "2023-05-03T18:47:55.631883043Z",
     "start_time": "2023-05-03T18:47:55.627243626Z"
    }
   }
  },
  {
   "cell_type": "code",
   "execution_count": 8,
   "outputs": [],
   "source": [],
   "metadata": {
    "collapsed": false,
    "ExecuteTime": {
     "end_time": "2023-05-03T18:47:55.683497475Z",
     "start_time": "2023-05-03T18:47:55.635544031Z"
    }
   }
  }
 ],
 "metadata": {
  "kernelspec": {
   "display_name": "Python 3",
   "language": "python",
   "name": "python3"
  },
  "language_info": {
   "codemirror_mode": {
    "name": "ipython",
    "version": 2
   },
   "file_extension": ".py",
   "mimetype": "text/x-python",
   "name": "python",
   "nbconvert_exporter": "python",
   "pygments_lexer": "ipython2",
   "version": "2.7.6"
  }
 },
 "nbformat": 4,
 "nbformat_minor": 0
}
