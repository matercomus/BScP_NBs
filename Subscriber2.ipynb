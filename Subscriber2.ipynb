{
 "cells": [
  {
   "cell_type": "code",
   "execution_count": 1,
   "metadata": {
    "collapsed": true,
    "ExecuteTime": {
     "end_time": "2023-05-02T13:32:13.530653282Z",
     "start_time": "2023-05-02T13:32:12.877802149Z"
    }
   },
   "outputs": [],
   "source": [
    "import json\n",
    "\n",
    "# import the smartpynector module\n",
    "from NBs import smartpynector as sp"
   ]
  },
  {
   "cell_type": "code",
   "execution_count": 2,
   "outputs": [],
   "source": [
    "# Defining constants\n",
    "# Knowledge engine REST API URL\n",
    "KNOWLEDGE_ENGINE_URL = \"http://127.0.0.1:8280/rest\"\n",
    "SUBSCRIBER_ID = \"http://127.0.0.1:8000/subscriber\""
   ],
   "metadata": {
    "collapsed": false,
    "ExecuteTime": {
     "end_time": "2023-05-02T13:32:13.545684358Z",
     "start_time": "2023-05-02T13:32:13.188364798Z"
    }
   }
  },
  {
   "cell_type": "code",
   "execution_count": 3,
   "outputs": [],
   "source": [
    "# Defining the smart connector\n",
    "smart_connector = sp.SmartConnector(\n",
    "    knowledgeBaseId=SUBSCRIBER_ID,\n",
    "    knowledgeBaseName=\"Subscriber2\",\n",
    "    knowledgeBaseDescription=\"Subscriber2\",\n",
    "    reasonerEnabled=False,\n",
    ")"
   ],
   "metadata": {
    "collapsed": false,
    "ExecuteTime": {
     "end_time": "2023-05-02T13:32:13.577293921Z",
     "start_time": "2023-05-02T13:32:13.244423631Z"
    }
   }
  },
  {
   "cell_type": "code",
   "execution_count": 4,
   "outputs": [
    {
     "name": "stderr",
     "output_type": "stream",
     "text": [
      "2023-05-02 15:32:13 DEBUG Starting new HTTP connection (1): 127.0.0.1:8280\n",
      "2023-05-02 15:32:14 DEBUG http://127.0.0.1:8280 \"POST /rest/sc HTTP/1.1\" 200 0\n",
      "2023-05-02 15:32:14 INFO Request successful\n",
      "2023-05-02 15:32:14 DEBUG \n"
     ]
    },
    {
     "data": {
      "text/plain": "<Response [200]>"
     },
     "execution_count": 4,
     "metadata": {},
     "output_type": "execute_result"
    }
   ],
   "source": [
    "sp.create_smart_connector(smart_connector, KNOWLEDGE_ENGINE_URL)"
   ],
   "metadata": {
    "collapsed": false,
    "ExecuteTime": {
     "end_time": "2023-05-02T13:32:14.800214669Z",
     "start_time": "2023-05-02T13:32:13.531017934Z"
    }
   }
  },
  {
   "cell_type": "code",
   "execution_count": 5,
   "outputs": [],
   "source": [
    "graph_pattern='''?meas rdf:type saref:Measurement .\n",
    "         ?meas saref:hasValue ?temp .\n",
    "         ?meas saref:isMeasuredIn saref:TemperatureUnit .\n",
    "         ?meas saref:hasTimestamp ?timestamp .\n",
    "         ?meas saref:isMeasurementOf ?room_id .\n",
    "         ?meas saref:relatesToProperty saref:Temperature .\n",
    "         ?meas saref:measurementMadeBy ?device_id .'''"
   ],
   "metadata": {
    "collapsed": false,
    "ExecuteTime": {
     "end_time": "2023-05-02T13:32:14.847803938Z",
     "start_time": "2023-05-02T13:32:14.781403870Z"
    }
   }
  },
  {
   "cell_type": "code",
   "execution_count": 6,
   "outputs": [
    {
     "name": "stderr",
     "output_type": "stream",
     "text": [
      "2023-05-02 15:32:14 DEBUG Starting new HTTP connection (1): 127.0.0.1:8280\n",
      "2023-05-02 15:32:15 DEBUG http://127.0.0.1:8280 \"POST /rest/sc/ki HTTP/1.1\" 200 110\n",
      "2023-05-02 15:32:15 INFO Request successful\n",
      "2023-05-02 15:32:15 DEBUG {\"knowledgeInteractionId\":\"http://127.0.0.1:8000/subscriber/interaction/54939002-1353-4ac0-82ba-f0f4cb51eff9\"}\n"
     ]
    },
    {
     "data": {
      "text/plain": "{'knowledgeInteractionId': 'http://127.0.0.1:8000/subscriber/interaction/54939002-1353-4ac0-82ba-f0f4cb51eff9',\n 'prefixes': {'rdf': 'http://www.w3.org/1999/02/22-rdf-syntax-ns#',\n  'saref': 'https://w3id.org/saref#'}}"
     },
     "execution_count": 6,
     "metadata": {},
     "output_type": "execute_result"
    }
   ],
   "source": [
    "ask_ki = sp.register_knowledge_interaction(\n",
    "    knowledge_interaction_type=\"AskKnowledgeInteraction\",\n",
    "    knowledge_engine_url=KNOWLEDGE_ENGINE_URL,\n",
    "    prefixes={\n",
    "        \"rdf\": \"http://www.w3.org/1999/02/22-rdf-syntax-ns#\",\n",
    "        \"saref\": \"https://w3id.org/saref#\",\n",
    "    },\n",
    "    graph_pattern=graph_pattern,\n",
    "    headers={\n",
    "        \"Content-Type\": \"application/json\",\n",
    "        \"knowledge-Base-Id\": SUBSCRIBER_ID,\n",
    "    },\n",
    ")\n",
    "ask_ki"
   ],
   "metadata": {
    "collapsed": false,
    "ExecuteTime": {
     "end_time": "2023-05-02T13:32:15.242690041Z",
     "start_time": "2023-05-02T13:32:14.792809878Z"
    }
   }
  },
  {
   "cell_type": "code",
   "execution_count": 7,
   "outputs": [
    {
     "data": {
      "text/plain": "'http://127.0.0.1:8000/subscriber/interaction/54939002-1353-4ac0-82ba-f0f4cb51eff9'"
     },
     "execution_count": 7,
     "metadata": {},
     "output_type": "execute_result"
    }
   ],
   "source": [
    "ask_ki_id = ask_ki[\"knowledgeInteractionId\"]\n",
    "ask_ki_id"
   ],
   "metadata": {
    "collapsed": false,
    "ExecuteTime": {
     "end_time": "2023-05-02T13:32:15.244472055Z",
     "start_time": "2023-05-02T13:32:15.215414639Z"
    }
   }
  },
  {
   "cell_type": "code",
   "execution_count": 8,
   "outputs": [
    {
     "data": {
      "text/plain": "{'rdf': 'http://www.w3.org/1999/02/22-rdf-syntax-ns#',\n 'saref': 'https://w3id.org/saref#'}"
     },
     "execution_count": 8,
     "metadata": {},
     "output_type": "execute_result"
    }
   ],
   "source": [
    "ask_ki_prefixes = ask_ki[\"prefixes\"]\n",
    "ask_ki_prefixes"
   ],
   "metadata": {
    "collapsed": false,
    "ExecuteTime": {
     "end_time": "2023-05-02T13:32:15.288358116Z",
     "start_time": "2023-05-02T13:32:15.226599938Z"
    }
   }
  },
  {
   "cell_type": "code",
   "execution_count": 9,
   "outputs": [
    {
     "name": "stderr",
     "output_type": "stream",
     "text": [
      "2023-05-02 15:32:15 DEBUG Starting new HTTP connection (1): 127.0.0.1:8280\n",
      "2023-05-02 15:32:15 DEBUG http://127.0.0.1:8280 \"POST /rest/sc/ask HTTP/1.1\" 200 829\n",
      "2023-05-02 15:32:15 INFO Request successful\n",
      "2023-05-02 15:32:15 DEBUG {\"bindingSet\":[{\"room_id\":\"\\\"http://127.0.0.1:8000/thermostat/rooms/1\\\"\",\"temp\":\"23.5\",\"device_id\":\"\\\"http://127.0.0.1:8000/thermostat/devices/1\\\"\",\"meas\":\"<http://127.0.0.1:8000/thermostat/measurements/1>\",\"timestamp\":\"\\\"2023-05-02T15:32:12+02:00\\\"\"}],\"exchangeInfo\":[{\"initiator\":\"knowledgeBase\",\"knowledgeBaseId\":\"http://127.0.0.1:8000/thermostat\",\"knowledgeInteractionId\":\"http://127.0.0.1:8000/thermostat/interaction/16e3f0a5-2d11-4339-8b34-a22b1bdcdf90\",\"exchangeStart\":\"2023-05-02T13:32:15.642+00:00\",\"exchangeEnd\":\"2023-05-02T13:32:15.784+00:00\",\"status\":\"SUCCEEDED\",\"bindingSet\":[{\"room_id\":\"\\\"http://127.0.0.1:8000/thermostat/rooms/1\\\"\",\"temp\":\"23.5\",\"device_id\":\"\\\"http://127.0.0.1:8000/thermostat/devices/1\\\"\",\"meas\":\"<http://127.0.0.1:8000/thermostat/measurements/1>\",\"timestamp\":\"\\\"2023-05-02T15:32:12+02:00\\\"\"}]}]}\n"
     ]
    }
   ],
   "source": [
    "binding_set = sp.perform_ask_knowledge_interaction(\n",
    "    knowledge_engine_url=KNOWLEDGE_ENGINE_URL,\n",
    "    knowledge_base_id=SUBSCRIBER_ID,\n",
    "    knowledge_interaction_id=ask_ki_id,\n",
    "    ask_data=[]\n",
    ").json()[\"bindingSet\"]"
   ],
   "metadata": {
    "collapsed": false,
    "ExecuteTime": {
     "end_time": "2023-05-02T13:32:16.065957090Z",
     "start_time": "2023-05-02T13:32:15.237002312Z"
    }
   }
  },
  {
   "cell_type": "code",
   "execution_count": 10,
   "outputs": [
    {
     "data": {
      "text/plain": "[{'room_id': '\"http://127.0.0.1:8000/thermostat/rooms/1\"',\n  'temp': '23.5',\n  'device_id': '\"http://127.0.0.1:8000/thermostat/devices/1\"',\n  'meas': '<http://127.0.0.1:8000/thermostat/measurements/1>',\n  'timestamp': '\"2023-05-02T15:32:12+02:00\"'}]"
     },
     "execution_count": 10,
     "metadata": {},
     "output_type": "execute_result"
    }
   ],
   "source": [
    "binding_set"
   ],
   "metadata": {
    "collapsed": false,
    "ExecuteTime": {
     "end_time": "2023-05-02T13:32:16.067020063Z",
     "start_time": "2023-05-02T13:32:15.917658074Z"
    }
   }
  },
  {
   "cell_type": "code",
   "execution_count": 11,
   "outputs": [
    {
     "name": "stdout",
     "output_type": "stream",
     "text": [
      "<http://127.0.0.1:8000/thermostat/measurements/1> <http://www.w3.org/1999/02/22-rdf-syntax-ns#type> <https://w3id.org/saref#Measurement> .\n",
      "<http://127.0.0.1:8000/thermostat/measurements/1> <https://w3id.org/saref#hasValue> \"23.5\" .\n",
      "<http://127.0.0.1:8000/thermostat/measurements/1> <https://w3id.org/saref#isMeasuredIn> <https://w3id.org/saref#TemperatureUnit> .\n",
      "<http://127.0.0.1:8000/thermostat/measurements/1> <https://w3id.org/saref#hasTimestamp> \"2023-05-02T15:32:12+02:00\" .\n",
      "<http://127.0.0.1:8000/thermostat/measurements/1> <https://w3id.org/saref#isMeasurementOf> <http://127.0.0.1:8000/thermostat/rooms/1> .\n",
      "<http://127.0.0.1:8000/thermostat/measurements/1> <https://w3id.org/saref#relatesToProperty> <https://w3id.org/saref#Temperature> .\n",
      "<http://127.0.0.1:8000/thermostat/measurements/1> <https://w3id.org/saref#measurementMadeBy> <http://127.0.0.1:8000/thermostat/devices/1> .\n",
      "@prefix ns1: <https://w3id.org/saref#> .\n",
      "\n",
      "<http://127.0.0.1:8000/thermostat/measurements/1> a ns1:Measurement ;\n",
      "    ns1:hasTimestamp \"2023-05-02T15:32:12+02:00\" ;\n",
      "    ns1:hasValue \"23.5\" ;\n",
      "    ns1:isMeasuredIn ns1:TemperatureUnit ;\n",
      "    ns1:isMeasurementOf <http://127.0.0.1:8000/thermostat/rooms/1> ;\n",
      "    ns1:measurementMadeBy <http://127.0.0.1:8000/thermostat/devices/1> ;\n",
      "    ns1:relatesToProperty ns1:Temperature .\n",
      "\n",
      "\n"
     ]
    }
   ],
   "source": [
    "readURL = \"https://graphdb.odissei.nl/repositories/MateuszTest\"\n",
    "writeURL = \"https://graphdb.odissei.nl/repositories/MateuszTest/statements\"\n",
    "\n",
    "sp.store_data_in_graphdb(\n",
    "    graph_pattern=graph_pattern,\n",
    "    binding_set=binding_set,\n",
    "    prefixes=ask_ki_prefixes,\n",
    "    read_url=readURL,\n",
    "    write_url=writeURL,\n",
    ")"
   ],
   "metadata": {
    "collapsed": false,
    "ExecuteTime": {
     "end_time": "2023-05-02T13:32:16.069859295Z",
     "start_time": "2023-05-02T13:32:15.937761086Z"
    }
   }
  },
  {
   "cell_type": "code",
   "execution_count": 11,
   "outputs": [],
   "source": [],
   "metadata": {
    "collapsed": false,
    "ExecuteTime": {
     "end_time": "2023-05-02T13:32:16.071610164Z",
     "start_time": "2023-05-02T13:32:16.020847702Z"
    }
   }
  }
 ],
 "metadata": {
  "kernelspec": {
   "display_name": "Python 3",
   "language": "python",
   "name": "python3"
  },
  "language_info": {
   "codemirror_mode": {
    "name": "ipython",
    "version": 2
   },
   "file_extension": ".py",
   "mimetype": "text/x-python",
   "name": "python",
   "nbconvert_exporter": "python",
   "pygments_lexer": "ipython2",
   "version": "2.7.6"
  }
 },
 "nbformat": 4,
 "nbformat_minor": 0
}
