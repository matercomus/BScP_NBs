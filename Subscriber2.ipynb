{
 "cells": [
  {
   "cell_type": "code",
   "execution_count": 1,
   "metadata": {
    "collapsed": true,
    "ExecuteTime": {
     "end_time": "2023-05-03T16:37:03.565959246Z",
     "start_time": "2023-05-03T16:37:02.871419868Z"
    }
   },
   "outputs": [],
   "source": [
    "import json\n",
    "\n",
    "# import the smartpynector module\n",
    "from NBs import smartpynector as sp"
   ]
  },
  {
   "cell_type": "code",
   "execution_count": 2,
   "outputs": [],
   "source": [
    "# Defining constants\n",
    "# Knowledge engine REST API URL\n",
    "KNOWLEDGE_ENGINE_URL = \"http://127.0.0.1:8280/rest\"\n",
    "SUBSCRIBER_ID = \"http://127.0.0.1:8000/subscriber\""
   ],
   "metadata": {
    "collapsed": false,
    "ExecuteTime": {
     "end_time": "2023-05-03T16:37:03.566371864Z",
     "start_time": "2023-05-03T16:37:03.190595636Z"
    }
   }
  },
  {
   "cell_type": "code",
   "execution_count": 3,
   "outputs": [],
   "source": [
    "# Defining the smart connector\n",
    "smart_connector = sp.SmartConnector(\n",
    "    knowledgeBaseId=SUBSCRIBER_ID,\n",
    "    knowledgeBaseName=\"Subscriber2\",\n",
    "    knowledgeBaseDescription=\"Subscriber2\",\n",
    "    reasonerEnabled=False,\n",
    ")"
   ],
   "metadata": {
    "collapsed": false,
    "ExecuteTime": {
     "end_time": "2023-05-03T16:37:03.566649195Z",
     "start_time": "2023-05-03T16:37:03.216093466Z"
    }
   }
  },
  {
   "cell_type": "code",
   "execution_count": 4,
   "outputs": [
    {
     "name": "stderr",
     "output_type": "stream",
     "text": [
      "2023-05-03 18:37:03 DEBUG Starting new HTTP connection (1): 127.0.0.1:8280\n",
      "2023-05-03 18:37:04 DEBUG http://127.0.0.1:8280 \"POST /rest/sc HTTP/1.1\" 200 0\n",
      "2023-05-03 18:37:04 INFO Request successful\n",
      "2023-05-03 18:37:04 DEBUG \n"
     ]
    },
    {
     "data": {
      "text/plain": "<Response [200]>"
     },
     "execution_count": 4,
     "metadata": {},
     "output_type": "execute_result"
    }
   ],
   "source": [
    "sp.create_smart_connector(smart_connector, KNOWLEDGE_ENGINE_URL)"
   ],
   "metadata": {
    "collapsed": false,
    "ExecuteTime": {
     "end_time": "2023-05-03T16:37:04.820005408Z",
     "start_time": "2023-05-03T16:37:03.231194671Z"
    }
   }
  },
  {
   "cell_type": "code",
   "execution_count": 5,
   "outputs": [],
   "source": [
    "GRAPH_PATTERN= '''?meas rdf:type saref:Measurement .\n",
    "         ?meas saref:hasValue ?temp .\n",
    "         ?meas saref:isMeasuredIn saref:TemperatureUnit .\n",
    "         ?meas saref:hasTimestamp ?timestamp .\n",
    "         ?meas saref:isMeasurementOf ?room_id .\n",
    "         ?meas saref:relatesToProperty saref:Temperature .\n",
    "         ?meas saref:measurementMadeBy ?device_id .'''"
   ],
   "metadata": {
    "collapsed": false,
    "ExecuteTime": {
     "end_time": "2023-05-03T16:37:04.820226792Z",
     "start_time": "2023-05-03T16:37:04.746547174Z"
    }
   }
  },
  {
   "cell_type": "code",
   "execution_count": 9,
   "outputs": [
    {
     "name": "stderr",
     "output_type": "stream",
     "text": [
      "2023-05-03 18:38:28 DEBUG Starting new HTTP connection (1): 127.0.0.1:8280\n",
      "2023-05-03 18:38:28 DEBUG http://127.0.0.1:8280 \"POST /rest/sc/ki HTTP/1.1\" 200 110\n",
      "2023-05-03 18:38:28 INFO Request successful\n",
      "2023-05-03 18:38:28 DEBUG {\"knowledgeInteractionId\":\"http://127.0.0.1:8000/subscriber/interaction/5727cb2a-043e-47e2-842e-7377a77747e1\"}\n"
     ]
    },
    {
     "data": {
      "text/plain": "{'knowledgeInteractionId': 'http://127.0.0.1:8000/subscriber/interaction/5727cb2a-043e-47e2-842e-7377a77747e1',\n 'prefixes': {'rdf': 'http://www.w3.org/1999/02/22-rdf-syntax-ns#',\n  'saref': 'https://w3id.org/saref#'}}"
     },
     "execution_count": 9,
     "metadata": {},
     "output_type": "execute_result"
    }
   ],
   "source": [
    "ask_ki = sp.register_knowledge_interaction(\n",
    "    knowledge_interaction_type=\"AskKnowledgeInteraction\",\n",
    "    knowledge_engine_url=KNOWLEDGE_ENGINE_URL,\n",
    "    prefixes={\n",
    "        \"rdf\": \"http://www.w3.org/1999/02/22-rdf-syntax-ns#\",\n",
    "        \"saref\": \"https://w3id.org/saref#\",\n",
    "    },\n",
    "    graph_pattern=GRAPH_PATTERN,\n",
    "    headers={\n",
    "        \"Content-Type\": \"application/json\",\n",
    "        \"knowledge-Base-Id\": SUBSCRIBER_ID,\n",
    "    },\n",
    ")\n",
    "ask_ki"
   ],
   "metadata": {
    "collapsed": false,
    "ExecuteTime": {
     "end_time": "2023-05-03T16:38:28.716702397Z",
     "start_time": "2023-05-03T16:38:28.457977514Z"
    }
   }
  },
  {
   "cell_type": "code",
   "execution_count": 10,
   "outputs": [
    {
     "name": "stderr",
     "output_type": "stream",
     "text": [
      "2023-05-03 18:38:28 DEBUG Starting new HTTP connection (1): 127.0.0.1:8280\n",
      "2023-05-03 18:38:29 DEBUG http://127.0.0.1:8280 \"POST /rest/sc/ask HTTP/1.1\" 200 895\n",
      "2023-05-03 18:38:29 INFO Request successful\n",
      "2023-05-03 18:38:29 DEBUG {\"bindingSet\":[{\"room_id\":\"\\\"http://127.0.0.1:8000/thermostat/rooms/1\\\"\",\"temp\":\"20\",\"device_id\":\"\\\"http://127.0.0.1:8000/thermostat/devices/1\\\"\",\"meas\":\"<http://127.0.0.1:8000/thermostat/measurements/e6cf71b8-327f-47a5-9569-c201742a5814>\",\"timestamp\":\"\\\"2023-05-03T18:38:24+02:00\\\"\"}],\"exchangeInfo\":[{\"initiator\":\"knowledgeBase\",\"knowledgeBaseId\":\"http://127.0.0.1:8000/thermostat\",\"knowledgeInteractionId\":\"http://127.0.0.1:8000/thermostat/interaction/462628e6-739b-4dd2-8a18-b42b7b9d5234\",\"exchangeStart\":\"2023-05-03T16:38:29.018+00:00\",\"exchangeEnd\":\"2023-05-03T16:38:29.025+00:00\",\"status\":\"SUCCEEDED\",\"bindingSet\":[{\"room_id\":\"\\\"http://127.0.0.1:8000/thermostat/rooms/1\\\"\",\"temp\":\"20\",\"device_id\":\"\\\"http://127.0.0.1:8000/thermostat/devices/1\\\"\",\"meas\":\"<http://127.0.0.1:8000/thermostat/measurements/e6cf71b8-327f-47a5-9569-c201742a5814>\",\"timestamp\":\"\\\"2023-05-03T18:38:24+02:00\\\"\"}]}]}\n"
     ]
    }
   ],
   "source": [
    "binding_set = sp.perform_ask_knowledge_interaction(\n",
    "    knowledge_engine_url=KNOWLEDGE_ENGINE_URL,\n",
    "    knowledge_base_id=SUBSCRIBER_ID,\n",
    "    knowledge_interaction_id=ask_ki[\"knowledgeInteractionId\"],\n",
    "    ask_data=[]\n",
    ").json()[\"bindingSet\"]"
   ],
   "metadata": {
    "collapsed": false,
    "ExecuteTime": {
     "end_time": "2023-05-03T16:38:29.074497118Z",
     "start_time": "2023-05-03T16:38:28.884082734Z"
    }
   }
  },
  {
   "cell_type": "code",
   "execution_count": 11,
   "outputs": [
    {
     "name": "stdout",
     "output_type": "stream",
     "text": [
      "Ignoring 500 server error\n"
     ]
    }
   ],
   "source": [
    "READ_URL = \"https://graphdb.odissei.nl/repositories/MateuszTest\"\n",
    "WRITE_URL = \"https://graphdb.odissei.nl/repositories/MateuszTest/statements\"\n",
    "\n",
    "sp.store_data_in_graphdb(\n",
    "    graph_pattern=GRAPH_PATTERN,\n",
    "    binding_set=binding_set,\n",
    "    prefixes=ask_ki[\"prefixes\"],\n",
    "    read_url=READ_URL,\n",
    "    write_url=WRITE_URL,\n",
    ")"
   ],
   "metadata": {
    "collapsed": false,
    "ExecuteTime": {
     "end_time": "2023-05-03T16:38:30.743768953Z",
     "start_time": "2023-05-03T16:38:29.447982534Z"
    }
   }
  },
  {
   "cell_type": "code",
   "execution_count": 11,
   "outputs": [],
   "source": [],
   "metadata": {
    "collapsed": false,
    "ExecuteTime": {
     "end_time": "2023-05-03T16:38:30.744091046Z",
     "start_time": "2023-05-03T16:38:30.743615919Z"
    }
   }
  },
  {
   "cell_type": "code",
   "execution_count": null,
   "outputs": [],
   "source": [],
   "metadata": {
    "collapsed": false
   }
  }
 ],
 "metadata": {
  "kernelspec": {
   "display_name": "Python 3",
   "language": "python",
   "name": "python3"
  },
  "language_info": {
   "codemirror_mode": {
    "name": "ipython",
    "version": 2
   },
   "file_extension": ".py",
   "mimetype": "text/x-python",
   "name": "python",
   "nbconvert_exporter": "python",
   "pygments_lexer": "ipython2",
   "version": "2.7.6"
  }
 },
 "nbformat": 4,
 "nbformat_minor": 0
}
