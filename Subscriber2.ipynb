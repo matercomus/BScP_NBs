{
 "cells": [
  {
   "cell_type": "code",
   "execution_count": 1,
   "metadata": {
    "collapsed": true
   },
   "outputs": [],
   "source": [
    "import json\n",
    "\n",
    "# import the smartpynector module\n",
    "from NBs import smartpynector as sp"
   ]
  },
  {
   "cell_type": "code",
   "execution_count": 2,
   "outputs": [],
   "source": [
    "# Defining constants\n",
    "# Knowledge engine REST API URL\n",
    "KNOWLEDGE_ENGINE_URL = \"http://127.0.0.1:8280/rest\"\n",
    "SUBSCRIBER_ID = \"http://127.0.0.1:8000/subscriber\""
   ],
   "metadata": {
    "collapsed": false
   }
  },
  {
   "cell_type": "code",
   "execution_count": 3,
   "outputs": [],
   "source": [
    "# Defining the smart connector\n",
    "smart_connector = sp.SmartConnector(\n",
    "    knowledgeBaseId=SUBSCRIBER_ID,\n",
    "    knowledgeBaseName=\"Subscriber2\",\n",
    "    knowledgeBaseDescription=\"Subscriber2\",\n",
    "    reasonerEnabled=False,\n",
    ")"
   ],
   "metadata": {
    "collapsed": false
   }
  },
  {
   "cell_type": "code",
   "execution_count": 4,
   "outputs": [
    {
     "name": "stderr",
     "output_type": "stream",
     "text": [
      "2023-03-09 02:05:06 DEBUG HTTP Request: POST http://127.0.0.1:8280/rest/sc \"HTTP/1.1 200 OK\"\n",
      "2023-03-09 02:05:06 INFO Request successful\n",
      "2023-03-09 02:05:06 DEBUG \n"
     ]
    },
    {
     "data": {
      "text/plain": "<Response [200 OK]>"
     },
     "execution_count": 4,
     "metadata": {},
     "output_type": "execute_result"
    }
   ],
   "source": [
    "sp.create_smart_connector(smart_connector, KNOWLEDGE_ENGINE_URL)"
   ],
   "metadata": {
    "collapsed": false
   }
  },
  {
   "cell_type": "code",
   "execution_count": 5,
   "outputs": [
    {
     "name": "stderr",
     "output_type": "stream",
     "text": [
      "2023-03-09 02:05:06 DEBUG HTTP Request: POST http://127.0.0.1:8280/rest/sc/ki \"HTTP/1.1 200 OK\"\n",
      "2023-03-09 02:05:06 INFO Request successful\n",
      "2023-03-09 02:05:06 DEBUG {\"knowledgeInteractionId\":\"http://127.0.0.1:8000/subscriber/interaction/016ff6cd-407e-460d-9cb7-42ba80931ed1\"}\n"
     ]
    },
    {
     "data": {
      "text/plain": "'http://127.0.0.1:8000/subscriber/interaction/016ff6cd-407e-460d-9cb7-42ba80931ed1'"
     },
     "execution_count": 5,
     "metadata": {},
     "output_type": "execute_result"
    }
   ],
   "source": [
    "ask_ki_id = sp.register_knowledge_interaction(\n",
    "    knowledge_interaction_type=\"AskKnowledgeInteraction\",\n",
    "    knowledge_engine_url=KNOWLEDGE_ENGINE_URL,\n",
    "    prefixes={\n",
    "        \"rdf\": \"http://www.w3.org/1999/02/22-rdf-syntax-ns#\",\n",
    "        \"saref\": \"https://w3id.org/saref#\",\n",
    "    },\n",
    "    graph_pattern='''?meas rdf:type saref:Measurement .\n",
    "         ?meas saref:hasValue ?temp .\n",
    "         ?meas saref:isMeasuredIn saref:TemperatureUnit .\n",
    "         ?meas saref:hasTimestamp ?timestamp .\n",
    "         ?meas saref:isMeasurementOf ?room_id .\n",
    "         ?meas saref:relatesToProperty saref:Temperature .\n",
    "         ?meas saref:measurementMadeBy ?device_id .''',\n",
    "    headers={\n",
    "        \"Content-Type\": \"application/json\",\n",
    "        \"knowledge-Base-Id\": SUBSCRIBER_ID,\n",
    "    },\n",
    ").json()[\"knowledgeInteractionId\"]\n",
    "ask_ki_id"
   ],
   "metadata": {
    "collapsed": false
   }
  },
  {
   "cell_type": "code",
   "execution_count": 6,
   "outputs": [
    {
     "name": "stderr",
     "output_type": "stream",
     "text": [
      "2023-03-09 02:05:07 DEBUG HTTP Request: POST http://127.0.0.1:8280/rest/sc/ask \"HTTP/1.1 200 OK\"\n",
      "2023-03-09 02:05:07 INFO Request successful\n",
      "2023-03-09 02:05:07 DEBUG {\"bindingSet\":[{\"room_id\":\"\\\"http://127.0.0.1:8000/thermostat/rooms/1\\\"\",\"temp\":\"23.5\",\"device_id\":\"\\\"http://127.0.0.1:8000/thermostat/devices/1\\\"\",\"meas\":\"<http://127.0.0.1:8000/thermostat/measurements/1>\",\"timestamp\":\"\\\"{sp.get_timestamp_now()}\\\"\"}],\"exchangeInfo\":[{\"initiator\":\"knowledgeBase\",\"knowledgeBaseId\":\"http://127.0.0.1:8000/thermostat\",\"knowledgeInteractionId\":\"http://127.0.0.1:8000/thermostat/interaction/e81ef0b5-834b-495e-8f1d-ba814f87d553\",\"exchangeStart\":\"2023-03-09T01:05:07.109+00:00\",\"exchangeEnd\":\"2023-03-09T01:05:07.393+00:00\",\"status\":\"SUCCEEDED\",\"bindingSet\":[{\"room_id\":\"\\\"http://127.0.0.1:8000/thermostat/rooms/1\\\"\",\"temp\":\"23.5\",\"device_id\":\"\\\"http://127.0.0.1:8000/thermostat/devices/1\\\"\",\"meas\":\"<http://127.0.0.1:8000/thermostat/measurements/1>\",\"timestamp\":\"\\\"{sp.get_timestamp_now()}\\\"\"}]}]}\n"
     ]
    },
    {
     "data": {
      "text/plain": "<Response [200 OK]>"
     },
     "execution_count": 6,
     "metadata": {},
     "output_type": "execute_result"
    }
   ],
   "source": [
    "sp.perform_ask_knowledge_interaction(\n",
    "    knowledge_engine_url=KNOWLEDGE_ENGINE_URL,\n",
    "    knowledge_base_id=SUBSCRIBER_ID,\n",
    "    knowledge_interaction_id=ask_ki_id,\n",
    ")"
   ],
   "metadata": {
    "collapsed": false
   }
  },
  {
   "cell_type": "code",
   "execution_count": 6,
   "outputs": [],
   "source": [],
   "metadata": {
    "collapsed": false
   }
  }
 ],
 "metadata": {
  "kernelspec": {
   "display_name": "Python 3",
   "language": "python",
   "name": "python3"
  },
  "language_info": {
   "codemirror_mode": {
    "name": "ipython",
    "version": 2
   },
   "file_extension": ".py",
   "mimetype": "text/x-python",
   "name": "python",
   "nbconvert_exporter": "python",
   "pygments_lexer": "ipython2",
   "version": "2.7.6"
  }
 },
 "nbformat": 4,
 "nbformat_minor": 0
}
