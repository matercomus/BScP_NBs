{
 "cells": [
  {
   "cell_type": "markdown",
   "id": "efd3f7d3-cb7b-4945-883d-95b7252ff372",
   "metadata": {},
   "source": [
    "# MonitorSC: Smart Connector for Monitoring Temperature and Humidity\n",
    "\n",
    "This notebook acts as a smart connector for monitoring temperature and humidity measurements. It constructs an ipywidgets interface for selecting a start and end datetime, and has two ask knowledge interactions that ask the knowledge engine for temperature and humidity measurements made in a specified datetime range.\n",
    "\n",
    "The datetime range is specified using the ipywidgets interface and sent as bindings to the knowledge engine. The ask knowledge interactions then receive the requested measurements from the knowledge engine and use them to output line plots for temperature and humidity."
   ]
  },
  {
   "cell_type": "code",
   "execution_count": 1,
   "id": "fe3850c0-7c57-454d-98d6-f2fab223e2be",
   "metadata": {
    "tags": []
   },
   "outputs": [],
   "source": [
    "# Monitor SC"
   ]
  },
  {
   "cell_type": "code",
   "execution_count": 2,
   "id": "efdd297b-1f15-4622-a5c0-860d5076e532",
   "metadata": {
    "tags": []
   },
   "outputs": [
    {
     "name": "stderr",
     "output_type": "stream",
     "text": [
      "2023-06-27 14:28:16 INFO generated new fontManager\n"
     ]
    }
   ],
   "source": [
    "import logging\n",
    "import uuid\n",
    "\n",
    "import helpers as sp\n",
    "import matplotlib.pyplot as plt\n",
    "import pandas as pd\n",
    "import seaborn as sns\n",
    "from utils import *"
   ]
  },
  {
   "cell_type": "code",
   "execution_count": 3,
   "id": "4a9f43c4-ed79-43fc-8b0c-ee890f32ccc6",
   "metadata": {
    "tags": []
   },
   "outputs": [],
   "source": [
    "logging.basicConfig(level=logging.INFO)\n",
    "logger = logging.getLogger(\"MonitorSC\")"
   ]
  },
  {
   "cell_type": "code",
   "execution_count": 4,
   "id": "a24170e2-d4e6-4b7c-9ce0-9f8bf647ac41",
   "metadata": {
    "tags": []
   },
   "outputs": [],
   "source": [
    "# Constants\n",
    "THERMOSTAT_API_URL = \"http://0.0.0.0:8001/thermostat\"\n",
    "# prefixes of ontologies used in the graph patterns\n",
    "PREFIXES = {\n",
    "    \"rdf\": \"http://www.w3.org/1999/02/22-rdf-syntax-ns#\",\n",
    "    \"saref\": \"https://w3id.org/saref#\",\n",
    "    \"xsd\": \"http://www.w3.org/2001/XMLSchema#\",\n",
    "    \"ex\": \"http://example.org/\",\n",
    "}\n",
    "# graph pattern describing a timeseries of temperature measurements with timestamp between ?startTimestamp and ?endTimestamp\n",
    "TEMP_TIMESERIES_GRAPH_PATTERN = \"\"\"?timeseries rdf:type ex:Timeseries .\n",
    "                            ?timeseries ex:hasMeasurement ?meas .\n",
    "                            ?timeseries ex:measuredAfter ?startTimestamp .\n",
    "                            ?timeseries ex:measuredBefore ?endTimestamp .\n",
    "                            ?meas rdf:type saref:Measurement .\n",
    "                            ?meas saref:isMeasuredIn saref:TemperatureUnit .\n",
    "                            ?meas saref:hasValue ?temp .\n",
    "                            ?meas saref:hasTimestamp ?timestamp .\n",
    "                            \"\"\"\n",
    "\n",
    "# graph pattern describing a timeseries of humidity measurements with timestamp between ?startTimestamp and ?endTimestamp\n",
    "HUMIDITY_TIMESERIES_GRAPH_PATTERN = \"EDIT THIS\""
   ]
  },
  {
   "cell_type": "code",
   "execution_count": 5,
   "id": "c414c89c-e6cd-42b1-b8dc-518ca32afb45",
   "metadata": {
    "tags": []
   },
   "outputs": [],
   "source": [
    "def start_monitor_kb(kb_id, kb_name, kb_description, ke_endpoint):\n",
    "    # delete in case allready exists\n",
    "    delete_knowledge_base(kb_id, ke_endpoint)\n",
    "\n",
    "    # register kb\n",
    "    register_knowledge_base(kb_id, kb_name, kb_description, ke_endpoint)\n",
    "\n",
    "    global ask_temp_measurements_ki\n",
    "    ask_temp_measurements_ki = register_ask_knowledge_interaction(\n",
    "        TEMP_TIMESERIES_GRAPH_PATTERN,\n",
    "        \"ask-temp-historical-measurements\",\n",
    "        kb_id,\n",
    "        ke_endpoint,\n",
    "        PREFIXES,\n",
    "    )\n",
    "\n",
    "    global ask_humidity_measurements_ki\n",
    "    ask_humidity_measurements_ki = \"EDIT THIS\""
   ]
  },
  {
   "cell_type": "code",
   "execution_count": 6,
   "id": "759c97f5-cc16-4e4d-915e-bc389badb1a2",
   "metadata": {
    "tags": []
   },
   "outputs": [
    {
     "name": "stderr",
     "output_type": "stream",
     "text": [
      "2023-06-27 14:28:17 INFO {\"messageType\":\"error\",\"message\":\"Deletion of knowledge base failed, because it could not be found.\"}\n",
      "2023-06-27 14:28:17 INFO registered Monitor\n",
      "2023-06-27 14:28:17 INFO received issued knowledge interaction id: http://example.org/monitor/interaction/ask-temp-historical-measurements\n"
     ]
    }
   ],
   "source": [
    "start_monitor_kb(\n",
    "    \"http://example.org/monitor\",\n",
    "    \"Monitor\",\n",
    "    \"Monitor for storage\",\n",
    "    \"http://knowledge_engine:8280/rest/\",\n",
    ")"
   ]
  },
  {
   "cell_type": "code",
   "execution_count": 7,
   "id": "8a350239-13d8-41a3-a272-a5e78816a38c",
   "metadata": {
    "tags": []
   },
   "outputs": [],
   "source": [
    "# DO NOT EDIT!\n",
    "import itertools\n",
    "\n",
    "\n",
    "def plot_data(\n",
    "    data, meas_type: str, colors=itertools.cycle(sns.color_palette(\"husl\", 8))\n",
    "):\n",
    "    meas_types = [\"temp\", \"humidity\"]\n",
    "    if data is None:\n",
    "        raise ValueError(\"Data cannot be None\")\n",
    "    if meas_type not in meas_types:\n",
    "        raise ValueError(f\"meas_type has to be one of {meas_types}\")\n",
    "\n",
    "    # Convert data to a DataFrame\n",
    "    df = pd.DataFrame(data)\n",
    "\n",
    "    # Convert timestamp and temperature columns to appropriate data types\n",
    "    df[\"timestamp\"] = df[\"timestamp\"].str.strip('\"')\n",
    "    df[\"timestamp\"] = pd.to_datetime(df[\"timestamp\"])\n",
    "\n",
    "    df[meas_type] = df[meas_type].str.strip('\"')\n",
    "    df[meas_type] = pd.to_numeric(df[meas_type])\n",
    "\n",
    "    # Set figure size\n",
    "    plt.figure(figsize=(24, 6))\n",
    "\n",
    "    # Create line plot using seaborn\n",
    "    sns.lineplot(data=df, x=\"timestamp\", y=meas_type, color=next(colors))\n",
    "    plt.xticks(rotation=90)\n",
    "\n",
    "    # Show plot\n",
    "    plt.show()"
   ]
  },
  {
   "cell_type": "code",
   "execution_count": 8,
   "id": "108201b0-d4a4-49f6-aaf4-e1858d9a2b0c",
   "metadata": {
    "tags": []
   },
   "outputs": [],
   "source": [
    "# DO NOT EDIT!\n",
    "def perform_ask(ask_ki_id, start_time, end_time):\n",
    "    historical_measurements = ask(\n",
    "        [\n",
    "            {\n",
    "                \"timeseries\": f\"<{THERMOSTAT_API_URL}/timeseries/{str(uuid.uuid4())}>\",\n",
    "                \"startTimestamp\": f'\"{start_time}\"',\n",
    "                \"endTimestamp\": f'\"{end_time}\"',\n",
    "            }\n",
    "        ],\n",
    "        ask_ki_id,\n",
    "        \"http://example.org/monitor\",\n",
    "        \"http://knowledge_engine:8280/rest/\",\n",
    "    )\n",
    "\n",
    "    # logger.info(f\"Historical measurements: {historical_measurements}\")\n",
    "    if historical_measurements and historical_measurements != [{}]:\n",
    "        return historical_measurements\n",
    "    else:\n",
    "        logger.info(\"No historical measurements found.\")\n",
    "        return None"
   ]
  },
  {
   "cell_type": "code",
   "execution_count": 9,
   "id": "f53ba272-6fa1-4d7d-b56e-50928f228fd9",
   "metadata": {},
   "outputs": [
    {
     "data": {
      "application/vnd.jupyter.widget-view+json": {
       "model_id": "02f546226644400b9aa413da49ebbe05",
       "version_major": 2,
       "version_minor": 0
      },
      "text/plain": [
       "VBox(children=(HBox(children=(DatetimePicker(value=datetime.datetime(2023, 6, 27, 14, 28, 17, tzinfo=datetime.…"
      ]
     },
     "metadata": {},
     "output_type": "display_data"
    }
   ],
   "source": [
    "from datetime import datetime, timezone\n",
    "\n",
    "from IPython.display import display\n",
    "from ipywidgets import Button, DatetimePicker, HBox, Output, VBox\n",
    "\n",
    "\n",
    "def convert_datetimes(start_widget, end_widget):\n",
    "    # Convert the datetime object from UTC to the local timezone\n",
    "    start_datetime_obj = (\n",
    "        start_widget.value.astimezone().replace(microsecond=0).isoformat()\n",
    "    )\n",
    "    end_datetime_obj = end_widget.value.astimezone().replace(microsecond=0).isoformat()\n",
    "    return start_datetime_obj, end_datetime_obj\n",
    "\n",
    "\n",
    "start_widget = DatetimePicker(description=\"Start Time:\", disabled=False)\n",
    "start_widget.value = datetime.now(timezone.utc).replace(microsecond=0)\n",
    "\n",
    "end_widget = DatetimePicker(description=\"End Time:\", disabled=False)\n",
    "end_widget.value = datetime.now(timezone.utc).replace(microsecond=0)\n",
    "\n",
    "submit_button = Button(description=\"Submit\", button_style=\"danger\")\n",
    "\n",
    "out = Output()\n",
    "\n",
    "\n",
    "def on_button_click(button):\n",
    "    with out:\n",
    "        out.clear_output()\n",
    "        start_timestamp, end_timestamp = convert_datetimes(start_widget, end_widget)\n",
    "        logger.info(f\"Start: {start_timestamp}, End: {end_timestamp}\")\n",
    "        temp_data = perform_ask(\n",
    "            ask_temp_measurements_ki, start_timestamp, end_timestamp\n",
    "        )\n",
    "        # ADD SOMETHING HERE\n",
    "        plot_data(temp_data, \"temp\")\n",
    "        # ADD SOMETHING HERE\n",
    "\n",
    "\n",
    "submit_button.on_click(on_button_click)\n",
    "\n",
    "display(VBox([HBox([start_widget, end_widget, submit_button]), out]))"
   ]
  },
  {
   "cell_type": "code",
   "execution_count": null,
   "id": "6f8e8641-dff7-439c-a434-fe539fa0358e",
   "metadata": {},
   "outputs": [],
   "source": []
  }
 ],
 "metadata": {
  "kernelspec": {
   "display_name": "Python 3 (ipykernel)",
   "language": "python",
   "name": "python3"
  },
  "language_info": {
   "codemirror_mode": {
    "name": "ipython",
    "version": 3
   },
   "file_extension": ".py",
   "mimetype": "text/x-python",
   "name": "python",
   "nbconvert_exporter": "python",
   "pygments_lexer": "ipython3",
   "version": "3.10.11"
  }
 },
 "nbformat": 4,
 "nbformat_minor": 5
}
