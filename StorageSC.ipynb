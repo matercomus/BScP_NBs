{
 "cells": [
  {
   "cell_type": "markdown",
   "id": "05eefd13-2e57-4e9d-82a0-55873ab6e75d",
   "metadata": {},
   "source": [
    "# StorageSC: Smart Connector for Storing and Serving Humidity and Temperature Measurements\n",
    "\n",
    "This notebook is a knowledge base and smart connector for storing humidity and temperature measurements in a remote GraphDB triples database. GraphDB is a highly-efficient and scalable RDF database that allows you to link diverse data, index it for semantic search, and enrich it via text analysis to build big knowledge graphs.\n",
    "\n",
    "StorageSC has two react knowledge interactions that are triggered when the graph pattern of the post knowledge interactions from the smart connector knowledge base gets matched by the knowledge engine with the graph pattern of these react knowledge interactions. These interactions handle the bindings sent by the post side by matching them with the graph pattern and storing that in the GraphDB.\n",
    "\n",
    "StorageSC also has two answer knowledge interactions for querying the GraphDB for temperature and humidity measurements made in a specified datetime range. These interactions are triggered by ask knowledge interactions coming from another notebook. The ask side sends bindings specifying the datetime range, which are then used by the answer side to query the GraphDB and return the requested measurements.\n",
    "\n",
    "In summary, this notebook provides a smart connector for storing and serving humidity and temperature measurements in a remote GraphDB triples database. It receives live measurements from another smart connector notebook, stores them in the GraphDB, and allows querying for measurements made in a specified datetime range."
   ]
  },
  {
   "cell_type": "code",
   "execution_count": 1,
   "id": "b3cee4f6-f8dd-451c-8183-a7a9970faea8",
   "metadata": {
    "tags": []
   },
   "outputs": [],
   "source": [
    "# Storage SC"
   ]
  },
  {
   "cell_type": "code",
   "execution_count": 2,
   "id": "189f592d-591e-4bc4-bff4-7d2cb22d4d67",
   "metadata": {
    "tags": []
   },
   "outputs": [],
   "source": [
    "import logging\n",
    "\n",
    "import helpers as sp\n",
    "from utils import *"
   ]
  },
  {
   "cell_type": "code",
   "execution_count": 3,
   "id": "0555451d-80cb-411b-8d5d-90e25b18e179",
   "metadata": {
    "tags": []
   },
   "outputs": [],
   "source": [
    "logging.basicConfig(level=logging.INFO)\n",
    "logger = logging.getLogger(\"StorageSC\")"
   ]
  },
  {
   "cell_type": "code",
   "execution_count": 4,
   "id": "d078da21-a840-4d32-9fd5-027922c7fde6",
   "metadata": {},
   "outputs": [],
   "source": [
    "# Constants\n",
    "# GraphDB endpoints\n",
    "READ_URL = \"https://graphdb.odissei.nl/repositories/MateuszTest\"\n",
    "WRITE_URL = \"https://graphdb.odissei.nl/repositories/MateuszTest/statements\"\n",
    "\n",
    "THERMOSTAT_API_URL = \"http://0.0.0.0:8001/thermostat\"\n",
    "# prefixes of ontologies used in the graph patterns\n",
    "PREFIXES = {\n",
    "    \"rdf\": \"http://www.w3.org/1999/02/22-rdf-syntax-ns#\",\n",
    "    \"saref\": \"https://w3id.org/saref#\",\n",
    "    \"xsd\": \"http://www.w3.org/2001/XMLSchema#\",\n",
    "    \"ex\": \"http://example.org/\",\n",
    "}\n",
    "# temp measurement graph pattern\n",
    "TEMP_MEAS_GRAPH_PATTERN = \"\"\"?meas rdf:type saref:Measurement .\n",
    "                        ?meas saref:hasValue ?temp .\n",
    "                        ?meas saref:isMeasuredIn saref:TemperatureUnit .\n",
    "                        ?meas saref:hasTimestamp ?timestamp .\n",
    "                        ?meas saref:isMeasurementOf ?room_id .\n",
    "                        ?meas saref:relatesToProperty saref:Temperature .\n",
    "                        ?meas saref:measurementMadeBy ?device_id .\"\"\"\n",
    "\n",
    "# graph pattern describing a timeseries of temperature measurements with timestamp between ?startTimestamp and ?endTimestamp\n",
    "TEMP_TIMESERIES_GRAPH_PATTERN = \"\"\"?timeseries rdf:type ex:Timeseries .\n",
    "                            ?timeseries ex:hasMeasurement ?meas .\n",
    "                            ?timeseries ex:measuredAfter ?startTimestamp .\n",
    "                            ?timeseries ex:measuredBefore ?endTimestamp .\n",
    "                            ?meas rdf:type saref:Measurement .\n",
    "                            ?meas saref:isMeasuredIn saref:TemperatureUnit .\n",
    "                            ?meas saref:hasValue ?temp .\n",
    "                            ?meas saref:hasTimestamp ?timestamp .\n",
    "                            \"\"\"\n",
    "\n",
    "# humidity measurement graph pattern\n",
    "HUMIDITY_MEAS_GRAPH_PATTERN = \"EDIT THIS\"\n",
    "\n",
    "# graph pattern describing a timeseries of humidity measurements with timestamp between ?startTimestamp and ?endTimestamp\n",
    "HUMIDITY_TIMESERIES_GRAPH_PATTERN = \"EDIT THIS\""
   ]
  },
  {
   "cell_type": "code",
   "execution_count": 5,
   "id": "0307912c-ca58-4844-8b6c-2aea7e684ae2",
   "metadata": {},
   "outputs": [],
   "source": [
    "# parsing results of the querry to match the ask binding\n",
    "def parse_response(response, start_timestamp, end_timestamp, timeseries):\n",
    "    variables = response[\"head\"][\"vars\"]\n",
    "    bindings = response[\"results\"][\"bindings\"]\n",
    "    result = []\n",
    "    for binding in bindings:\n",
    "        measurement = {}\n",
    "        for var in variables:\n",
    "            # we add double quotes \"<var>\" to each variable (necessary to be compatible with the Knowledge Engine.\n",
    "            measurement[var] = f'\"{binding[var][\"value\"]}\"'\n",
    "        # Here we add timeseries, startTimestamp, endTimestamp to each measurement so that it matches the ask binding.\n",
    "        measurement[\"timeseries\"] = timeseries\n",
    "        measurement[\"startTimestamp\"] = start_timestamp\n",
    "        measurement[\"endTimestamp\"] = end_timestamp\n",
    "\n",
    "        result.append(measurement)\n",
    "    return result"
   ]
  },
  {
   "cell_type": "code",
   "execution_count": 6,
   "id": "77579d5e-c09b-45ac-a737-f4617ae52838",
   "metadata": {
    "tags": []
   },
   "outputs": [],
   "source": [
    "# Return temp measurements in datetime range from GraphDB\n",
    "def handle_temp_answer_measurements(query_bindings):\n",
    "    for binding in query_bindings:\n",
    "        logger.info(f\"Handling answer for temp: {binding['timeseries']}\")\n",
    "\n",
    "        start_timestamp = binding[\"startTimestamp\"]\n",
    "        end_timestamp = binding[\"endTimestamp\"]\n",
    "        timeseries = binding[\"timeseries\"]\n",
    "        # This sparqle querry returns all measurements with timestamp between start_timestamp and end_timestamp\n",
    "        sparql_query = f\"\"\"PREFIX rdf: <http://www.w3.org/1999/02/22-rdf-syntax-ns#>\n",
    "                            PREFIX saref: <https://w3id.org/saref#>\n",
    "                            PREFIX xsd: <http://www.w3.org/2001/XMLSchema#>\n",
    "\n",
    "                            SELECT *\n",
    "\n",
    "                            WHERE {{\n",
    "                                ?meas rdf:type saref:Measurement .\n",
    "                                ?meas saref:hasValue ?temp .\n",
    "                                ?meas saref:isMeasuredIn saref:TemperatureUnit .\n",
    "                                ?meas saref:hasTimestamp ?timestamp .\n",
    "                                FILTER (xsd:dateTime(?timestamp) >= {start_timestamp}^^xsd:dateTime && xsd:dateTime(?timestamp) <= {end_timestamp}^^xsd:dateTime)\n",
    "                                }}\"\"\"\n",
    "        # running the sparql querry against GraphDB\n",
    "        res = sp.run_sparql_query(READ_URL, sparql_query)\n",
    "\n",
    "        # parsing results of the querry to match the ask binding\n",
    "        result = parse_response(res, start_timestamp, end_timestamp, timeseries)\n",
    "\n",
    "    return result\n",
    "\n",
    "\n",
    "def handle_temp_react_measurements(bindings):\n",
    "    # storing the live temp measurements in GraphDB\n",
    "    sp.store_data_in_graphdb(\n",
    "        graph_pattern=TEMP_MEAS_GRAPH_PATTERN,\n",
    "        binding_set=bindings,\n",
    "        prefixes=PREFIXES,\n",
    "        read_url=READ_URL,\n",
    "        write_url=WRITE_URL,\n",
    "    )\n",
    "    for binding in bindings:\n",
    "        logger.info(f\"Saving temperature measurement {binding['meas']}\")\n",
    "    return []"
   ]
  },
  {
   "cell_type": "code",
   "execution_count": 7,
   "id": "5b1fd16a-ccda-4254-a713-358753836650",
   "metadata": {},
   "outputs": [],
   "source": [
    "# Return humidity measurements in datetime range from GraphDB\n",
    "def handle_humidity_answer_measurements(query_bindings):\n",
    "    for binding in query_bindings:\n",
    "        logger.info(f\"Handling answer for humidity: {binding['timeseries']}\")\n",
    "\n",
    "        start_timestamp = binding[\"startTimestamp\"]\n",
    "        end_timestamp = binding[\"endTimestamp\"]\n",
    "        timeseries = binding[\"timeseries\"]\n",
    "        # This sparqle querry returns all measurements with timestamp between start_timestamp and end_timestamp\n",
    "        sparql_query = f\"EDIT THIS\"\n",
    "        # running the sparql querry against GraphDB\n",
    "        res = sp.run_sparql_query(READ_URL, sparql_query)\n",
    "\n",
    "        # parsing results of the querry to match the ask binding\n",
    "        result = parse_response(res, start_timestamp, end_timestamp, timeseries)\n",
    "\n",
    "    return result\n",
    "\n",
    "\n",
    "def handle_humidity_react_measurements(bindings):\n",
    "    # storing the live humidity measurements in GraphDB\n",
    "    # ADD SOEMTHING HERE\n",
    "    for binding in bindings:\n",
    "        logger.info(f\"Saving humidity measurement {binding['meas']}\")\n",
    "    return []"
   ]
  },
  {
   "cell_type": "code",
   "execution_count": 8,
   "id": "37738bd3-7c29-40aa-8013-aedf5cb0fe44",
   "metadata": {
    "tags": []
   },
   "outputs": [],
   "source": [
    "def start_storage_kb(kb_id, kb_name, kb_description, ke_endpoint):\n",
    "    # delete in case allready exists\n",
    "    delete_knowledge_base(kb_id, ke_endpoint)\n",
    "\n",
    "    # register kb\n",
    "    register_knowledge_base(kb_id, kb_name, kb_description, ke_endpoint)\n",
    "\n",
    "    # register temp answer ki\n",
    "    answer_temp_measurements_ki = register_answer_knowledge_interaction(\n",
    "        TEMP_TIMESERIES_GRAPH_PATTERN,\n",
    "        \"answer-historical-temp-measurements\",\n",
    "        kb_id,\n",
    "        ke_endpoint,\n",
    "        PREFIXES,\n",
    "    )\n",
    "\n",
    "    # register temp react ki\n",
    "    react_temp_measurements_ki = register_react_knowledge_interaction(\n",
    "        TEMP_MEAS_GRAPH_PATTERN,\n",
    "        None,\n",
    "        \"react-temp-measurements\",\n",
    "        kb_id,\n",
    "        ke_endpoint,\n",
    "        PREFIXES,\n",
    "    )\n",
    "\n",
    "    # register humidity answer ki\n",
    "    answer_humidity_measurements_ki = \"EDIT THIS\"\n",
    "\n",
    "    # register humidity react ki\n",
    "    react_humidity_measurements_ki = \"EDIT THIS\"\n",
    "\n",
    "    # start handle loop for handling answer and react kis\n",
    "    start_handle_loop(\n",
    "        {\n",
    "            answer_temp_measurements_ki: handle_temp_answer_measurements,\n",
    "            react_temp_measurements_ki: handle_temp_react_measurements,\n",
    "            # ADD SOMETHING HERE\n",
    "        },\n",
    "        kb_id,\n",
    "        ke_endpoint,\n",
    "    )"
   ]
  },
  {
   "cell_type": "code",
   "execution_count": 9,
   "id": "be696002-0ace-4f28-9693-643c374b2a7b",
   "metadata": {
    "tags": []
   },
   "outputs": [
    {
     "name": "stderr",
     "output_type": "stream",
     "text": [
      "2023-06-27 14:28:02 INFO {\"messageType\":\"error\",\"message\":\"Deletion of knowledge base failed, because it could not be found.\"}\n",
      "2023-06-27 14:28:03 INFO registered Storage\n",
      "2023-06-27 14:28:03 INFO received issued knowledge interaction id: http://example.org/storage/interaction/answer-historical-temp-measurements\n",
      "2023-06-27 14:28:03 INFO received issued knowledge interaction id: http://example.org/storage/interaction/react-temp-measurements\n",
      "2023-06-27 14:28:07 INFO Saving temperature measurement <http://0.0.0.0:8001/thermostat/measurements/e237f2c7-f999-4cc6-b591-a8b317d6bdcd>\n",
      "2023-06-27 14:28:13 INFO Saving temperature measurement <http://0.0.0.0:8001/thermostat/measurements/a11d8263-f34d-4c77-95e7-a37733c57864>\n",
      "2023-06-27 14:28:19 INFO Saving temperature measurement <http://0.0.0.0:8001/thermostat/measurements/3673c80f-b724-4fe6-aa25-c4bce4cacf1f>\n",
      "2023-06-27 14:28:26 INFO Saving temperature measurement <http://0.0.0.0:8001/thermostat/measurements/678b0ae5-2f9a-440a-a12d-42a17cae5171>\n",
      "2023-06-27 14:28:30 INFO Handling answer for temp: <http://0.0.0.0:8001/thermostat/timeseries/5daa15e4-629e-4ef2-a0d5-d3b0e89b6141>\n",
      "2023-06-27 14:28:32 INFO Saving temperature measurement <http://0.0.0.0:8001/thermostat/measurements/2f0aebf0-fe3f-40c2-998b-ce080b5e8a64>\n",
      "2023-06-27 14:28:38 INFO Saving temperature measurement <http://0.0.0.0:8001/thermostat/measurements/f5b24342-e14a-41b9-be3d-641eb384fd3a>\n"
     ]
    },
    {
     "ename": "KeyboardInterrupt",
     "evalue": "",
     "output_type": "error",
     "traceback": [
      "\u001b[0;31m---------------------------------------------------------------------------\u001b[0m",
      "\u001b[0;31mKeyboardInterrupt\u001b[0m                         Traceback (most recent call last)",
      "Cell \u001b[0;32mIn[9], line 1\u001b[0m\n\u001b[0;32m----> 1\u001b[0m \u001b[43mstart_storage_kb\u001b[49m\u001b[43m(\u001b[49m\n\u001b[1;32m      2\u001b[0m \u001b[43m    \u001b[49m\u001b[38;5;124;43m\"\u001b[39;49m\u001b[38;5;124;43mhttp://example.org/storage\u001b[39;49m\u001b[38;5;124;43m\"\u001b[39;49m\u001b[43m,\u001b[49m\n\u001b[1;32m      3\u001b[0m \u001b[43m    \u001b[49m\u001b[38;5;124;43m\"\u001b[39;49m\u001b[38;5;124;43mStorage\u001b[39;49m\u001b[38;5;124;43m\"\u001b[39;49m\u001b[43m,\u001b[49m\n\u001b[1;32m      4\u001b[0m \u001b[43m    \u001b[49m\u001b[38;5;124;43m\"\u001b[39;49m\u001b[38;5;124;43mGraphDB smart connector\u001b[39;49m\u001b[38;5;124;43m\"\u001b[39;49m\u001b[43m,\u001b[49m\n\u001b[1;32m      5\u001b[0m \u001b[43m    \u001b[49m\u001b[38;5;124;43m\"\u001b[39;49m\u001b[38;5;124;43mhttp://knowledge_engine:8280/rest/\u001b[39;49m\u001b[38;5;124;43m\"\u001b[39;49m\u001b[43m,\u001b[49m\n\u001b[1;32m      6\u001b[0m \u001b[43m)\u001b[49m\n",
      "Cell \u001b[0;32mIn[8], line 34\u001b[0m, in \u001b[0;36mstart_storage_kb\u001b[0;34m(kb_id, kb_name, kb_description, ke_endpoint)\u001b[0m\n\u001b[1;32m     31\u001b[0m react_humidity_measurements_ki \u001b[38;5;241m=\u001b[39m \u001b[38;5;124m\"\u001b[39m\u001b[38;5;124mEDIT THIS\u001b[39m\u001b[38;5;124m\"\u001b[39m\n\u001b[1;32m     33\u001b[0m \u001b[38;5;66;03m# start handle loop for handling answer and react kis\u001b[39;00m\n\u001b[0;32m---> 34\u001b[0m \u001b[43mstart_handle_loop\u001b[49m\u001b[43m(\u001b[49m\n\u001b[1;32m     35\u001b[0m \u001b[43m    \u001b[49m\u001b[43m{\u001b[49m\n\u001b[1;32m     36\u001b[0m \u001b[43m        \u001b[49m\u001b[43manswer_temp_measurements_ki\u001b[49m\u001b[43m:\u001b[49m\u001b[43m \u001b[49m\u001b[43mhandle_temp_answer_measurements\u001b[49m\u001b[43m,\u001b[49m\n\u001b[1;32m     37\u001b[0m \u001b[43m        \u001b[49m\u001b[43mreact_temp_measurements_ki\u001b[49m\u001b[43m:\u001b[49m\u001b[43m \u001b[49m\u001b[43mhandle_temp_react_measurements\u001b[49m\u001b[43m,\u001b[49m\n\u001b[1;32m     38\u001b[0m \u001b[43m        \u001b[49m\u001b[38;5;66;43;03m# ADD SOMETHING HERE\u001b[39;49;00m\n\u001b[1;32m     39\u001b[0m \u001b[43m    \u001b[49m\u001b[43m}\u001b[49m\u001b[43m,\u001b[49m\n\u001b[1;32m     40\u001b[0m \u001b[43m    \u001b[49m\u001b[43mkb_id\u001b[49m\u001b[43m,\u001b[49m\n\u001b[1;32m     41\u001b[0m \u001b[43m    \u001b[49m\u001b[43mke_endpoint\u001b[49m\u001b[43m,\u001b[49m\n\u001b[1;32m     42\u001b[0m \u001b[43m\u001b[49m\u001b[43m)\u001b[49m\n",
      "File \u001b[0;32m~/work/BScP_NBs/utils.py:279\u001b[0m, in \u001b[0;36mstart_handle_loop\u001b[0;34m(handlers, kb_id, ke_endpoint)\u001b[0m\n\u001b[1;32m    276\u001b[0m handler \u001b[38;5;241m=\u001b[39m handlers[ki_id]\n\u001b[1;32m    278\u001b[0m \u001b[38;5;66;03m# pass the bindings to the handler, and let it handle them\u001b[39;00m\n\u001b[0;32m--> 279\u001b[0m result_bindings \u001b[38;5;241m=\u001b[39m \u001b[43mhandler\u001b[49m\u001b[43m(\u001b[49m\u001b[43mbindings\u001b[49m\u001b[43m)\u001b[49m\n\u001b[1;32m    281\u001b[0m handle_response \u001b[38;5;241m=\u001b[39m requests\u001b[38;5;241m.\u001b[39mpost(\n\u001b[1;32m    282\u001b[0m     ke_endpoint \u001b[38;5;241m+\u001b[39m \u001b[38;5;124m\"\u001b[39m\u001b[38;5;124msc/handle\u001b[39m\u001b[38;5;124m\"\u001b[39m,\n\u001b[1;32m    283\u001b[0m     json\u001b[38;5;241m=\u001b[39m{\n\u001b[0;32m   (...)\u001b[0m\n\u001b[1;32m    290\u001b[0m     },\n\u001b[1;32m    291\u001b[0m )\n\u001b[1;32m    293\u001b[0m \u001b[38;5;28;01mif\u001b[39;00m \u001b[38;5;129;01mnot\u001b[39;00m handle_response\u001b[38;5;241m.\u001b[39mok:\n",
      "Cell \u001b[0;32mIn[6], line 34\u001b[0m, in \u001b[0;36mhandle_temp_react_measurements\u001b[0;34m(bindings)\u001b[0m\n\u001b[1;32m     32\u001b[0m \u001b[38;5;28;01mdef\u001b[39;00m \u001b[38;5;21mhandle_temp_react_measurements\u001b[39m(bindings):\n\u001b[1;32m     33\u001b[0m     \u001b[38;5;66;03m# storing the live temp measurements in GraphDB\u001b[39;00m\n\u001b[0;32m---> 34\u001b[0m     \u001b[43msp\u001b[49m\u001b[38;5;241;43m.\u001b[39;49m\u001b[43mstore_data_in_graphdb\u001b[49m\u001b[43m(\u001b[49m\n\u001b[1;32m     35\u001b[0m \u001b[43m        \u001b[49m\u001b[43mgraph_pattern\u001b[49m\u001b[38;5;241;43m=\u001b[39;49m\u001b[43mTEMP_MEAS_GRAPH_PATTERN\u001b[49m\u001b[43m,\u001b[49m\n\u001b[1;32m     36\u001b[0m \u001b[43m        \u001b[49m\u001b[43mbinding_set\u001b[49m\u001b[38;5;241;43m=\u001b[39;49m\u001b[43mbindings\u001b[49m\u001b[43m,\u001b[49m\n\u001b[1;32m     37\u001b[0m \u001b[43m        \u001b[49m\u001b[43mprefixes\u001b[49m\u001b[38;5;241;43m=\u001b[39;49m\u001b[43mPREFIXES\u001b[49m\u001b[43m,\u001b[49m\n\u001b[1;32m     38\u001b[0m \u001b[43m        \u001b[49m\u001b[43mread_url\u001b[49m\u001b[38;5;241;43m=\u001b[39;49m\u001b[43mREAD_URL\u001b[49m\u001b[43m,\u001b[49m\n\u001b[1;32m     39\u001b[0m \u001b[43m        \u001b[49m\u001b[43mwrite_url\u001b[49m\u001b[38;5;241;43m=\u001b[39;49m\u001b[43mWRITE_URL\u001b[49m\u001b[43m,\u001b[49m\n\u001b[1;32m     40\u001b[0m \u001b[43m    \u001b[49m\u001b[43m)\u001b[49m\n\u001b[1;32m     41\u001b[0m     \u001b[38;5;28;01mfor\u001b[39;00m binding \u001b[38;5;129;01min\u001b[39;00m bindings:\n\u001b[1;32m     42\u001b[0m         logger\u001b[38;5;241m.\u001b[39minfo(\u001b[38;5;124mf\u001b[39m\u001b[38;5;124m\"\u001b[39m\u001b[38;5;124mSaving temperature measurement \u001b[39m\u001b[38;5;132;01m{\u001b[39;00mbinding[\u001b[38;5;124m'\u001b[39m\u001b[38;5;124mmeas\u001b[39m\u001b[38;5;124m'\u001b[39m]\u001b[38;5;132;01m}\u001b[39;00m\u001b[38;5;124m\"\u001b[39m)\n",
      "File \u001b[0;32m~/work/BScP_NBs/helpers.py:141\u001b[0m, in \u001b[0;36mstore_data_in_graphdb\u001b[0;34m(graph_pattern, binding_set, prefixes, read_url, write_url)\u001b[0m\n\u001b[1;32m    139\u001b[0m \u001b[38;5;66;03m# TODO: fix this 500 error\u001b[39;00m\n\u001b[1;32m    140\u001b[0m \u001b[38;5;28;01mtry\u001b[39;00m:\n\u001b[0;32m--> 141\u001b[0m     \u001b[43mstore\u001b[49m\u001b[38;5;241;43m.\u001b[39;49m\u001b[43madd_graph\u001b[49m\u001b[43m(\u001b[49m\u001b[43mg\u001b[49m\u001b[43m)\u001b[49m\n\u001b[1;32m    142\u001b[0m \u001b[38;5;28;01mexcept\u001b[39;00m \u001b[38;5;167;01mException\u001b[39;00m \u001b[38;5;28;01mas\u001b[39;00m e:\n\u001b[1;32m    143\u001b[0m     \u001b[38;5;28;01mif\u001b[39;00m \u001b[38;5;28mhasattr\u001b[39m(e, \u001b[38;5;124m'\u001b[39m\u001b[38;5;124mcode\u001b[39m\u001b[38;5;124m'\u001b[39m) \u001b[38;5;129;01mand\u001b[39;00m e\u001b[38;5;241m.\u001b[39mcode \u001b[38;5;241m==\u001b[39m \u001b[38;5;241m500\u001b[39m:\n",
      "File \u001b[0;32m/opt/conda/lib/python3.10/site-packages/rdflib/plugins/stores/sparqlstore.py:957\u001b[0m, in \u001b[0;36mSPARQLUpdateStore.add_graph\u001b[0;34m(self, graph)\u001b[0m\n\u001b[1;32m    955\u001b[0m     Store\u001b[38;5;241m.\u001b[39madd_graph(\u001b[38;5;28mself\u001b[39m, graph)\n\u001b[1;32m    956\u001b[0m \u001b[38;5;28;01melif\u001b[39;00m graph\u001b[38;5;241m.\u001b[39midentifier \u001b[38;5;241m!=\u001b[39m DATASET_DEFAULT_GRAPH_ID:\n\u001b[0;32m--> 957\u001b[0m     \u001b[38;5;28;43mself\u001b[39;49m\u001b[38;5;241;43m.\u001b[39;49m\u001b[43mupdate\u001b[49m\u001b[43m(\u001b[49m\u001b[38;5;124;43m\"\u001b[39;49m\u001b[38;5;124;43mCREATE GRAPH \u001b[39;49m\u001b[38;5;132;43;01m%s\u001b[39;49;00m\u001b[38;5;124;43m\"\u001b[39;49m\u001b[43m \u001b[49m\u001b[38;5;241;43m%\u001b[39;49m\u001b[43m \u001b[49m\u001b[38;5;28;43mself\u001b[39;49m\u001b[38;5;241;43m.\u001b[39;49m\u001b[43mnode_to_sparql\u001b[49m\u001b[43m(\u001b[49m\u001b[43mgraph\u001b[49m\u001b[38;5;241;43m.\u001b[39;49m\u001b[43midentifier\u001b[49m\u001b[43m)\u001b[49m\u001b[43m)\u001b[49m\n",
      "File \u001b[0;32m/opt/conda/lib/python3.10/site-packages/rdflib/plugins/stores/sparqlstore.py:894\u001b[0m, in \u001b[0;36mSPARQLUpdateStore.update\u001b[0;34m(self, query, initNs, initBindings, queryGraph, DEBUG)\u001b[0m\n\u001b[1;32m    892\u001b[0m \u001b[38;5;28mself\u001b[39m\u001b[38;5;241m.\u001b[39m_transaction()\u001b[38;5;241m.\u001b[39mappend(query)\n\u001b[1;32m    893\u001b[0m \u001b[38;5;28;01mif\u001b[39;00m \u001b[38;5;28mself\u001b[39m\u001b[38;5;241m.\u001b[39mautocommit:\n\u001b[0;32m--> 894\u001b[0m     \u001b[38;5;28;43mself\u001b[39;49m\u001b[38;5;241;43m.\u001b[39;49m\u001b[43mcommit\u001b[49m\u001b[43m(\u001b[49m\u001b[43m)\u001b[49m\n",
      "File \u001b[0;32m/opt/conda/lib/python3.10/site-packages/rdflib/plugins/stores/sparqlstore.py:726\u001b[0m, in \u001b[0;36mSPARQLUpdateStore.commit\u001b[0;34m(self)\u001b[0m\n\u001b[1;32m    720\u001b[0m \u001b[38;5;250m\u001b[39m\u001b[38;5;124;03m\"\"\"add(), addN(), and remove() are transactional to reduce overhead of many small edits.\u001b[39;00m\n\u001b[1;32m    721\u001b[0m \u001b[38;5;124;03mRead and update() calls will automatically commit any outstanding edits.\u001b[39;00m\n\u001b[1;32m    722\u001b[0m \u001b[38;5;124;03mThis should behave as expected most of the time, except that alternating writes\u001b[39;00m\n\u001b[1;32m    723\u001b[0m \u001b[38;5;124;03mand reads can degenerate to the original call-per-triple situation that originally existed.\u001b[39;00m\n\u001b[1;32m    724\u001b[0m \u001b[38;5;124;03m\"\"\"\u001b[39;00m\n\u001b[1;32m    725\u001b[0m \u001b[38;5;28;01mif\u001b[39;00m \u001b[38;5;28mself\u001b[39m\u001b[38;5;241m.\u001b[39m_edits \u001b[38;5;129;01mand\u001b[39;00m \u001b[38;5;28mlen\u001b[39m(\u001b[38;5;28mself\u001b[39m\u001b[38;5;241m.\u001b[39m_edits) \u001b[38;5;241m>\u001b[39m \u001b[38;5;241m0\u001b[39m:\n\u001b[0;32m--> 726\u001b[0m     \u001b[38;5;28;43mself\u001b[39;49m\u001b[38;5;241;43m.\u001b[39;49m\u001b[43m_update\u001b[49m\u001b[43m(\u001b[49m\u001b[38;5;124;43m\"\u001b[39;49m\u001b[38;5;130;43;01m\\n\u001b[39;49;00m\u001b[38;5;124;43m;\u001b[39;49m\u001b[38;5;130;43;01m\\n\u001b[39;49;00m\u001b[38;5;124;43m\"\u001b[39;49m\u001b[38;5;241;43m.\u001b[39;49m\u001b[43mjoin\u001b[49m\u001b[43m(\u001b[49m\u001b[38;5;28;43mself\u001b[39;49m\u001b[38;5;241;43m.\u001b[39;49m\u001b[43m_edits\u001b[49m\u001b[43m)\u001b[49m\u001b[43m)\u001b[49m\n\u001b[1;32m    727\u001b[0m     \u001b[38;5;28mself\u001b[39m\u001b[38;5;241m.\u001b[39m_edits \u001b[38;5;241m=\u001b[39m \u001b[38;5;28;01mNone\u001b[39;00m\n",
      "File \u001b[0;32m/opt/conda/lib/python3.10/site-packages/rdflib/plugins/stores/sparqlstore.py:821\u001b[0m, in \u001b[0;36mSPARQLUpdateStore._update\u001b[0;34m(self, update)\u001b[0m\n\u001b[1;32m    818\u001b[0m \u001b[38;5;28;01mdef\u001b[39;00m \u001b[38;5;21m_update\u001b[39m(\u001b[38;5;28mself\u001b[39m, update):\n\u001b[1;32m    819\u001b[0m     \u001b[38;5;28mself\u001b[39m\u001b[38;5;241m.\u001b[39m_updates \u001b[38;5;241m+\u001b[39m\u001b[38;5;241m=\u001b[39m \u001b[38;5;241m1\u001b[39m\n\u001b[0;32m--> 821\u001b[0m     \u001b[43mSPARQLConnector\u001b[49m\u001b[38;5;241;43m.\u001b[39;49m\u001b[43mupdate\u001b[49m\u001b[43m(\u001b[49m\u001b[38;5;28;43mself\u001b[39;49m\u001b[43m,\u001b[49m\u001b[43m \u001b[49m\u001b[43mupdate\u001b[49m\u001b[43m)\u001b[49m\n",
      "File \u001b[0;32m/opt/conda/lib/python3.10/site-packages/rdflib/plugins/stores/sparqlconnector.py:183\u001b[0m, in \u001b[0;36mSPARQLConnector.update\u001b[0;34m(self, query, default_graph, named_graph)\u001b[0m\n\u001b[1;32m    180\u001b[0m args[\u001b[38;5;124m\"\u001b[39m\u001b[38;5;124mheaders\u001b[39m\u001b[38;5;124m\"\u001b[39m]\u001b[38;5;241m.\u001b[39mupdate(headers)\n\u001b[1;32m    182\u001b[0m qsa \u001b[38;5;241m=\u001b[39m \u001b[38;5;124m\"\u001b[39m\u001b[38;5;124m?\u001b[39m\u001b[38;5;124m\"\u001b[39m \u001b[38;5;241m+\u001b[39m urlencode(args[\u001b[38;5;124m\"\u001b[39m\u001b[38;5;124mparams\u001b[39m\u001b[38;5;124m\"\u001b[39m])\n\u001b[0;32m--> 183\u001b[0m res \u001b[38;5;241m=\u001b[39m \u001b[43murlopen\u001b[49m\u001b[43m(\u001b[49m\u001b[43m  \u001b[49m\u001b[38;5;66;43;03m# noqa: F841\u001b[39;49;00m\n\u001b[1;32m    184\u001b[0m \u001b[43m    \u001b[49m\u001b[43mRequest\u001b[49m\u001b[43m(\u001b[49m\n\u001b[1;32m    185\u001b[0m \u001b[43m        \u001b[49m\u001b[38;5;28;43mself\u001b[39;49m\u001b[38;5;241;43m.\u001b[39;49m\u001b[43mupdate_endpoint\u001b[49m\u001b[43m \u001b[49m\u001b[38;5;241;43m+\u001b[39;49m\u001b[43m \u001b[49m\u001b[43mqsa\u001b[49m\u001b[43m,\u001b[49m\u001b[43m \u001b[49m\u001b[43mdata\u001b[49m\u001b[38;5;241;43m=\u001b[39;49m\u001b[43mquery\u001b[49m\u001b[38;5;241;43m.\u001b[39;49m\u001b[43mencode\u001b[49m\u001b[43m(\u001b[49m\u001b[43m)\u001b[49m\u001b[43m,\u001b[49m\u001b[43m \u001b[49m\u001b[43mheaders\u001b[49m\u001b[38;5;241;43m=\u001b[39;49m\u001b[43margs\u001b[49m\u001b[43m[\u001b[49m\u001b[38;5;124;43m\"\u001b[39;49m\u001b[38;5;124;43mheaders\u001b[39;49m\u001b[38;5;124;43m\"\u001b[39;49m\u001b[43m]\u001b[49m\n\u001b[1;32m    186\u001b[0m \u001b[43m    \u001b[49m\u001b[43m)\u001b[49m\n\u001b[1;32m    187\u001b[0m \u001b[43m\u001b[49m\u001b[43m)\u001b[49m\n",
      "File \u001b[0;32m/opt/conda/lib/python3.10/urllib/request.py:216\u001b[0m, in \u001b[0;36murlopen\u001b[0;34m(url, data, timeout, cafile, capath, cadefault, context)\u001b[0m\n\u001b[1;32m    214\u001b[0m \u001b[38;5;28;01melse\u001b[39;00m:\n\u001b[1;32m    215\u001b[0m     opener \u001b[38;5;241m=\u001b[39m _opener\n\u001b[0;32m--> 216\u001b[0m \u001b[38;5;28;01mreturn\u001b[39;00m \u001b[43mopener\u001b[49m\u001b[38;5;241;43m.\u001b[39;49m\u001b[43mopen\u001b[49m\u001b[43m(\u001b[49m\u001b[43murl\u001b[49m\u001b[43m,\u001b[49m\u001b[43m \u001b[49m\u001b[43mdata\u001b[49m\u001b[43m,\u001b[49m\u001b[43m \u001b[49m\u001b[43mtimeout\u001b[49m\u001b[43m)\u001b[49m\n",
      "File \u001b[0;32m/opt/conda/lib/python3.10/urllib/request.py:519\u001b[0m, in \u001b[0;36mOpenerDirector.open\u001b[0;34m(self, fullurl, data, timeout)\u001b[0m\n\u001b[1;32m    516\u001b[0m     req \u001b[38;5;241m=\u001b[39m meth(req)\n\u001b[1;32m    518\u001b[0m sys\u001b[38;5;241m.\u001b[39maudit(\u001b[38;5;124m'\u001b[39m\u001b[38;5;124murllib.Request\u001b[39m\u001b[38;5;124m'\u001b[39m, req\u001b[38;5;241m.\u001b[39mfull_url, req\u001b[38;5;241m.\u001b[39mdata, req\u001b[38;5;241m.\u001b[39mheaders, req\u001b[38;5;241m.\u001b[39mget_method())\n\u001b[0;32m--> 519\u001b[0m response \u001b[38;5;241m=\u001b[39m \u001b[38;5;28;43mself\u001b[39;49m\u001b[38;5;241;43m.\u001b[39;49m\u001b[43m_open\u001b[49m\u001b[43m(\u001b[49m\u001b[43mreq\u001b[49m\u001b[43m,\u001b[49m\u001b[43m \u001b[49m\u001b[43mdata\u001b[49m\u001b[43m)\u001b[49m\n\u001b[1;32m    521\u001b[0m \u001b[38;5;66;03m# post-process response\u001b[39;00m\n\u001b[1;32m    522\u001b[0m meth_name \u001b[38;5;241m=\u001b[39m protocol\u001b[38;5;241m+\u001b[39m\u001b[38;5;124m\"\u001b[39m\u001b[38;5;124m_response\u001b[39m\u001b[38;5;124m\"\u001b[39m\n",
      "File \u001b[0;32m/opt/conda/lib/python3.10/urllib/request.py:536\u001b[0m, in \u001b[0;36mOpenerDirector._open\u001b[0;34m(self, req, data)\u001b[0m\n\u001b[1;32m    533\u001b[0m     \u001b[38;5;28;01mreturn\u001b[39;00m result\n\u001b[1;32m    535\u001b[0m protocol \u001b[38;5;241m=\u001b[39m req\u001b[38;5;241m.\u001b[39mtype\n\u001b[0;32m--> 536\u001b[0m result \u001b[38;5;241m=\u001b[39m \u001b[38;5;28;43mself\u001b[39;49m\u001b[38;5;241;43m.\u001b[39;49m\u001b[43m_call_chain\u001b[49m\u001b[43m(\u001b[49m\u001b[38;5;28;43mself\u001b[39;49m\u001b[38;5;241;43m.\u001b[39;49m\u001b[43mhandle_open\u001b[49m\u001b[43m,\u001b[49m\u001b[43m \u001b[49m\u001b[43mprotocol\u001b[49m\u001b[43m,\u001b[49m\u001b[43m \u001b[49m\u001b[43mprotocol\u001b[49m\u001b[43m \u001b[49m\u001b[38;5;241;43m+\u001b[39;49m\n\u001b[1;32m    537\u001b[0m \u001b[43m                          \u001b[49m\u001b[38;5;124;43m'\u001b[39;49m\u001b[38;5;124;43m_open\u001b[39;49m\u001b[38;5;124;43m'\u001b[39;49m\u001b[43m,\u001b[49m\u001b[43m \u001b[49m\u001b[43mreq\u001b[49m\u001b[43m)\u001b[49m\n\u001b[1;32m    538\u001b[0m \u001b[38;5;28;01mif\u001b[39;00m result:\n\u001b[1;32m    539\u001b[0m     \u001b[38;5;28;01mreturn\u001b[39;00m result\n",
      "File \u001b[0;32m/opt/conda/lib/python3.10/urllib/request.py:496\u001b[0m, in \u001b[0;36mOpenerDirector._call_chain\u001b[0;34m(self, chain, kind, meth_name, *args)\u001b[0m\n\u001b[1;32m    494\u001b[0m \u001b[38;5;28;01mfor\u001b[39;00m handler \u001b[38;5;129;01min\u001b[39;00m handlers:\n\u001b[1;32m    495\u001b[0m     func \u001b[38;5;241m=\u001b[39m \u001b[38;5;28mgetattr\u001b[39m(handler, meth_name)\n\u001b[0;32m--> 496\u001b[0m     result \u001b[38;5;241m=\u001b[39m \u001b[43mfunc\u001b[49m\u001b[43m(\u001b[49m\u001b[38;5;241;43m*\u001b[39;49m\u001b[43margs\u001b[49m\u001b[43m)\u001b[49m\n\u001b[1;32m    497\u001b[0m     \u001b[38;5;28;01mif\u001b[39;00m result \u001b[38;5;129;01mis\u001b[39;00m \u001b[38;5;129;01mnot\u001b[39;00m \u001b[38;5;28;01mNone\u001b[39;00m:\n\u001b[1;32m    498\u001b[0m         \u001b[38;5;28;01mreturn\u001b[39;00m result\n",
      "File \u001b[0;32m/opt/conda/lib/python3.10/urllib/request.py:1391\u001b[0m, in \u001b[0;36mHTTPSHandler.https_open\u001b[0;34m(self, req)\u001b[0m\n\u001b[1;32m   1390\u001b[0m \u001b[38;5;28;01mdef\u001b[39;00m \u001b[38;5;21mhttps_open\u001b[39m(\u001b[38;5;28mself\u001b[39m, req):\n\u001b[0;32m-> 1391\u001b[0m     \u001b[38;5;28;01mreturn\u001b[39;00m \u001b[38;5;28;43mself\u001b[39;49m\u001b[38;5;241;43m.\u001b[39;49m\u001b[43mdo_open\u001b[49m\u001b[43m(\u001b[49m\u001b[43mhttp\u001b[49m\u001b[38;5;241;43m.\u001b[39;49m\u001b[43mclient\u001b[49m\u001b[38;5;241;43m.\u001b[39;49m\u001b[43mHTTPSConnection\u001b[49m\u001b[43m,\u001b[49m\u001b[43m \u001b[49m\u001b[43mreq\u001b[49m\u001b[43m,\u001b[49m\n\u001b[1;32m   1392\u001b[0m \u001b[43m        \u001b[49m\u001b[43mcontext\u001b[49m\u001b[38;5;241;43m=\u001b[39;49m\u001b[38;5;28;43mself\u001b[39;49m\u001b[38;5;241;43m.\u001b[39;49m\u001b[43m_context\u001b[49m\u001b[43m,\u001b[49m\u001b[43m \u001b[49m\u001b[43mcheck_hostname\u001b[49m\u001b[38;5;241;43m=\u001b[39;49m\u001b[38;5;28;43mself\u001b[39;49m\u001b[38;5;241;43m.\u001b[39;49m\u001b[43m_check_hostname\u001b[49m\u001b[43m)\u001b[49m\n",
      "File \u001b[0;32m/opt/conda/lib/python3.10/urllib/request.py:1317\u001b[0m, in \u001b[0;36mAbstractHTTPHandler.do_open\u001b[0;34m(self, http_class, req, **http_conn_args)\u001b[0m\n\u001b[1;32m   1314\u001b[0m     \u001b[38;5;28;01mraise\u001b[39;00m URLError(\u001b[38;5;124m'\u001b[39m\u001b[38;5;124mno host given\u001b[39m\u001b[38;5;124m'\u001b[39m)\n\u001b[1;32m   1316\u001b[0m \u001b[38;5;66;03m# will parse host:port\u001b[39;00m\n\u001b[0;32m-> 1317\u001b[0m h \u001b[38;5;241m=\u001b[39m \u001b[43mhttp_class\u001b[49m\u001b[43m(\u001b[49m\u001b[43mhost\u001b[49m\u001b[43m,\u001b[49m\u001b[43m \u001b[49m\u001b[43mtimeout\u001b[49m\u001b[38;5;241;43m=\u001b[39;49m\u001b[43mreq\u001b[49m\u001b[38;5;241;43m.\u001b[39;49m\u001b[43mtimeout\u001b[49m\u001b[43m,\u001b[49m\u001b[43m \u001b[49m\u001b[38;5;241;43m*\u001b[39;49m\u001b[38;5;241;43m*\u001b[39;49m\u001b[43mhttp_conn_args\u001b[49m\u001b[43m)\u001b[49m\n\u001b[1;32m   1318\u001b[0m h\u001b[38;5;241m.\u001b[39mset_debuglevel(\u001b[38;5;28mself\u001b[39m\u001b[38;5;241m.\u001b[39m_debuglevel)\n\u001b[1;32m   1320\u001b[0m headers \u001b[38;5;241m=\u001b[39m \u001b[38;5;28mdict\u001b[39m(req\u001b[38;5;241m.\u001b[39munredirected_hdrs)\n",
      "File \u001b[0;32m/opt/conda/lib/python3.10/http/client.py:1422\u001b[0m, in \u001b[0;36mHTTPSConnection.__init__\u001b[0;34m(self, host, port, key_file, cert_file, timeout, source_address, context, check_hostname, blocksize)\u001b[0m\n\u001b[1;32m   1420\u001b[0m \u001b[38;5;28mself\u001b[39m\u001b[38;5;241m.\u001b[39mcert_file \u001b[38;5;241m=\u001b[39m cert_file\n\u001b[1;32m   1421\u001b[0m \u001b[38;5;28;01mif\u001b[39;00m context \u001b[38;5;129;01mis\u001b[39;00m \u001b[38;5;28;01mNone\u001b[39;00m:\n\u001b[0;32m-> 1422\u001b[0m     context \u001b[38;5;241m=\u001b[39m \u001b[43mssl\u001b[49m\u001b[38;5;241;43m.\u001b[39;49m\u001b[43m_create_default_https_context\u001b[49m\u001b[43m(\u001b[49m\u001b[43m)\u001b[49m\n\u001b[1;32m   1423\u001b[0m     \u001b[38;5;66;03m# send ALPN extension to indicate HTTP/1.1 protocol\u001b[39;00m\n\u001b[1;32m   1424\u001b[0m     \u001b[38;5;28;01mif\u001b[39;00m \u001b[38;5;28mself\u001b[39m\u001b[38;5;241m.\u001b[39m_http_vsn \u001b[38;5;241m==\u001b[39m \u001b[38;5;241m11\u001b[39m:\n",
      "File \u001b[0;32m/opt/conda/lib/python3.10/ssl.py:771\u001b[0m, in \u001b[0;36mcreate_default_context\u001b[0;34m(purpose, cafile, capath, cadata)\u001b[0m\n\u001b[1;32m    766\u001b[0m     context\u001b[38;5;241m.\u001b[39mload_verify_locations(cafile, capath, cadata)\n\u001b[1;32m    767\u001b[0m \u001b[38;5;28;01melif\u001b[39;00m context\u001b[38;5;241m.\u001b[39mverify_mode \u001b[38;5;241m!=\u001b[39m CERT_NONE:\n\u001b[1;32m    768\u001b[0m     \u001b[38;5;66;03m# no explicit cafile, capath or cadata but the verify mode is\u001b[39;00m\n\u001b[1;32m    769\u001b[0m     \u001b[38;5;66;03m# CERT_OPTIONAL or CERT_REQUIRED. Let's try to load default system\u001b[39;00m\n\u001b[1;32m    770\u001b[0m     \u001b[38;5;66;03m# root CA certificates for the given purpose. This may fail silently.\u001b[39;00m\n\u001b[0;32m--> 771\u001b[0m     \u001b[43mcontext\u001b[49m\u001b[38;5;241;43m.\u001b[39;49m\u001b[43mload_default_certs\u001b[49m\u001b[43m(\u001b[49m\u001b[43mpurpose\u001b[49m\u001b[43m)\u001b[49m\n\u001b[1;32m    772\u001b[0m \u001b[38;5;66;03m# OpenSSL 1.1.1 keylog file\u001b[39;00m\n\u001b[1;32m    773\u001b[0m \u001b[38;5;28;01mif\u001b[39;00m \u001b[38;5;28mhasattr\u001b[39m(context, \u001b[38;5;124m'\u001b[39m\u001b[38;5;124mkeylog_filename\u001b[39m\u001b[38;5;124m'\u001b[39m):\n",
      "File \u001b[0;32m/opt/conda/lib/python3.10/ssl.py:593\u001b[0m, in \u001b[0;36mSSLContext.load_default_certs\u001b[0;34m(self, purpose)\u001b[0m\n\u001b[1;32m    591\u001b[0m     \u001b[38;5;28;01mfor\u001b[39;00m storename \u001b[38;5;129;01min\u001b[39;00m \u001b[38;5;28mself\u001b[39m\u001b[38;5;241m.\u001b[39m_windows_cert_stores:\n\u001b[1;32m    592\u001b[0m         \u001b[38;5;28mself\u001b[39m\u001b[38;5;241m.\u001b[39m_load_windows_store_certs(storename, purpose)\n\u001b[0;32m--> 593\u001b[0m \u001b[38;5;28;43mself\u001b[39;49m\u001b[38;5;241;43m.\u001b[39;49m\u001b[43mset_default_verify_paths\u001b[49m\u001b[43m(\u001b[49m\u001b[43m)\u001b[49m\n",
      "\u001b[0;31mKeyboardInterrupt\u001b[0m: "
     ]
    }
   ],
   "source": [
    "start_storage_kb(\n",
    "    \"http://example.org/storage\",\n",
    "    \"Storage\",\n",
    "    \"GraphDB smart connector\",\n",
    "    \"http://knowledge_engine:8280/rest/\",\n",
    ")"
   ]
  }
 ],
 "metadata": {
  "kernelspec": {
   "display_name": "Python 3 (ipykernel)",
   "language": "python",
   "name": "python3"
  },
  "language_info": {
   "codemirror_mode": {
    "name": "ipython",
    "version": 3
   },
   "file_extension": ".py",
   "mimetype": "text/x-python",
   "name": "python",
   "nbconvert_exporter": "python",
   "pygments_lexer": "ipython3",
   "version": "3.10.11"
  }
 },
 "nbformat": 4,
 "nbformat_minor": 5
}
