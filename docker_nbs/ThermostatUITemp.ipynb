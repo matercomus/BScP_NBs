{
 "cells": [
  {
   "cell_type": "code",
   "execution_count": 1,
   "id": "d5e3ad65-5dcf-4000-a1e8-0459c89d27bd",
   "metadata": {
    "tags": []
   },
   "outputs": [],
   "source": [
    "# Thermostat UI2"
   ]
  },
  {
   "cell_type": "code",
   "execution_count": 2,
   "id": "43ef0da5-5651-4c83-8b17-1fbc3c11a391",
   "metadata": {
    "tags": []
   },
   "outputs": [],
   "source": [
    "import requests\n",
    "from ipywidgets import Button, HBox, IntProgress, IntSlider, Label, Layout, VBox\n",
    "import time\n",
    "import logging\n",
    "from utils import *\n",
    "import uuid\n",
    "import smartpynector as sp\n",
    "\n",
    "import ipywidgets as widgets\n",
    "from IPython.display import display\n",
    "import time\n",
    "\n",
    "logging.basicConfig(level=logging.INFO)\n",
    "logger = logging.getLogger(__name__)"
   ]
  },
  {
   "cell_type": "code",
   "execution_count": 3,
   "id": "45b09c5f-545d-458a-b30e-e9f06cabb123",
   "metadata": {
    "tags": []
   },
   "outputs": [],
   "source": [
    "THERMOSTAT_API_URL = \"http://0.0.0.0:8001/thermostat\"\n",
    "PREFIXES={\n",
    "        \"rdf\": \"http://www.w3.org/1999/02/22-rdf-syntax-ns#\",\n",
    "        \"saref\": \"https://w3id.org/saref#\",\n",
    "    }\n",
    "\n",
    "GRAPH_PATTERN_REACT = \"\"\"?meas rdf:type saref:Measurement .\n",
    "                     ?meas saref:hasValue ?temp .\n",
    "                     ?meas saref:isMeasuredIn saref:TemperatureUnit .\n",
    "                     ?meas saref:hasTimestamp ?timestamp .\n",
    "                     ?meas saref:isMeasurementOf ?room_id .\n",
    "                     ?meas saref:relatesToProperty saref:Temperature .\n",
    "                     ?meas saref:measurementMadeBy ?device_id .\"\"\"\n",
    "\n",
    "GRAPH_PATTERN_POST = \"\"\"?setting rdf:type saref:SetLevelCommand .\n",
    "                    ?setting saref:hasValue ?desired_temp .\n",
    "                    ?setting saref:isMeasuredIn saref:TemperatureUnit .\n",
    "                    ?setting saref:hasTimestamp ?timestamp .\n",
    "                    ?setting saref:isCommandOf ?room_id .\n",
    "                    ?setting saref:relatesToProperty saref:Temperature .\n",
    "                    ?setting saref:commandIssuedBy ?device_id .\n",
    "                    \"\"\"\n"
   ]
  },
  {
   "cell_type": "code",
   "execution_count": 4,
   "id": "c4dbc75a-61e5-4129-853b-68502ed22a53",
   "metadata": {
    "tags": []
   },
   "outputs": [],
   "source": [
    "label_actual = widgets.Label(value='', orientation='vertical')\n",
    "progress = widgets.IntProgress(value=0, min=0, max=50, step=1, description='', bar_style='info', orientation='vertical')\n",
    "desired_temp_slider = IntSlider(value=0, min=0, max=50, orientation=\"vertical\")\n",
    "label_desired = widgets.Label(value='', orientation='vertical')\n",
    "submit_button = Button(description=\"Submit\", button_style=\"danger\")\n"
   ]
  },
  {
   "cell_type": "code",
   "execution_count": 5,
   "id": "bbfd159a-1f18-4bcd-82e1-1b742ea38500",
   "metadata": {
    "tags": []
   },
   "outputs": [],
   "source": [
    "def handle_react_measurements(bindings):\n",
    "    for binding in bindings:\n",
    "        progress.value = binding['temp']\n",
    "        label_actual.value = f\"{ binding['temp'] } ℃\"\n",
    "    return []"
   ]
  },
  {
   "cell_type": "code",
   "execution_count": 6,
   "id": "910fb8da-30ef-4891-98d4-457ff3721eca",
   "metadata": {
    "tags": []
   },
   "outputs": [],
   "source": [
    "def start_ui_kb(kb_id, kb_name, kb_description, ke_endpoint):\n",
    "    register_knowledge_base(kb_id, kb_name, kb_description, ke_endpoint)\n",
    "\n",
    "    react_measurements_ki = register_react_knowledge_interaction(\n",
    "        GRAPH_PATTERN_REACT,\n",
    "        None,\n",
    "        \"react-measurements\",\n",
    "        kb_id,\n",
    "        ke_endpoint,\n",
    "        PREFIXES,\n",
    "    )\n",
    "    global post_ki_id\n",
    "    post_ki_id = register_post_knowledge_interaction(\n",
    "        GRAPH_PATTERN_POST,\n",
    "        None,\n",
    "        \"post-desired-temp\",\n",
    "        kb_id,\n",
    "        ke_endpoint,\n",
    "        PREFIXES,\n",
    "    )\n",
    "\n",
    "    start_handle_loop(\n",
    "        {\n",
    "            react_measurements_ki: handle_react_measurements,\n",
    "        },\n",
    "        kb_id,\n",
    "        ke_endpoint,\n",
    "    )\n"
   ]
  },
  {
   "cell_type": "code",
   "execution_count": 7,
   "id": "2e2a928e-0c59-4bb0-8dc5-d291323d3823",
   "metadata": {},
   "outputs": [],
   "source": [
    "desired_temp=0\n",
    "def update_desired_temp(change):\n",
    "    global desired_temp\n",
    "    desired_temp = change.new\n",
    "    label_desired.value = f\"{ change.new } ℃\"\n",
    "\n",
    "def button_click(desired_temp,post_ki_id, kb_id, ke_endpoint):\n",
    "    logger.info(f'Posting desired temp: {desired_temp}')\n",
    "    post(\n",
    "            [\n",
    "                {\n",
    "                    \"setting\": f\"<{THERMOSTAT_API_URL}/settings/{str(uuid.uuid4())}>\",\n",
    "                    \"desired_temp\": f\"{desired_temp}\",\n",
    "                    \"timestamp\": f'\"{get_timestamp_now()}\"',  # ISO 8601 format\n",
    "                    \"room_id\": f'\"{THERMOSTAT_API_URL}/rooms/1\"',\n",
    "                    \"device_id\": f'\"{THERMOSTAT_API_URL}/devices/1\"',\n",
    "                }\n",
    "            ], post_ki_id, kb_id, ke_endpoint)\n"
   ]
  },
  {
   "cell_type": "code",
   "execution_count": 8,
   "id": "5f0745f0-16fc-42da-8aea-1f715251bd47",
   "metadata": {
    "tags": []
   },
   "outputs": [],
   "source": [
    "import threading\n",
    "\n",
    "def start_ui_kb_thread():\n",
    "    start_ui_kb(\n",
    "        \"http://example.org/ui\",\n",
    "        \"UI\",\n",
    "        \"UI for measurement\",\n",
    "        \"http://knowledge_engine:8280/rest/\",\n",
    "    )\n",
    "\n",
    "thread = threading.Thread(target=start_ui_kb_thread)\n",
    "thread.start()"
   ]
  },
  {
   "cell_type": "code",
   "execution_count": 9,
   "id": "71416d3b-5d87-4a73-a112-8b6dad4295fe",
   "metadata": {},
   "outputs": [
    {
     "data": {
      "application/vnd.jupyter.widget-view+json": {
       "model_id": "8e911240af7a47f38ea212589b5141e7",
       "version_major": 2,
       "version_minor": 0
      },
      "text/plain": [
       "VBox(children=(HBox(children=(Label(value=''), IntProgress(value=0, bar_style='info', max=50, orientation='ver…"
      ]
     },
     "metadata": {},
     "output_type": "display_data"
    }
   ],
   "source": [
    "display(VBox([ HBox([label_actual,progress,desired_temp_slider,label_desired]),submit_button]))\n",
    "submit_button.on_click(lambda x: button_click(desired_temp,post_ki_id, \"http://example.org/ui\", \"http://knowledge_engine:8280/rest/\",))\n",
    "desired_temp_slider.observe(update_desired_temp, names=\"value\")"
   ]
  },
  {
   "cell_type": "code",
   "execution_count": null,
   "id": "5ed4a5ce-167b-4bbb-8f89-d1c1fdffa9b8",
   "metadata": {},
   "outputs": [],
   "source": []
  }
 ],
 "metadata": {
  "kernelspec": {
   "display_name": "Python 3 (ipykernel)",
   "language": "python",
   "name": "python3"
  },
  "language_info": {
   "codemirror_mode": {
    "name": "ipython",
    "version": 3
   },
   "file_extension": ".py",
   "mimetype": "text/x-python",
   "name": "python",
   "nbconvert_exporter": "python",
   "pygments_lexer": "ipython3",
   "version": "3.10.11"
  }
 },
 "nbformat": 4,
 "nbformat_minor": 5
}
