{
 "cells": [
  {
   "cell_type": "code",
   "execution_count": 5,
   "metadata": {},
   "outputs": [
    {
     "name": "stdout",
     "output_type": "stream",
     "text": [
      "Collecting seaborn\n",
      "  Downloading seaborn-0.12.2-py3-none-any.whl (293 kB)\n",
      "\u001b[2K     \u001b[90m━━━━━━━━━━━━━━━━━━━━━━━━━━━━━━━━━━━━━━━\u001b[0m \u001b[32m293.3/293.3 kB\u001b[0m \u001b[31m5.1 MB/s\u001b[0m eta \u001b[36m0:00:00\u001b[0m00:01\u001b[0m\n",
      "\u001b[?25hCollecting matplotlib\n",
      "  Downloading matplotlib-3.7.1-cp310-cp310-manylinux_2_17_x86_64.manylinux2014_x86_64.whl (11.6 MB)\n",
      "\u001b[2K     \u001b[90m━━━━━━━━━━━━━━━━━━━━━━━━━━━━━━━━━━━━━━━━\u001b[0m \u001b[32m11.6/11.6 MB\u001b[0m \u001b[31m8.0 MB/s\u001b[0m eta \u001b[36m0:00:00\u001b[0m:00:01\u001b[0m00:01\u001b[0m\n",
      "\u001b[?25hRequirement already satisfied: numpy!=1.24.0,>=1.17 in /opt/conda/lib/python3.10/site-packages (from seaborn) (1.24.3)\n",
      "Requirement already satisfied: pandas>=0.25 in /opt/conda/lib/python3.10/site-packages (from seaborn) (2.0.1)\n",
      "Collecting contourpy>=1.0.1\n",
      "  Downloading contourpy-1.0.7-cp310-cp310-manylinux_2_17_x86_64.manylinux2014_x86_64.whl (300 kB)\n",
      "\u001b[2K     \u001b[90m━━━━━━━━━━━━━━━━━━━━━━━━━━━━━━━━━━━━━━\u001b[0m \u001b[32m300.3/300.3 kB\u001b[0m \u001b[31m16.4 MB/s\u001b[0m eta \u001b[36m0:00:00\u001b[0m\n",
      "\u001b[?25hRequirement already satisfied: pyparsing>=2.3.1 in /opt/conda/lib/python3.10/site-packages (from matplotlib) (3.0.9)\n",
      "Requirement already satisfied: python-dateutil>=2.7 in /opt/conda/lib/python3.10/site-packages (from matplotlib) (2.8.2)\n",
      "Collecting cycler>=0.10\n",
      "  Downloading cycler-0.11.0-py3-none-any.whl (6.4 kB)\n",
      "Requirement already satisfied: packaging>=20.0 in /opt/conda/lib/python3.10/site-packages (from matplotlib) (23.0)\n",
      "Collecting kiwisolver>=1.0.1\n",
      "  Downloading kiwisolver-1.4.4-cp310-cp310-manylinux_2_12_x86_64.manylinux2010_x86_64.whl (1.6 MB)\n",
      "\u001b[2K     \u001b[90m━━━━━━━━━━━━━━━━━━━━━━━━━━━━━━━━━━━━━━━━\u001b[0m \u001b[32m1.6/1.6 MB\u001b[0m \u001b[31m41.2 MB/s\u001b[0m eta \u001b[36m0:00:00\u001b[0m:00:01\u001b[0m\n",
      "\u001b[?25hCollecting fonttools>=4.22.0\n",
      "  Downloading fonttools-4.39.4-py3-none-any.whl (1.0 MB)\n",
      "\u001b[2K     \u001b[90m━━━━━━━━━━━━━━━━━━━━━━━━━━━━━━━━━━━━━━━━\u001b[0m \u001b[32m1.0/1.0 MB\u001b[0m \u001b[31m28.1 MB/s\u001b[0m eta \u001b[36m0:00:00\u001b[0m:00:01\u001b[0m\n",
      "\u001b[?25hCollecting pillow>=6.2.0\n",
      "  Downloading Pillow-9.5.0-cp310-cp310-manylinux_2_28_x86_64.whl (3.4 MB)\n",
      "\u001b[2K     \u001b[90m━━━━━━━━━━━━━━━━━━━━━━━━━━━━━━━━━━━━━━━━\u001b[0m \u001b[32m3.4/3.4 MB\u001b[0m \u001b[31m21.3 MB/s\u001b[0m eta \u001b[36m0:00:00\u001b[0m:00:01\u001b[0m\n",
      "\u001b[?25hRequirement already satisfied: pytz>=2020.1 in /opt/conda/lib/python3.10/site-packages (from pandas>=0.25->seaborn) (2022.7.1)\n",
      "Requirement already satisfied: tzdata>=2022.1 in /opt/conda/lib/python3.10/site-packages (from pandas>=0.25->seaborn) (2023.3)\n",
      "Requirement already satisfied: six>=1.5 in /opt/conda/lib/python3.10/site-packages (from python-dateutil>=2.7->matplotlib) (1.16.0)\n",
      "Installing collected packages: pillow, kiwisolver, fonttools, cycler, contourpy, matplotlib, seaborn\n",
      "\u001b[31mERROR: Could not install packages due to an OSError: [Errno 28] No space left on device: '/opt/conda/lib/python3.10/site-packages/seaborn'\n",
      "\u001b[0m\u001b[31m\n",
      "\u001b[0m"
     ]
    }
   ],
   "source": [
    "!pip install seaborn matplotlib"
   ]
  },
  {
   "cell_type": "code",
   "execution_count": 10,
   "metadata": {
    "ExecuteTime": {
     "end_time": "2023-05-13T13:46:07.289005715Z",
     "start_time": "2023-05-13T13:46:07.065092172Z"
    },
    "collapsed": false,
    "jupyter": {
     "outputs_hidden": false
    }
   },
   "outputs": [],
   "source": [
    "import pandas as pd\n",
    "import rdflib as rdflib\n",
    "\n",
    "import smartpynector as sp"
   ]
  },
  {
   "cell_type": "code",
   "execution_count": 11,
   "metadata": {
    "ExecuteTime": {
     "end_time": "2023-05-13T13:46:07.466735300Z",
     "start_time": "2023-05-13T13:46:07.277567097Z"
    },
    "collapsed": false,
    "jupyter": {
     "outputs_hidden": false
    }
   },
   "outputs": [
    {
     "data": {
      "text/plain": [
       "<generator object Graph.triples at 0x7fe506c13920>"
      ]
     },
     "execution_count": 11,
     "metadata": {},
     "output_type": "execute_result"
    }
   ],
   "source": [
    "# reading triples from GraphDB\n",
    "READ_URL = \"https://graphdb.odissei.nl/repositories/MateuszTest\"\n",
    "WRITE_URL = \"https://graphdb.odissei.nl/repositories/MateuszTest/statements\"\n",
    "\n",
    "sp.read_triples_from_graphdb(\n",
    "    read_url=READ_URL,\n",
    "    write_url=WRITE_URL,\n",
    ")"
   ]
  },
  {
   "cell_type": "code",
   "execution_count": 12,
   "metadata": {
    "ExecuteTime": {
     "end_time": "2023-05-13T13:46:07.659424083Z",
     "start_time": "2023-05-13T13:46:07.461106311Z"
    },
    "collapsed": false,
    "jupyter": {
     "outputs_hidden": false
    }
   },
   "outputs": [
    {
     "data": {
      "text/html": [
       "<div>\n",
       "<style scoped>\n",
       "    .dataframe tbody tr th:only-of-type {\n",
       "        vertical-align: middle;\n",
       "    }\n",
       "\n",
       "    .dataframe tbody tr th {\n",
       "        vertical-align: top;\n",
       "    }\n",
       "\n",
       "    .dataframe thead th {\n",
       "        text-align: right;\n",
       "    }\n",
       "</style>\n",
       "<table border=\"1\" class=\"dataframe\">\n",
       "  <thead>\n",
       "    <tr style=\"text-align: right;\">\n",
       "      <th></th>\n",
       "      <th>meas</th>\n",
       "      <th>temp</th>\n",
       "      <th>timestamp</th>\n",
       "      <th>room_id</th>\n",
       "      <th>device_id</th>\n",
       "    </tr>\n",
       "  </thead>\n",
       "  <tbody>\n",
       "    <tr>\n",
       "      <th>0</th>\n",
       "      <td>http://127.0.0.1:8000/thermostat/measurements/...</td>\n",
       "      <td>20</td>\n",
       "      <td>2023-05-03T18:37:03+02:00</td>\n",
       "      <td>http://127.0.0.1:8000/thermostat/rooms/1</td>\n",
       "      <td>http://127.0.0.1:8000/thermostat/devices/1</td>\n",
       "    </tr>\n",
       "    <tr>\n",
       "      <th>1</th>\n",
       "      <td>http://127.0.0.1:8000/thermostat/measurements/...</td>\n",
       "      <td>20</td>\n",
       "      <td>2023-05-03T18:38:24+02:00</td>\n",
       "      <td>http://127.0.0.1:8000/thermostat/rooms/1</td>\n",
       "      <td>http://127.0.0.1:8000/thermostat/devices/1</td>\n",
       "    </tr>\n",
       "    <tr>\n",
       "      <th>2</th>\n",
       "      <td>http://127.0.0.1:8000/thermostat/measurements/...</td>\n",
       "      <td>44</td>\n",
       "      <td>2023-05-03T20:11:36+02:00</td>\n",
       "      <td>http://127.0.0.1:8000/thermostat/rooms/1</td>\n",
       "      <td>http://127.0.0.1:8000/thermostat/devices/1</td>\n",
       "    </tr>\n",
       "    <tr>\n",
       "      <th>3</th>\n",
       "      <td>http://127.0.0.1:8000/thermostat/measurements/...</td>\n",
       "      <td>20</td>\n",
       "      <td>2023-05-03T20:47:53+02:00</td>\n",
       "      <td>http://127.0.0.1:8000/thermostat/rooms/1</td>\n",
       "      <td>http://127.0.0.1:8000/thermostat/devices/1</td>\n",
       "    </tr>\n",
       "    <tr>\n",
       "      <th>4</th>\n",
       "      <td>http://127.0.0.1:8000/thermostat/measurements/...</td>\n",
       "      <td>20</td>\n",
       "      <td>2023-05-03T21:41:13+02:00</td>\n",
       "      <td>http://127.0.0.1:8000/thermostat/rooms/1</td>\n",
       "      <td>http://127.0.0.1:8000/thermostat/devices/1</td>\n",
       "    </tr>\n",
       "    <tr>\n",
       "      <th>5</th>\n",
       "      <td>http://127.0.0.1:8000/thermostat/measurements/...</td>\n",
       "      <td>20</td>\n",
       "      <td>2023-05-03T21:48:37+02:00</td>\n",
       "      <td>http://127.0.0.1:8000/thermostat/rooms/1</td>\n",
       "      <td>http://127.0.0.1:8000/thermostat/devices/1</td>\n",
       "    </tr>\n",
       "    <tr>\n",
       "      <th>6</th>\n",
       "      <td>http://127.0.0.1:8000/thermostat/measurements/...</td>\n",
       "      <td>20</td>\n",
       "      <td>2023-05-03T21:50:58+02:00</td>\n",
       "      <td>http://127.0.0.1:8000/thermostat/rooms/1</td>\n",
       "      <td>http://127.0.0.1:8000/thermostat/devices/1</td>\n",
       "    </tr>\n",
       "    <tr>\n",
       "      <th>7</th>\n",
       "      <td>http://127.0.0.1:8000/thermostat/measurements/...</td>\n",
       "      <td>20</td>\n",
       "      <td>2023-05-03T22:12:15+02:00</td>\n",
       "      <td>http://127.0.0.1:8000/thermostat/rooms/1</td>\n",
       "      <td>http://127.0.0.1:8000/thermostat/devices/1</td>\n",
       "    </tr>\n",
       "    <tr>\n",
       "      <th>8</th>\n",
       "      <td>http://127.0.0.1:8000/thermostat/measurements/...</td>\n",
       "      <td>20</td>\n",
       "      <td>2023-05-12T16:19:27+02:00</td>\n",
       "      <td>http://127.0.0.1:8000/thermostat/rooms/1</td>\n",
       "      <td>http://127.0.0.1:8000/thermostat/devices/1</td>\n",
       "    </tr>\n",
       "    <tr>\n",
       "      <th>9</th>\n",
       "      <td>http://0.0.0.0:8001/thermostat/measurements/5e...</td>\n",
       "      <td>20</td>\n",
       "      <td>2023-05-13T20:43:29+00:00</td>\n",
       "      <td>http://0.0.0.0:8001/thermostat/rooms/1</td>\n",
       "      <td>http://0.0.0.0:8001/thermostat/devices/1</td>\n",
       "    </tr>\n",
       "    <tr>\n",
       "      <th>10</th>\n",
       "      <td>http://0.0.0.0:8001/thermostat/measurements/af...</td>\n",
       "      <td>20</td>\n",
       "      <td>2023-05-13T21:07:50+00:00</td>\n",
       "      <td>http://0.0.0.0:8001/thermostat/rooms/1</td>\n",
       "      <td>http://0.0.0.0:8001/thermostat/devices/1</td>\n",
       "    </tr>\n",
       "  </tbody>\n",
       "</table>\n",
       "</div>"
      ],
      "text/plain": [
       "                                                 meas temp   \n",
       "0   http://127.0.0.1:8000/thermostat/measurements/...   20  \\\n",
       "1   http://127.0.0.1:8000/thermostat/measurements/...   20   \n",
       "2   http://127.0.0.1:8000/thermostat/measurements/...   44   \n",
       "3   http://127.0.0.1:8000/thermostat/measurements/...   20   \n",
       "4   http://127.0.0.1:8000/thermostat/measurements/...   20   \n",
       "5   http://127.0.0.1:8000/thermostat/measurements/...   20   \n",
       "6   http://127.0.0.1:8000/thermostat/measurements/...   20   \n",
       "7   http://127.0.0.1:8000/thermostat/measurements/...   20   \n",
       "8   http://127.0.0.1:8000/thermostat/measurements/...   20   \n",
       "9   http://0.0.0.0:8001/thermostat/measurements/5e...   20   \n",
       "10  http://0.0.0.0:8001/thermostat/measurements/af...   20   \n",
       "\n",
       "                    timestamp                                   room_id   \n",
       "0   2023-05-03T18:37:03+02:00  http://127.0.0.1:8000/thermostat/rooms/1  \\\n",
       "1   2023-05-03T18:38:24+02:00  http://127.0.0.1:8000/thermostat/rooms/1   \n",
       "2   2023-05-03T20:11:36+02:00  http://127.0.0.1:8000/thermostat/rooms/1   \n",
       "3   2023-05-03T20:47:53+02:00  http://127.0.0.1:8000/thermostat/rooms/1   \n",
       "4   2023-05-03T21:41:13+02:00  http://127.0.0.1:8000/thermostat/rooms/1   \n",
       "5   2023-05-03T21:48:37+02:00  http://127.0.0.1:8000/thermostat/rooms/1   \n",
       "6   2023-05-03T21:50:58+02:00  http://127.0.0.1:8000/thermostat/rooms/1   \n",
       "7   2023-05-03T22:12:15+02:00  http://127.0.0.1:8000/thermostat/rooms/1   \n",
       "8   2023-05-12T16:19:27+02:00  http://127.0.0.1:8000/thermostat/rooms/1   \n",
       "9   2023-05-13T20:43:29+00:00    http://0.0.0.0:8001/thermostat/rooms/1   \n",
       "10  2023-05-13T21:07:50+00:00    http://0.0.0.0:8001/thermostat/rooms/1   \n",
       "\n",
       "                                     device_id  \n",
       "0   http://127.0.0.1:8000/thermostat/devices/1  \n",
       "1   http://127.0.0.1:8000/thermostat/devices/1  \n",
       "2   http://127.0.0.1:8000/thermostat/devices/1  \n",
       "3   http://127.0.0.1:8000/thermostat/devices/1  \n",
       "4   http://127.0.0.1:8000/thermostat/devices/1  \n",
       "5   http://127.0.0.1:8000/thermostat/devices/1  \n",
       "6   http://127.0.0.1:8000/thermostat/devices/1  \n",
       "7   http://127.0.0.1:8000/thermostat/devices/1  \n",
       "8   http://127.0.0.1:8000/thermostat/devices/1  \n",
       "9     http://0.0.0.0:8001/thermostat/devices/1  \n",
       "10    http://0.0.0.0:8001/thermostat/devices/1  "
      ]
     },
     "execution_count": 12,
     "metadata": {},
     "output_type": "execute_result"
    }
   ],
   "source": [
    "query = \"\"\"\n",
    "    PREFIX rdf: <http://www.w3.org/1999/02/22-rdf-syntax-ns#>\n",
    "    PREFIX saref: <https://w3id.org/saref#>\n",
    "\n",
    "    SELECT *\n",
    "    WHERE {\n",
    "        ?meas rdf:type saref:Measurement .\n",
    "        ?meas saref:hasValue ?temp .\n",
    "        ?meas saref:isMeasuredIn saref:TemperatureUnit .\n",
    "        ?meas saref:hasTimestamp ?timestamp .\n",
    "        ?meas saref:isMeasurementOf ?room_id .\n",
    "        ?meas saref:relatesToProperty saref:Temperature .\n",
    "        ?meas saref:measurementMadeBy ?device_id .\n",
    "    }\n",
    "\"\"\"\n",
    "\n",
    "results = sp.run_sparql_query(READ_URL, query, return_format=\"json\")\n",
    "df = sp.sparql_results_to_df(results)\n",
    "\n",
    "\n",
    "df\n"
   ]
  },
  {
   "cell_type": "code",
   "execution_count": 13,
   "metadata": {
    "ExecuteTime": {
     "end_time": "2023-05-13T13:46:08.489709211Z",
     "start_time": "2023-05-13T13:46:07.601052029Z"
    },
    "collapsed": false,
    "jupyter": {
     "outputs_hidden": false
    }
   },
   "outputs": [
    {
     "ename": "ModuleNotFoundError",
     "evalue": "No module named 'seaborn'",
     "output_type": "error",
     "traceback": [
      "\u001b[0;31m---------------------------------------------------------------------------\u001b[0m",
      "\u001b[0;31mModuleNotFoundError\u001b[0m                       Traceback (most recent call last)",
      "Cell \u001b[0;32mIn[13], line 1\u001b[0m\n\u001b[0;32m----> 1\u001b[0m \u001b[38;5;28;01mimport\u001b[39;00m \u001b[38;5;21;01mseaborn\u001b[39;00m \u001b[38;5;28;01mas\u001b[39;00m \u001b[38;5;21;01msns\u001b[39;00m\n\u001b[1;32m      2\u001b[0m \u001b[38;5;28;01mimport\u001b[39;00m \u001b[38;5;21;01mmatplotlib\u001b[39;00m\u001b[38;5;21;01m.\u001b[39;00m\u001b[38;5;21;01mpyplot\u001b[39;00m \u001b[38;5;28;01mas\u001b[39;00m \u001b[38;5;21;01mplt\u001b[39;00m\n\u001b[1;32m      3\u001b[0m \u001b[38;5;28;01mfrom\u001b[39;00m \u001b[38;5;21;01mmatplotlib\u001b[39;00m\u001b[38;5;21;01m.\u001b[39;00m\u001b[38;5;21;01mdates\u001b[39;00m \u001b[38;5;28;01mimport\u001b[39;00m DateFormatter\n",
      "\u001b[0;31mModuleNotFoundError\u001b[0m: No module named 'seaborn'"
     ]
    }
   ],
   "source": [
    "import seaborn as sns\n",
    "import matplotlib.pyplot as plt\n",
    "from matplotlib.dates import DateFormatter\n",
    "\n",
    "\n",
    "# assuming `df` is the DataFrame containing the SPARQL query results\n",
    "df['timestamp'] = pd.to_datetime(df['timestamp'])\n",
    "df = df.sort_values('timestamp')\n",
    "\n",
    "plt.figure(figsize=(10, 6))\n",
    "sns.lineplot(data=df, x='timestamp', y='temp')\n",
    "plt.xticks(rotation=90)\n",
    "plt.gca().invert_yaxis()\n",
    "\n",
    "date_format = DateFormatter(\"%Y-%m-%d %H:%M:%S\")\n",
    "plt.gca().xaxis.set_major_formatter(date_format)\n",
    "\n",
    "plt.show()"
   ]
  },
  {
   "cell_type": "code",
   "execution_count": 14,
   "metadata": {
    "ExecuteTime": {
     "end_time": "2023-05-13T13:47:10.088789809Z",
     "start_time": "2023-05-13T13:47:10.025781590Z"
    },
    "collapsed": false,
    "jupyter": {
     "outputs_hidden": false
    }
   },
   "outputs": [
    {
     "ename": "ModuleNotFoundError",
     "evalue": "No module named 'networkx'",
     "output_type": "error",
     "traceback": [
      "\u001b[0;31m---------------------------------------------------------------------------\u001b[0m",
      "\u001b[0;31mModuleNotFoundError\u001b[0m                       Traceback (most recent call last)",
      "Cell \u001b[0;32mIn[14], line 3\u001b[0m\n\u001b[1;32m      1\u001b[0m \u001b[38;5;28;01mimport\u001b[39;00m \u001b[38;5;21;01mrdflib\u001b[39;00m\n\u001b[1;32m      2\u001b[0m \u001b[38;5;28;01mfrom\u001b[39;00m \u001b[38;5;21;01mrdflib\u001b[39;00m\u001b[38;5;21;01m.\u001b[39;00m\u001b[38;5;21;01mextras\u001b[39;00m\u001b[38;5;21;01m.\u001b[39;00m\u001b[38;5;21;01mexternal_graph_libs\u001b[39;00m \u001b[38;5;28;01mimport\u001b[39;00m rdflib_to_networkx_multidigraph\n\u001b[0;32m----> 3\u001b[0m \u001b[38;5;28;01mimport\u001b[39;00m \u001b[38;5;21;01mnetworkx\u001b[39;00m \u001b[38;5;28;01mas\u001b[39;00m \u001b[38;5;21;01mnx\u001b[39;00m\n\u001b[1;32m      4\u001b[0m \u001b[38;5;28;01mimport\u001b[39;00m \u001b[38;5;21;01mmatplotlib\u001b[39;00m\u001b[38;5;21;01m.\u001b[39;00m\u001b[38;5;21;01mpyplot\u001b[39;00m \u001b[38;5;28;01mas\u001b[39;00m \u001b[38;5;21;01mplt\u001b[39;00m\n\u001b[1;32m      6\u001b[0m \u001b[38;5;66;03m# Convert the SPARQL query results into an rdflib.Graph object\u001b[39;00m\n",
      "\u001b[0;31mModuleNotFoundError\u001b[0m: No module named 'networkx'"
     ]
    }
   ],
   "source": [
    "import rdflib\n",
    "from rdflib.extras.external_graph_libs import rdflib_to_networkx_multidigraph\n",
    "import networkx as nx\n",
    "import matplotlib.pyplot as plt\n",
    "\n",
    "# Convert the SPARQL query results into an rdflib.Graph object\n",
    "g = sp.convert_sparql_results_to_graph(results)\n",
    "\n",
    "# Convert the rdflib.Graph object into a NetworkX graph\n",
    "G = rdflib_to_networkx_multidigraph(g)\n",
    "\n",
    "\n"
   ]
  },
  {
   "cell_type": "code",
   "execution_count": 15,
   "metadata": {
    "ExecuteTime": {
     "end_time": "2023-05-13T13:49:16.420980876Z",
     "start_time": "2023-05-13T13:49:16.125188047Z"
    },
    "collapsed": false,
    "jupyter": {
     "outputs_hidden": false
    }
   },
   "outputs": [
    {
     "ename": "NameError",
     "evalue": "name 'nx' is not defined",
     "output_type": "error",
     "traceback": [
      "\u001b[0;31m---------------------------------------------------------------------------\u001b[0m",
      "\u001b[0;31mNameError\u001b[0m                                 Traceback (most recent call last)",
      "Cell \u001b[0;32mIn[15], line 2\u001b[0m\n\u001b[1;32m      1\u001b[0m \u001b[38;5;66;03m# Plot the NetworkX graph using Matplotlib\u001b[39;00m\n\u001b[0;32m----> 2\u001b[0m pos \u001b[38;5;241m=\u001b[39m \u001b[43mnx\u001b[49m\u001b[38;5;241m.\u001b[39mspring_layout(G, scale\u001b[38;5;241m=\u001b[39m\u001b[38;5;241m1\u001b[39m)\n\u001b[1;32m      3\u001b[0m edge_labels \u001b[38;5;241m=\u001b[39m nx\u001b[38;5;241m.\u001b[39mget_edge_attributes(G, \u001b[38;5;124m'\u001b[39m\u001b[38;5;124mr\u001b[39m\u001b[38;5;124m'\u001b[39m)\n\u001b[1;32m      4\u001b[0m nx\u001b[38;5;241m.\u001b[39mdraw_networkx_edge_labels(G, pos, edge_labels\u001b[38;5;241m=\u001b[39medge_labels)\n",
      "\u001b[0;31mNameError\u001b[0m: name 'nx' is not defined"
     ]
    }
   ],
   "source": [
    "# Plot the NetworkX graph using Matplotlib\n",
    "pos = nx.spring_layout(G, scale=1)\n",
    "edge_labels = nx.get_edge_attributes(G, 'r')\n",
    "nx.draw_networkx_edge_labels(G, pos, edge_labels=edge_labels)\n",
    "nx.draw(G, with_labels=True)\n",
    "\n",
    "plt.figure(figsize=(50, 50))\n",
    "plt.show()\n"
   ]
  },
  {
   "cell_type": "code",
   "execution_count": null,
   "metadata": {
    "collapsed": false,
    "jupyter": {
     "outputs_hidden": false
    }
   },
   "outputs": [],
   "source": []
  },
  {
   "cell_type": "code",
   "execution_count": null,
   "metadata": {},
   "outputs": [],
   "source": []
  }
 ],
 "metadata": {
  "kernelspec": {
   "display_name": "Python 3 (ipykernel)",
   "language": "python",
   "name": "python3"
  },
  "language_info": {
   "codemirror_mode": {
    "name": "ipython",
    "version": 3
   },
   "file_extension": ".py",
   "mimetype": "text/x-python",
   "name": "python",
   "nbconvert_exporter": "python",
   "pygments_lexer": "ipython3",
   "version": "3.10.8"
  }
 },
 "nbformat": 4,
 "nbformat_minor": 4
}
