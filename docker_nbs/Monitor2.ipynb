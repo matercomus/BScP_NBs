{
 "cells": [
  {
   "cell_type": "code",
   "execution_count": 1,
   "metadata": {
    "tags": []
   },
   "outputs": [
    {
     "name": "stdout",
     "output_type": "stream",
     "text": [
      "Collecting seaborn\n",
      "  Downloading seaborn-0.12.2-py3-none-any.whl (293 kB)\n",
      "\u001b[2K     \u001b[90m━━━━━━━━━━━━━━━━━━━━━━━━━━━━━━━━━━━━━━━\u001b[0m \u001b[32m293.3/293.3 kB\u001b[0m \u001b[31m7.2 MB/s\u001b[0m eta \u001b[36m0:00:00\u001b[0m00:01\u001b[0m\n",
      "\u001b[?25hCollecting matplotlib\n",
      "  Downloading matplotlib-3.7.1-cp310-cp310-manylinux_2_17_x86_64.manylinux2014_x86_64.whl (11.6 MB)\n",
      "\u001b[2K     \u001b[90m━━━━━━━━━━━━━━━━━━━━━━━━━━━━━━━━━━━━━━━━\u001b[0m \u001b[32m11.6/11.6 MB\u001b[0m \u001b[31m48.5 MB/s\u001b[0m eta \u001b[36m0:00:00\u001b[0m00:01\u001b[0m0:01\u001b[0m\n",
      "\u001b[?25hRequirement already satisfied: pandas>=0.25 in /opt/conda/lib/python3.10/site-packages (from seaborn) (2.0.2)\n",
      "Requirement already satisfied: numpy!=1.24.0,>=1.17 in /opt/conda/lib/python3.10/site-packages (from seaborn) (1.25.0)\n",
      "Collecting pillow>=6.2.0\n",
      "  Downloading Pillow-9.5.0-cp310-cp310-manylinux_2_28_x86_64.whl (3.4 MB)\n",
      "\u001b[2K     \u001b[90m━━━━━━━━━━━━━━━━━━━━━━━━━━━━━━━━━━━━━━━━\u001b[0m \u001b[32m3.4/3.4 MB\u001b[0m \u001b[31m39.4 MB/s\u001b[0m eta \u001b[36m0:00:00\u001b[0m00:01\u001b[0m:00:01\u001b[0m\n",
      "\u001b[?25hRequirement already satisfied: pyparsing>=2.3.1 in /opt/conda/lib/python3.10/site-packages (from matplotlib) (3.0.9)\n",
      "Requirement already satisfied: python-dateutil>=2.7 in /opt/conda/lib/python3.10/site-packages (from matplotlib) (2.8.2)\n",
      "Collecting contourpy>=1.0.1\n",
      "  Downloading contourpy-1.1.0-cp310-cp310-manylinux_2_17_x86_64.manylinux2014_x86_64.whl (300 kB)\n",
      "\u001b[2K     \u001b[90m━━━━━━━━━━━━━━━━━━━━━━━━━━━━━━━━━━━━━━\u001b[0m \u001b[32m300.7/300.7 kB\u001b[0m \u001b[31m22.4 MB/s\u001b[0m eta \u001b[36m0:00:00\u001b[0m\n",
      "\u001b[?25hRequirement already satisfied: packaging>=20.0 in /opt/conda/lib/python3.10/site-packages (from matplotlib) (23.0)\n",
      "Collecting fonttools>=4.22.0\n",
      "  Downloading fonttools-4.40.0-cp310-cp310-manylinux_2_17_x86_64.manylinux2014_x86_64.whl (4.2 MB)\n",
      "\u001b[2K     \u001b[90m━━━━━━━━━━━━━━━━━━━━━━━━━━━━━━━━━━━━━━━━\u001b[0m \u001b[32m4.2/4.2 MB\u001b[0m \u001b[31m49.8 MB/s\u001b[0m eta \u001b[36m0:00:00\u001b[0m00:01\u001b[0m00:01\u001b[0m\n",
      "\u001b[?25hCollecting kiwisolver>=1.0.1\n",
      "  Downloading kiwisolver-1.4.4-cp310-cp310-manylinux_2_12_x86_64.manylinux2010_x86_64.whl (1.6 MB)\n",
      "\u001b[2K     \u001b[90m━━━━━━━━━━━━━━━━━━━━━━━━━━━━━━━━━━━━━━━━\u001b[0m \u001b[32m1.6/1.6 MB\u001b[0m \u001b[31m49.9 MB/s\u001b[0m eta \u001b[36m0:00:00\u001b[0m\n",
      "\u001b[?25hCollecting cycler>=0.10\n",
      "  Downloading cycler-0.11.0-py3-none-any.whl (6.4 kB)\n",
      "Requirement already satisfied: pytz>=2020.1 in /opt/conda/lib/python3.10/site-packages (from pandas>=0.25->seaborn) (2022.7.1)\n",
      "Requirement already satisfied: tzdata>=2022.1 in /opt/conda/lib/python3.10/site-packages (from pandas>=0.25->seaborn) (2023.3)\n",
      "Requirement already satisfied: six>=1.5 in /opt/conda/lib/python3.10/site-packages (from python-dateutil>=2.7->matplotlib) (1.16.0)\n",
      "Installing collected packages: pillow, kiwisolver, fonttools, cycler, contourpy, matplotlib, seaborn\n",
      "Successfully installed contourpy-1.1.0 cycler-0.11.0 fonttools-4.40.0 kiwisolver-1.4.4 matplotlib-3.7.1 pillow-9.5.0 seaborn-0.12.2\n"
     ]
    }
   ],
   "source": [
    "!pip install seaborn matplotlib"
   ]
  },
  {
   "cell_type": "code",
   "execution_count": 2,
   "metadata": {
    "ExecuteTime": {
     "end_time": "2023-05-13T13:46:07.289005715Z",
     "start_time": "2023-05-13T13:46:07.065092172Z"
    },
    "collapsed": false,
    "jupyter": {
     "outputs_hidden": false
    },
    "tags": []
   },
   "outputs": [],
   "source": [
    "import pandas as pd\n",
    "import rdflib as rdflib\n",
    "import smartpynector as sp"
   ]
  },
  {
   "cell_type": "code",
   "execution_count": 3,
   "metadata": {
    "ExecuteTime": {
     "end_time": "2023-05-13T13:46:07.466735300Z",
     "start_time": "2023-05-13T13:46:07.277567097Z"
    },
    "collapsed": false,
    "jupyter": {
     "outputs_hidden": false
    },
    "tags": []
   },
   "outputs": [],
   "source": [
    "# reading triples from GraphDB\n",
    "READ_URL = \"https://graphdb.odissei.nl/repositories/MateuszTest\"\n",
    "WRITE_URL = \"https://graphdb.odissei.nl/repositories/MateuszTest/statements\"\n",
    "\n",
    "triples =sp.read_triples_from_graphdb(\n",
    "    read_url=READ_URL,\n",
    "    write_url=WRITE_URL,\n",
    ")\n",
    "\n",
    "# for triple in triples:\n",
    "#     print(triple)"
   ]
  },
  {
   "cell_type": "code",
   "execution_count": 4,
   "metadata": {
    "ExecuteTime": {
     "end_time": "2023-05-13T13:46:07.659424083Z",
     "start_time": "2023-05-13T13:46:07.461106311Z"
    },
    "collapsed": false,
    "jupyter": {
     "outputs_hidden": false
    },
    "tags": []
   },
   "outputs": [
    {
     "data": {
      "text/html": [
       "<div>\n",
       "<style scoped>\n",
       "    .dataframe tbody tr th:only-of-type {\n",
       "        vertical-align: middle;\n",
       "    }\n",
       "\n",
       "    .dataframe tbody tr th {\n",
       "        vertical-align: top;\n",
       "    }\n",
       "\n",
       "    .dataframe thead th {\n",
       "        text-align: right;\n",
       "    }\n",
       "</style>\n",
       "<table border=\"1\" class=\"dataframe\">\n",
       "  <thead>\n",
       "    <tr style=\"text-align: right;\">\n",
       "      <th></th>\n",
       "      <th>meas</th>\n",
       "      <th>temp</th>\n",
       "      <th>timestamp</th>\n",
       "      <th>room_id</th>\n",
       "      <th>device_id</th>\n",
       "    </tr>\n",
       "  </thead>\n",
       "  <tbody>\n",
       "    <tr>\n",
       "      <th>0</th>\n",
       "      <td>http://127.0.0.1:8000/thermostat/measurements/...</td>\n",
       "      <td>20</td>\n",
       "      <td>2023-05-03T18:37:03+02:00</td>\n",
       "      <td>http://127.0.0.1:8000/thermostat/rooms/1</td>\n",
       "      <td>http://127.0.0.1:8000/thermostat/devices/1</td>\n",
       "    </tr>\n",
       "    <tr>\n",
       "      <th>1</th>\n",
       "      <td>http://127.0.0.1:8000/thermostat/measurements/...</td>\n",
       "      <td>20</td>\n",
       "      <td>2023-05-03T18:38:24+02:00</td>\n",
       "      <td>http://127.0.0.1:8000/thermostat/rooms/1</td>\n",
       "      <td>http://127.0.0.1:8000/thermostat/devices/1</td>\n",
       "    </tr>\n",
       "    <tr>\n",
       "      <th>2</th>\n",
       "      <td>http://127.0.0.1:8000/thermostat/measurements/...</td>\n",
       "      <td>44</td>\n",
       "      <td>2023-05-03T20:11:36+02:00</td>\n",
       "      <td>http://127.0.0.1:8000/thermostat/rooms/1</td>\n",
       "      <td>http://127.0.0.1:8000/thermostat/devices/1</td>\n",
       "    </tr>\n",
       "    <tr>\n",
       "      <th>3</th>\n",
       "      <td>http://127.0.0.1:8000/thermostat/measurements/...</td>\n",
       "      <td>20</td>\n",
       "      <td>2023-05-03T20:47:53+02:00</td>\n",
       "      <td>http://127.0.0.1:8000/thermostat/rooms/1</td>\n",
       "      <td>http://127.0.0.1:8000/thermostat/devices/1</td>\n",
       "    </tr>\n",
       "    <tr>\n",
       "      <th>4</th>\n",
       "      <td>http://127.0.0.1:8000/thermostat/measurements/...</td>\n",
       "      <td>20</td>\n",
       "      <td>2023-05-03T21:41:13+02:00</td>\n",
       "      <td>http://127.0.0.1:8000/thermostat/rooms/1</td>\n",
       "      <td>http://127.0.0.1:8000/thermostat/devices/1</td>\n",
       "    </tr>\n",
       "    <tr>\n",
       "      <th>5</th>\n",
       "      <td>http://127.0.0.1:8000/thermostat/measurements/...</td>\n",
       "      <td>20</td>\n",
       "      <td>2023-05-03T21:48:37+02:00</td>\n",
       "      <td>http://127.0.0.1:8000/thermostat/rooms/1</td>\n",
       "      <td>http://127.0.0.1:8000/thermostat/devices/1</td>\n",
       "    </tr>\n",
       "    <tr>\n",
       "      <th>6</th>\n",
       "      <td>http://127.0.0.1:8000/thermostat/measurements/...</td>\n",
       "      <td>20</td>\n",
       "      <td>2023-05-03T21:50:58+02:00</td>\n",
       "      <td>http://127.0.0.1:8000/thermostat/rooms/1</td>\n",
       "      <td>http://127.0.0.1:8000/thermostat/devices/1</td>\n",
       "    </tr>\n",
       "    <tr>\n",
       "      <th>7</th>\n",
       "      <td>http://127.0.0.1:8000/thermostat/measurements/...</td>\n",
       "      <td>20</td>\n",
       "      <td>2023-05-03T22:12:15+02:00</td>\n",
       "      <td>http://127.0.0.1:8000/thermostat/rooms/1</td>\n",
       "      <td>http://127.0.0.1:8000/thermostat/devices/1</td>\n",
       "    </tr>\n",
       "    <tr>\n",
       "      <th>8</th>\n",
       "      <td>http://127.0.0.1:8000/thermostat/measurements/...</td>\n",
       "      <td>20</td>\n",
       "      <td>2023-05-12T16:19:27+02:00</td>\n",
       "      <td>http://127.0.0.1:8000/thermostat/rooms/1</td>\n",
       "      <td>http://127.0.0.1:8000/thermostat/devices/1</td>\n",
       "    </tr>\n",
       "    <tr>\n",
       "      <th>9</th>\n",
       "      <td>http://0.0.0.0:8001/thermostat/measurements/5e...</td>\n",
       "      <td>20</td>\n",
       "      <td>2023-05-13T20:43:29+00:00</td>\n",
       "      <td>http://0.0.0.0:8001/thermostat/rooms/1</td>\n",
       "      <td>http://0.0.0.0:8001/thermostat/devices/1</td>\n",
       "    </tr>\n",
       "    <tr>\n",
       "      <th>10</th>\n",
       "      <td>http://0.0.0.0:8001/thermostat/measurements/af...</td>\n",
       "      <td>20</td>\n",
       "      <td>2023-05-13T21:07:50+00:00</td>\n",
       "      <td>http://0.0.0.0:8001/thermostat/rooms/1</td>\n",
       "      <td>http://0.0.0.0:8001/thermostat/devices/1</td>\n",
       "    </tr>\n",
       "    <tr>\n",
       "      <th>11</th>\n",
       "      <td>http://0.0.0.0:8001/thermostat/measurements/d6...</td>\n",
       "      <td>20</td>\n",
       "      <td>2023-05-14T18:24:49+00:00</td>\n",
       "      <td>http://0.0.0.0:8001/thermostat/rooms/1</td>\n",
       "      <td>http://0.0.0.0:8001/thermostat/devices/1</td>\n",
       "    </tr>\n",
       "    <tr>\n",
       "      <th>12</th>\n",
       "      <td>http://0.0.0.0:8001/thermostat/measurements/f8...</td>\n",
       "      <td>20</td>\n",
       "      <td>2023-05-19T08:17:00+00:00</td>\n",
       "      <td>http://0.0.0.0:8001/thermostat/rooms/1</td>\n",
       "      <td>http://0.0.0.0:8001/thermostat/devices/1</td>\n",
       "    </tr>\n",
       "    <tr>\n",
       "      <th>13</th>\n",
       "      <td>http://0.0.0.0:8001/thermostat/measurements/e1...</td>\n",
       "      <td>20</td>\n",
       "      <td>2023-05-19T09:06:04+00:00</td>\n",
       "      <td>http://0.0.0.0:8001/thermostat/rooms/1</td>\n",
       "      <td>http://0.0.0.0:8001/thermostat/devices/1</td>\n",
       "    </tr>\n",
       "    <tr>\n",
       "      <th>14</th>\n",
       "      <td>http://0.0.0.0:8001/thermostat/measurements/4d...</td>\n",
       "      <td>18</td>\n",
       "      <td>2023-06-16T16:47:50+00:00</td>\n",
       "      <td>http://0.0.0.0:8001/thermostat/rooms/1</td>\n",
       "      <td>http://0.0.0.0:8001/thermostat/devices/1</td>\n",
       "    </tr>\n",
       "    <tr>\n",
       "      <th>15</th>\n",
       "      <td>http://0.0.0.0:8001/thermostat/measurements/05...</td>\n",
       "      <td>75</td>\n",
       "      <td>2023-06-16T16:51:16+00:00</td>\n",
       "      <td>http://0.0.0.0:8001/thermostat/rooms/1</td>\n",
       "      <td>http://0.0.0.0:8001/thermostat/devices/1</td>\n",
       "    </tr>\n",
       "    <tr>\n",
       "      <th>16</th>\n",
       "      <td>http://0.0.0.0:8001/thermostat/measurements/8d...</td>\n",
       "      <td>18</td>\n",
       "      <td>2023-06-16T17:30:09+00:00</td>\n",
       "      <td>http://0.0.0.0:8001/thermostat/rooms/1</td>\n",
       "      <td>http://0.0.0.0:8001/thermostat/devices/1</td>\n",
       "    </tr>\n",
       "    <tr>\n",
       "      <th>17</th>\n",
       "      <td>http://0.0.0.0:8001/thermostat/measurements/49...</td>\n",
       "      <td>20</td>\n",
       "      <td>2023-06-16T17:34:00+00:00</td>\n",
       "      <td>http://0.0.0.0:8001/thermostat/rooms/1</td>\n",
       "      <td>http://0.0.0.0:8001/thermostat/devices/1</td>\n",
       "    </tr>\n",
       "    <tr>\n",
       "      <th>18</th>\n",
       "      <td>http://0.0.0.0:8001/thermostat/measurements/cb...</td>\n",
       "      <td>20</td>\n",
       "      <td>2023-06-16T20:01:22+00:00</td>\n",
       "      <td>http://0.0.0.0:8001/thermostat/rooms/1</td>\n",
       "      <td>http://0.0.0.0:8001/thermostat/devices/1</td>\n",
       "    </tr>\n",
       "    <tr>\n",
       "      <th>19</th>\n",
       "      <td>http://0.0.0.0:8001/thermostat/measurements/19...</td>\n",
       "      <td>62</td>\n",
       "      <td>2023-06-17T16:15:52+00:00</td>\n",
       "      <td>http://0.0.0.0:8001/thermostat/rooms/1</td>\n",
       "      <td>http://0.0.0.0:8001/thermostat/devices/1</td>\n",
       "    </tr>\n",
       "  </tbody>\n",
       "</table>\n",
       "</div>"
      ],
      "text/plain": [
       "                                                 meas  temp  \\\n",
       "0   http://127.0.0.1:8000/thermostat/measurements/...    20   \n",
       "1   http://127.0.0.1:8000/thermostat/measurements/...    20   \n",
       "2   http://127.0.0.1:8000/thermostat/measurements/...    44   \n",
       "3   http://127.0.0.1:8000/thermostat/measurements/...    20   \n",
       "4   http://127.0.0.1:8000/thermostat/measurements/...    20   \n",
       "5   http://127.0.0.1:8000/thermostat/measurements/...    20   \n",
       "6   http://127.0.0.1:8000/thermostat/measurements/...    20   \n",
       "7   http://127.0.0.1:8000/thermostat/measurements/...    20   \n",
       "8   http://127.0.0.1:8000/thermostat/measurements/...    20   \n",
       "9   http://0.0.0.0:8001/thermostat/measurements/5e...    20   \n",
       "10  http://0.0.0.0:8001/thermostat/measurements/af...    20   \n",
       "11  http://0.0.0.0:8001/thermostat/measurements/d6...    20   \n",
       "12  http://0.0.0.0:8001/thermostat/measurements/f8...    20   \n",
       "13  http://0.0.0.0:8001/thermostat/measurements/e1...    20   \n",
       "14  http://0.0.0.0:8001/thermostat/measurements/4d...    18   \n",
       "15  http://0.0.0.0:8001/thermostat/measurements/05...    75   \n",
       "16  http://0.0.0.0:8001/thermostat/measurements/8d...    18   \n",
       "17  http://0.0.0.0:8001/thermostat/measurements/49...    20   \n",
       "18  http://0.0.0.0:8001/thermostat/measurements/cb...    20   \n",
       "19  http://0.0.0.0:8001/thermostat/measurements/19...    62   \n",
       "\n",
       "                    timestamp                                   room_id  \\\n",
       "0   2023-05-03T18:37:03+02:00  http://127.0.0.1:8000/thermostat/rooms/1   \n",
       "1   2023-05-03T18:38:24+02:00  http://127.0.0.1:8000/thermostat/rooms/1   \n",
       "2   2023-05-03T20:11:36+02:00  http://127.0.0.1:8000/thermostat/rooms/1   \n",
       "3   2023-05-03T20:47:53+02:00  http://127.0.0.1:8000/thermostat/rooms/1   \n",
       "4   2023-05-03T21:41:13+02:00  http://127.0.0.1:8000/thermostat/rooms/1   \n",
       "5   2023-05-03T21:48:37+02:00  http://127.0.0.1:8000/thermostat/rooms/1   \n",
       "6   2023-05-03T21:50:58+02:00  http://127.0.0.1:8000/thermostat/rooms/1   \n",
       "7   2023-05-03T22:12:15+02:00  http://127.0.0.1:8000/thermostat/rooms/1   \n",
       "8   2023-05-12T16:19:27+02:00  http://127.0.0.1:8000/thermostat/rooms/1   \n",
       "9   2023-05-13T20:43:29+00:00    http://0.0.0.0:8001/thermostat/rooms/1   \n",
       "10  2023-05-13T21:07:50+00:00    http://0.0.0.0:8001/thermostat/rooms/1   \n",
       "11  2023-05-14T18:24:49+00:00    http://0.0.0.0:8001/thermostat/rooms/1   \n",
       "12  2023-05-19T08:17:00+00:00    http://0.0.0.0:8001/thermostat/rooms/1   \n",
       "13  2023-05-19T09:06:04+00:00    http://0.0.0.0:8001/thermostat/rooms/1   \n",
       "14  2023-06-16T16:47:50+00:00    http://0.0.0.0:8001/thermostat/rooms/1   \n",
       "15  2023-06-16T16:51:16+00:00    http://0.0.0.0:8001/thermostat/rooms/1   \n",
       "16  2023-06-16T17:30:09+00:00    http://0.0.0.0:8001/thermostat/rooms/1   \n",
       "17  2023-06-16T17:34:00+00:00    http://0.0.0.0:8001/thermostat/rooms/1   \n",
       "18  2023-06-16T20:01:22+00:00    http://0.0.0.0:8001/thermostat/rooms/1   \n",
       "19  2023-06-17T16:15:52+00:00    http://0.0.0.0:8001/thermostat/rooms/1   \n",
       "\n",
       "                                     device_id  \n",
       "0   http://127.0.0.1:8000/thermostat/devices/1  \n",
       "1   http://127.0.0.1:8000/thermostat/devices/1  \n",
       "2   http://127.0.0.1:8000/thermostat/devices/1  \n",
       "3   http://127.0.0.1:8000/thermostat/devices/1  \n",
       "4   http://127.0.0.1:8000/thermostat/devices/1  \n",
       "5   http://127.0.0.1:8000/thermostat/devices/1  \n",
       "6   http://127.0.0.1:8000/thermostat/devices/1  \n",
       "7   http://127.0.0.1:8000/thermostat/devices/1  \n",
       "8   http://127.0.0.1:8000/thermostat/devices/1  \n",
       "9     http://0.0.0.0:8001/thermostat/devices/1  \n",
       "10    http://0.0.0.0:8001/thermostat/devices/1  \n",
       "11    http://0.0.0.0:8001/thermostat/devices/1  \n",
       "12    http://0.0.0.0:8001/thermostat/devices/1  \n",
       "13    http://0.0.0.0:8001/thermostat/devices/1  \n",
       "14    http://0.0.0.0:8001/thermostat/devices/1  \n",
       "15    http://0.0.0.0:8001/thermostat/devices/1  \n",
       "16    http://0.0.0.0:8001/thermostat/devices/1  \n",
       "17    http://0.0.0.0:8001/thermostat/devices/1  \n",
       "18    http://0.0.0.0:8001/thermostat/devices/1  \n",
       "19    http://0.0.0.0:8001/thermostat/devices/1  "
      ]
     },
     "execution_count": 4,
     "metadata": {},
     "output_type": "execute_result"
    }
   ],
   "source": [
    "query = \"\"\"\n",
    "    PREFIX rdf: <http://www.w3.org/1999/02/22-rdf-syntax-ns#>\n",
    "    PREFIX saref: <https://w3id.org/saref#>\n",
    "\n",
    "    SELECT *\n",
    "    WHERE {\n",
    "        ?meas rdf:type saref:Measurement .\n",
    "        ?meas saref:hasValue ?temp .\n",
    "        ?meas saref:isMeasuredIn saref:TemperatureUnit .\n",
    "        ?meas saref:hasTimestamp ?timestamp .\n",
    "        ?meas saref:isMeasurementOf ?room_id .\n",
    "        ?meas saref:relatesToProperty saref:Temperature .\n",
    "        ?meas saref:measurementMadeBy ?device_id .\n",
    "    }\n",
    "\"\"\"\n",
    "\n",
    "results = sp.run_sparql_query(READ_URL, query, return_format=\"json\")\n",
    "df = sp.sparql_results_to_df(results)\n",
    "df['temp']=df['temp'].astype('int')\n",
    "\n",
    "df"
   ]
  },
  {
   "cell_type": "code",
   "execution_count": 5,
   "metadata": {
    "ExecuteTime": {
     "end_time": "2023-05-13T13:46:08.489709211Z",
     "start_time": "2023-05-13T13:46:07.601052029Z"
    },
    "collapsed": false,
    "jupyter": {
     "outputs_hidden": false
    },
    "tags": []
   },
   "outputs": [
    {
     "name": "stderr",
     "output_type": "stream",
     "text": [
      "2023-06-17 16:16:30 INFO generated new fontManager\n"
     ]
    },
    {
     "data": {
      "image/png": "[encoded data removed]",
      "text/plain": [
       "<Figure size 1000x600 with 1 Axes>"
      ]
     },
     "metadata": {},
     "output_type": "display_data"
    }
   ],
   "source": [
    "import matplotlib.pyplot as plt\n",
    "import seaborn as sns\n",
    "from matplotlib.dates import DateFormatter\n",
    "\n",
    "# assuming `df` is the DataFrame containing the SPARQL query results\n",
    "df[\"timestamp\"] = pd.to_datetime(df[\"timestamp\"])\n",
    "df = df.sort_values(\"timestamp\")\n",
    "\n",
    "plt.figure(figsize=(10, 6))\n",
    "sns.lineplot(data=df, x=\"timestamp\", y=\"temp\")\n",
    "plt.xticks(rotation=90)\n",
    "# plt.gca().invert_yaxis()\n",
    "\n",
    "date_format = DateFormatter(\"%Y-%m-%d %H:%M:%S\")\n",
    "plt.gca().xaxis.set_major_formatter(date_format)\n",
    "\n",
    "plt.show()"
   ]
  },
  {
   "cell_type": "code",
   "execution_count": 6,
   "metadata": {
    "ExecuteTime": {
     "end_time": "2023-05-13T13:47:10.088789809Z",
     "start_time": "2023-05-13T13:47:10.025781590Z"
    },
    "collapsed": false,
    "jupyter": {
     "outputs_hidden": false
    },
    "tags": []
   },
   "outputs": [
    {
     "ename": "ModuleNotFoundError",
     "evalue": "No module named 'networkx'",
     "output_type": "error",
     "traceback": [
      "\u001b[0;31m---------------------------------------------------------------------------\u001b[0m",
      "\u001b[0;31mModuleNotFoundError\u001b[0m                       Traceback (most recent call last)",
      "Cell \u001b[0;32mIn[6], line 2\u001b[0m\n\u001b[1;32m      1\u001b[0m \u001b[38;5;28;01mimport\u001b[39;00m \u001b[38;5;21;01mmatplotlib\u001b[39;00m\u001b[38;5;21;01m.\u001b[39;00m\u001b[38;5;21;01mpyplot\u001b[39;00m \u001b[38;5;28;01mas\u001b[39;00m \u001b[38;5;21;01mplt\u001b[39;00m\n\u001b[0;32m----> 2\u001b[0m \u001b[38;5;28;01mimport\u001b[39;00m \u001b[38;5;21;01mnetworkx\u001b[39;00m \u001b[38;5;28;01mas\u001b[39;00m \u001b[38;5;21;01mnx\u001b[39;00m\n\u001b[1;32m      3\u001b[0m \u001b[38;5;28;01mimport\u001b[39;00m \u001b[38;5;21;01mrdflib\u001b[39;00m\n\u001b[1;32m      4\u001b[0m \u001b[38;5;28;01mfrom\u001b[39;00m \u001b[38;5;21;01mrdflib\u001b[39;00m\u001b[38;5;21;01m.\u001b[39;00m\u001b[38;5;21;01mextras\u001b[39;00m\u001b[38;5;21;01m.\u001b[39;00m\u001b[38;5;21;01mexternal_graph_libs\u001b[39;00m \u001b[38;5;28;01mimport\u001b[39;00m rdflib_to_networkx_multidigraph\n",
      "\u001b[0;31mModuleNotFoundError\u001b[0m: No module named 'networkx'"
     ]
    }
   ],
   "source": [
    "import matplotlib.pyplot as plt\n",
    "import networkx as nx\n",
    "import rdflib\n",
    "from rdflib.extras.external_graph_libs import rdflib_to_networkx_multidigraph\n",
    "\n",
    "# Convert the SPARQL query results into an rdflib.Graph object\n",
    "g = sp.convert_sparql_results_to_graph(results)\n",
    "\n",
    "# Convert the rdflib.Graph object into a NetworkX graph\n",
    "G = rdflib_to_networkx_multidigraph(g)"
   ]
  },
  {
   "cell_type": "code",
   "execution_count": null,
   "metadata": {
    "ExecuteTime": {
     "end_time": "2023-05-13T13:49:16.420980876Z",
     "start_time": "2023-05-13T13:49:16.125188047Z"
    },
    "collapsed": false,
    "jupyter": {
     "outputs_hidden": false
    }
   },
   "outputs": [],
   "source": [
    "# Plot the NetworkX graph using Matplotlib\n",
    "pos = nx.spring_layout(G, scale=1)\n",
    "edge_labels = nx.get_edge_attributes(G, \"r\")\n",
    "nx.draw_networkx_edge_labels(G, pos, edge_labels=edge_labels)\n",
    "nx.draw(G, with_labels=True)\n",
    "\n",
    "plt.figure(figsize=(50, 50))\n",
    "plt.show()"
   ]
  },
  {
   "cell_type": "code",
   "execution_count": null,
   "metadata": {
    "collapsed": false,
    "jupyter": {
     "outputs_hidden": false
    }
   },
   "outputs": [],
   "source": []
  },
  {
   "cell_type": "code",
   "execution_count": null,
   "metadata": {},
   "outputs": [],
   "source": []
  }
 ],
 "metadata": {
  "kernelspec": {
   "display_name": "Python 3 (ipykernel)",
   "language": "python",
   "name": "python3"
  },
  "language_info": {
   "codemirror_mode": {
    "name": "ipython",
    "version": 3
   },
   "file_extension": ".py",
   "mimetype": "text/x-python",
   "name": "python",
   "nbconvert_exporter": "python",
   "pygments_lexer": "ipython3",
   "version": "3.10.8"
  }
 },
 "nbformat": 4,
 "nbformat_minor": 4
}
