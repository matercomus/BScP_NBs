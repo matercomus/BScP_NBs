{
 "cells": [
  {
   "cell_type": "code",
   "execution_count": null,
   "metadata": {
    "tags": []
   },
   "outputs": [],
   "source": [
    "!pip install seaborn matplotlib"
   ]
  },
  {
   "cell_type": "code",
   "execution_count": null,
   "metadata": {
    "ExecuteTime": {
     "end_time": "2023-05-13T13:46:07.289005715Z",
     "start_time": "2023-05-13T13:46:07.065092172Z"
    },
    "collapsed": false,
    "jupyter": {
     "outputs_hidden": false
    },
    "tags": []
   },
   "outputs": [],
   "source": [
    "import pandas as pd\n",
    "import rdflib as rdflib\n",
    "import smartpynector as sp"
   ]
  },
  {
   "cell_type": "code",
   "execution_count": null,
   "metadata": {
    "ExecuteTime": {
     "end_time": "2023-05-13T13:46:07.466735300Z",
     "start_time": "2023-05-13T13:46:07.277567097Z"
    },
    "collapsed": false,
    "jupyter": {
     "outputs_hidden": false
    },
    "tags": []
   },
   "outputs": [],
   "source": [
    "# reading triples from GraphDB\n",
    "READ_URL = \"https://graphdb.odissei.nl/repositories/MateuszTest\"\n",
    "WRITE_URL = \"https://graphdb.odissei.nl/repositories/MateuszTest/statements\"\n",
    "\n",
    "triples = sp.read_triples_from_graphdb(\n",
    "    read_url=READ_URL,\n",
    "    write_url=WRITE_URL,\n",
    ")\n",
    "\n",
    "# for triple in triples:\n",
    "#     print(triple)"
   ]
  },
  {
   "cell_type": "code",
   "execution_count": null,
   "metadata": {
    "ExecuteTime": {
     "end_time": "2023-05-13T13:46:07.659424083Z",
     "start_time": "2023-05-13T13:46:07.461106311Z"
    },
    "collapsed": false,
    "jupyter": {
     "outputs_hidden": false
    },
    "tags": []
   },
   "outputs": [],
   "source": [
    "query = \"\"\"\n",
    "    PREFIX rdf: <http://www.w3.org/1999/02/22-rdf-syntax-ns#>\n",
    "    PREFIX saref: <https://w3id.org/saref#>\n",
    "\n",
    "    SELECT *\n",
    "    WHERE {\n",
    "        ?meas rdf:type saref:Measurement .\n",
    "        ?meas saref:hasValue ?temp .\n",
    "        ?meas saref:isMeasuredIn saref:TemperatureUnit .\n",
    "        ?meas saref:hasTimestamp ?timestamp .\n",
    "        ?meas saref:isMeasurementOf ?room_id .\n",
    "        ?meas saref:relatesToProperty saref:Temperature .\n",
    "        ?meas saref:measurementMadeBy ?device_id .\n",
    "    }\n",
    "\"\"\"\n",
    "\n",
    "results = sp.run_sparql_query(READ_URL, query, return_format=\"json\")\n",
    "# print(results)\n",
    "df = sp.sparql_results_to_df(results)\n",
    "df[\"temp\"] = df[\"temp\"].astype(\"int\")\n",
    "\n",
    "df"
   ]
  },
  {
   "cell_type": "code",
   "execution_count": null,
   "metadata": {
    "ExecuteTime": {
     "end_time": "2023-05-13T13:46:08.489709211Z",
     "start_time": "2023-05-13T13:46:07.601052029Z"
    },
    "collapsed": false,
    "jupyter": {
     "outputs_hidden": false
    },
    "tags": []
   },
   "outputs": [],
   "source": [
    "import matplotlib.pyplot as plt\n",
    "import seaborn as sns\n",
    "from matplotlib.dates import DateFormatter\n",
    "\n",
    "# assuming `df` is the DataFrame containing the SPARQL query results\n",
    "df[\"timestamp\"] = pd.to_datetime(df[\"timestamp\"])\n",
    "df = df.sort_values(\"timestamp\")\n",
    "\n",
    "plt.figure(figsize=(10, 6))\n",
    "sns.lineplot(data=df, x=\"timestamp\", y=\"temp\")\n",
    "plt.xticks(rotation=90)\n",
    "# plt.gca().invert_yaxis()\n",
    "\n",
    "date_format = DateFormatter(\"%Y-%m-%d %H:%M:%S\")\n",
    "plt.gca().xaxis.set_major_formatter(date_format)\n",
    "\n",
    "plt.show()"
   ]
  },
  {
   "cell_type": "code",
   "execution_count": null,
   "metadata": {
    "ExecuteTime": {
     "end_time": "2023-05-13T13:47:10.088789809Z",
     "start_time": "2023-05-13T13:47:10.025781590Z"
    },
    "collapsed": false,
    "jupyter": {
     "outputs_hidden": false
    },
    "tags": []
   },
   "outputs": [],
   "source": [
    "import matplotlib.pyplot as plt\n",
    "import networkx as nx\n",
    "import rdflib\n",
    "from rdflib.extras.external_graph_libs import rdflib_to_networkx_multidigraph\n",
    "\n",
    "# Convert the SPARQL query results into an rdflib.Graph object\n",
    "g = sp.convert_sparql_results_to_graph(results)\n",
    "\n",
    "# Convert the rdflib.Graph object into a NetworkX graph\n",
    "G = rdflib_to_networkx_multidigraph(g)"
   ]
  },
  {
   "cell_type": "code",
   "execution_count": null,
   "metadata": {
    "ExecuteTime": {
     "end_time": "2023-05-13T13:49:16.420980876Z",
     "start_time": "2023-05-13T13:49:16.125188047Z"
    },
    "collapsed": false,
    "jupyter": {
     "outputs_hidden": false
    }
   },
   "outputs": [],
   "source": [
    "# Plot the NetworkX graph using Matplotlib\n",
    "pos = nx.spring_layout(G, scale=1)\n",
    "edge_labels = nx.get_edge_attributes(G, \"r\")\n",
    "nx.draw_networkx_edge_labels(G, pos, edge_labels=edge_labels)\n",
    "nx.draw(G, with_labels=True)\n",
    "\n",
    "plt.figure(figsize=(50, 50))\n",
    "plt.show()"
   ]
  },
  {
   "cell_type": "code",
   "execution_count": null,
   "metadata": {
    "collapsed": false,
    "jupyter": {
     "outputs_hidden": false
    }
   },
   "outputs": [],
   "source": []
  },
  {
   "cell_type": "code",
   "execution_count": null,
   "metadata": {},
   "outputs": [],
   "source": []
  }
 ],
 "metadata": {
  "kernelspec": {
   "display_name": "Python 3 (ipykernel)",
   "language": "python",
   "name": "python3"
  },
  "language_info": {
   "codemirror_mode": {
    "name": "ipython",
    "version": 3
   },
   "file_extension": ".py",
   "mimetype": "text/x-python",
   "name": "python",
   "nbconvert_exporter": "python",
   "pygments_lexer": "ipython3",
   "version": "3.10.11"
  }
 },
 "nbformat": 4,
 "nbformat_minor": 4
}
