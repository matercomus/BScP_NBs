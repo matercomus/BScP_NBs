{
 "cells": [
  {
   "cell_type": "code",
   "execution_count": 1,
   "id": "61647269-6e83-493b-b577-7b68e32377ff",
   "metadata": {
    "tags": []
   },
   "outputs": [],
   "source": [
    "#ThermostatSC2"
   ]
  },
  {
   "cell_type": "code",
   "execution_count": 2,
   "id": "c4db569e-8369-44ed-8890-082de12dcef6",
   "metadata": {
    "tags": []
   },
   "outputs": [],
   "source": [
    "import datetime\n",
    "import time\n",
    "import random\n",
    "import logging\n",
    "import uuid\n",
    "\n",
    "from utils import *\n",
    "\n",
    "logging.basicConfig(level=logging.INFO)\n",
    "logger = logging.getLogger(__name__)"
   ]
  },
  {
   "cell_type": "code",
   "execution_count": 3,
   "id": "cea49628-aa9a-425b-a728-d8bccc7f413e",
   "metadata": {
    "tags": []
   },
   "outputs": [],
   "source": [
    "THERMOSTAT_API_URL = \"http://0.0.0.0:8001/thermostat\"\n",
    "PREFIXES={\n",
    "        \"rdf\": \"http://www.w3.org/1999/02/22-rdf-syntax-ns#\",\n",
    "        \"saref\": \"https://w3id.org/saref#\",\n",
    "    }\n",
    "\n",
    "GRAPH_PATTERN = \"\"\"?meas rdf:type saref:Measurement .\n",
    "                     ?meas saref:hasValue ?temp .\n",
    "                     ?meas saref:isMeasuredIn saref:TemperatureUnit .\n",
    "                     ?meas saref:hasTimestamp ?timestamp .\n",
    "                     ?meas saref:isMeasurementOf ?room_id .\n",
    "                     ?meas saref:relatesToProperty saref:Temperature .\n",
    "                     ?meas saref:measurementMadeBy ?device_id .\"\"\""
   ]
  },
  {
   "cell_type": "code",
   "execution_count": 4,
   "id": "73710bef-3f03-4748-b722-f9bf1ac11356",
   "metadata": {},
   "outputs": [],
   "source": [
    "def get_temp_now():\n",
    "    return requests.get(THERMOSTAT_API_URL + \"/actual_temperature\").json()"
   ]
  },
  {
   "cell_type": "code",
   "execution_count": 5,
   "id": "5530451c-693c-4e45-b6fe-c3018ba63480",
   "metadata": {
    "tags": []
   },
   "outputs": [],
   "source": [
    "\n",
    "def start_sensor_kb(kb_id, kb_name, kb_description, ke_endpoint):\n",
    "    register_knowledge_base(kb_id, kb_name, kb_description, ke_endpoint)\n",
    "    post_ki_id = register_post_knowledge_interaction(\n",
    "        GRAPH_PATTERN,\n",
    "        None,\n",
    "        \"post-measurements\",\n",
    "        kb_id,\n",
    "        ke_endpoint,\n",
    "        PREFIXES,\n",
    "    )\n",
    "\n",
    "    measurement_counter = 0\n",
    "    # two threads?\n",
    "    while True:\n",
    "        measurement_counter += 1\n",
    "        value = get_temp_now()\n",
    "\n",
    "        post(\n",
    "            [\n",
    "                {\n",
    "                    \"meas\": f\"<{THERMOSTAT_API_URL}/measurements/{str(uuid.uuid4())}>\",\n",
    "                    \"temp\": f\"{get_temp_now()}\",\n",
    "                    \"timestamp\": f'\"{get_timestamp_now()}\"',  # ISO 8601 format\n",
    "                    \"room_id\": f'\"{THERMOSTAT_API_URL}/rooms/1\"',\n",
    "                    \"device_id\": f'\"{THERMOSTAT_API_URL}/devices/1\"',\n",
    "                }\n",
    "            ],\n",
    "            post_ki_id,\n",
    "            kb_id,\n",
    "            ke_endpoint,\n",
    "        )\n",
    "        logger.info(f\"published measurement of {value} units at {get_timestamp_now()}\")\n",
    "\n",
    "        time.sleep(5)\n"
   ]
  },
  {
   "cell_type": "code",
   "execution_count": 6,
   "id": "1b8bbb05-558e-4bc4-9744-5a3ec04d2401",
   "metadata": {
    "tags": []
   },
   "outputs": [],
   "source": [
    "def handle_answer_measurements(query_bindings):\n",
    "    global measurements\n",
    "    print(f'Answer query bindings: {query_bindings}')\n",
    "    #change desired temp\n",
    "    requests.put(\n",
    "        THERMOSTAT_API_URL\n",
    "        + \"/desired_temperature\"\n",
    "        + f'?desired_temperature={query_bindings[\"desired_temp\"]}'\n",
    "    )\n",
    "    return match_bindings(query_bindings, measurements)"
   ]
  },
  {
   "cell_type": "code",
   "execution_count": 7,
   "id": "f6b6300c-f6b7-4edf-b9ca-8cb10bf16599",
   "metadata": {
    "tags": []
   },
   "outputs": [],
   "source": [
    "import threading\n",
    "\n",
    "def start_sensor_kb(kb_id, kb_name, kb_description, ke_endpoint):\n",
    "    register_knowledge_base(kb_id, kb_name, kb_description, ke_endpoint)\n",
    "    post_ki_id = register_post_knowledge_interaction(\n",
    "        GRAPH_PATTERN,\n",
    "        None,\n",
    "        \"post-measurements\",\n",
    "        kb_id,\n",
    "        ke_endpoint,\n",
    "        PREFIXES,\n",
    "    )\n",
    "    \n",
    "    answer_measurements_ki = register_answer_knowledge_interaction(\n",
    "        GRAPH_PATTERN,\n",
    "        \"answer-measurements\",\n",
    "        kb_id,\n",
    "        ke_endpoint,\n",
    "        PREFIXES,\n",
    "    )\n",
    "\n",
    "    measurement_counter = 0\n",
    "\n",
    "    # Start the start_handle_loop function in a separate thread\n",
    "    handle_loop_thread = threading.Thread(target=start_handle_loop, args=(\n",
    "        {\n",
    "            answer_measurements_ki: handle_answer_measurements,\n",
    "        },\n",
    "        kb_id,\n",
    "        ke_endpoint,\n",
    "    ))\n",
    "    handle_loop_thread.start()\n",
    "\n",
    "    # Main loop for posting measurements\n",
    "    while True:\n",
    "        measurement_counter += 1\n",
    "        value = get_temp_now()\n",
    "\n",
    "        post(\n",
    "            [\n",
    "                {\n",
    "                    \"meas\": f\"<{THERMOSTAT_API_URL}/measurements/{str(uuid.uuid4())}>\",\n",
    "                    \"temp\": f\"{get_temp_now()}\",\n",
    "                    \"timestamp\": f'\"{get_timestamp_now()}\"',  # ISO 8601 format\n",
    "                    \"room_id\": f'\"{THERMOSTAT_API_URL}/rooms/1\"',\n",
    "                    \"device_id\": f'\"{THERMOSTAT_API_URL}/devices/1\"',\n",
    "                }\n",
    "            ],\n",
    "            post_ki_id,\n",
    "            kb_id,\n",
    "            ke_endpoint,\n",
    "        )\n",
    "        logger.info(f\"published measurement of {value} units at {get_timestamp_now()}\")\n",
    "\n",
    "        time.sleep(5)\n"
   ]
  },
  {
   "cell_type": "code",
   "execution_count": 8,
   "id": "7066e3da-bf1a-4bad-b476-4835ea3220a2",
   "metadata": {
    "tags": []
   },
   "outputs": [
    {
     "name": "stderr",
     "output_type": "stream",
     "text": [
      "INFO:utils:registered Thermostat1_temp\n",
      "INFO:utils:received issued knowledge interaction id: http://example.org/sensor/interaction/post-measurements\n",
      "INFO:utils:received issued knowledge interaction id: http://example.org/sensor/interaction/answer-measurements\n",
      "INFO:__main__:published measurement of 21 units at 2023-06-19T01:08:20+00:00\n",
      "INFO:__main__:published measurement of 19 units at 2023-06-19T01:08:26+00:00\n",
      "INFO:__main__:published measurement of 20 units at 2023-06-19T01:08:32+00:00\n",
      "INFO:__main__:published measurement of 18 units at 2023-06-19T01:08:38+00:00\n",
      "INFO:__main__:published measurement of 20 units at 2023-06-19T01:08:43+00:00\n",
      "INFO:__main__:published measurement of 17 units at 2023-06-19T01:08:49+00:00\n",
      "INFO:__main__:published measurement of 23 units at 2023-06-19T01:08:55+00:00\n",
      "INFO:__main__:published measurement of 19 units at 2023-06-19T01:09:01+00:00\n",
      "INFO:__main__:published measurement of 21 units at 2023-06-19T01:09:07+00:00\n",
      "INFO:__main__:published measurement of 22 units at 2023-06-19T01:09:12+00:00\n",
      "INFO:__main__:published measurement of 19 units at 2023-06-19T01:09:18+00:00\n",
      "INFO:__main__:published measurement of 20 units at 2023-06-19T01:09:24+00:00\n",
      "INFO:__main__:published measurement of 22 units at 2023-06-19T01:09:30+00:00\n",
      "INFO:__main__:published measurement of 23 units at 2023-06-19T01:09:35+00:00\n",
      "INFO:__main__:published measurement of 18 units at 2023-06-19T01:09:41+00:00\n",
      "INFO:__main__:published measurement of 19 units at 2023-06-19T01:09:47+00:00\n",
      "INFO:__main__:published measurement of 23 units at 2023-06-19T01:09:53+00:00\n",
      "INFO:__main__:published measurement of 23 units at 2023-06-19T01:09:59+00:00\n",
      "INFO:__main__:published measurement of 22 units at 2023-06-19T01:10:04+00:00\n",
      "INFO:__main__:published measurement of 17 units at 2023-06-19T01:10:10+00:00\n",
      "INFO:__main__:published measurement of 23 units at 2023-06-19T01:10:16+00:00\n",
      "INFO:__main__:published measurement of 21 units at 2023-06-19T01:10:21+00:00\n",
      "INFO:__main__:published measurement of 21 units at 2023-06-19T01:10:27+00:00\n",
      "INFO:__main__:published measurement of 20 units at 2023-06-19T01:10:33+00:00\n",
      "INFO:__main__:published measurement of 21 units at 2023-06-19T01:10:38+00:00\n",
      "INFO:__main__:published measurement of 22 units at 2023-06-19T01:10:44+00:00\n",
      "INFO:__main__:published measurement of 17 units at 2023-06-19T01:10:50+00:00\n",
      "INFO:__main__:published measurement of 21 units at 2023-06-19T01:10:56+00:00\n",
      "INFO:__main__:published measurement of 19 units at 2023-06-19T01:11:01+00:00\n",
      "INFO:__main__:published measurement of 23 units at 2023-06-19T01:11:07+00:00\n",
      "INFO:__main__:published measurement of 20 units at 2023-06-19T01:11:13+00:00\n",
      "INFO:__main__:published measurement of 23 units at 2023-06-19T01:11:18+00:00\n",
      "INFO:__main__:published measurement of 19 units at 2023-06-19T01:11:24+00:00\n",
      "INFO:__main__:published measurement of 22 units at 2023-06-19T01:11:30+00:00\n",
      "INFO:__main__:published measurement of 23 units at 2023-06-19T01:11:36+00:00\n",
      "INFO:__main__:published measurement of 22 units at 2023-06-19T01:11:42+00:00\n",
      "INFO:__main__:published measurement of 22 units at 2023-06-19T01:11:47+00:00\n",
      "INFO:__main__:published measurement of 21 units at 2023-06-19T01:11:53+00:00\n",
      "INFO:__main__:published measurement of 23 units at 2023-06-19T01:11:59+00:00\n",
      "INFO:__main__:published measurement of 20 units at 2023-06-19T01:12:04+00:00\n",
      "INFO:__main__:published measurement of 19 units at 2023-06-19T01:12:10+00:00\n",
      "INFO:__main__:published measurement of 18 units at 2023-06-19T01:12:16+00:00\n",
      "INFO:__main__:published measurement of 21 units at 2023-06-19T01:12:22+00:00\n",
      "INFO:__main__:published measurement of 18 units at 2023-06-19T01:12:28+00:00\n",
      "INFO:__main__:published measurement of 21 units at 2023-06-19T01:12:33+00:00\n",
      "INFO:__main__:published measurement of 23 units at 2023-06-19T01:12:39+00:00\n",
      "INFO:__main__:published measurement of 20 units at 2023-06-19T01:12:45+00:00\n",
      "INFO:__main__:published measurement of 23 units at 2023-06-19T01:12:51+00:00\n",
      "INFO:__main__:published measurement of 21 units at 2023-06-19T01:12:56+00:00\n",
      "INFO:__main__:published measurement of 17 units at 2023-06-19T01:13:02+00:00\n",
      "INFO:__main__:published measurement of 18 units at 2023-06-19T01:13:08+00:00\n",
      "INFO:__main__:published measurement of 19 units at 2023-06-19T01:13:14+00:00\n",
      "INFO:__main__:published measurement of 18 units at 2023-06-19T01:13:20+00:00\n",
      "INFO:__main__:published measurement of 20 units at 2023-06-19T01:13:26+00:00\n"
     ]
    },
    {
     "ename": "KeyboardInterrupt",
     "evalue": "",
     "output_type": "error",
     "traceback": [
      "\u001b[0;31m---------------------------------------------------------------------------\u001b[0m",
      "\u001b[0;31mKeyboardInterrupt\u001b[0m                         Traceback (most recent call last)",
      "Cell \u001b[0;32mIn[8], line 1\u001b[0m\n\u001b[0;32m----> 1\u001b[0m \u001b[43mstart_sensor_kb\u001b[49m\u001b[43m(\u001b[49m\n\u001b[1;32m      2\u001b[0m \u001b[43m    \u001b[49m\u001b[38;5;124;43m\"\u001b[39;49m\u001b[38;5;124;43mhttp://example.org/sensor\u001b[39;49m\u001b[38;5;124;43m\"\u001b[39;49m\u001b[43m,\u001b[49m\n\u001b[1;32m      3\u001b[0m \u001b[43m    \u001b[49m\u001b[38;5;124;43m\"\u001b[39;49m\u001b[38;5;124;43mThermostat1_temp\u001b[39;49m\u001b[38;5;124;43m\"\u001b[39;49m\u001b[43m,\u001b[49m\n\u001b[1;32m      4\u001b[0m \u001b[43m    \u001b[49m\u001b[38;5;124;43m\"\u001b[39;49m\u001b[38;5;124;43mA thermostat\u001b[39;49m\u001b[38;5;124;43m\"\u001b[39;49m\u001b[43m,\u001b[49m\n\u001b[1;32m      5\u001b[0m \u001b[43m    \u001b[49m\u001b[38;5;124;43m\"\u001b[39;49m\u001b[38;5;124;43mhttp://knowledge_engine:8280/rest/\u001b[39;49m\u001b[38;5;124;43m\"\u001b[39;49m\u001b[43m,\u001b[49m\n\u001b[1;32m      6\u001b[0m \u001b[43m)\u001b[49m\n",
      "Cell \u001b[0;32mIn[7], line 55\u001b[0m, in \u001b[0;36mstart_sensor_kb\u001b[0;34m(kb_id, kb_name, kb_description, ke_endpoint)\u001b[0m\n\u001b[1;32m     39\u001b[0m post(\n\u001b[1;32m     40\u001b[0m     [\n\u001b[1;32m     41\u001b[0m         {\n\u001b[0;32m   (...)\u001b[0m\n\u001b[1;32m     51\u001b[0m     ke_endpoint,\n\u001b[1;32m     52\u001b[0m )\n\u001b[1;32m     53\u001b[0m logger\u001b[38;5;241m.\u001b[39minfo(\u001b[38;5;124mf\u001b[39m\u001b[38;5;124m\"\u001b[39m\u001b[38;5;124mpublished measurement of \u001b[39m\u001b[38;5;132;01m{\u001b[39;00mvalue\u001b[38;5;132;01m}\u001b[39;00m\u001b[38;5;124m units at \u001b[39m\u001b[38;5;132;01m{\u001b[39;00mget_timestamp_now()\u001b[38;5;132;01m}\u001b[39;00m\u001b[38;5;124m\"\u001b[39m)\n\u001b[0;32m---> 55\u001b[0m \u001b[43mtime\u001b[49m\u001b[38;5;241;43m.\u001b[39;49m\u001b[43msleep\u001b[49m\u001b[43m(\u001b[49m\u001b[38;5;241;43m5\u001b[39;49m\u001b[43m)\u001b[49m\n",
      "\u001b[0;31mKeyboardInterrupt\u001b[0m: "
     ]
    }
   ],
   "source": [
    "start_sensor_kb(\n",
    "    \"http://example.org/sensor\",\n",
    "    \"Thermostat1_temp\",\n",
    "    \"A thermostat\",\n",
    "    \"http://knowledge_engine:8280/rest/\",\n",
    ")"
   ]
  },
  {
   "cell_type": "code",
   "execution_count": null,
   "id": "51817962-3265-4a9d-8299-1df3c0097cff",
   "metadata": {},
   "outputs": [],
   "source": []
  }
 ],
 "metadata": {
  "kernelspec": {
   "display_name": "Python 3 (ipykernel)",
   "language": "python",
   "name": "python3"
  },
  "language_info": {
   "codemirror_mode": {
    "name": "ipython",
    "version": 3
   },
   "file_extension": ".py",
   "mimetype": "text/x-python",
   "name": "python",
   "nbconvert_exporter": "python",
   "pygments_lexer": "ipython3",
   "version": "3.10.11"
  }
 },
 "nbformat": 4,
 "nbformat_minor": 5
}
