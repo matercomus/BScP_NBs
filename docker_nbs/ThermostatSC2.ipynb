{
 "cells": [
  {
   "cell_type": "code",
   "execution_count": 1,
   "id": "61647269-6e83-493b-b577-7b68e32377ff",
   "metadata": {
    "tags": []
   },
   "outputs": [],
   "source": [
    "# ThermostatSC2"
   ]
  },
  {
   "cell_type": "code",
   "execution_count": 2,
   "id": "c4db569e-8369-44ed-8890-082de12dcef6",
   "metadata": {
    "tags": []
   },
   "outputs": [],
   "source": [
    "import datetime\n",
    "import logging\n",
    "import random\n",
    "import time\n",
    "import uuid\n",
    "import smartpynector as sp\n",
    "from utils import *\n",
    "\n",
    "logging.basicConfig(level=logging.INFO)\n",
    "logger = logging.getLogger(__name__)"
   ]
  },
  {
   "cell_type": "code",
   "execution_count": 3,
   "id": "cea49628-aa9a-425b-a728-d8bccc7f413e",
   "metadata": {
    "tags": []
   },
   "outputs": [],
   "source": [
    "THERMOSTAT_API_URL = \"http://0.0.0.0:8001/thermostat\"\n",
    "PREFIXES = {\n",
    "    \"rdf\": \"http://www.w3.org/1999/02/22-rdf-syntax-ns#\",\n",
    "    \"saref\": \"https://w3id.org/saref#\",\n",
    "}\n",
    "\n",
    "MEAS_GRAPH_PATTERN = \"\"\"?meas rdf:type saref:Measurement .\n",
    "                     ?meas saref:hasValue ?temp .\n",
    "                     ?meas saref:isMeasuredIn saref:TemperatureUnit .\n",
    "                     ?meas saref:hasTimestamp ?timestamp .\n",
    "                     ?meas saref:isMeasurementOf ?room_id .\n",
    "                     ?meas saref:relatesToProperty saref:Temperature .\n",
    "                     ?meas saref:measurementMadeBy ?device_id .\"\"\"\n",
    "\n",
    "SETTING_GRAPH_PATTERN = \"\"\"?setting rdf:type saref:SetLevelCommand .\n",
    "                    ?setting saref:hasValue ?desired_temp .\n",
    "                    ?setting saref:isMeasuredIn saref:TemperatureUnit .\n",
    "                    ?setting saref:hasTimestamp ?timestamp .\n",
    "                    ?setting saref:isCommandOf ?room_id .\n",
    "                    ?setting saref:relatesToProperty saref:Temperature .\n",
    "                    ?setting saref:commandIssuedBy ?device_id .\n",
    "                    \"\"\""
   ]
  },
  {
   "cell_type": "code",
   "execution_count": 4,
   "id": "73710bef-3f03-4748-b722-f9bf1ac11356",
   "metadata": {},
   "outputs": [],
   "source": [
    "def get_temp_now():\n",
    "    return requests.get(THERMOSTAT_API_URL + \"/actual_temperature\").json()"
   ]
  },
  {
   "cell_type": "code",
   "execution_count": 5,
   "id": "1b8bbb05-558e-4bc4-9744-5a3ec04d2401",
   "metadata": {
    "tags": []
   },
   "outputs": [],
   "source": [
    "def handle_react_change_desired_temp(bindings):\n",
    "    for binding in bindings:\n",
    "        logger.info(f\"Handling react binding: {binding}\")\n",
    "        # change desired temp\n",
    "        requests.put(\n",
    "            THERMOSTAT_API_URL\n",
    "            + \"/desired_temperature\"\n",
    "            + f'?desired_temperature={int(binding[\"desired_temp\"])}'\n",
    "        )\n",
    "    return []"
   ]
  },
  {
   "cell_type": "code",
   "execution_count": 6,
   "id": "f6b6300c-f6b7-4edf-b9ca-8cb10bf16599",
   "metadata": {
    "tags": []
   },
   "outputs": [],
   "source": [
    "import threading\n",
    "\n",
    "\n",
    "def start_sensor_kb(kb_id, kb_name, kb_description, ke_endpoint):\n",
    "    register_knowledge_base(kb_id, kb_name, kb_description, ke_endpoint)\n",
    "\n",
    "    post_ki_id = register_post_knowledge_interaction(\n",
    "        MEAS_GRAPH_PATTERN,\n",
    "        None,\n",
    "        \"post-measurements\",\n",
    "        kb_id,\n",
    "        ke_endpoint,\n",
    "        PREFIXES,\n",
    "    )\n",
    "\n",
    "    react_ki_id = register_react_knowledge_interaction(\n",
    "        SETTING_GRAPH_PATTERN,\n",
    "        None,\n",
    "        \"set-desired-temp\",\n",
    "        kb_id,\n",
    "        ke_endpoint,\n",
    "        PREFIXES,\n",
    "    )\n",
    "\n",
    "    def measurement_loop(post_ki_id, kb_id, ke_endpoint):\n",
    "        while True:\n",
    "            value = get_temp_now()\n",
    "\n",
    "            post(\n",
    "                [\n",
    "                    {\n",
    "                        \"meas\": f\"<{THERMOSTAT_API_URL}/measurements/{str(uuid.uuid4())}>\",\n",
    "                        \"temp\": f\"{get_temp_now()}\",\n",
    "                        \"timestamp\": f'\"{sp.get_timestamp_now()}\"',  # ISO 8601 format\n",
    "                        \"room_id\": f'\"{THERMOSTAT_API_URL}/rooms/1\"',\n",
    "                        \"device_id\": f'\"{THERMOSTAT_API_URL}/devices/1\"',\n",
    "                    }\n",
    "                ],\n",
    "                post_ki_id,\n",
    "                kb_id,\n",
    "                ke_endpoint,\n",
    "            )\n",
    "            logger.info(\n",
    "                f\"published measurement of {value} units at {get_timestamp_now()}\"\n",
    "            )\n",
    "\n",
    "            time.sleep(5)\n",
    "\n",
    "    # Start the measurement_loop function in a separate thread\n",
    "    measurement_thread = threading.Thread(\n",
    "        target=measurement_loop,\n",
    "        args=(\n",
    "            post_ki_id,\n",
    "            kb_id,\n",
    "            ke_endpoint,\n",
    "        ),\n",
    "    )\n",
    "    measurement_thread.start()\n",
    "\n",
    "    # Start the start_handle_loop function in a separate thread\n",
    "    start_handle_loop(\n",
    "        {\n",
    "            react_ki_id: handle_react_change_desired_temp,\n",
    "        },\n",
    "        kb_id,\n",
    "        ke_endpoint,\n",
    "    )"
   ]
  },
  {
   "cell_type": "code",
   "execution_count": 7,
   "id": "7066e3da-bf1a-4bad-b476-4835ea3220a2",
   "metadata": {
    "tags": []
   },
   "outputs": [
    {
     "ename": "AssertionError",
     "evalue": "",
     "output_type": "error",
     "traceback": [
      "\u001b[0;31m---------------------------------------------------------------------------\u001b[0m",
      "\u001b[0;31mAssertionError\u001b[0m                            Traceback (most recent call last)",
      "Cell \u001b[0;32mIn[7], line 1\u001b[0m\n\u001b[0;32m----> 1\u001b[0m \u001b[43mstart_sensor_kb\u001b[49m\u001b[43m(\u001b[49m\n\u001b[1;32m      2\u001b[0m \u001b[43m    \u001b[49m\u001b[38;5;124;43m\"\u001b[39;49m\u001b[38;5;124;43mhttp://example.org/sensor\u001b[39;49m\u001b[38;5;124;43m\"\u001b[39;49m\u001b[43m,\u001b[49m\n\u001b[1;32m      3\u001b[0m \u001b[43m    \u001b[49m\u001b[38;5;124;43m\"\u001b[39;49m\u001b[38;5;124;43mThermostat1_temp\u001b[39;49m\u001b[38;5;124;43m\"\u001b[39;49m\u001b[43m,\u001b[49m\n\u001b[1;32m      4\u001b[0m \u001b[43m    \u001b[49m\u001b[38;5;124;43m\"\u001b[39;49m\u001b[38;5;124;43mA thermostat\u001b[39;49m\u001b[38;5;124;43m\"\u001b[39;49m\u001b[43m,\u001b[49m\n\u001b[1;32m      5\u001b[0m \u001b[43m    \u001b[49m\u001b[38;5;124;43m\"\u001b[39;49m\u001b[38;5;124;43mhttp://knowledge_engine:8280/rest/\u001b[39;49m\u001b[38;5;124;43m\"\u001b[39;49m\u001b[43m,\u001b[49m\n\u001b[1;32m      6\u001b[0m \u001b[43m)\u001b[49m\n",
      "Cell \u001b[0;32mIn[6], line 4\u001b[0m, in \u001b[0;36mstart_sensor_kb\u001b[0;34m(kb_id, kb_name, kb_description, ke_endpoint)\u001b[0m\n\u001b[1;32m      3\u001b[0m \u001b[38;5;28;01mdef\u001b[39;00m \u001b[38;5;21mstart_sensor_kb\u001b[39m(kb_id, kb_name, kb_description, ke_endpoint):\n\u001b[0;32m----> 4\u001b[0m     \u001b[43mregister_knowledge_base\u001b[49m\u001b[43m(\u001b[49m\u001b[43mkb_id\u001b[49m\u001b[43m,\u001b[49m\u001b[43m \u001b[49m\u001b[43mkb_name\u001b[49m\u001b[43m,\u001b[49m\u001b[43m \u001b[49m\u001b[43mkb_description\u001b[49m\u001b[43m,\u001b[49m\u001b[43m \u001b[49m\u001b[43mke_endpoint\u001b[49m\u001b[43m)\u001b[49m\n\u001b[1;32m      6\u001b[0m     post_ki_id \u001b[38;5;241m=\u001b[39m register_post_knowledge_interaction(\n\u001b[1;32m      7\u001b[0m         MEAS_GRAPH_PATTERN,\n\u001b[1;32m      8\u001b[0m         \u001b[38;5;28;01mNone\u001b[39;00m,\n\u001b[0;32m   (...)\u001b[0m\n\u001b[1;32m     12\u001b[0m         PREFIXES,\n\u001b[1;32m     13\u001b[0m     )\n\u001b[1;32m     15\u001b[0m     react_ki_id \u001b[38;5;241m=\u001b[39m register_react_knowledge_interaction(\n\u001b[1;32m     16\u001b[0m         SETTING_GRAPH_PATTERN,\n\u001b[1;32m     17\u001b[0m         \u001b[38;5;28;01mNone\u001b[39;00m,\n\u001b[0;32m   (...)\u001b[0m\n\u001b[1;32m     21\u001b[0m         PREFIXES,\n\u001b[1;32m     22\u001b[0m     )\n",
      "File \u001b[0;32m~/work/BScP_NBs/docker_nbs/utils.py:64\u001b[0m, in \u001b[0;36mregister_knowledge_base\u001b[0;34m(kb_id, kb_name, kb_description, ke_endpoint)\u001b[0m\n\u001b[1;32m     53\u001b[0m \u001b[38;5;250m\u001b[39m\u001b[38;5;124;03m\"\"\"\u001b[39;00m\n\u001b[1;32m     54\u001b[0m \u001b[38;5;124;03mRegister a Knowledge Base with the given details at the given endpoint.\u001b[39;00m\n\u001b[1;32m     55\u001b[0m \u001b[38;5;124;03m\"\"\"\u001b[39;00m\n\u001b[1;32m     56\u001b[0m response \u001b[38;5;241m=\u001b[39m requests\u001b[38;5;241m.\u001b[39mpost(\n\u001b[1;32m     57\u001b[0m     ke_endpoint \u001b[38;5;241m+\u001b[39m \u001b[38;5;124m\"\u001b[39m\u001b[38;5;124msc/\u001b[39m\u001b[38;5;124m\"\u001b[39m,\n\u001b[1;32m     58\u001b[0m     json\u001b[38;5;241m=\u001b[39m{\n\u001b[0;32m   (...)\u001b[0m\n\u001b[1;32m     62\u001b[0m     },\n\u001b[1;32m     63\u001b[0m )\n\u001b[0;32m---> 64\u001b[0m \u001b[38;5;28;01massert\u001b[39;00m response\u001b[38;5;241m.\u001b[39mok\n\u001b[1;32m     66\u001b[0m logger\u001b[38;5;241m.\u001b[39minfo(\u001b[38;5;124mf\u001b[39m\u001b[38;5;124m\"\u001b[39m\u001b[38;5;124mregistered \u001b[39m\u001b[38;5;132;01m{\u001b[39;00mkb_name\u001b[38;5;132;01m}\u001b[39;00m\u001b[38;5;124m\"\u001b[39m)\n",
      "\u001b[0;31mAssertionError\u001b[0m: "
     ]
    }
   ],
   "source": [
    "start_sensor_kb(\n",
    "    \"http://example.org/sensor\",\n",
    "    \"Thermostat1_temp\",\n",
    "    \"A thermostat\",\n",
    "    \"http://knowledge_engine:8280/rest/\",\n",
    ")"
   ]
  },
  {
   "cell_type": "code",
   "execution_count": null,
   "id": "51817962-3265-4a9d-8299-1df3c0097cff",
   "metadata": {},
   "outputs": [],
   "source": []
  }
 ],
 "metadata": {
  "kernelspec": {
   "display_name": "Python 3 (ipykernel)",
   "language": "python",
   "name": "python3"
  },
  "language_info": {
   "codemirror_mode": {
    "name": "ipython",
    "version": 3
   },
   "file_extension": ".py",
   "mimetype": "text/x-python",
   "name": "python",
   "nbconvert_exporter": "python",
   "pygments_lexer": "ipython3",
   "version": "3.10.11"
  }
 },
 "nbformat": 4,
 "nbformat_minor": 5
}
