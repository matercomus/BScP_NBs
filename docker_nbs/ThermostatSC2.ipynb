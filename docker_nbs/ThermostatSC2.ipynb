{
 "cells": [
  {
   "cell_type": "code",
   "execution_count": 1,
   "id": "61647269-6e83-493b-b577-7b68e32377ff",
   "metadata": {
    "tags": []
   },
   "outputs": [],
   "source": [
    "#ThermostatSC2"
   ]
  },
  {
   "cell_type": "code",
   "execution_count": 2,
   "id": "c4db569e-8369-44ed-8890-082de12dcef6",
   "metadata": {
    "tags": []
   },
   "outputs": [],
   "source": [
    "import datetime\n",
    "import time\n",
    "import random\n",
    "import logging\n",
    "import uuid\n",
    "\n",
    "from utils import *"
   ]
  },
  {
   "cell_type": "code",
   "execution_count": 3,
   "id": "78a0b946-81a8-4102-ba0e-8bde3ac90e1f",
   "metadata": {
    "tags": []
   },
   "outputs": [],
   "source": [
    "logging.basicConfig(level=logging.INFO)\n",
    "logger = logging.getLogger(__name__)"
   ]
  },
  {
   "cell_type": "code",
   "execution_count": 4,
   "id": "52151e63-0df4-4394-bf02-6825a9a4ed8b",
   "metadata": {
    "tags": []
   },
   "outputs": [],
   "source": [
    "THERMOSTAT_API_URL = \"http://0.0.0.0:8001/thermostat\"\n",
    "def get_temp_now():\n",
    "    return requests.get(THERMOSTAT_API_URL + \"/actual_temperature\").json()\n"
   ]
  },
  {
   "cell_type": "code",
   "execution_count": 5,
   "id": "cea49628-aa9a-425b-a728-d8bccc7f413e",
   "metadata": {
    "tags": []
   },
   "outputs": [],
   "source": [
    "PREFIXES={\n",
    "        \"rdf\": \"http://www.w3.org/1999/02/22-rdf-syntax-ns#\",\n",
    "        \"saref\": \"https://w3id.org/saref#\",\n",
    "    }\n",
    "\n",
    "GRAPH_PATTERN = \"\"\"?meas rdf:type saref:Measurement .\n",
    "                     ?meas saref:hasValue ?temp .\n",
    "                     ?meas saref:isMeasuredIn saref:TemperatureUnit .\n",
    "                     ?meas saref:hasTimestamp ?timestamp .\n",
    "                     ?meas saref:isMeasurementOf ?room_id .\n",
    "                     ?meas saref:relatesToProperty saref:Temperature .\n",
    "                     ?meas saref:measurementMadeBy ?device_id .\"\"\""
   ]
  },
  {
   "cell_type": "code",
   "execution_count": 6,
   "id": "5530451c-693c-4e45-b6fe-c3018ba63480",
   "metadata": {
    "tags": []
   },
   "outputs": [],
   "source": [
    "\n",
    "def start_sensor_kb(kb_id, kb_name, kb_description, ke_endpoint):\n",
    "    register_knowledge_base(kb_id, kb_name, kb_description, ke_endpoint)\n",
    "    ki_id = register_post_knowledge_interaction(\n",
    "        GRAPH_PATTERN,\n",
    "        None,\n",
    "        \"post-measurements\",\n",
    "        kb_id,\n",
    "        ke_endpoint,\n",
    "        PREFIXES,\n",
    "    )\n",
    "\n",
    "    measurement_counter = 0\n",
    "    while True:\n",
    "        now = datetime.datetime.now()\n",
    "        measurement_counter += 1\n",
    "        value = get_temp_now()\n",
    "\n",
    "        post(\n",
    "            [\n",
    "                {\n",
    "                    \"meas\": f\"<{THERMOSTAT_API_URL}/measurements/{str(uuid.uuid4())}>\",\n",
    "                    \"temp\": f\"{get_temp_now()}\",\n",
    "                    \"timestamp\": f'\"{get_timestamp_now()}\"',  # ISO 8601 format\n",
    "                    \"room_id\": f'\"{THERMOSTAT_API_URL}/rooms/1\"',\n",
    "                    \"device_id\": f'\"{THERMOSTAT_API_URL}/devices/1\"',\n",
    "                }\n",
    "            ],\n",
    "            ki_id,\n",
    "            kb_id,\n",
    "            ke_endpoint,\n",
    "        )\n",
    "        logger.info(f\"published measurement of {value} units at {get_timestamp_now()}\")\n",
    "\n",
    "        time.sleep(5)\n"
   ]
  },
  {
   "cell_type": "code",
   "execution_count": null,
   "id": "7066e3da-bf1a-4bad-b476-4835ea3220a2",
   "metadata": {
    "tags": []
   },
   "outputs": [
    {
     "name": "stderr",
     "output_type": "stream",
     "text": [
      "INFO:utils:registered Thermostat1_temp\n",
      "INFO:utils:received issued knowledge interaction id: http://example.org/sensor/interaction/post-measurements\n",
      "INFO:__main__:published measurement of 81 units at 2023-06-18T19:49:33+00:00\n",
      "INFO:__main__:published measurement of 79 units at 2023-06-18T19:49:39+00:00\n",
      "INFO:__main__:published measurement of 78 units at 2023-06-18T19:49:45+00:00\n",
      "INFO:__main__:published measurement of 77 units at 2023-06-18T19:49:51+00:00\n",
      "INFO:__main__:published measurement of 79 units at 2023-06-18T19:49:57+00:00\n",
      "INFO:__main__:published measurement of 82 units at 2023-06-18T19:50:03+00:00\n",
      "INFO:__main__:published measurement of 77 units at 2023-06-18T19:50:09+00:00\n",
      "INFO:__main__:published measurement of 82 units at 2023-06-18T19:50:15+00:00\n",
      "INFO:__main__:published measurement of 83 units at 2023-06-18T19:50:21+00:00\n",
      "INFO:__main__:published measurement of 82 units at 2023-06-18T19:50:27+00:00\n",
      "INFO:__main__:published measurement of 83 units at 2023-06-18T19:50:32+00:00\n",
      "INFO:__main__:published measurement of 78 units at 2023-06-18T19:50:38+00:00\n",
      "INFO:__main__:published measurement of 79 units at 2023-06-18T19:50:44+00:00\n",
      "INFO:__main__:published measurement of 77 units at 2023-06-18T19:50:50+00:00\n",
      "INFO:__main__:published measurement of 82 units at 2023-06-18T19:50:55+00:00\n",
      "INFO:__main__:published measurement of 83 units at 2023-06-18T19:51:01+00:00\n",
      "INFO:__main__:published measurement of 82 units at 2023-06-18T19:51:07+00:00\n",
      "INFO:__main__:published measurement of 78 units at 2023-06-18T19:51:13+00:00\n",
      "INFO:__main__:published measurement of 83 units at 2023-06-18T19:51:19+00:00\n",
      "INFO:__main__:published measurement of 80 units at 2023-06-18T19:51:26+00:00\n",
      "INFO:__main__:published measurement of 83 units at 2023-06-18T19:51:32+00:00\n",
      "INFO:__main__:published measurement of 82 units at 2023-06-18T19:51:37+00:00\n",
      "INFO:__main__:published measurement of 77 units at 2023-06-18T19:51:43+00:00\n",
      "INFO:__main__:published measurement of 80 units at 2023-06-18T19:51:49+00:00\n",
      "INFO:__main__:published measurement of 83 units at 2023-06-18T19:51:55+00:00\n",
      "INFO:__main__:published measurement of 79 units at 2023-06-18T19:52:01+00:00\n",
      "INFO:__main__:published measurement of 82 units at 2023-06-18T19:52:07+00:00\n",
      "INFO:__main__:published measurement of 77 units at 2023-06-18T19:52:14+00:00\n"
     ]
    }
   ],
   "source": [
    "start_sensor_kb(\n",
    "    \"http://example.org/sensor\",\n",
    "    \"Thermostat1_temp\",\n",
    "    \"A thermostat\",\n",
    "    \"http://knowledge_engine:8280/rest/\",\n",
    ")"
   ]
  },
  {
   "cell_type": "code",
   "execution_count": null,
   "id": "51817962-3265-4a9d-8299-1df3c0097cff",
   "metadata": {},
   "outputs": [],
   "source": []
  }
 ],
 "metadata": {
  "kernelspec": {
   "display_name": "Python 3 (ipykernel)",
   "language": "python",
   "name": "python3"
  },
  "language_info": {
   "codemirror_mode": {
    "name": "ipython",
    "version": 3
   },
   "file_extension": ".py",
   "mimetype": "text/x-python",
   "name": "python",
   "nbconvert_exporter": "python",
   "pygments_lexer": "ipython3",
   "version": "3.10.11"
  }
 },
 "nbformat": 4,
 "nbformat_minor": 5
}
