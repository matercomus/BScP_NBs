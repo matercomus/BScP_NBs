{
 "cells": [
  {
   "cell_type": "code",
   "execution_count": 1,
   "metadata": {
    "tags": []
   },
   "outputs": [
    {
     "name": "stdout",
     "output_type": "stream",
     "text": [
      "Requirement already satisfied: pandas in /opt/conda/lib/python3.10/site-packages (2.0.2)\n",
      "Requirement already satisfied: python-dateutil>=2.8.2 in /opt/conda/lib/python3.10/site-packages (from pandas) (2.8.2)\n",
      "Requirement already satisfied: pytz>=2020.1 in /opt/conda/lib/python3.10/site-packages (from pandas) (2023.3)\n",
      "Requirement already satisfied: tzdata>=2022.1 in /opt/conda/lib/python3.10/site-packages (from pandas) (2023.3)\n",
      "Requirement already satisfied: numpy>=1.21.0 in /opt/conda/lib/python3.10/site-packages (from pandas) (1.25.0)\n",
      "Requirement already satisfied: six>=1.5 in /opt/conda/lib/python3.10/site-packages (from python-dateutil>=2.8.2->pandas) (1.16.0)\n"
     ]
    }
   ],
   "source": [
    "!pip install pandas"
   ]
  },
  {
   "cell_type": "code",
   "execution_count": 2,
   "metadata": {
    "ExecuteTime": {
     "end_time": "2023-05-12T14:19:28.652288390Z",
     "start_time": "2023-05-12T14:19:28.520582195Z"
    },
    "tags": []
   },
   "outputs": [],
   "source": [
    "import json\n",
    "import uuid\n",
    "import requests\n",
    "# import the smartpynector module\n",
    "import smartpynector as sp"
   ]
  },
  {
   "cell_type": "code",
   "execution_count": 3,
   "metadata": {
    "ExecuteTime": {
     "end_time": "2023-05-12T14:19:28.654093721Z",
     "start_time": "2023-05-12T14:19:28.576813498Z"
    },
    "collapsed": false,
    "jupyter": {
     "outputs_hidden": false
    }
   },
   "outputs": [],
   "source": [
    "# Defining constants\n",
    "# Knowledge engine REST API URL\n",
    "# KNOWLEDGE_ENGINE_URL = \"http://127.0.0.1:8280/rest\"\n",
    "SUBSCRIBER_ID = \"http://subscriber:8000/subscriber\"\n",
    "KNOWLEDGE_ENGINE_URL = \"http://knowledge_engine:8280/rest\"\n",
    "THERMOSTAT_API_URL = \"http://0.0.0.0:8001/thermostat\""
   ]
  },
  {
   "cell_type": "code",
   "execution_count": 4,
   "metadata": {
    "ExecuteTime": {
     "end_time": "2023-05-12T14:19:28.654450633Z",
     "start_time": "2023-05-12T14:19:28.577094649Z"
    },
    "collapsed": false,
    "jupyter": {
     "outputs_hidden": false
    }
   },
   "outputs": [],
   "source": [
    "# Defining the smart connector\n",
    "smart_connector = sp.SmartConnector(\n",
    "    knowledgeBaseId=SUBSCRIBER_ID,\n",
    "    knowledgeBaseName=\"Subscriber2\",\n",
    "    knowledgeBaseDescription=\"Subscriber2\",\n",
    "    reasonerEnabled=False,\n",
    ")"
   ]
  },
  {
   "cell_type": "code",
   "execution_count": 5,
   "metadata": {
    "ExecuteTime": {
     "end_time": "2023-05-12T14:19:30.240926751Z",
     "start_time": "2023-05-12T14:19:28.577301159Z"
    },
    "collapsed": false,
    "jupyter": {
     "outputs_hidden": false
    }
   },
   "outputs": [
    {
     "data": {
      "text/plain": [
       "<Response [400]>"
      ]
     },
     "execution_count": 5,
     "metadata": {},
     "output_type": "execute_result"
    }
   ],
   "source": [
    "sp.create_smart_connector(smart_connector, KNOWLEDGE_ENGINE_URL)"
   ]
  },
  {
   "cell_type": "code",
   "execution_count": 6,
   "metadata": {
    "ExecuteTime": {
     "end_time": "2023-05-12T14:19:30.241307122Z",
     "start_time": "2023-05-12T14:19:30.196670337Z"
    },
    "collapsed": false,
    "jupyter": {
     "outputs_hidden": false
    }
   },
   "outputs": [],
   "source": [
    "PREFIXES={\n",
    "        \"rdf\": \"http://www.w3.org/1999/02/22-rdf-syntax-ns#\",\n",
    "        \"saref\": \"https://w3id.org/saref#\",\n",
    "    }\n",
    "GRAPH_PATTERN= '''?meas rdf:type saref:Measurement .\n",
    "         ?meas saref:hasValue ?temp .\n",
    "         ?meas saref:isMeasuredIn saref:TemperatureUnit .\n",
    "         ?meas saref:hasTimestamp ?timestamp .\n",
    "         ?meas saref:isMeasurementOf ?room_id .\n",
    "         ?meas saref:relatesToProperty saref:Temperature .\n",
    "         ?meas saref:measurementMadeBy ?device_id .'''"
   ]
  },
  {
   "cell_type": "code",
   "execution_count": 7,
   "metadata": {
    "ExecuteTime": {
     "end_time": "2023-05-12T14:19:30.706674826Z",
     "start_time": "2023-05-12T14:19:30.204886352Z"
    },
    "collapsed": false,
    "jupyter": {
     "outputs_hidden": false
    }
   },
   "outputs": [
    {
     "data": {
      "text/plain": [
       "'http://subscriber:8000/subscriber/interaction/8c05a373-76f0-42d2-abd8-f00546322754'"
      ]
     },
     "execution_count": 7,
     "metadata": {},
     "output_type": "execute_result"
    }
   ],
   "source": [
    "ask_ki_id = sp.register_knowledge_interaction(\n",
    "    knowledge_interaction_type=\"AskKnowledgeInteraction\",\n",
    "    knowledge_engine_url=KNOWLEDGE_ENGINE_URL,\n",
    "    prefixes=PREFIXES,\n",
    "    graph_pattern=GRAPH_PATTERN,\n",
    "    headers={\n",
    "        \"Content-Type\": \"application/json\",\n",
    "        \"knowledge-Base-Id\": SUBSCRIBER_ID,\n",
    "    },\n",
    ").json()[\"knowledgeInteractionId\"]\n",
    "ask_ki_id"
   ]
  },
  {
   "cell_type": "code",
   "execution_count": 8,
   "metadata": {
    "ExecuteTime": {
     "end_time": "2023-05-12T14:19:31.315946853Z",
     "start_time": "2023-05-12T14:19:30.451374247Z"
    },
    "collapsed": false,
    "jupyter": {
     "outputs_hidden": false
    }
   },
   "outputs": [
    {
     "data": {
      "text/plain": [
       "[{'room_id': '\"http://0.0.0.0:8001/thermostat/rooms/1\"',\n",
       "  'temp': '35',\n",
       "  'device_id': '\"http://0.0.0.0:8001/thermostat/devices/1\"',\n",
       "  'meas': '<http://0.0.0.0:8001/thermostat/measurements/c9fe81b3-2009-4f91-8d3f-8235b413b7a8>',\n",
       "  'timestamp': '\"2023-06-18T18:29:25+00:00\"'}]"
      ]
     },
     "execution_count": 8,
     "metadata": {},
     "output_type": "execute_result"
    }
   ],
   "source": [
    "binding_set = sp.perform_ask_knowledge_interaction(\n",
    "    knowledge_engine_url=KNOWLEDGE_ENGINE_URL,\n",
    "    knowledge_base_id=SUBSCRIBER_ID,\n",
    "    knowledge_interaction_id=ask_ki_id,\n",
    "    ask_data=[]\n",
    ").json()[\"bindingSet\"]\n",
    "binding_set"
   ]
  },
  {
   "cell_type": "code",
   "execution_count": 9,
   "metadata": {
    "ExecuteTime": {
     "end_time": "2023-05-12T14:19:32.014771770Z",
     "start_time": "2023-05-12T14:19:31.001478853Z"
    },
    "collapsed": false,
    "jupyter": {
     "outputs_hidden": false
    }
   },
   "outputs": [],
   "source": [
    "READ_URL = \"https://graphdb.odissei.nl/repositories/MateuszTest\"\n",
    "WRITE_URL = \"https://graphdb.odissei.nl/repositories/MateuszTest/statements\"\n",
    "\n",
    "sp.store_data_in_graphdb(\n",
    "    graph_pattern=GRAPH_PATTERN,\n",
    "    binding_set=binding_set,\n",
    "    prefixes=PREFIXES,\n",
    "    read_url=READ_URL,\n",
    "    write_url=WRITE_URL,\n",
    ")"
   ]
  },
  {
   "cell_type": "code",
   "execution_count": 10,
   "metadata": {
    "ExecuteTime": {
     "end_time": "2023-05-12T14:19:32.026557077Z",
     "start_time": "2023-05-12T14:19:32.020341059Z"
    },
    "collapsed": false,
    "jupyter": {
     "outputs_hidden": false
    }
   },
   "outputs": [
    {
     "data": {
      "text/plain": [
       "'http://subscriber:8000/subscriber/interaction/f2d90e23-9e25-4f68-8ac1-918110d966a7'"
      ]
     },
     "execution_count": 10,
     "metadata": {},
     "output_type": "execute_result"
    }
   ],
   "source": [
    "react_ki_id = sp.register_knowledge_interaction(\n",
    "    knowledge_interaction_type=\"ReactKnowledgeInteraction\",\n",
    "    knowledge_engine_url=KNOWLEDGE_ENGINE_URL,\n",
    "    prefixes=PREFIXES,\n",
    "    argument_graph_pattern=GRAPH_PATTERN,\n",
    "    headers={\n",
    "        \"Content-Type\": \"application/json\",\n",
    "        \"knowledge-Base-Id\": SUBSCRIBER_ID,\n",
    "    },\n",
    ").json()[\"knowledgeInteractionId\"]\n",
    "react_ki_id"
   ]
  },
  {
   "cell_type": "code",
   "execution_count": 11,
   "metadata": {},
   "outputs": [
    {
     "data": {
      "text/plain": [
       "36"
      ]
     },
     "execution_count": 11,
     "metadata": {},
     "output_type": "execute_result"
    }
   ],
   "source": [
    "thermostat_actual_temperature = requests.get(\n",
    "    THERMOSTAT_API_URL + \"/actual_temperature\"\n",
    ").json()\n",
    "thermostat_actual_temperature"
   ]
  },
  {
   "cell_type": "code",
   "execution_count": 12,
   "metadata": {},
   "outputs": [
    {
     "name": "stderr",
     "output_type": "stream",
     "text": [
      "2023-06-18 18:29:29 INFO getting\n",
      "2023-06-18 18:29:29 INFO 200\n",
      "2023-06-18 18:29:29 WARNING received unexpected status 400\n",
      "2023-06-18 18:29:29 WARNING {\"messageType\":\"error\",\"message\":\"Bindings must be empty when the graph pattern is missing.\"}\n",
      "2023-06-18 18:29:29 INFO retrying after a short timeout\n"
     ]
    },
    {
     "name": "stdout",
     "output_type": "stream",
     "text": [
      "getting\n",
      "{\"knowledgeInteractionId\":\"http://subscriber:8000/subscriber/interaction/99287242-7b0c-418a-8674-f7f792c3cbe8\",\"handleRequestId\":2,\"bindingSet\":[{\"room_id\":\"\\\"http://0.0.0.0:8001/thermostat/rooms/1\\\"\",\"temp\":\"34\",\"device_id\":\"\\\"http://0.0.0.0:8001/thermostat/devices/1\\\"\",\"meas\":\"<http://0.0.0.0:8001/thermostat/measurements/8d9414e9-4098-4925-b993-6cee13a3bd55>\",\"timestamp\":\"\\\"2023-06-18T18:29:28+00:00\\\"\"}],\"requestingKnowledgeBaseId\":\"http://0.0.0.0:8001/thermostat\"}\n",
      "200\n"
     ]
    },
    {
     "name": "stderr",
     "output_type": "stream",
     "text": [
      "2023-06-18 18:29:31 INFO getting\n"
     ]
    },
    {
     "name": "stdout",
     "output_type": "stream",
     "text": [
      "getting\n"
     ]
    },
    {
     "name": "stderr",
     "output_type": "stream",
     "text": [
      "2023-06-18 18:30:00 INFO getting\n"
     ]
    },
    {
     "name": "stdout",
     "output_type": "stream",
     "text": [
      "\n",
      "repoll\n",
      "getting\n"
     ]
    },
    {
     "name": "stderr",
     "output_type": "stream",
     "text": [
      "2023-06-18 18:30:29 INFO getting\n"
     ]
    },
    {
     "name": "stdout",
     "output_type": "stream",
     "text": [
      "\n",
      "repoll\n",
      "getting\n"
     ]
    },
    {
     "name": "stderr",
     "output_type": "stream",
     "text": [
      "\n",
      "KeyboardInterrupt\n",
      "\n"
     ]
    }
   ],
   "source": [
    "binding_set2=sp.perform_react_knowledge_interaction(\n",
    "    knowledge_engine_url=KNOWLEDGE_ENGINE_URL, \n",
    "    knowledge_base_id=SUBSCRIBER_ID,              \n",
    "    knowledge_interaction_id=react_ki_id, \n",
    "    argument_binding_set=[\n",
    "        {\n",
    "            \"meas\": f\"<{THERMOSTAT_API_URL}/measurements/{str(uuid.uuid4())}>\",\n",
    "            \"temp\": f\"{thermostat_actual_temperature}\",\n",
    "            \"timestamp\": f'\"{sp.get_timestamp_now()}\"',  # ISO 8601 format\n",
    "            \"room_id\": f'\"{THERMOSTAT_API_URL}/rooms/1\"',\n",
    "            \"device_id\": f'\"{THERMOSTAT_API_URL}/devices/1\"',\n",
    "        }\n",
    "    ],\n",
    ").json()[\"resultBindingSet\"]"
   ]
  },
  {
   "cell_type": "code",
   "execution_count": null,
   "metadata": {},
   "outputs": [],
   "source": []
  },
  {
   "cell_type": "code",
   "execution_count": null,
   "metadata": {},
   "outputs": [],
   "source": []
  }
 ],
 "metadata": {
  "kernelspec": {
   "display_name": "Python 3 (ipykernel)",
   "language": "python",
   "name": "python3"
  },
  "language_info": {
   "codemirror_mode": {
    "name": "ipython",
    "version": 3
   },
   "file_extension": ".py",
   "mimetype": "text/x-python",
   "name": "python",
   "nbconvert_exporter": "python",
   "pygments_lexer": "ipython3",
   "version": "3.10.11"
  }
 },
 "nbformat": 4,
 "nbformat_minor": 4
}
