{
 "cells": [
  {
   "cell_type": "code",
   "execution_count": 1,
   "metadata": {
    "ExecuteTime": {
     "end_time": "2023-05-12T14:19:28.652288390Z",
     "start_time": "2023-05-12T14:19:28.520582195Z"
    },
    "tags": []
   },
   "outputs": [],
   "source": [
    "import json\n",
    "\n",
    "# import the smartpynector module\n",
    "import smartpynector as sp"
   ]
  },
  {
   "cell_type": "code",
   "execution_count": 2,
   "metadata": {
    "ExecuteTime": {
     "end_time": "2023-05-12T14:19:28.654093721Z",
     "start_time": "2023-05-12T14:19:28.576813498Z"
    },
    "collapsed": false,
    "jupyter": {
     "outputs_hidden": false
    }
   },
   "outputs": [],
   "source": [
    "# Defining constants\n",
    "# Knowledge engine REST API URL\n",
    "# KNOWLEDGE_ENGINE_URL = \"http://127.0.0.1:8280/rest\"\n",
    "SUBSCRIBER_ID = \"http://subscriber:8000/subscriber\"\n",
    "KNOWLEDGE_ENGINE_URL = \"http://knowledge_engine:8280/rest\"\n",
    "THERMOSTAT_API_URL = \"http://0.0.0.0:8001/thermostat\""
   ]
  },
  {
   "cell_type": "code",
   "execution_count": 3,
   "metadata": {
    "ExecuteTime": {
     "end_time": "2023-05-12T14:19:28.654450633Z",
     "start_time": "2023-05-12T14:19:28.577094649Z"
    },
    "collapsed": false,
    "jupyter": {
     "outputs_hidden": false
    }
   },
   "outputs": [],
   "source": [
    "# Defining the smart connector\n",
    "smart_connector = sp.SmartConnector(\n",
    "    knowledgeBaseId=SUBSCRIBER_ID,\n",
    "    knowledgeBaseName=\"Subscriber2\",\n",
    "    knowledgeBaseDescription=\"Subscriber2\",\n",
    "    reasonerEnabled=False,\n",
    ")"
   ]
  },
  {
   "cell_type": "code",
   "execution_count": 4,
   "metadata": {
    "ExecuteTime": {
     "end_time": "2023-05-12T14:19:30.240926751Z",
     "start_time": "2023-05-12T14:19:28.577301159Z"
    },
    "collapsed": false,
    "jupyter": {
     "outputs_hidden": false
    }
   },
   "outputs": [
    {
     "name": "stderr",
     "output_type": "stream",
     "text": [
      "2023-05-13 21:07:59 DEBUG Starting new HTTP connection (1): knowledge_engine:8280\n",
      "2023-05-13 21:08:00 DEBUG http://knowledge_engine:8280 \"POST /rest/sc HTTP/1.1\" 200 0\n",
      "2023-05-13 21:08:00 INFO Request successful\n",
      "2023-05-13 21:08:00 DEBUG \n"
     ]
    },
    {
     "data": {
      "text/plain": [
       "<Response [200]>"
      ]
     },
     "execution_count": 4,
     "metadata": {},
     "output_type": "execute_result"
    }
   ],
   "source": [
    "sp.create_smart_connector(smart_connector, KNOWLEDGE_ENGINE_URL)"
   ]
  },
  {
   "cell_type": "code",
   "execution_count": 5,
   "metadata": {
    "ExecuteTime": {
     "end_time": "2023-05-12T14:19:30.241307122Z",
     "start_time": "2023-05-12T14:19:30.196670337Z"
    },
    "collapsed": false,
    "jupyter": {
     "outputs_hidden": false
    }
   },
   "outputs": [],
   "source": [
    "PREFIXES={\n",
    "        \"rdf\": \"http://www.w3.org/1999/02/22-rdf-syntax-ns#\",\n",
    "        \"saref\": \"https://w3id.org/saref#\",\n",
    "    }\n",
    "GRAPH_PATTERN= '''?meas rdf:type saref:Measurement .\n",
    "         ?meas saref:hasValue ?temp .\n",
    "         ?meas saref:isMeasuredIn saref:TemperatureUnit .\n",
    "         ?meas saref:hasTimestamp ?timestamp .\n",
    "         ?meas saref:isMeasurementOf ?room_id .\n",
    "         ?meas saref:relatesToProperty saref:Temperature .\n",
    "         ?meas saref:measurementMadeBy ?device_id .'''"
   ]
  },
  {
   "cell_type": "code",
   "execution_count": 6,
   "metadata": {
    "ExecuteTime": {
     "end_time": "2023-05-12T14:19:30.706674826Z",
     "start_time": "2023-05-12T14:19:30.204886352Z"
    },
    "collapsed": false,
    "jupyter": {
     "outputs_hidden": false
    }
   },
   "outputs": [
    {
     "name": "stderr",
     "output_type": "stream",
     "text": [
      "2023-05-13 21:08:00 DEBUG Starting new HTTP connection (1): knowledge_engine:8280\n",
      "2023-05-13 21:08:00 DEBUG http://knowledge_engine:8280 \"POST /rest/sc/ki HTTP/1.1\" 200 111\n",
      "2023-05-13 21:08:00 INFO Request successful\n",
      "2023-05-13 21:08:00 DEBUG {\"knowledgeInteractionId\":\"http://subscriber:8000/subscriber/interaction/e298b07e-a7a9-44db-81c2-a13ad5db7da5\"}\n"
     ]
    },
    {
     "data": {
      "text/plain": [
       "'http://subscriber:8000/subscriber/interaction/e298b07e-a7a9-44db-81c2-a13ad5db7da5'"
      ]
     },
     "execution_count": 6,
     "metadata": {},
     "output_type": "execute_result"
    }
   ],
   "source": [
    "ask_ki_id = sp.register_knowledge_interaction(\n",
    "    knowledge_interaction_type=\"AskKnowledgeInteraction\",\n",
    "    knowledge_engine_url=KNOWLEDGE_ENGINE_URL,\n",
    "    prefixes=PREFIXES,\n",
    "    graph_pattern=GRAPH_PATTERN,\n",
    "    headers={\n",
    "        \"Content-Type\": \"application/json\",\n",
    "        \"knowledge-Base-Id\": SUBSCRIBER_ID,\n",
    "    },\n",
    ").json()[\"knowledgeInteractionId\"]\n",
    "ask_ki_id"
   ]
  },
  {
   "cell_type": "code",
   "execution_count": 7,
   "metadata": {
    "ExecuteTime": {
     "end_time": "2023-05-12T14:19:31.315946853Z",
     "start_time": "2023-05-12T14:19:30.451374247Z"
    },
    "collapsed": false,
    "jupyter": {
     "outputs_hidden": false
    }
   },
   "outputs": [
    {
     "name": "stderr",
     "output_type": "stream",
     "text": [
      "2023-05-13 21:08:00 DEBUG Starting new HTTP connection (1): knowledge_engine:8280\n",
      "2023-05-13 21:08:01 DEBUG http://knowledge_engine:8280 \"POST /rest/sc/ask HTTP/1.1\" 200 879\n",
      "2023-05-13 21:08:01 INFO Request successful\n",
      "2023-05-13 21:08:01 DEBUG {\"bindingSet\":[{\"room_id\":\"\\\"http://0.0.0.0:8001/thermostat/rooms/1\\\"\",\"temp\":\"20\",\"device_id\":\"\\\"http://0.0.0.0:8001/thermostat/devices/1\\\"\",\"meas\":\"<http://0.0.0.0:8001/thermostat/measurements/af8dc12f-ad2a-49da-a19c-b9f2e261aebf>\",\"timestamp\":\"\\\"2023-05-13T21:07:50+00:00\\\"\"}],\"exchangeInfo\":[{\"initiator\":\"knowledgeBase\",\"knowledgeBaseId\":\"http://0.0.0.0:8001/thermostat\",\"knowledgeInteractionId\":\"http://0.0.0.0:8001/thermostat/interaction/c946e535-502d-4ccd-978f-c10008ee2fb1\",\"exchangeStart\":\"2023-05-13T21:08:01.282+00:00\",\"exchangeEnd\":\"2023-05-13T21:08:01.457+00:00\",\"status\":\"SUCCEEDED\",\"bindingSet\":[{\"room_id\":\"\\\"http://0.0.0.0:8001/thermostat/rooms/1\\\"\",\"temp\":\"20\",\"device_id\":\"\\\"http://0.0.0.0:8001/thermostat/devices/1\\\"\",\"meas\":\"<http://0.0.0.0:8001/thermostat/measurements/af8dc12f-ad2a-49da-a19c-b9f2e261aebf>\",\"timestamp\":\"\\\"2023-05-13T21:07:50+00:00\\\"\"}]}]}\n"
     ]
    }
   ],
   "source": [
    "binding_set = sp.perform_ask_knowledge_interaction(\n",
    "    knowledge_engine_url=KNOWLEDGE_ENGINE_URL,\n",
    "    knowledge_base_id=SUBSCRIBER_ID,\n",
    "    knowledge_interaction_id=ask_ki_id,\n",
    "    ask_data=[]\n",
    ").json()[\"bindingSet\"]"
   ]
  },
  {
   "cell_type": "code",
   "execution_count": 8,
   "metadata": {
    "ExecuteTime": {
     "end_time": "2023-05-12T14:19:32.014771770Z",
     "start_time": "2023-05-12T14:19:31.001478853Z"
    },
    "collapsed": false,
    "jupyter": {
     "outputs_hidden": false
    }
   },
   "outputs": [
    {
     "name": "stderr",
     "output_type": "stream",
     "text": [
      "2023-05-13 21:08:02 DEBUG Ignoring 500 server error\n"
     ]
    }
   ],
   "source": [
    "READ_URL = \"https://graphdb.odissei.nl/repositories/MateuszTest\"\n",
    "WRITE_URL = \"https://graphdb.odissei.nl/repositories/MateuszTest/statements\"\n",
    "\n",
    "sp.store_data_in_graphdb(\n",
    "    graph_pattern=GRAPH_PATTERN,\n",
    "    binding_set=binding_set,\n",
    "    prefixes=PREFIXES,\n",
    "    read_url=READ_URL,\n",
    "    write_url=WRITE_URL,\n",
    ")"
   ]
  },
  {
   "cell_type": "code",
   "execution_count": null,
   "metadata": {
    "ExecuteTime": {
     "end_time": "2023-05-12T14:19:32.026557077Z",
     "start_time": "2023-05-12T14:19:32.020341059Z"
    },
    "collapsed": false,
    "jupyter": {
     "outputs_hidden": false
    }
   },
   "outputs": [],
   "source": []
  }
 ],
 "metadata": {
  "kernelspec": {
   "display_name": "Python 3 (ipykernel)",
   "language": "python",
   "name": "python3"
  },
  "language_info": {
   "codemirror_mode": {
    "name": "ipython",
    "version": 3
   },
   "file_extension": ".py",
   "mimetype": "text/x-python",
   "name": "python",
   "nbconvert_exporter": "python",
   "pygments_lexer": "ipython3",
   "version": "3.10.8"
  }
 },
 "nbformat": 4,
 "nbformat_minor": 4
}
