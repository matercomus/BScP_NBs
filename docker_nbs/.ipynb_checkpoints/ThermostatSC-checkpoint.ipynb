{
 "cells": [
  {
   "cell_type": "code",
   "execution_count": 1,
   "metadata": {
    "ExecuteTime": {
     "end_time": "2023-05-12T14:19:24.479275121Z",
     "start_time": "2023-05-12T14:19:24.473612484Z"
    },
    "collapsed": false,
    "jupyter": {
     "outputs_hidden": false
    }
   },
   "outputs": [
    {
     "name": "stdout",
     "output_type": "stream",
     "text": [
      "Collecting uuid\n",
      "  Downloading uuid-1.30.tar.gz (5.8 kB)\n",
      "  Preparing metadata (setup.py) ... \u001b[?25ldone\n",
      "\u001b[?25hRequirement already satisfied: requests in /opt/conda/lib/python3.10/site-packages (2.28.2)\n",
      "Collecting pandas\n",
      "  Downloading pandas-2.0.1-cp310-cp310-manylinux_2_17_x86_64.manylinux2014_x86_64.whl (12.3 MB)\n",
      "\u001b[2K     \u001b[90m━━━━━━━━━━━━━━━━━━━━━━━━━━━━━━━━━━━━━━━━\u001b[0m \u001b[32m12.3/12.3 MB\u001b[0m \u001b[31m8.6 MB/s\u001b[0m eta \u001b[36m0:00:00\u001b[0m:00:01\u001b[0m0:01\u001b[0m\n",
      "\u001b[?25hCollecting rdflib\n",
      "  Downloading rdflib-6.3.2-py3-none-any.whl (528 kB)\n",
      "\u001b[2K     \u001b[90m━━━━━━━━━━━━━━━━━━━━━━━━━━━━━━━━━━━━━━\u001b[0m \u001b[32m528.1/528.1 kB\u001b[0m \u001b[31m11.4 MB/s\u001b[0m eta \u001b[36m0:00:00\u001b[0m00:01\u001b[0m\n",
      "\u001b[?25hCollecting SPARQLWrapper\n",
      "  Downloading SPARQLWrapper-2.0.0-py3-none-any.whl (28 kB)\n",
      "Requirement already satisfied: pydantic in /opt/conda/lib/python3.10/site-packages (1.10.7)\n",
      "Requirement already satisfied: charset-normalizer<4,>=2 in /opt/conda/lib/python3.10/site-packages (from requests) (2.1.1)\n",
      "Requirement already satisfied: urllib3<1.27,>=1.21.1 in /opt/conda/lib/python3.10/site-packages (from requests) (1.26.14)\n",
      "Requirement already satisfied: certifi>=2017.4.17 in /opt/conda/lib/python3.10/site-packages (from requests) (2022.12.7)\n",
      "Requirement already satisfied: idna<4,>=2.5 in /opt/conda/lib/python3.10/site-packages (from requests) (3.4)\n",
      "Collecting numpy>=1.21.0\n",
      "  Downloading numpy-1.24.3-cp310-cp310-manylinux_2_17_x86_64.manylinux2014_x86_64.whl (17.3 MB)\n",
      "\u001b[2K     \u001b[90m━━━━━━━━━━━━━━━━━━━━━━━━━━━━━━━━━━━━━━━━\u001b[0m \u001b[32m17.3/17.3 MB\u001b[0m \u001b[31m9.3 MB/s\u001b[0m eta \u001b[36m0:00:00\u001b[0m:00:01\u001b[0m00:01\u001b[0m\n",
      "\u001b[?25hCollecting tzdata>=2022.1\n",
      "  Downloading tzdata-2023.3-py2.py3-none-any.whl (341 kB)\n",
      "\u001b[2K     \u001b[90m━━━━━━━━━━━━━━━━━━━━━━━━━━━━━━━━━━━━━━\u001b[0m \u001b[32m341.8/341.8 kB\u001b[0m \u001b[31m34.2 MB/s\u001b[0m eta \u001b[36m0:00:00\u001b[0m\n",
      "\u001b[?25hRequirement already satisfied: pytz>=2020.1 in /opt/conda/lib/python3.10/site-packages (from pandas) (2022.7.1)\n",
      "Requirement already satisfied: python-dateutil>=2.8.2 in /opt/conda/lib/python3.10/site-packages (from pandas) (2.8.2)\n",
      "Collecting pyparsing<4,>=2.1.0\n",
      "  Downloading pyparsing-3.0.9-py3-none-any.whl (98 kB)\n",
      "\u001b[2K     \u001b[90m━━━━━━━━━━━━━━━━━━━━━━━━━━━━━━━━━━━━━━━━\u001b[0m \u001b[32m98.3/98.3 kB\u001b[0m \u001b[31m10.6 MB/s\u001b[0m eta \u001b[36m0:00:00\u001b[0m\n",
      "\u001b[?25hCollecting isodate<0.7.0,>=0.6.0\n",
      "  Downloading isodate-0.6.1-py2.py3-none-any.whl (41 kB)\n",
      "\u001b[2K     \u001b[90m━━━━━━━━━━━━━━━━━━━━━━━━━━━━━━━━━━━━━━━━\u001b[0m \u001b[32m41.7/41.7 kB\u001b[0m \u001b[31m2.9 MB/s\u001b[0m eta \u001b[36m0:00:00\u001b[0m\n",
      "\u001b[?25hRequirement already satisfied: typing-extensions>=4.2.0 in /opt/conda/lib/python3.10/site-packages (from pydantic) (4.4.0)\n",
      "Requirement already satisfied: six in /opt/conda/lib/python3.10/site-packages (from isodate<0.7.0,>=0.6.0->rdflib) (1.16.0)\n",
      "Building wheels for collected packages: uuid\n",
      "  Building wheel for uuid (setup.py) ... \u001b[?25ldone\n",
      "\u001b[?25h  Created wheel for uuid: filename=uuid-1.30-py3-none-any.whl size=6479 sha256=a5ed5af544b67eee43f572d692bdf06f9751becdf5e36aade24e5505572a2356\n",
      "  Stored in directory: /home/jovyan/.cache/pip/wheels/cb/ba/bc/7ae4822f65dea25d41ebe0cf219cd7ddfd0987634750ee41b3\n",
      "Successfully built uuid\n",
      "Installing collected packages: uuid, tzdata, pyparsing, numpy, isodate, rdflib, pandas, SPARQLWrapper\n",
      "Successfully installed SPARQLWrapper-2.0.0 isodate-0.6.1 numpy-1.24.3 pandas-2.0.1 pyparsing-3.0.9 rdflib-6.3.2 tzdata-2023.3 uuid-1.30\n"
     ]
    }
   ],
   "source": [
    "# desc\n",
    "!pip install uuid requests pandas rdflib requests SPARQLWrapper pydantic"
   ]
  },
  {
   "cell_type": "code",
   "execution_count": 2,
   "metadata": {
    "ExecuteTime": {
     "end_time": "2023-05-12T14:19:24.630195728Z",
     "start_time": "2023-05-12T14:19:24.473983059Z"
    },
    "collapsed": false,
    "jupyter": {
     "outputs_hidden": false
    }
   },
   "outputs": [],
   "source": [
    "import json\n",
    "import uuid\n",
    "\n",
    "import requests\n",
    "\n",
    "# import the smartpynector module\n",
    "import smartpynector as sp\n"
   ]
  },
  {
   "cell_type": "code",
   "execution_count": 3,
   "metadata": {
    "ExecuteTime": {
     "end_time": "2023-05-12T14:19:24.630660692Z",
     "start_time": "2023-05-12T14:19:24.474495415Z"
    },
    "collapsed": false,
    "jupyter": {
     "outputs_hidden": false
    }
   },
   "outputs": [],
   "source": [
    "# Defining constants\n",
    "# Knowledge engine REST API URL\n",
    "# KNOWLEDGE_ENGINE_URL = \"http://127.0.0.1:8280/rest\"\n",
    "KNOWLEDGE_ENGINE_URL = \"http://knowledge_engine:8280/rest\"\n",
    "THERMOSTAT_API_URL = \"http://0.0.0.0:8001/thermostat\"\n"
   ]
  },
  {
   "cell_type": "code",
   "execution_count": 4,
   "metadata": {
    "ExecuteTime": {
     "end_time": "2023-05-12T14:19:24.630960364Z",
     "start_time": "2023-05-12T14:19:24.480295270Z"
    },
    "collapsed": false,
    "jupyter": {
     "outputs_hidden": false
    }
   },
   "outputs": [],
   "source": [
    "# Defining the Smart Connector\n",
    "smart_connector = sp.SmartConnector(\n",
    "    knowledgeBaseId=THERMOSTAT_API_URL,\n",
    "    knowledgeBaseName=\"thermostat 1\",\n",
    "    knowledgeBaseDescription=\"thermostat 1\",\n",
    "    reasonerEnabled=False,\n",
    ")"
   ]
  },
  {
   "cell_type": "code",
   "execution_count": 5,
   "metadata": {
    "ExecuteTime": {
     "end_time": "2023-05-12T14:19:27.027451128Z",
     "start_time": "2023-05-12T14:19:24.486740331Z"
    },
    "collapsed": false,
    "jupyter": {
     "outputs_hidden": false
    }
   },
   "outputs": [
    {
     "name": "stderr",
     "output_type": "stream",
     "text": [
      "2023-05-13 21:07:48 DEBUG Starting new HTTP connection (1): knowledge_engine:8280\n",
      "2023-05-13 21:07:50 DEBUG http://knowledge_engine:8280 \"POST /rest/sc HTTP/1.1\" 200 0\n",
      "2023-05-13 21:07:50 INFO Request successful\n",
      "2023-05-13 21:07:50 DEBUG \n"
     ]
    },
    {
     "data": {
      "text/plain": [
       "<Response [200]>"
      ]
     },
     "execution_count": 5,
     "metadata": {},
     "output_type": "execute_result"
    }
   ],
   "source": [
    "sp.create_smart_connector(smart_connector, KNOWLEDGE_ENGINE_URL)"
   ]
  },
  {
   "cell_type": "code",
   "execution_count": 6,
   "metadata": {
    "ExecuteTime": {
     "end_time": "2023-05-12T14:19:27.027985187Z",
     "start_time": "2023-05-12T14:19:26.982803543Z"
    },
    "collapsed": false,
    "jupyter": {
     "outputs_hidden": false
    }
   },
   "outputs": [],
   "source": [
    "\n",
    "GRAPH_PATTERN = '''?meas rdf:type saref:Measurement .\n",
    "         ?meas saref:hasValue ?temp .\n",
    "         ?meas saref:isMeasuredIn saref:TemperatureUnit .\n",
    "         ?meas saref:hasTimestamp ?timestamp .\n",
    "         ?meas saref:isMeasurementOf ?room_id .\n",
    "         ?meas saref:relatesToProperty saref:Temperature .\n",
    "         ?meas saref:measurementMadeBy ?device_id .'''\n",
    "PREFIXES = {\n",
    "    \"rdf\": \"http://www.w3.org/1999/02/22-rdf-syntax-ns#\",\n",
    "    \"saref\": \"https://w3id.org/saref#\",\n",
    "}\n",
    "HEADERS = {\n",
    "    \"Content-Type\": \"application/json\",\n",
    "    \"knowledge-Base-Id\": THERMOSTAT_API_URL,\n",
    "}\n"
   ]
  },
  {
   "cell_type": "code",
   "execution_count": 7,
   "metadata": {
    "ExecuteTime": {
     "end_time": "2023-05-12T14:19:27.231298827Z",
     "start_time": "2023-05-12T14:19:26.992894708Z"
    },
    "collapsed": false,
    "jupyter": {
     "outputs_hidden": false
    }
   },
   "outputs": [
    {
     "name": "stderr",
     "output_type": "stream",
     "text": [
      "2023-05-13 21:07:50 DEBUG Starting new HTTP connection (1): knowledge_engine:8280\n",
      "2023-05-13 21:07:50 DEBUG http://knowledge_engine:8280 \"POST /rest/sc/ki HTTP/1.1\" 200 108\n",
      "2023-05-13 21:07:50 INFO Request successful\n",
      "2023-05-13 21:07:50 DEBUG {\"knowledgeInteractionId\":\"http://0.0.0.0:8001/thermostat/interaction/c946e535-502d-4ccd-978f-c10008ee2fb1\"}\n"
     ]
    },
    {
     "data": {
      "text/plain": [
       "'http://0.0.0.0:8001/thermostat/interaction/c946e535-502d-4ccd-978f-c10008ee2fb1'"
      ]
     },
     "execution_count": 7,
     "metadata": {},
     "output_type": "execute_result"
    }
   ],
   "source": [
    "answer_ki_id = sp.register_knowledge_interaction(\n",
    "    knowledge_interaction_type=\"AnswerKnowledgeInteraction\",\n",
    "    knowledge_engine_url=KNOWLEDGE_ENGINE_URL,\n",
    "    prefixes=PREFIXES,\n",
    "    graph_pattern=GRAPH_PATTERN,\n",
    "    headers=HEADERS,\n",
    ").json()[\"knowledgeInteractionId\"]\n",
    "\n",
    "answer_ki_id"
   ]
  },
  {
   "cell_type": "code",
   "execution_count": 8,
   "metadata": {
    "ExecuteTime": {
     "end_time": "2023-05-12T14:19:27.266669567Z",
     "start_time": "2023-05-12T14:19:27.231925786Z"
    },
    "collapsed": false,
    "jupyter": {
     "outputs_hidden": false
    }
   },
   "outputs": [
    {
     "name": "stderr",
     "output_type": "stream",
     "text": [
      "2023-05-13 21:07:50 DEBUG Starting new HTTP connection (1): 0.0.0.0:8001\n",
      "2023-05-13 21:07:50 DEBUG http://0.0.0.0:8001 \"GET /thermostat/actual_temperature HTTP/1.1\" 200 2\n"
     ]
    },
    {
     "data": {
      "text/plain": [
       "20"
      ]
     },
     "execution_count": 8,
     "metadata": {},
     "output_type": "execute_result"
    }
   ],
   "source": [
    "thermostat_actual_temperature = requests.get(THERMOSTAT_API_URL + '/actual_temperature').json()\n",
    "thermostat_actual_temperature"
   ]
  },
  {
   "cell_type": "code",
   "execution_count": 9,
   "metadata": {
    "ExecuteTime": {
     "end_time": "2023-05-12T14:19:31.171277764Z",
     "start_time": "2023-05-12T14:19:27.257083883Z"
    },
    "collapsed": false,
    "jupyter": {
     "outputs_hidden": false
    }
   },
   "outputs": [
    {
     "name": "stderr",
     "output_type": "stream",
     "text": [
      "2023-05-13 21:07:50 DEBUG Starting new HTTP connection (1): knowledge_engine:8280\n",
      "2023-05-13 21:08:01 DEBUG http://knowledge_engine:8280 \"GET /rest/sc/handle HTTP/1.1\" 200 208\n",
      "2023-05-13 21:08:01 DEBUG Starting new HTTP connection (1): knowledge_engine:8280\n",
      "2023-05-13 21:08:01 DEBUG http://knowledge_engine:8280 \"POST /rest/sc/handle HTTP/1.1\" 200 0\n"
     ]
    },
    {
     "data": {
      "text/plain": [
       "<Response [200]>"
      ]
     },
     "execution_count": 9,
     "metadata": {},
     "output_type": "execute_result"
    }
   ],
   "source": [
    "# %%timeit\n",
    "sp.perform_answer_knowledge_interaction(\n",
    "    knowledge_engine_url=KNOWLEDGE_ENGINE_URL,\n",
    "    knowledge_base_id=THERMOSTAT_API_URL,\n",
    "    knowledge_interaction_id=answer_ki_id,\n",
    "    answer_binding_set=[{\n",
    "        \"meas\": f'<{THERMOSTAT_API_URL}/measurements/{str(uuid.uuid4())}>',\n",
    "        \"temp\": f\"{thermostat_actual_temperature}\",\n",
    "        \"timestamp\": f'\"{sp.get_timestamp_now()}\"',  # ISO 8601 format\n",
    "        \"room_id\": f'\"{THERMOSTAT_API_URL}/rooms/1\"',\n",
    "        \"device_id\": f'\"{THERMOSTAT_API_URL}/devices/1\"',\n",
    "    }]\n",
    ")"
   ]
  },
  {
   "cell_type": "code",
   "execution_count": 10,
   "metadata": {
    "ExecuteTime": {
     "end_time": "2023-05-12T14:19:31.316616656Z",
     "start_time": "2023-05-12T14:19:30.996397208Z"
    },
    "collapsed": false,
    "jupyter": {
     "outputs_hidden": false
    }
   },
   "outputs": [],
   "source": [
    "# Lets try implementing a POST / REACT knowledge interaction"
   ]
  },
  {
   "cell_type": "code",
   "execution_count": 11,
   "metadata": {
    "ExecuteTime": {
     "end_time": "2023-05-12T14:19:31.432189247Z",
     "start_time": "2023-05-12T14:19:31.008777449Z"
    },
    "collapsed": false,
    "jupyter": {
     "outputs_hidden": false
    }
   },
   "outputs": [
    {
     "name": "stderr",
     "output_type": "stream",
     "text": [
      "2023-05-13 21:08:01 DEBUG Starting new HTTP connection (1): knowledge_engine:8280\n",
      "2023-05-13 21:08:01 DEBUG http://knowledge_engine:8280 \"POST /rest/sc/ki HTTP/1.1\" 200 108\n",
      "2023-05-13 21:08:01 INFO Request successful\n",
      "2023-05-13 21:08:01 DEBUG {\"knowledgeInteractionId\":\"http://0.0.0.0:8001/thermostat/interaction/61006776-400c-4eba-8da3-ee2a54ced3e2\"}\n"
     ]
    },
    {
     "data": {
      "text/plain": [
       "'http://0.0.0.0:8001/thermostat/interaction/61006776-400c-4eba-8da3-ee2a54ced3e2'"
      ]
     },
     "execution_count": 11,
     "metadata": {},
     "output_type": "execute_result"
    }
   ],
   "source": [
    "react_ki = sp.register_knowledge_interaction(\n",
    "    'ReactKnowledgeInteraction', KNOWLEDGE_ENGINE_URL, PREFIXES, headers= HEADERS,\n",
    "    argument_graph_pattern=\"?a rdf:type saref:Measurement . ?a saref:hasValueInMeters ?b .\",\n",
    "    result_graph_pattern=\"?a rdf:type saref:Measurement . ?a saref:hasValueInYards ?b .\",\n",
    ")\n",
    "react_ki.json()['knowledgeInteractionId']"
   ]
  },
  {
   "cell_type": "code",
   "execution_count": null,
   "metadata": {
    "ExecuteTime": {
     "end_time": "2023-05-12T14:19:31.432798589Z",
     "start_time": "2023-05-12T14:19:31.247531942Z"
    },
    "collapsed": false,
    "jupyter": {
     "outputs_hidden": false
    }
   },
   "outputs": [],
   "source": []
  }
 ],
 "metadata": {
  "kernelspec": {
   "display_name": "Python 3 (ipykernel)",
   "language": "python",
   "name": "python3"
  },
  "language_info": {
   "codemirror_mode": {
    "name": "ipython",
    "version": 3
   },
   "file_extension": ".py",
   "mimetype": "text/x-python",
   "name": "python",
   "nbconvert_exporter": "python",
   "pygments_lexer": "ipython3",
   "version": "3.10.8"
  }
 },
 "nbformat": 4,
 "nbformat_minor": 4
}
