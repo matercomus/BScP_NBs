{
 "cells": [
  {
   "cell_type": "code",
   "execution_count": 1,
   "id": "d5e3ad65-5dcf-4000-a1e8-0459c89d27bd",
   "metadata": {
    "tags": []
   },
   "outputs": [],
   "source": [
    "#Thermostat UI"
   ]
  },
  {
   "cell_type": "code",
   "execution_count": 3,
   "id": "c2881773-b9cc-442d-b69b-efe9c3f5f341",
   "metadata": {
    "tags": []
   },
   "outputs": [
    {
     "data": {
      "application/vnd.jupyter.widget-view+json": {
       "model_id": "562b96d457594a2484616bc8f05f4ad3",
       "version_major": 2,
       "version_minor": 0
      },
      "text/plain": [
       "VBox(children=(Label(value='Name: Thermostat'), Label(value='Mode: heat'), HBox(children=(VBox(children=(HBox(…"
      ]
     },
     "metadata": {},
     "output_type": "display_data"
    }
   ],
   "source": [
    "import requests\n",
    "from ipywidgets import IntProgress, Label, VBox, HBox, Layout, IntSlider, Button\n",
    "\n",
    "THERMOSTAT_API_URL = \"http://0.0.0.0:8001/thermostat\"\n",
    "\n",
    "thermostat = requests.get(THERMOSTAT_API_URL).json()\n",
    "\n",
    "name_label = Label(f\"Name: {thermostat['name']}\")\n",
    "mode_label = Label(f\"Mode: {thermostat['mode']}\")\n",
    "\n",
    "desired_temp_label = Label(f\"Desired Temperature: {thermostat['desired_temperature']}\")\n",
    "desired_temp_slider = IntSlider(value=thermostat['desired_temperature'], min=0, max=100, orientation='vertical')\n",
    "desired_temp_progress = IntProgress(value=thermostat['actual_temperature'], min=0, max=100, orientation='vertical', layout=Layout(height='200px'))\n",
    "desired_temp_box = VBox([HBox([desired_temp_slider]), desired_temp_label])\n",
    "\n",
    "actual_temp_label = Label(f\"Actual Temperature: {thermostat['actual_temperature']}\")\n",
    "actual_temp_progress = IntProgress(value=thermostat['actual_temperature'], min=0, max=100, orientation='vertical', layout=Layout(height='200px'))\n",
    "actual_temp_box = VBox([actual_temp_label, actual_temp_progress])\n",
    "\n",
    "\n",
    "submit_button = Button(description=\"Submit\", button_style='danger')\n",
    "\n",
    "def update_desired_temp(change):\n",
    "    thermostat['desired_temperature'] = change.new\n",
    "    desired_temp_label.value = f\"Desired Temperature: {change.new}\"\n",
    "\n",
    "\n",
    "def submit_changes(b):\n",
    "    requests.put(THERMOSTAT_API_URL + '/desired_temperature'+f'?desired_temperature={thermostat[\"desired_temperature\"]}')\n",
    "    update_state()\n",
    "\n",
    "def update_state():\n",
    "    thermostat.update(requests.get(THERMOSTAT_API_URL).json())\n",
    "    name_label.value = f\"Name: {thermostat['name']}\"\n",
    "    mode_label.value = f\"Mode: {thermostat['mode']}\"\n",
    "    desired_temp_label.value = f\"Desired Temperature: {thermostat['desired_temperature']}\"\n",
    "    actual_temp_label.value = f\"Actual Temperature: {thermostat['actual_temperature']}\"\n",
    "    actual_temp_progress.value = thermostat['actual_temperature']\n",
    "\n",
    "desired_temp_slider.observe(update_desired_temp, names='value')\n",
    "submit_button.on_click(submit_changes)\n",
    "\n",
    "display(VBox([name_label, mode_label, HBox([desired_temp_box, actual_temp_box]), submit_button]))\n"
   ]
  },
  {
   "cell_type": "code",
   "execution_count": null,
   "id": "f8007dde-492f-42a0-94ce-7e4883f3f421",
   "metadata": {},
   "outputs": [],
   "source": []
  }
 ],
 "metadata": {
  "kernelspec": {
   "display_name": "Python 3 (ipykernel)",
   "language": "python",
   "name": "python3"
  },
  "language_info": {
   "codemirror_mode": {
    "name": "ipython",
    "version": 3
   },
   "file_extension": ".py",
   "mimetype": "text/x-python",
   "name": "python",
   "nbconvert_exporter": "python",
   "pygments_lexer": "ipython3",
   "version": "3.10.11"
  }
 },
 "nbformat": 4,
 "nbformat_minor": 5
}
