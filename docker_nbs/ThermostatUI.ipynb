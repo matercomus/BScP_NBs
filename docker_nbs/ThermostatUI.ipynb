{
 "cells": [
  {
   "cell_type": "code",
   "execution_count": 1,
   "id": "d5e3ad65-5dcf-4000-a1e8-0459c89d27bd",
   "metadata": {
    "tags": []
   },
   "outputs": [],
   "source": [
    "#Thermostat UI"
   ]
  },
  {
   "cell_type": "code",
   "execution_count": 2,
   "id": "3a56ab83-d258-46df-8cb9-40994fc83ee2",
   "metadata": {
    "tags": []
   },
   "outputs": [],
   "source": [
    "import ipywidgets as widgets\n",
    "import requests"
   ]
  },
  {
   "cell_type": "code",
   "execution_count": 10,
   "id": "1455a9bb-32cb-4b44-967e-d0f883a57d86",
   "metadata": {
    "tags": []
   },
   "outputs": [],
   "source": [
    "from IPython.display import display\n"
   ]
  },
  {
   "cell_type": "code",
   "execution_count": 24,
   "id": "8a080544-e5c3-475c-a49b-bdf5d8b30443",
   "metadata": {
    "tags": []
   },
   "outputs": [
    {
     "data": {
      "application/vnd.jupyter.widget-view+json": {
       "model_id": "32eed96fd6984db1a43d2cd695300d02",
       "version_major": 2,
       "version_minor": 0
      },
      "text/plain": [
       "VBox(children=(IntSlider(value=0), Button(description='submit', icon='check', style=ButtonStyle(), tooltip='Cl…"
      ]
     },
     "execution_count": 24,
     "metadata": {},
     "output_type": "execute_result"
    }
   ],
   "source": [
    "THERMOSTAT_API_URL = \"http://0.0.0.0:8001/thermostat\"\n",
    "desired_temp = widgets.IntSlider()\n",
    "button = widgets.Button(\n",
    "    description='submit',\n",
    "    disabled=False,\n",
    "    button_style='', # 'success', 'info', 'warning', 'danger' or ''\n",
    "    tooltip='Click me',\n",
    "    icon='check' # (FontAwesome names without the `fa-` prefix)\n",
    ")\n",
    "\n",
    "def click(temp):\n",
    "    requests.put(THERMOSTAT_API_URL + '/desired_temperature'+f'?desired_temperature={temp}')\n",
    "    \n",
    "button.on_click(lambda x: click(desired_temp.value))\n",
    "widgets.VBox([desired_temp, button])\n"
   ]
  },
  {
   "cell_type": "code",
   "execution_count": 26,
   "id": "fa40e119-f9c1-424d-a2e8-7e38feab197b",
   "metadata": {
    "tags": []
   },
   "outputs": [
    {
     "data": {
      "text/plain": [
       "{'name': 'Thermostat',\n",
       " 'desired_temperature': 100,\n",
       " 'actual_temperature': 0,\n",
       " 'humidity': 50,\n",
       " 'mode': 'heat',\n",
       " 'kb_id': 'http://0.0.0.0:8001/thermostat'}"
      ]
     },
     "execution_count": 26,
     "metadata": {},
     "output_type": "execute_result"
    }
   ],
   "source": [
    "requests.get(THERMOSTAT_API_URL).json()"
   ]
  },
  {
   "cell_type": "code",
   "execution_count": 33,
   "id": "03fc82c0-184b-4475-a42a-ac411c654b72",
   "metadata": {
    "tags": []
   },
   "outputs": [
    {
     "data": {
      "application/vnd.jupyter.widget-view+json": {
       "model_id": "07bbda7c6871460eb2d8d37e819b029a",
       "version_major": 2,
       "version_minor": 0
      },
      "text/plain": [
       "VBox(children=(Label(value='Name: Thermostat'), Label(value='Mode: heat'), HBox(children=(VBox(children=(Label…"
      ]
     },
     "execution_count": 33,
     "metadata": {},
     "output_type": "execute_result"
    }
   ],
   "source": [
    "from ipywidgets import IntProgress, Label, VBox, HBox, Layout\n",
    "\n",
    "thermostat = requests.get(THERMOSTAT_API_URL).json()\n",
    "\n",
    "name_label = Label(f\"Name: {thermostat['name']}\")\n",
    "mode_label = Label(f\"Mode: {thermostat['mode']}\")\n",
    "\n",
    "desired_temp_label = Label(f\"Desired Temperature: {thermostat['desired_temperature']}\")\n",
    "desired_temp_progress = IntProgress(value=thermostat['desired_temperature'], min=0, max=100, orientation='vertical', layout=Layout(height='200px'))\n",
    "desired_temp_box = VBox([desired_temp_label, desired_temp_progress])\n",
    "\n",
    "actual_temp_label = Label(f\"Actual Temperature: {thermostat['actual_temperature']}\")\n",
    "actual_temp_progress = IntProgress(value=thermostat['actual_temperature'], min=0, max=100, orientation='vertical', layout=Layout(height='200px'))\n",
    "actual_temp_box = VBox([actual_temp_label, actual_temp_progress])\n",
    "\n",
    "humidity_label = Label(f\"Humidity: {thermostat['humidity']}\")\n",
    "humidity_progress = IntProgress(value=thermostat['humidity'], min=0, max=100, orientation='vertical', layout=Layout(height='200px'))\n",
    "humidity_box = VBox([humidity_label, humidity_progress])\n",
    "\n",
    "VBox([name_label, mode_label, HBox([desired_temp_box, actual_temp_box, humidity_box])])\n"
   ]
  },
  {
   "cell_type": "code",
   "execution_count": 37,
   "id": "c2881773-b9cc-442d-b69b-efe9c3f5f341",
   "metadata": {
    "tags": []
   },
   "outputs": [
    {
     "data": {
      "application/vnd.jupyter.widget-view+json": {
       "model_id": "6a5ec093334148f99cc48b2d58b1cb92",
       "version_major": 2,
       "version_minor": 0
      },
      "text/plain": [
       "VBox(children=(Label(value='Name: Thermostat'), Label(value='Mode: heat'), HBox(children=(HBox(children=(VBox(…"
      ]
     },
     "execution_count": 37,
     "metadata": {},
     "output_type": "execute_result"
    }
   ],
   "source": [
    "import requests\n",
    "from ipywidgets import IntProgress, Label, VBox, HBox, Layout, IntSlider, Button\n",
    "\n",
    "THERMOSTAT_API_URL = \"http://0.0.0.0:8001/thermostat\"\n",
    "\n",
    "thermostat = requests.get(THERMOSTAT_API_URL).json()\n",
    "\n",
    "name_label = Label(f\"Name: {thermostat['name']}\")\n",
    "mode_label = Label(f\"Mode: {thermostat['mode']}\")\n",
    "\n",
    "desired_temp_label = Label(f\"Desired Temperature: {thermostat['desired_temperature']}\")\n",
    "desired_temp_slider = IntSlider(value=thermostat['desired_temperature'], min=0, max=100, orientation='vertical')\n",
    "desired_temp_progress = IntProgress(value=thermostat['desired_temperature'], min=0, max=100, orientation='vertical', layout=Layout(height='200px'))\n",
    "desired_temp_box = HBox([VBox([desired_temp_label, desired_temp_progress]), desired_temp_slider])\n",
    "\n",
    "actual_temp_label = Label(f\"Actual Temperature: {thermostat['actual_temperature']}\")\n",
    "actual_temp_progress = IntProgress(value=thermostat['actual_temperature'], min=0, max=100, orientation='vertical', layout=Layout(height='200px'))\n",
    "actual_temp_box = VBox([actual_temp_label, actual_temp_progress])\n",
    "\n",
    "humidity_label = Label(f\"Humidity: {thermostat['humidity']}\")\n",
    "humidity_slider = IntSlider(value=thermostat['humidity'], min=0, max=100, orientation='vertical')\n",
    "humidity_progress = IntProgress(value=thermostat['humidity'], min=0, max=100, orientation='vertical', layout=Layout(height='200px'))\n",
    "humidity_box = HBox([VBox([humidity_label, humidity_progress]), humidity_slider])\n",
    "\n",
    "submit_button = Button(description=\"Submit\")\n",
    "\n",
    "def update_desired_temp(change):\n",
    "    thermostat['desired_temperature'] = change.new\n",
    "    desired_temp_label.value = f\"Desired Temperature: {change.new}\"\n",
    "    desired_temp_progress.value = change.new\n",
    "\n",
    "def update_humidity(change):\n",
    "    thermostat['humidity'] = change.new\n",
    "    humidity_label.value = f\"Humidity: {change.new}\"\n",
    "    humidity_progress.value = change.new\n",
    "\n",
    "def submit_changes(b):\n",
    "    requests.put(THERMOSTAT_API_URL + '/desired_temperature'+f'?desired_temperature={thermostat[\"desired_temperature\"]}')\n",
    "    requests.put(THERMOSTAT_API_URL + '/humidity'+f'?humidity={thermostat[\"humidity\"]}')\n",
    "\n",
    "desired_temp_slider.observe(update_desired_temp, names='value')\n",
    "humidity_slider.observe(update_humidity, names='value')\n",
    "submit_button.on_click(submit_changes)\n",
    "\n",
    "VBox([name_label, mode_label, HBox([desired_temp_box, actual_temp_box, humidity_box]), submit_button])\n"
   ]
  },
  {
   "cell_type": "code",
   "execution_count": null,
   "id": "f8007dde-492f-42a0-94ce-7e4883f3f421",
   "metadata": {},
   "outputs": [],
   "source": []
  }
 ],
 "metadata": {
  "kernelspec": {
   "display_name": "Python 3 (ipykernel)",
   "language": "python",
   "name": "python3"
  },
  "language_info": {
   "codemirror_mode": {
    "name": "ipython",
    "version": 3
   },
   "file_extension": ".py",
   "mimetype": "text/x-python",
   "name": "python",
   "nbconvert_exporter": "python",
   "pygments_lexer": "ipython3",
   "version": "3.10.11"
  }
 },
 "nbformat": 4,
 "nbformat_minor": 5
}
