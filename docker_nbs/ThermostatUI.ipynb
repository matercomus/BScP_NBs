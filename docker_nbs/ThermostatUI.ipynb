{
 "cells": [
  {
   "cell_type": "code",
   "execution_count": 1,
   "id": "d5e3ad65-5dcf-4000-a1e8-0459c89d27bd",
   "metadata": {
    "tags": []
   },
   "outputs": [],
   "source": [
    "# Thermostat UI"
   ]
  },
  {
   "cell_type": "code",
   "execution_count": 2,
   "id": "43ef0da5-5651-4c83-8b17-1fbc3c11a391",
   "metadata": {
    "tags": []
   },
   "outputs": [],
   "source": [
    "import requests\n",
    "from ipywidgets import Button, HBox, IntProgress, IntSlider, Label, Layout, VBox"
   ]
  },
  {
   "cell_type": "code",
   "execution_count": 3,
   "id": "45b09c5f-545d-458a-b30e-e9f06cabb123",
   "metadata": {
    "tags": []
   },
   "outputs": [],
   "source": [
    "THERMOSTAT_API_URL = \"http://0.0.0.0:8001/thermostat\""
   ]
  },
  {
   "cell_type": "code",
   "execution_count": 4,
   "id": "c2881773-b9cc-442d-b69b-efe9c3f5f341",
   "metadata": {
    "tags": []
   },
   "outputs": [],
   "source": [
    "thermostat = requests.get(THERMOSTAT_API_URL).json()\n",
    "\n",
    "name_label = Label(f\"Name: {thermostat['name']}\")\n",
    "mode_label = Label(f\"Mode: {thermostat['mode']}\")\n",
    "\n",
    "desired_temp_label = Label(f\"Desired Temperature: {thermostat['desired_temperature']}\")\n",
    "desired_temp_slider = IntSlider(\n",
    "    value=thermostat[\"desired_temperature\"], min=0, max=100, orientation=\"vertical\"\n",
    ")\n",
    "desired_temp_progress = IntProgress(\n",
    "    value=thermostat[\"actual_temperature\"],\n",
    "    min=0,\n",
    "    max=100,\n",
    "    orientation=\"vertical\",\n",
    "    layout=Layout(height=\"200px\"),\n",
    ")\n",
    "desired_temp_box = VBox([HBox([desired_temp_slider]), desired_temp_label])\n",
    "\n",
    "actual_temp_label = Label(f\"Actual Temperature: {thermostat['actual_temperature']}\")\n",
    "actual_temp_progress = IntProgress(\n",
    "    value=thermostat[\"actual_temperature\"],\n",
    "    min=0,\n",
    "    max=100,\n",
    "    orientation=\"vertical\",\n",
    "    layout=Layout(height=\"200px\"),\n",
    ")\n",
    "actual_temp_box = VBox([actual_temp_progress, actual_temp_label])\n",
    "\n",
    "submit_button = Button(description=\"Submit\", button_style=\"danger\")\n"
   ]
  },
  {
   "cell_type": "code",
   "execution_count": 5,
   "id": "870a162f-1a47-47d0-95f3-a78bdf8b615c",
   "metadata": {},
   "outputs": [],
   "source": [
    "\n",
    "def update_desired_temp(change):\n",
    "    thermostat[\"desired_temperature\"] = change.new\n",
    "    desired_temp_label.value = f\"Desired Temperature: {change.new}\"\n",
    "\n",
    "\n",
    "def submit_changes(b):\n",
    "    requests.put(\n",
    "        THERMOSTAT_API_URL\n",
    "        + \"/desired_temperature\"\n",
    "        + f'?desired_temperature={thermostat[\"desired_temperature\"]}'\n",
    "    )\n",
    "    update_state()\n",
    "\n",
    "\n",
    "def update_state():\n",
    "    thermostat.update(requests.get(THERMOSTAT_API_URL).json())\n",
    "    name_label.value = f\"Name: {thermostat['name']}\"\n",
    "    mode_label.value = f\"Mode: {thermostat['mode']}\"\n",
    "    desired_temp_label.value = (\n",
    "        f\"Desired Temperature: {thermostat['desired_temperature']}\"\n",
    "    )\n",
    "    \n",
    "actual_temp_label.value = f\"Actual Temperature: {thermostat['actual_temperature']}\"\n",
    "actual_temp_progress.value = thermostat[\"actual_temperature\"]\n",
    "desired_temp_slider.observe(update_desired_temp, names=\"value\")\n",
    "submit_button.on_click(submit_changes)\n"
   ]
  },
  {
   "cell_type": "code",
   "execution_count": 6,
   "id": "0c371977-746b-4934-91ee-04b66bf41921",
   "metadata": {},
   "outputs": [
    {
     "data": {
      "application/vnd.jupyter.widget-view+json": {
       "model_id": "a41eb6e5e659444d8a52d158cc96e3c7",
       "version_major": 2,
       "version_minor": 0
      },
      "text/plain": [
       "VBox(children=(Label(value='Name: Thermostat'), Label(value='Mode: heat'), HBox(children=(VBox(children=(HBox(…"
      ]
     },
     "metadata": {},
     "output_type": "display_data"
    }
   ],
   "source": [
    "display(\n",
    "    VBox(\n",
    "        [\n",
    "            name_label,\n",
    "            mode_label,\n",
    "            HBox([desired_temp_box, actual_temp_box]),\n",
    "            submit_button,\n",
    "        ]\n",
    "    )\n",
    ")"
   ]
  },
  {
   "cell_type": "code",
   "execution_count": null,
   "id": "f8007dde-492f-42a0-94ce-7e4883f3f421",
   "metadata": {},
   "outputs": [],
   "source": []
  },
  {
   "cell_type": "code",
   "execution_count": null,
   "id": "51a8ade7-847a-44db-b1f5-bcd57d8bd1a0",
   "metadata": {},
   "outputs": [],
   "source": []
  },
  {
   "cell_type": "code",
   "execution_count": null,
   "id": "fcdb0ae9-7220-4ce3-a65f-12122487309e",
   "metadata": {},
   "outputs": [],
   "source": []
  }
 ],
 "metadata": {
  "kernelspec": {
   "display_name": "Python 3 (ipykernel)",
   "language": "python",
   "name": "python3"
  },
  "language_info": {
   "codemirror_mode": {
    "name": "ipython",
    "version": 3
   },
   "file_extension": ".py",
   "mimetype": "text/x-python",
   "name": "python",
   "nbconvert_exporter": "python",
   "pygments_lexer": "ipython3",
   "version": "3.10.11"
  }
 },
 "nbformat": 4,
 "nbformat_minor": 5
}
