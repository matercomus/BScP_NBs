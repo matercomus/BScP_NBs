{
 "cells": [
  {
   "cell_type": "code",
   "execution_count": 1,
   "id": "b3cee4f6-f8dd-451c-8183-a7a9970faea8",
   "metadata": {
    "tags": []
   },
   "outputs": [],
   "source": [
    "# Storage"
   ]
  },
  {
   "cell_type": "code",
   "execution_count": 2,
   "id": "189f592d-591e-4bc4-bff4-7d2cb22d4d67",
   "metadata": {
    "tags": []
   },
   "outputs": [],
   "source": [
    "import logging\n",
    "from utils import *\n",
    "import smartpynector as sp\n"
   ]
  },
  {
   "cell_type": "code",
   "execution_count": 3,
   "id": "0555451d-80cb-411b-8d5d-90e25b18e179",
   "metadata": {
    "tags": []
   },
   "outputs": [],
   "source": [
    "logging.basicConfig(level=logging.INFO)\n",
    "logger = logging.getLogger(__name__)\n"
   ]
  },
  {
   "cell_type": "code",
   "execution_count": 4,
   "id": "d078da21-a840-4d32-9fd5-027922c7fde6",
   "metadata": {},
   "outputs": [],
   "source": [
    "# Constants\n",
    "READ_URL = \"https://graphdb.odissei.nl/repositories/MateuszTest\"\n",
    "WRITE_URL = \"https://graphdb.odissei.nl/repositories/MateuszTest/statements\"\n",
    "\n",
    "PREFIXES={\n",
    "        \"rdf\": \"http://www.w3.org/1999/02/22-rdf-syntax-ns#\",\n",
    "        \"saref\": \"https://w3id.org/saref#\",\n",
    "    }\n",
    "\n",
    "GRAPH_PATTERN = \"\"\"?meas rdf:type saref:Measurement .\n",
    "                     ?meas saref:hasValue ?temp .\n",
    "                     ?meas saref:isMeasuredIn saref:TemperatureUnit .\n",
    "                     ?meas saref:hasTimestamp ?timestamp .\n",
    "                     ?meas saref:isMeasurementOf ?room_id .\n",
    "                     ?meas saref:relatesToProperty saref:Temperature .\n",
    "                     ?meas saref:measurementMadeBy ?device_id .\"\"\"\n"
   ]
  },
  {
   "cell_type": "code",
   "execution_count": 5,
   "id": "77579d5e-c09b-45ac-a737-f4617ae52838",
   "metadata": {
    "tags": []
   },
   "outputs": [],
   "source": [
    "measurements = []\n",
    "\n",
    "def handle_answer_measurements(query_bindings):\n",
    "    global measurements\n",
    "    print(query_bindings)\n",
    "    sp.store_data_in_graphdb(\n",
    "        graph_pattern=GRAPH_PATTERN,\n",
    "        binding_set=query_bindings,\n",
    "        prefixes=PREFIXES,\n",
    "        read_url=READ_URL,\n",
    "        write_url=WRITE_URL,\n",
    "    )\n",
    "    return match_bindings(query_bindings, measurements)\n",
    "\n",
    "\n",
    "def handle_react_measurements(bindings):\n",
    "    global measurements\n",
    "    measurements += bindings\n",
    "    print(bindings)\n",
    "\n",
    "    sp.store_data_in_graphdb(\n",
    "        graph_pattern=GRAPH_PATTERN,\n",
    "        binding_set=bindings,\n",
    "        prefixes=PREFIXES,\n",
    "        read_url=READ_URL,\n",
    "        write_url=WRITE_URL,\n",
    "    )\n",
    "    return []\n"
   ]
  },
  {
   "cell_type": "code",
   "execution_count": 6,
   "id": "37738bd3-7c29-40aa-8013-aedf5cb0fe44",
   "metadata": {
    "tags": []
   },
   "outputs": [],
   "source": [
    "def start_storage_kb(kb_id, kb_name, kb_description, ke_endpoint):\n",
    "    register_knowledge_base(kb_id, kb_name, kb_description, ke_endpoint)\n",
    "\n",
    "    answer_measurements_ki = register_answer_knowledge_interaction(\n",
    "        GRAPH_PATTERN,\n",
    "        \"answer-measurements\",\n",
    "        kb_id,\n",
    "        ke_endpoint,\n",
    "        PREFIXES,\n",
    "    )\n",
    "\n",
    "    react_measurements_ki = register_react_knowledge_interaction(\n",
    "        GRAPH_PATTERN,\n",
    "        None,\n",
    "        \"react-measurements\",\n",
    "        kb_id,\n",
    "        ke_endpoint,\n",
    "        PREFIXES,\n",
    "    )\n",
    "\n",
    "    start_handle_loop(\n",
    "        {\n",
    "            answer_measurements_ki: handle_answer_measurements,\n",
    "            react_measurements_ki: handle_react_measurements,\n",
    "        },\n",
    "        kb_id,\n",
    "        ke_endpoint,\n",
    "    )\n",
    "\n"
   ]
  },
  {
   "cell_type": "code",
   "execution_count": 7,
   "id": "be696002-0ace-4f28-9693-643c374b2a7b",
   "metadata": {
    "tags": []
   },
   "outputs": [
    {
     "name": "stderr",
     "output_type": "stream",
     "text": [
      "INFO:utils:registered Storage\n",
      "INFO:utils:received issued knowledge interaction id: http://example.org/storage/interaction/answer-measurements\n",
      "INFO:utils:received issued knowledge interaction id: http://example.org/storage/interaction/react-measurements\n"
     ]
    },
    {
     "name": "stdout",
     "output_type": "stream",
     "text": [
      "[{'room_id': '\"http://0.0.0.0:8001/thermostat/rooms/1\"', 'temp': '77', 'device_id': '\"http://0.0.0.0:8001/thermostat/devices/1\"', 'meas': '<http://0.0.0.0:8001/thermostat/measurements/2c0a0138-d287-46bb-a898-8ae7d0f87450>', 'timestamp': '\"2023-06-18T19:49:38+00:00\"'}]\n",
      "[{'room_id': '\"http://0.0.0.0:8001/thermostat/rooms/1\"', 'temp': '81', 'device_id': '\"http://0.0.0.0:8001/thermostat/devices/1\"', 'meas': '<http://0.0.0.0:8001/thermostat/measurements/0fb1078b-3b70-46ce-99af-ddf634be5563>', 'timestamp': '\"2023-06-18T19:49:44+00:00\"'}]\n",
      "[{'room_id': '\"http://0.0.0.0:8001/thermostat/rooms/1\"', 'temp': '81', 'device_id': '\"http://0.0.0.0:8001/thermostat/devices/1\"', 'meas': '<http://0.0.0.0:8001/thermostat/measurements/15c44445-39ff-4a96-b2cf-5d0d24b1771e>', 'timestamp': '\"2023-06-18T19:49:50+00:00\"'}]\n",
      "[{'room_id': '\"http://0.0.0.0:8001/thermostat/rooms/1\"', 'temp': '80', 'device_id': '\"http://0.0.0.0:8001/thermostat/devices/1\"', 'meas': '<http://0.0.0.0:8001/thermostat/measurements/b495d30b-816c-45dd-9d2f-9ac2ff283bb6>', 'timestamp': '\"2023-06-18T19:49:56+00:00\"'}]\n",
      "[{'room_id': '\"http://0.0.0.0:8001/thermostat/rooms/1\"', 'temp': '82', 'device_id': '\"http://0.0.0.0:8001/thermostat/devices/1\"', 'meas': '<http://0.0.0.0:8001/thermostat/measurements/101da48d-d7d0-4e5f-83ef-6b644505c526>', 'timestamp': '\"2023-06-18T19:50:02+00:00\"'}]\n",
      "[{'room_id': '\"http://0.0.0.0:8001/thermostat/rooms/1\"', 'temp': '83', 'device_id': '\"http://0.0.0.0:8001/thermostat/devices/1\"', 'meas': '<http://0.0.0.0:8001/thermostat/measurements/5c735401-225e-4786-806a-b21de34fca74>', 'timestamp': '\"2023-06-18T19:50:08+00:00\"'}]\n",
      "[{'room_id': '\"http://0.0.0.0:8001/thermostat/rooms/1\"', 'temp': '81', 'device_id': '\"http://0.0.0.0:8001/thermostat/devices/1\"', 'meas': '<http://0.0.0.0:8001/thermostat/measurements/5b23d908-5c67-43ab-9948-209f7dbc4731>', 'timestamp': '\"2023-06-18T19:50:14+00:00\"'}]\n",
      "[{'room_id': '\"http://0.0.0.0:8001/thermostat/rooms/1\"', 'temp': '82', 'device_id': '\"http://0.0.0.0:8001/thermostat/devices/1\"', 'meas': '<http://0.0.0.0:8001/thermostat/measurements/735fce80-3b60-4872-ace3-f6026b03cc11>', 'timestamp': '\"2023-06-18T19:50:20+00:00\"'}]\n",
      "[{'room_id': '\"http://0.0.0.0:8001/thermostat/rooms/1\"', 'temp': '79', 'device_id': '\"http://0.0.0.0:8001/thermostat/devices/1\"', 'meas': '<http://0.0.0.0:8001/thermostat/measurements/ad4f96f3-88a5-44bc-ab3d-87ce68b30fd8>', 'timestamp': '\"2023-06-18T19:50:26+00:00\"'}]\n",
      "[{'room_id': '\"http://0.0.0.0:8001/thermostat/rooms/1\"', 'temp': '77', 'device_id': '\"http://0.0.0.0:8001/thermostat/devices/1\"', 'meas': '<http://0.0.0.0:8001/thermostat/measurements/cfac536a-a8a9-4c87-a1d2-63ba2180873a>', 'timestamp': '\"2023-06-18T19:50:32+00:00\"'}]\n",
      "[{'room_id': '\"http://0.0.0.0:8001/thermostat/rooms/1\"', 'temp': '78', 'device_id': '\"http://0.0.0.0:8001/thermostat/devices/1\"', 'meas': '<http://0.0.0.0:8001/thermostat/measurements/c8cb8f05-f462-453a-be4b-417348bcb2da>', 'timestamp': '\"2023-06-18T19:50:37+00:00\"'}]\n",
      "[{'room_id': '\"http://0.0.0.0:8001/thermostat/rooms/1\"', 'temp': '80', 'device_id': '\"http://0.0.0.0:8001/thermostat/devices/1\"', 'meas': '<http://0.0.0.0:8001/thermostat/measurements/d0b8bb37-d2b9-4495-9b75-5a11a46439bd>', 'timestamp': '\"2023-06-18T19:50:43+00:00\"'}]\n",
      "[{'room_id': '\"http://0.0.0.0:8001/thermostat/rooms/1\"', 'temp': '80', 'device_id': '\"http://0.0.0.0:8001/thermostat/devices/1\"', 'meas': '<http://0.0.0.0:8001/thermostat/measurements/d6e0e77c-f19a-4055-8976-298b7fed6c7c>', 'timestamp': '\"2023-06-18T19:50:49+00:00\"'}]\n",
      "[{'room_id': '\"http://0.0.0.0:8001/thermostat/rooms/1\"', 'temp': '78', 'device_id': '\"http://0.0.0.0:8001/thermostat/devices/1\"', 'meas': '<http://0.0.0.0:8001/thermostat/measurements/9b5228ce-7937-4445-9202-bdd49910340a>', 'timestamp': '\"2023-06-18T19:50:55+00:00\"'}]\n",
      "[{'room_id': '\"http://0.0.0.0:8001/thermostat/rooms/1\"', 'temp': '83', 'device_id': '\"http://0.0.0.0:8001/thermostat/devices/1\"', 'meas': '<http://0.0.0.0:8001/thermostat/measurements/b40ca6a3-37f9-4cf7-8b0b-3af532f38a4a>', 'timestamp': '\"2023-06-18T19:51:00+00:00\"'}]\n",
      "[{'room_id': '\"http://0.0.0.0:8001/thermostat/rooms/1\"', 'temp': '80', 'device_id': '\"http://0.0.0.0:8001/thermostat/devices/1\"', 'meas': '<http://0.0.0.0:8001/thermostat/measurements/7c69dc4d-1174-4fc9-b30f-db8f1e14f367>', 'timestamp': '\"2023-06-18T19:51:06+00:00\"'}]\n",
      "[{'room_id': '\"http://0.0.0.0:8001/thermostat/rooms/1\"', 'temp': '80', 'device_id': '\"http://0.0.0.0:8001/thermostat/devices/1\"', 'meas': '<http://0.0.0.0:8001/thermostat/measurements/1701973b-4013-4e02-9517-4528c3520913>', 'timestamp': '\"2023-06-18T19:51:12+00:00\"'}]\n",
      "[{'room_id': '\"http://0.0.0.0:8001/thermostat/rooms/1\"', 'temp': '83', 'device_id': '\"http://0.0.0.0:8001/thermostat/devices/1\"', 'meas': '<http://0.0.0.0:8001/thermostat/measurements/f0f11b17-fd5e-45fb-8afa-bd6e030a3df6>', 'timestamp': '\"2023-06-18T19:51:18+00:00\"'}]\n",
      "[{'room_id': '\"http://0.0.0.0:8001/thermostat/rooms/1\"', 'temp': '78', 'device_id': '\"http://0.0.0.0:8001/thermostat/devices/1\"', 'meas': '<http://0.0.0.0:8001/thermostat/measurements/70925952-2fbc-42d2-90a6-9ebae25d482c>', 'timestamp': '\"2023-06-18T19:51:24+00:00\"'}]\n",
      "[{'room_id': '\"http://0.0.0.0:8001/thermostat/rooms/1\"', 'temp': '81', 'device_id': '\"http://0.0.0.0:8001/thermostat/devices/1\"', 'meas': '<http://0.0.0.0:8001/thermostat/measurements/44717cf2-d14f-439f-9b04-f26156fa879f>', 'timestamp': '\"2023-06-18T19:51:31+00:00\"'}]\n",
      "[{'room_id': '\"http://0.0.0.0:8001/thermostat/rooms/1\"', 'temp': '83', 'device_id': '\"http://0.0.0.0:8001/thermostat/devices/1\"', 'meas': '<http://0.0.0.0:8001/thermostat/measurements/cc8c0642-fc20-4779-b749-adfd2e64c6fa>', 'timestamp': '\"2023-06-18T19:51:37+00:00\"'}]\n",
      "[{'room_id': '\"http://0.0.0.0:8001/thermostat/rooms/1\"', 'temp': '80', 'device_id': '\"http://0.0.0.0:8001/thermostat/devices/1\"', 'meas': '<http://0.0.0.0:8001/thermostat/measurements/898cd90e-a02e-43c3-b5ef-bcfe070648f5>', 'timestamp': '\"2023-06-18T19:51:42+00:00\"'}]\n",
      "[{'room_id': '\"http://0.0.0.0:8001/thermostat/rooms/1\"', 'temp': '82', 'device_id': '\"http://0.0.0.0:8001/thermostat/devices/1\"', 'meas': '<http://0.0.0.0:8001/thermostat/measurements/d5e75509-3884-46fc-aa2b-c70f9ec371fb>', 'timestamp': '\"2023-06-18T19:51:48+00:00\"'}]\n",
      "[{'room_id': '\"http://0.0.0.0:8001/thermostat/rooms/1\"', 'temp': '77', 'device_id': '\"http://0.0.0.0:8001/thermostat/devices/1\"', 'meas': '<http://0.0.0.0:8001/thermostat/measurements/e15785ed-f197-4519-bda7-eb26acdc13c5>', 'timestamp': '\"2023-06-18T19:51:54+00:00\"'}]\n",
      "[{'room_id': '\"http://0.0.0.0:8001/thermostat/rooms/1\"', 'temp': '78', 'device_id': '\"http://0.0.0.0:8001/thermostat/devices/1\"', 'meas': '<http://0.0.0.0:8001/thermostat/measurements/4527d15c-51f6-4712-9804-eec08a6d5b34>', 'timestamp': '\"2023-06-18T19:52:00+00:00\"'}]\n",
      "[{'room_id': '\"http://0.0.0.0:8001/thermostat/rooms/1\"', 'temp': '77', 'device_id': '\"http://0.0.0.0:8001/thermostat/devices/1\"', 'meas': '<http://0.0.0.0:8001/thermostat/measurements/e80ed8c7-e553-447d-a3e8-0984690b22b7>', 'timestamp': '\"2023-06-18T19:52:06+00:00\"'}]\n",
      "[{'room_id': '\"http://0.0.0.0:8001/thermostat/rooms/1\"', 'temp': '81', 'device_id': '\"http://0.0.0.0:8001/thermostat/devices/1\"', 'meas': '<http://0.0.0.0:8001/thermostat/measurements/5851c69e-635c-49fc-bbd8-3797df4480f1>', 'timestamp': '\"2023-06-18T19:52:12+00:00\"'}]\n",
      "[{'room_id': '\"http://0.0.0.0:8001/thermostat/rooms/1\"', 'temp': '79', 'device_id': '\"http://0.0.0.0:8001/thermostat/devices/1\"', 'meas': '<http://0.0.0.0:8001/thermostat/measurements/ae8243b2-56ec-46f5-8d43-b16cbae3fa4a>', 'timestamp': '\"2023-06-18T19:52:19+00:00\"'}]\n",
      "[{'room_id': '\"http://0.0.0.0:8001/thermostat/rooms/1\"', 'temp': '81', 'device_id': '\"http://0.0.0.0:8001/thermostat/devices/1\"', 'meas': '<http://0.0.0.0:8001/thermostat/measurements/b9a398c0-0546-459e-baef-950bd48da936>', 'timestamp': '\"2023-06-18T19:52:25+00:00\"'}]\n",
      "[{'room_id': '\"http://0.0.0.0:8001/thermostat/rooms/1\"', 'temp': '83', 'device_id': '\"http://0.0.0.0:8001/thermostat/devices/1\"', 'meas': '<http://0.0.0.0:8001/thermostat/measurements/16759c52-b579-4e4d-9608-fcc39e9ef9e3>', 'timestamp': '\"2023-06-18T19:52:31+00:00\"'}]\n",
      "[{'room_id': '\"http://0.0.0.0:8001/thermostat/rooms/1\"', 'temp': '81', 'device_id': '\"http://0.0.0.0:8001/thermostat/devices/1\"', 'meas': '<http://0.0.0.0:8001/thermostat/measurements/342d35b7-35c1-4e7a-baa1-2dda07ec7d27>', 'timestamp': '\"2023-06-18T19:52:38+00:00\"'}]\n",
      "[{'room_id': '\"http://0.0.0.0:8001/thermostat/rooms/1\"', 'temp': '77', 'device_id': '\"http://0.0.0.0:8001/thermostat/devices/1\"', 'meas': '<http://0.0.0.0:8001/thermostat/measurements/2fdaff5f-13f3-45c6-8899-495fbb3bced2>', 'timestamp': '\"2023-06-18T19:52:45+00:00\"'}]\n",
      "[{'room_id': '\"http://0.0.0.0:8001/thermostat/rooms/1\"', 'temp': '77', 'device_id': '\"http://0.0.0.0:8001/thermostat/devices/1\"', 'meas': '<http://0.0.0.0:8001/thermostat/measurements/5053a5d4-d670-4677-a50d-a1320463573e>', 'timestamp': '\"2023-06-18T19:52:51+00:00\"'}]\n",
      "[{'room_id': '\"http://0.0.0.0:8001/thermostat/rooms/1\"', 'temp': '82', 'device_id': '\"http://0.0.0.0:8001/thermostat/devices/1\"', 'meas': '<http://0.0.0.0:8001/thermostat/measurements/50a8e7c2-a508-498e-93fd-39f673d9a7e6>', 'timestamp': '\"2023-06-18T19:52:58+00:00\"'}]\n",
      "[{'room_id': '\"http://0.0.0.0:8001/thermostat/rooms/1\"', 'temp': '82', 'device_id': '\"http://0.0.0.0:8001/thermostat/devices/1\"', 'meas': '<http://0.0.0.0:8001/thermostat/measurements/ead6f21a-bae3-47d9-ae9f-6319511b8ad3>', 'timestamp': '\"2023-06-18T19:53:05+00:00\"'}]\n",
      "[{'room_id': '\"http://0.0.0.0:8001/thermostat/rooms/1\"', 'temp': '82', 'device_id': '\"http://0.0.0.0:8001/thermostat/devices/1\"', 'meas': '<http://0.0.0.0:8001/thermostat/measurements/c23fa635-77df-48a6-b76e-896a1af44cd9>', 'timestamp': '\"2023-06-18T19:53:11+00:00\"'}]\n",
      "[{'room_id': '\"http://0.0.0.0:8001/thermostat/rooms/1\"', 'temp': '83', 'device_id': '\"http://0.0.0.0:8001/thermostat/devices/1\"', 'meas': '<http://0.0.0.0:8001/thermostat/measurements/5cb62f64-05b8-48be-b3d1-474113a21462>', 'timestamp': '\"2023-06-18T19:53:18+00:00\"'}]\n",
      "[{'room_id': '\"http://0.0.0.0:8001/thermostat/rooms/1\"', 'temp': '81', 'device_id': '\"http://0.0.0.0:8001/thermostat/devices/1\"', 'meas': '<http://0.0.0.0:8001/thermostat/measurements/807a4b1d-97b0-4a23-bd83-fbdf8d46ac66>', 'timestamp': '\"2023-06-18T19:53:24+00:00\"'}]\n",
      "[{'room_id': '\"http://0.0.0.0:8001/thermostat/rooms/1\"', 'temp': '78', 'device_id': '\"http://0.0.0.0:8001/thermostat/devices/1\"', 'meas': '<http://0.0.0.0:8001/thermostat/measurements/d311e702-9485-4568-a264-edee124e1fff>', 'timestamp': '\"2023-06-18T19:53:30+00:00\"'}]\n",
      "[{'room_id': '\"http://0.0.0.0:8001/thermostat/rooms/1\"', 'temp': '83', 'device_id': '\"http://0.0.0.0:8001/thermostat/devices/1\"', 'meas': '<http://0.0.0.0:8001/thermostat/measurements/2ae631d2-6846-4640-96ff-2c59547a678e>', 'timestamp': '\"2023-06-18T19:53:36+00:00\"'}]\n",
      "[{'room_id': '\"http://0.0.0.0:8001/thermostat/rooms/1\"', 'temp': '81', 'device_id': '\"http://0.0.0.0:8001/thermostat/devices/1\"', 'meas': '<http://0.0.0.0:8001/thermostat/measurements/a7fd3afd-a546-455b-b037-cbaea06daf42>', 'timestamp': '\"2023-06-18T19:53:42+00:00\"'}]\n",
      "[{'room_id': '\"http://0.0.0.0:8001/thermostat/rooms/1\"', 'temp': '83', 'device_id': '\"http://0.0.0.0:8001/thermostat/devices/1\"', 'meas': '<http://0.0.0.0:8001/thermostat/measurements/9929cdc5-dafa-46f6-90ca-36d4cd3f5278>', 'timestamp': '\"2023-06-18T19:53:49+00:00\"'}]\n",
      "[{'room_id': '\"http://0.0.0.0:8001/thermostat/rooms/1\"', 'temp': '83', 'device_id': '\"http://0.0.0.0:8001/thermostat/devices/1\"', 'meas': '<http://0.0.0.0:8001/thermostat/measurements/18bd70d7-7165-4cdf-8c09-71d75e5fe5ec>', 'timestamp': '\"2023-06-18T19:53:55+00:00\"'}]\n",
      "[{'room_id': '\"http://0.0.0.0:8001/thermostat/rooms/1\"', 'temp': '78', 'device_id': '\"http://0.0.0.0:8001/thermostat/devices/1\"', 'meas': '<http://0.0.0.0:8001/thermostat/measurements/b58e1d3e-986d-4f5f-a0b8-e7316b78f80e>', 'timestamp': '\"2023-06-18T19:54:01+00:00\"'}]\n",
      "[{'room_id': '\"http://0.0.0.0:8001/thermostat/rooms/1\"', 'temp': '82', 'device_id': '\"http://0.0.0.0:8001/thermostat/devices/1\"', 'meas': '<http://0.0.0.0:8001/thermostat/measurements/37c64eed-704b-4737-a992-da4ddd6d69a6>', 'timestamp': '\"2023-06-18T19:54:07+00:00\"'}]\n",
      "[{'room_id': '\"http://0.0.0.0:8001/thermostat/rooms/1\"', 'temp': '82', 'device_id': '\"http://0.0.0.0:8001/thermostat/devices/1\"', 'meas': '<http://0.0.0.0:8001/thermostat/measurements/16ad955d-737b-468d-b744-e263d9ebe522>', 'timestamp': '\"2023-06-18T19:54:14+00:00\"'}]\n",
      "[{'room_id': '\"http://0.0.0.0:8001/thermostat/rooms/1\"', 'temp': '81', 'device_id': '\"http://0.0.0.0:8001/thermostat/devices/1\"', 'meas': '<http://0.0.0.0:8001/thermostat/measurements/a78a682f-22d6-46cf-b996-0cad937daad0>', 'timestamp': '\"2023-06-18T19:54:20+00:00\"'}]\n",
      "[{'room_id': '\"http://0.0.0.0:8001/thermostat/rooms/1\"', 'temp': '78', 'device_id': '\"http://0.0.0.0:8001/thermostat/devices/1\"', 'meas': '<http://0.0.0.0:8001/thermostat/measurements/bf83d7bd-7980-4239-89df-6685ba38e4e9>', 'timestamp': '\"2023-06-18T19:54:27+00:00\"'}]\n"
     ]
    },
    {
     "ename": "KeyboardInterrupt",
     "evalue": "",
     "output_type": "error",
     "traceback": [
      "\u001b[0;31m---------------------------------------------------------------------------\u001b[0m",
      "\u001b[0;31mKeyboardInterrupt\u001b[0m                         Traceback (most recent call last)",
      "Cell \u001b[0;32mIn[7], line 1\u001b[0m\n\u001b[0;32m----> 1\u001b[0m \u001b[43mstart_storage_kb\u001b[49m\u001b[43m(\u001b[49m\n\u001b[1;32m      2\u001b[0m \u001b[43m    \u001b[49m\u001b[38;5;124;43m\"\u001b[39;49m\u001b[38;5;124;43mhttp://example.org/storage\u001b[39;49m\u001b[38;5;124;43m\"\u001b[39;49m\u001b[43m,\u001b[49m\n\u001b[1;32m      3\u001b[0m \u001b[43m    \u001b[49m\u001b[38;5;124;43m\"\u001b[39;49m\u001b[38;5;124;43mStorage\u001b[39;49m\u001b[38;5;124;43m\"\u001b[39;49m\u001b[43m,\u001b[49m\n\u001b[1;32m      4\u001b[0m \u001b[43m    \u001b[49m\u001b[38;5;124;43m\"\u001b[39;49m\u001b[38;5;124;43mGraphDB smart connector\u001b[39;49m\u001b[38;5;124;43m\"\u001b[39;49m\u001b[43m,\u001b[49m\n\u001b[1;32m      5\u001b[0m \u001b[43m    \u001b[49m\u001b[38;5;124;43m\"\u001b[39;49m\u001b[38;5;124;43mhttp://knowledge_engine:8280/rest/\u001b[39;49m\u001b[38;5;124;43m\"\u001b[39;49m\u001b[43m,\u001b[49m\n\u001b[1;32m      6\u001b[0m \u001b[43m)\u001b[49m\n",
      "Cell \u001b[0;32mIn[6], line 21\u001b[0m, in \u001b[0;36mstart_storage_kb\u001b[0;34m(kb_id, kb_name, kb_description, ke_endpoint)\u001b[0m\n\u001b[1;32m      4\u001b[0m answer_measurements_ki \u001b[38;5;241m=\u001b[39m register_answer_knowledge_interaction(\n\u001b[1;32m      5\u001b[0m     GRAPH_PATTERN,\n\u001b[1;32m      6\u001b[0m     \u001b[38;5;124m\"\u001b[39m\u001b[38;5;124manswer-measurements\u001b[39m\u001b[38;5;124m\"\u001b[39m,\n\u001b[0;32m   (...)\u001b[0m\n\u001b[1;32m      9\u001b[0m     PREFIXES,\n\u001b[1;32m     10\u001b[0m )\n\u001b[1;32m     12\u001b[0m react_measurements_ki \u001b[38;5;241m=\u001b[39m register_react_knowledge_interaction(\n\u001b[1;32m     13\u001b[0m     GRAPH_PATTERN,\n\u001b[1;32m     14\u001b[0m     \u001b[38;5;28;01mNone\u001b[39;00m,\n\u001b[0;32m   (...)\u001b[0m\n\u001b[1;32m     18\u001b[0m     PREFIXES,\n\u001b[1;32m     19\u001b[0m )\n\u001b[0;32m---> 21\u001b[0m \u001b[43mstart_handle_loop\u001b[49m\u001b[43m(\u001b[49m\n\u001b[1;32m     22\u001b[0m \u001b[43m    \u001b[49m\u001b[43m{\u001b[49m\n\u001b[1;32m     23\u001b[0m \u001b[43m        \u001b[49m\u001b[43manswer_measurements_ki\u001b[49m\u001b[43m:\u001b[49m\u001b[43m \u001b[49m\u001b[43mhandle_answer_measurements\u001b[49m\u001b[43m,\u001b[49m\n\u001b[1;32m     24\u001b[0m \u001b[43m        \u001b[49m\u001b[43mreact_measurements_ki\u001b[49m\u001b[43m:\u001b[49m\u001b[43m \u001b[49m\u001b[43mhandle_react_measurements\u001b[49m\u001b[43m,\u001b[49m\n\u001b[1;32m     25\u001b[0m \u001b[43m    \u001b[49m\u001b[43m}\u001b[49m\u001b[43m,\u001b[49m\n\u001b[1;32m     26\u001b[0m \u001b[43m    \u001b[49m\u001b[43mkb_id\u001b[49m\u001b[43m,\u001b[49m\n\u001b[1;32m     27\u001b[0m \u001b[43m    \u001b[49m\u001b[43mke_endpoint\u001b[49m\u001b[43m,\u001b[49m\n\u001b[1;32m     28\u001b[0m \u001b[43m\u001b[49m\u001b[43m)\u001b[49m\n",
      "File \u001b[0;32m~/work/BScP_NBs/docker_nbs/utils.py:224\u001b[0m, in \u001b[0;36mstart_handle_loop\u001b[0;34m(handlers, kb_id, ke_endpoint)\u001b[0m\n\u001b[1;32m    214\u001b[0m \u001b[38;5;250m\u001b[39m\u001b[38;5;124;03m\"\"\"\u001b[39;00m\n\u001b[1;32m    215\u001b[0m \u001b[38;5;124;03mStart the handle loop, where it will long poll to a route that returns a\u001b[39;00m\n\u001b[1;32m    216\u001b[0m \u001b[38;5;124;03mhandle request when it arrives.\u001b[39;00m\n\u001b[0;32m   (...)\u001b[0m\n\u001b[1;32m    221\u001b[0m \u001b[38;5;124;03mback to the KE.\u001b[39;00m\n\u001b[1;32m    222\u001b[0m \u001b[38;5;124;03m\"\"\"\u001b[39;00m\n\u001b[1;32m    223\u001b[0m \u001b[38;5;28;01mwhile\u001b[39;00m \u001b[38;5;28;01mTrue\u001b[39;00m:\n\u001b[0;32m--> 224\u001b[0m     response \u001b[38;5;241m=\u001b[39m \u001b[43mrequests\u001b[49m\u001b[38;5;241;43m.\u001b[39;49m\u001b[43mget\u001b[49m\u001b[43m(\u001b[49m\n\u001b[1;32m    225\u001b[0m \u001b[43m        \u001b[49m\u001b[43mke_endpoint\u001b[49m\u001b[43m \u001b[49m\u001b[38;5;241;43m+\u001b[39;49m\u001b[43m \u001b[49m\u001b[38;5;124;43m\"\u001b[39;49m\u001b[38;5;124;43msc/handle\u001b[39;49m\u001b[38;5;124;43m\"\u001b[39;49m\u001b[43m,\u001b[49m\u001b[43m \u001b[49m\u001b[43mheaders\u001b[49m\u001b[38;5;241;43m=\u001b[39;49m\u001b[43m{\u001b[49m\u001b[38;5;124;43m\"\u001b[39;49m\u001b[38;5;124;43mKnowledge-Base-Id\u001b[39;49m\u001b[38;5;124;43m\"\u001b[39;49m\u001b[43m:\u001b[49m\u001b[43m \u001b[49m\u001b[43mkb_id\u001b[49m\u001b[43m}\u001b[49m\n\u001b[1;32m    226\u001b[0m \u001b[43m    \u001b[49m\u001b[43m)\u001b[49m\n\u001b[1;32m    228\u001b[0m     \u001b[38;5;28;01mif\u001b[39;00m response\u001b[38;5;241m.\u001b[39mstatus_code \u001b[38;5;241m==\u001b[39m \u001b[38;5;241m200\u001b[39m:\n\u001b[1;32m    229\u001b[0m         \u001b[38;5;66;03m# 200 means: we receive bindings that we need to handle, then repoll asap.\u001b[39;00m\n\u001b[1;32m    230\u001b[0m         handle_request \u001b[38;5;241m=\u001b[39m response\u001b[38;5;241m.\u001b[39mjson()\n",
      "File \u001b[0;32m/opt/conda/lib/python3.10/site-packages/requests/api.py:73\u001b[0m, in \u001b[0;36mget\u001b[0;34m(url, params, **kwargs)\u001b[0m\n\u001b[1;32m     62\u001b[0m \u001b[38;5;28;01mdef\u001b[39;00m \u001b[38;5;21mget\u001b[39m(url, params\u001b[38;5;241m=\u001b[39m\u001b[38;5;28;01mNone\u001b[39;00m, \u001b[38;5;241m*\u001b[39m\u001b[38;5;241m*\u001b[39mkwargs):\n\u001b[1;32m     63\u001b[0m \u001b[38;5;250m    \u001b[39m\u001b[38;5;124mr\u001b[39m\u001b[38;5;124;03m\"\"\"Sends a GET request.\u001b[39;00m\n\u001b[1;32m     64\u001b[0m \n\u001b[1;32m     65\u001b[0m \u001b[38;5;124;03m    :param url: URL for the new :class:`Request` object.\u001b[39;00m\n\u001b[0;32m   (...)\u001b[0m\n\u001b[1;32m     70\u001b[0m \u001b[38;5;124;03m    :rtype: requests.Response\u001b[39;00m\n\u001b[1;32m     71\u001b[0m \u001b[38;5;124;03m    \"\"\"\u001b[39;00m\n\u001b[0;32m---> 73\u001b[0m     \u001b[38;5;28;01mreturn\u001b[39;00m \u001b[43mrequest\u001b[49m\u001b[43m(\u001b[49m\u001b[38;5;124;43m\"\u001b[39;49m\u001b[38;5;124;43mget\u001b[39;49m\u001b[38;5;124;43m\"\u001b[39;49m\u001b[43m,\u001b[49m\u001b[43m \u001b[49m\u001b[43murl\u001b[49m\u001b[43m,\u001b[49m\u001b[43m \u001b[49m\u001b[43mparams\u001b[49m\u001b[38;5;241;43m=\u001b[39;49m\u001b[43mparams\u001b[49m\u001b[43m,\u001b[49m\u001b[43m \u001b[49m\u001b[38;5;241;43m*\u001b[39;49m\u001b[38;5;241;43m*\u001b[39;49m\u001b[43mkwargs\u001b[49m\u001b[43m)\u001b[49m\n",
      "File \u001b[0;32m/opt/conda/lib/python3.10/site-packages/requests/api.py:59\u001b[0m, in \u001b[0;36mrequest\u001b[0;34m(method, url, **kwargs)\u001b[0m\n\u001b[1;32m     55\u001b[0m \u001b[38;5;66;03m# By using the 'with' statement we are sure the session is closed, thus we\u001b[39;00m\n\u001b[1;32m     56\u001b[0m \u001b[38;5;66;03m# avoid leaving sockets open which can trigger a ResourceWarning in some\u001b[39;00m\n\u001b[1;32m     57\u001b[0m \u001b[38;5;66;03m# cases, and look like a memory leak in others.\u001b[39;00m\n\u001b[1;32m     58\u001b[0m \u001b[38;5;28;01mwith\u001b[39;00m sessions\u001b[38;5;241m.\u001b[39mSession() \u001b[38;5;28;01mas\u001b[39;00m session:\n\u001b[0;32m---> 59\u001b[0m     \u001b[38;5;28;01mreturn\u001b[39;00m \u001b[43msession\u001b[49m\u001b[38;5;241;43m.\u001b[39;49m\u001b[43mrequest\u001b[49m\u001b[43m(\u001b[49m\u001b[43mmethod\u001b[49m\u001b[38;5;241;43m=\u001b[39;49m\u001b[43mmethod\u001b[49m\u001b[43m,\u001b[49m\u001b[43m \u001b[49m\u001b[43murl\u001b[49m\u001b[38;5;241;43m=\u001b[39;49m\u001b[43murl\u001b[49m\u001b[43m,\u001b[49m\u001b[43m \u001b[49m\u001b[38;5;241;43m*\u001b[39;49m\u001b[38;5;241;43m*\u001b[39;49m\u001b[43mkwargs\u001b[49m\u001b[43m)\u001b[49m\n",
      "File \u001b[0;32m/opt/conda/lib/python3.10/site-packages/requests/sessions.py:587\u001b[0m, in \u001b[0;36mSession.request\u001b[0;34m(self, method, url, params, data, headers, cookies, files, auth, timeout, allow_redirects, proxies, hooks, stream, verify, cert, json)\u001b[0m\n\u001b[1;32m    582\u001b[0m send_kwargs \u001b[38;5;241m=\u001b[39m {\n\u001b[1;32m    583\u001b[0m     \u001b[38;5;124m\"\u001b[39m\u001b[38;5;124mtimeout\u001b[39m\u001b[38;5;124m\"\u001b[39m: timeout,\n\u001b[1;32m    584\u001b[0m     \u001b[38;5;124m\"\u001b[39m\u001b[38;5;124mallow_redirects\u001b[39m\u001b[38;5;124m\"\u001b[39m: allow_redirects,\n\u001b[1;32m    585\u001b[0m }\n\u001b[1;32m    586\u001b[0m send_kwargs\u001b[38;5;241m.\u001b[39mupdate(settings)\n\u001b[0;32m--> 587\u001b[0m resp \u001b[38;5;241m=\u001b[39m \u001b[38;5;28;43mself\u001b[39;49m\u001b[38;5;241;43m.\u001b[39;49m\u001b[43msend\u001b[49m\u001b[43m(\u001b[49m\u001b[43mprep\u001b[49m\u001b[43m,\u001b[49m\u001b[43m \u001b[49m\u001b[38;5;241;43m*\u001b[39;49m\u001b[38;5;241;43m*\u001b[39;49m\u001b[43msend_kwargs\u001b[49m\u001b[43m)\u001b[49m\n\u001b[1;32m    589\u001b[0m \u001b[38;5;28;01mreturn\u001b[39;00m resp\n",
      "File \u001b[0;32m/opt/conda/lib/python3.10/site-packages/requests/sessions.py:701\u001b[0m, in \u001b[0;36mSession.send\u001b[0;34m(self, request, **kwargs)\u001b[0m\n\u001b[1;32m    698\u001b[0m start \u001b[38;5;241m=\u001b[39m preferred_clock()\n\u001b[1;32m    700\u001b[0m \u001b[38;5;66;03m# Send the request\u001b[39;00m\n\u001b[0;32m--> 701\u001b[0m r \u001b[38;5;241m=\u001b[39m \u001b[43madapter\u001b[49m\u001b[38;5;241;43m.\u001b[39;49m\u001b[43msend\u001b[49m\u001b[43m(\u001b[49m\u001b[43mrequest\u001b[49m\u001b[43m,\u001b[49m\u001b[43m \u001b[49m\u001b[38;5;241;43m*\u001b[39;49m\u001b[38;5;241;43m*\u001b[39;49m\u001b[43mkwargs\u001b[49m\u001b[43m)\u001b[49m\n\u001b[1;32m    703\u001b[0m \u001b[38;5;66;03m# Total elapsed time of the request (approximately)\u001b[39;00m\n\u001b[1;32m    704\u001b[0m elapsed \u001b[38;5;241m=\u001b[39m preferred_clock() \u001b[38;5;241m-\u001b[39m start\n",
      "File \u001b[0;32m/opt/conda/lib/python3.10/site-packages/requests/adapters.py:487\u001b[0m, in \u001b[0;36mHTTPAdapter.send\u001b[0;34m(self, request, stream, timeout, verify, cert, proxies)\u001b[0m\n\u001b[1;32m    484\u001b[0m     timeout \u001b[38;5;241m=\u001b[39m TimeoutSauce(connect\u001b[38;5;241m=\u001b[39mtimeout, read\u001b[38;5;241m=\u001b[39mtimeout)\n\u001b[1;32m    486\u001b[0m \u001b[38;5;28;01mtry\u001b[39;00m:\n\u001b[0;32m--> 487\u001b[0m     resp \u001b[38;5;241m=\u001b[39m \u001b[43mconn\u001b[49m\u001b[38;5;241;43m.\u001b[39;49m\u001b[43murlopen\u001b[49m\u001b[43m(\u001b[49m\n\u001b[1;32m    488\u001b[0m \u001b[43m        \u001b[49m\u001b[43mmethod\u001b[49m\u001b[38;5;241;43m=\u001b[39;49m\u001b[43mrequest\u001b[49m\u001b[38;5;241;43m.\u001b[39;49m\u001b[43mmethod\u001b[49m\u001b[43m,\u001b[49m\n\u001b[1;32m    489\u001b[0m \u001b[43m        \u001b[49m\u001b[43murl\u001b[49m\u001b[38;5;241;43m=\u001b[39;49m\u001b[43murl\u001b[49m\u001b[43m,\u001b[49m\n\u001b[1;32m    490\u001b[0m \u001b[43m        \u001b[49m\u001b[43mbody\u001b[49m\u001b[38;5;241;43m=\u001b[39;49m\u001b[43mrequest\u001b[49m\u001b[38;5;241;43m.\u001b[39;49m\u001b[43mbody\u001b[49m\u001b[43m,\u001b[49m\n\u001b[1;32m    491\u001b[0m \u001b[43m        \u001b[49m\u001b[43mheaders\u001b[49m\u001b[38;5;241;43m=\u001b[39;49m\u001b[43mrequest\u001b[49m\u001b[38;5;241;43m.\u001b[39;49m\u001b[43mheaders\u001b[49m\u001b[43m,\u001b[49m\n\u001b[1;32m    492\u001b[0m \u001b[43m        \u001b[49m\u001b[43mredirect\u001b[49m\u001b[38;5;241;43m=\u001b[39;49m\u001b[38;5;28;43;01mFalse\u001b[39;49;00m\u001b[43m,\u001b[49m\n\u001b[1;32m    493\u001b[0m \u001b[43m        \u001b[49m\u001b[43massert_same_host\u001b[49m\u001b[38;5;241;43m=\u001b[39;49m\u001b[38;5;28;43;01mFalse\u001b[39;49;00m\u001b[43m,\u001b[49m\n\u001b[1;32m    494\u001b[0m \u001b[43m        \u001b[49m\u001b[43mpreload_content\u001b[49m\u001b[38;5;241;43m=\u001b[39;49m\u001b[38;5;28;43;01mFalse\u001b[39;49;00m\u001b[43m,\u001b[49m\n\u001b[1;32m    495\u001b[0m \u001b[43m        \u001b[49m\u001b[43mdecode_content\u001b[49m\u001b[38;5;241;43m=\u001b[39;49m\u001b[38;5;28;43;01mFalse\u001b[39;49;00m\u001b[43m,\u001b[49m\n\u001b[1;32m    496\u001b[0m \u001b[43m        \u001b[49m\u001b[43mretries\u001b[49m\u001b[38;5;241;43m=\u001b[39;49m\u001b[38;5;28;43mself\u001b[39;49m\u001b[38;5;241;43m.\u001b[39;49m\u001b[43mmax_retries\u001b[49m\u001b[43m,\u001b[49m\n\u001b[1;32m    497\u001b[0m \u001b[43m        \u001b[49m\u001b[43mtimeout\u001b[49m\u001b[38;5;241;43m=\u001b[39;49m\u001b[43mtimeout\u001b[49m\u001b[43m,\u001b[49m\n\u001b[1;32m    498\u001b[0m \u001b[43m        \u001b[49m\u001b[43mchunked\u001b[49m\u001b[38;5;241;43m=\u001b[39;49m\u001b[43mchunked\u001b[49m\u001b[43m,\u001b[49m\n\u001b[1;32m    499\u001b[0m \u001b[43m    \u001b[49m\u001b[43m)\u001b[49m\n\u001b[1;32m    501\u001b[0m \u001b[38;5;28;01mexcept\u001b[39;00m (ProtocolError, \u001b[38;5;167;01mOSError\u001b[39;00m) \u001b[38;5;28;01mas\u001b[39;00m err:\n\u001b[1;32m    502\u001b[0m     \u001b[38;5;28;01mraise\u001b[39;00m \u001b[38;5;167;01mConnectionError\u001b[39;00m(err, request\u001b[38;5;241m=\u001b[39mrequest)\n",
      "File \u001b[0;32m/opt/conda/lib/python3.10/site-packages/urllib3/connectionpool.py:703\u001b[0m, in \u001b[0;36mHTTPConnectionPool.urlopen\u001b[0;34m(self, method, url, body, headers, retries, redirect, assert_same_host, timeout, pool_timeout, release_conn, chunked, body_pos, **response_kw)\u001b[0m\n\u001b[1;32m    700\u001b[0m     \u001b[38;5;28mself\u001b[39m\u001b[38;5;241m.\u001b[39m_prepare_proxy(conn)\n\u001b[1;32m    702\u001b[0m \u001b[38;5;66;03m# Make the request on the httplib connection object.\u001b[39;00m\n\u001b[0;32m--> 703\u001b[0m httplib_response \u001b[38;5;241m=\u001b[39m \u001b[38;5;28;43mself\u001b[39;49m\u001b[38;5;241;43m.\u001b[39;49m\u001b[43m_make_request\u001b[49m\u001b[43m(\u001b[49m\n\u001b[1;32m    704\u001b[0m \u001b[43m    \u001b[49m\u001b[43mconn\u001b[49m\u001b[43m,\u001b[49m\n\u001b[1;32m    705\u001b[0m \u001b[43m    \u001b[49m\u001b[43mmethod\u001b[49m\u001b[43m,\u001b[49m\n\u001b[1;32m    706\u001b[0m \u001b[43m    \u001b[49m\u001b[43murl\u001b[49m\u001b[43m,\u001b[49m\n\u001b[1;32m    707\u001b[0m \u001b[43m    \u001b[49m\u001b[43mtimeout\u001b[49m\u001b[38;5;241;43m=\u001b[39;49m\u001b[43mtimeout_obj\u001b[49m\u001b[43m,\u001b[49m\n\u001b[1;32m    708\u001b[0m \u001b[43m    \u001b[49m\u001b[43mbody\u001b[49m\u001b[38;5;241;43m=\u001b[39;49m\u001b[43mbody\u001b[49m\u001b[43m,\u001b[49m\n\u001b[1;32m    709\u001b[0m \u001b[43m    \u001b[49m\u001b[43mheaders\u001b[49m\u001b[38;5;241;43m=\u001b[39;49m\u001b[43mheaders\u001b[49m\u001b[43m,\u001b[49m\n\u001b[1;32m    710\u001b[0m \u001b[43m    \u001b[49m\u001b[43mchunked\u001b[49m\u001b[38;5;241;43m=\u001b[39;49m\u001b[43mchunked\u001b[49m\u001b[43m,\u001b[49m\n\u001b[1;32m    711\u001b[0m \u001b[43m\u001b[49m\u001b[43m)\u001b[49m\n\u001b[1;32m    713\u001b[0m \u001b[38;5;66;03m# If we're going to release the connection in ``finally:``, then\u001b[39;00m\n\u001b[1;32m    714\u001b[0m \u001b[38;5;66;03m# the response doesn't need to know about the connection. Otherwise\u001b[39;00m\n\u001b[1;32m    715\u001b[0m \u001b[38;5;66;03m# it will also try to release it and we'll have a double-release\u001b[39;00m\n\u001b[1;32m    716\u001b[0m \u001b[38;5;66;03m# mess.\u001b[39;00m\n\u001b[1;32m    717\u001b[0m response_conn \u001b[38;5;241m=\u001b[39m conn \u001b[38;5;28;01mif\u001b[39;00m \u001b[38;5;129;01mnot\u001b[39;00m release_conn \u001b[38;5;28;01melse\u001b[39;00m \u001b[38;5;28;01mNone\u001b[39;00m\n",
      "File \u001b[0;32m/opt/conda/lib/python3.10/site-packages/urllib3/connectionpool.py:449\u001b[0m, in \u001b[0;36mHTTPConnectionPool._make_request\u001b[0;34m(self, conn, method, url, timeout, chunked, **httplib_request_kw)\u001b[0m\n\u001b[1;32m    444\u001b[0m             httplib_response \u001b[38;5;241m=\u001b[39m conn\u001b[38;5;241m.\u001b[39mgetresponse()\n\u001b[1;32m    445\u001b[0m         \u001b[38;5;28;01mexcept\u001b[39;00m \u001b[38;5;167;01mBaseException\u001b[39;00m \u001b[38;5;28;01mas\u001b[39;00m e:\n\u001b[1;32m    446\u001b[0m             \u001b[38;5;66;03m# Remove the TypeError from the exception chain in\u001b[39;00m\n\u001b[1;32m    447\u001b[0m             \u001b[38;5;66;03m# Python 3 (including for exceptions like SystemExit).\u001b[39;00m\n\u001b[1;32m    448\u001b[0m             \u001b[38;5;66;03m# Otherwise it looks like a bug in the code.\u001b[39;00m\n\u001b[0;32m--> 449\u001b[0m             \u001b[43msix\u001b[49m\u001b[38;5;241;43m.\u001b[39;49m\u001b[43mraise_from\u001b[49m\u001b[43m(\u001b[49m\u001b[43me\u001b[49m\u001b[43m,\u001b[49m\u001b[43m \u001b[49m\u001b[38;5;28;43;01mNone\u001b[39;49;00m\u001b[43m)\u001b[49m\n\u001b[1;32m    450\u001b[0m \u001b[38;5;28;01mexcept\u001b[39;00m (SocketTimeout, BaseSSLError, SocketError) \u001b[38;5;28;01mas\u001b[39;00m e:\n\u001b[1;32m    451\u001b[0m     \u001b[38;5;28mself\u001b[39m\u001b[38;5;241m.\u001b[39m_raise_timeout(err\u001b[38;5;241m=\u001b[39me, url\u001b[38;5;241m=\u001b[39murl, timeout_value\u001b[38;5;241m=\u001b[39mread_timeout)\n",
      "File \u001b[0;32m<string>:3\u001b[0m, in \u001b[0;36mraise_from\u001b[0;34m(value, from_value)\u001b[0m\n",
      "File \u001b[0;32m/opt/conda/lib/python3.10/site-packages/urllib3/connectionpool.py:444\u001b[0m, in \u001b[0;36mHTTPConnectionPool._make_request\u001b[0;34m(self, conn, method, url, timeout, chunked, **httplib_request_kw)\u001b[0m\n\u001b[1;32m    441\u001b[0m \u001b[38;5;28;01mexcept\u001b[39;00m \u001b[38;5;167;01mTypeError\u001b[39;00m:\n\u001b[1;32m    442\u001b[0m     \u001b[38;5;66;03m# Python 3\u001b[39;00m\n\u001b[1;32m    443\u001b[0m     \u001b[38;5;28;01mtry\u001b[39;00m:\n\u001b[0;32m--> 444\u001b[0m         httplib_response \u001b[38;5;241m=\u001b[39m \u001b[43mconn\u001b[49m\u001b[38;5;241;43m.\u001b[39;49m\u001b[43mgetresponse\u001b[49m\u001b[43m(\u001b[49m\u001b[43m)\u001b[49m\n\u001b[1;32m    445\u001b[0m     \u001b[38;5;28;01mexcept\u001b[39;00m \u001b[38;5;167;01mBaseException\u001b[39;00m \u001b[38;5;28;01mas\u001b[39;00m e:\n\u001b[1;32m    446\u001b[0m         \u001b[38;5;66;03m# Remove the TypeError from the exception chain in\u001b[39;00m\n\u001b[1;32m    447\u001b[0m         \u001b[38;5;66;03m# Python 3 (including for exceptions like SystemExit).\u001b[39;00m\n\u001b[1;32m    448\u001b[0m         \u001b[38;5;66;03m# Otherwise it looks like a bug in the code.\u001b[39;00m\n\u001b[1;32m    449\u001b[0m         six\u001b[38;5;241m.\u001b[39mraise_from(e, \u001b[38;5;28;01mNone\u001b[39;00m)\n",
      "File \u001b[0;32m/opt/conda/lib/python3.10/http/client.py:1375\u001b[0m, in \u001b[0;36mHTTPConnection.getresponse\u001b[0;34m(self)\u001b[0m\n\u001b[1;32m   1373\u001b[0m \u001b[38;5;28;01mtry\u001b[39;00m:\n\u001b[1;32m   1374\u001b[0m     \u001b[38;5;28;01mtry\u001b[39;00m:\n\u001b[0;32m-> 1375\u001b[0m         \u001b[43mresponse\u001b[49m\u001b[38;5;241;43m.\u001b[39;49m\u001b[43mbegin\u001b[49m\u001b[43m(\u001b[49m\u001b[43m)\u001b[49m\n\u001b[1;32m   1376\u001b[0m     \u001b[38;5;28;01mexcept\u001b[39;00m \u001b[38;5;167;01mConnectionError\u001b[39;00m:\n\u001b[1;32m   1377\u001b[0m         \u001b[38;5;28mself\u001b[39m\u001b[38;5;241m.\u001b[39mclose()\n",
      "File \u001b[0;32m/opt/conda/lib/python3.10/http/client.py:318\u001b[0m, in \u001b[0;36mHTTPResponse.begin\u001b[0;34m(self)\u001b[0m\n\u001b[1;32m    316\u001b[0m \u001b[38;5;66;03m# read until we get a non-100 response\u001b[39;00m\n\u001b[1;32m    317\u001b[0m \u001b[38;5;28;01mwhile\u001b[39;00m \u001b[38;5;28;01mTrue\u001b[39;00m:\n\u001b[0;32m--> 318\u001b[0m     version, status, reason \u001b[38;5;241m=\u001b[39m \u001b[38;5;28;43mself\u001b[39;49m\u001b[38;5;241;43m.\u001b[39;49m\u001b[43m_read_status\u001b[49m\u001b[43m(\u001b[49m\u001b[43m)\u001b[49m\n\u001b[1;32m    319\u001b[0m     \u001b[38;5;28;01mif\u001b[39;00m status \u001b[38;5;241m!=\u001b[39m CONTINUE:\n\u001b[1;32m    320\u001b[0m         \u001b[38;5;28;01mbreak\u001b[39;00m\n",
      "File \u001b[0;32m/opt/conda/lib/python3.10/http/client.py:279\u001b[0m, in \u001b[0;36mHTTPResponse._read_status\u001b[0;34m(self)\u001b[0m\n\u001b[1;32m    278\u001b[0m \u001b[38;5;28;01mdef\u001b[39;00m \u001b[38;5;21m_read_status\u001b[39m(\u001b[38;5;28mself\u001b[39m):\n\u001b[0;32m--> 279\u001b[0m     line \u001b[38;5;241m=\u001b[39m \u001b[38;5;28mstr\u001b[39m(\u001b[38;5;28;43mself\u001b[39;49m\u001b[38;5;241;43m.\u001b[39;49m\u001b[43mfp\u001b[49m\u001b[38;5;241;43m.\u001b[39;49m\u001b[43mreadline\u001b[49m\u001b[43m(\u001b[49m\u001b[43m_MAXLINE\u001b[49m\u001b[43m \u001b[49m\u001b[38;5;241;43m+\u001b[39;49m\u001b[43m \u001b[49m\u001b[38;5;241;43m1\u001b[39;49m\u001b[43m)\u001b[49m, \u001b[38;5;124m\"\u001b[39m\u001b[38;5;124miso-8859-1\u001b[39m\u001b[38;5;124m\"\u001b[39m)\n\u001b[1;32m    280\u001b[0m     \u001b[38;5;28;01mif\u001b[39;00m \u001b[38;5;28mlen\u001b[39m(line) \u001b[38;5;241m>\u001b[39m _MAXLINE:\n\u001b[1;32m    281\u001b[0m         \u001b[38;5;28;01mraise\u001b[39;00m LineTooLong(\u001b[38;5;124m\"\u001b[39m\u001b[38;5;124mstatus line\u001b[39m\u001b[38;5;124m\"\u001b[39m)\n",
      "File \u001b[0;32m/opt/conda/lib/python3.10/socket.py:705\u001b[0m, in \u001b[0;36mSocketIO.readinto\u001b[0;34m(self, b)\u001b[0m\n\u001b[1;32m    703\u001b[0m \u001b[38;5;28;01mwhile\u001b[39;00m \u001b[38;5;28;01mTrue\u001b[39;00m:\n\u001b[1;32m    704\u001b[0m     \u001b[38;5;28;01mtry\u001b[39;00m:\n\u001b[0;32m--> 705\u001b[0m         \u001b[38;5;28;01mreturn\u001b[39;00m \u001b[38;5;28;43mself\u001b[39;49m\u001b[38;5;241;43m.\u001b[39;49m\u001b[43m_sock\u001b[49m\u001b[38;5;241;43m.\u001b[39;49m\u001b[43mrecv_into\u001b[49m\u001b[43m(\u001b[49m\u001b[43mb\u001b[49m\u001b[43m)\u001b[49m\n\u001b[1;32m    706\u001b[0m     \u001b[38;5;28;01mexcept\u001b[39;00m timeout:\n\u001b[1;32m    707\u001b[0m         \u001b[38;5;28mself\u001b[39m\u001b[38;5;241m.\u001b[39m_timeout_occurred \u001b[38;5;241m=\u001b[39m \u001b[38;5;28;01mTrue\u001b[39;00m\n",
      "\u001b[0;31mKeyboardInterrupt\u001b[0m: "
     ]
    }
   ],
   "source": [
    "start_storage_kb(\n",
    "    \"http://example.org/storage\",\n",
    "    \"Storage\",\n",
    "    \"GraphDB smart connector\",\n",
    "    \"http://knowledge_engine:8280/rest/\",\n",
    ")"
   ]
  },
  {
   "cell_type": "code",
   "execution_count": null,
   "id": "f4cbf2a6-3a50-484c-9235-6a3d0aa185cb",
   "metadata": {},
   "outputs": [],
   "source": []
  }
 ],
 "metadata": {
  "kernelspec": {
   "display_name": "Python 3 (ipykernel)",
   "language": "python",
   "name": "python3"
  },
  "language_info": {
   "codemirror_mode": {
    "name": "ipython",
    "version": 3
   },
   "file_extension": ".py",
   "mimetype": "text/x-python",
   "name": "python",
   "nbconvert_exporter": "python",
   "pygments_lexer": "ipython3",
   "version": "3.10.11"
  }
 },
 "nbformat": 4,
 "nbformat_minor": 5
}
