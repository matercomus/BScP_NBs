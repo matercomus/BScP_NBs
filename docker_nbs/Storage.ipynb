{
 "cells": [
  {
   "cell_type": "code",
   "execution_count": 1,
   "id": "b3cee4f6-f8dd-451c-8183-a7a9970faea8",
   "metadata": {
    "tags": []
   },
   "outputs": [],
   "source": [
    "# Storage"
   ]
  },
  {
   "cell_type": "code",
   "execution_count": 2,
   "id": "189f592d-591e-4bc4-bff4-7d2cb22d4d67",
   "metadata": {
    "tags": []
   },
   "outputs": [],
   "source": [
    "import logging\n",
    "from utils import *\n",
    "import smartpynector as sp\n"
   ]
  },
  {
   "cell_type": "code",
   "execution_count": 3,
   "id": "0555451d-80cb-411b-8d5d-90e25b18e179",
   "metadata": {
    "tags": []
   },
   "outputs": [],
   "source": [
    "logging.basicConfig(level=logging.INFO)\n",
    "logger = logging.getLogger(__name__)\n"
   ]
  },
  {
   "cell_type": "code",
   "execution_count": 4,
   "id": "d078da21-a840-4d32-9fd5-027922c7fde6",
   "metadata": {},
   "outputs": [],
   "source": [
    "# Constants\n",
    "READ_URL = \"https://graphdb.odissei.nl/repositories/MateuszTest\"\n",
    "WRITE_URL = \"https://graphdb.odissei.nl/repositories/MateuszTest/statements\"\n",
    "\n",
    "PREFIXES={\n",
    "        \"rdf\": \"http://www.w3.org/1999/02/22-rdf-syntax-ns#\",\n",
    "        \"saref\": \"https://w3id.org/saref#\",\n",
    "    }\n",
    "\n",
    "GRAPH_PATTERN = \"\"\"?meas rdf:type saref:Measurement .\n",
    "                     ?meas saref:hasValue ?temp .\n",
    "                     ?meas saref:isMeasuredIn saref:TemperatureUnit .\n",
    "                     ?meas saref:hasTimestamp ?timestamp .\n",
    "                     ?meas saref:isMeasurementOf ?room_id .\n",
    "                     ?meas saref:relatesToProperty saref:Temperature .\n",
    "                     ?meas saref:measurementMadeBy ?device_id .\"\"\"\n"
   ]
  },
  {
   "cell_type": "code",
   "execution_count": 5,
   "id": "77579d5e-c09b-45ac-a737-f4617ae52838",
   "metadata": {
    "tags": []
   },
   "outputs": [],
   "source": [
    "measurements = []\n",
    "\n",
    "def handle_answer_measurements(query_bindings):\n",
    "    global measurements\n",
    "    print(query_bindings)\n",
    "    sp.store_data_in_graphdb(\n",
    "        graph_pattern=GRAPH_PATTERN,\n",
    "        binding_set=query_bindings,\n",
    "        prefixes=PREFIXES,\n",
    "        read_url=READ_URL,\n",
    "        write_url=WRITE_URL,\n",
    "    )\n",
    "    return match_bindings(query_bindings, measurements)\n",
    "\n",
    "\n",
    "def handle_react_measurements(bindings):\n",
    "    global measurements\n",
    "    measurements += bindings\n",
    "    print(bindings)\n",
    "\n",
    "    sp.store_data_in_graphdb(\n",
    "        graph_pattern=GRAPH_PATTERN,\n",
    "        binding_set=bindings,\n",
    "        prefixes=PREFIXES,\n",
    "        read_url=READ_URL,\n",
    "        write_url=WRITE_URL,\n",
    "    )\n",
    "    return []\n"
   ]
  },
  {
   "cell_type": "code",
   "execution_count": 6,
   "id": "37738bd3-7c29-40aa-8013-aedf5cb0fe44",
   "metadata": {
    "tags": []
   },
   "outputs": [],
   "source": [
    "def start_storage_kb(kb_id, kb_name, kb_description, ke_endpoint):\n",
    "    register_knowledge_base(kb_id, kb_name, kb_description, ke_endpoint)\n",
    "\n",
    "    answer_measurements_ki = register_answer_knowledge_interaction(\n",
    "        GRAPH_PATTERN,\n",
    "        \"answer-measurements\",\n",
    "        kb_id,\n",
    "        ke_endpoint,\n",
    "        PREFIXES,\n",
    "    )\n",
    "\n",
    "    react_measurements_ki = register_react_knowledge_interaction(\n",
    "        GRAPH_PATTERN,\n",
    "        None,\n",
    "        \"react-measurements\",\n",
    "        kb_id,\n",
    "        ke_endpoint,\n",
    "        PREFIXES,\n",
    "    )\n",
    "\n",
    "    start_handle_loop(\n",
    "        {\n",
    "            answer_measurements_ki: handle_answer_measurements,\n",
    "            react_measurements_ki: handle_react_measurements,\n",
    "        },\n",
    "        kb_id,\n",
    "        ke_endpoint,\n",
    "    )\n",
    "\n"
   ]
  },
  {
   "cell_type": "code",
   "execution_count": null,
   "id": "be696002-0ace-4f28-9693-643c374b2a7b",
   "metadata": {
    "tags": []
   },
   "outputs": [
    {
     "name": "stderr",
     "output_type": "stream",
     "text": [
      "INFO:utils:registered Storage\n",
      "INFO:utils:received issued knowledge interaction id: http://example.org/storage/interaction/answer-measurements\n",
      "INFO:utils:received issued knowledge interaction id: http://example.org/storage/interaction/react-measurements\n"
     ]
    },
    {
     "name": "stdout",
     "output_type": "stream",
     "text": [
      "[{'room_id': '\"http://0.0.0.0:8001/thermostat/rooms/1\"', 'temp': '77', 'device_id': '\"http://0.0.0.0:8001/thermostat/devices/1\"', 'meas': '<http://0.0.0.0:8001/thermostat/measurements/2c0a0138-d287-46bb-a898-8ae7d0f87450>', 'timestamp': '\"2023-06-18T19:49:38+00:00\"'}]\n",
      "[{'room_id': '\"http://0.0.0.0:8001/thermostat/rooms/1\"', 'temp': '81', 'device_id': '\"http://0.0.0.0:8001/thermostat/devices/1\"', 'meas': '<http://0.0.0.0:8001/thermostat/measurements/0fb1078b-3b70-46ce-99af-ddf634be5563>', 'timestamp': '\"2023-06-18T19:49:44+00:00\"'}]\n",
      "[{'room_id': '\"http://0.0.0.0:8001/thermostat/rooms/1\"', 'temp': '81', 'device_id': '\"http://0.0.0.0:8001/thermostat/devices/1\"', 'meas': '<http://0.0.0.0:8001/thermostat/measurements/15c44445-39ff-4a96-b2cf-5d0d24b1771e>', 'timestamp': '\"2023-06-18T19:49:50+00:00\"'}]\n",
      "[{'room_id': '\"http://0.0.0.0:8001/thermostat/rooms/1\"', 'temp': '80', 'device_id': '\"http://0.0.0.0:8001/thermostat/devices/1\"', 'meas': '<http://0.0.0.0:8001/thermostat/measurements/b495d30b-816c-45dd-9d2f-9ac2ff283bb6>', 'timestamp': '\"2023-06-18T19:49:56+00:00\"'}]\n",
      "[{'room_id': '\"http://0.0.0.0:8001/thermostat/rooms/1\"', 'temp': '82', 'device_id': '\"http://0.0.0.0:8001/thermostat/devices/1\"', 'meas': '<http://0.0.0.0:8001/thermostat/measurements/101da48d-d7d0-4e5f-83ef-6b644505c526>', 'timestamp': '\"2023-06-18T19:50:02+00:00\"'}]\n",
      "[{'room_id': '\"http://0.0.0.0:8001/thermostat/rooms/1\"', 'temp': '83', 'device_id': '\"http://0.0.0.0:8001/thermostat/devices/1\"', 'meas': '<http://0.0.0.0:8001/thermostat/measurements/5c735401-225e-4786-806a-b21de34fca74>', 'timestamp': '\"2023-06-18T19:50:08+00:00\"'}]\n",
      "[{'room_id': '\"http://0.0.0.0:8001/thermostat/rooms/1\"', 'temp': '81', 'device_id': '\"http://0.0.0.0:8001/thermostat/devices/1\"', 'meas': '<http://0.0.0.0:8001/thermostat/measurements/5b23d908-5c67-43ab-9948-209f7dbc4731>', 'timestamp': '\"2023-06-18T19:50:14+00:00\"'}]\n",
      "[{'room_id': '\"http://0.0.0.0:8001/thermostat/rooms/1\"', 'temp': '82', 'device_id': '\"http://0.0.0.0:8001/thermostat/devices/1\"', 'meas': '<http://0.0.0.0:8001/thermostat/measurements/735fce80-3b60-4872-ace3-f6026b03cc11>', 'timestamp': '\"2023-06-18T19:50:20+00:00\"'}]\n",
      "[{'room_id': '\"http://0.0.0.0:8001/thermostat/rooms/1\"', 'temp': '79', 'device_id': '\"http://0.0.0.0:8001/thermostat/devices/1\"', 'meas': '<http://0.0.0.0:8001/thermostat/measurements/ad4f96f3-88a5-44bc-ab3d-87ce68b30fd8>', 'timestamp': '\"2023-06-18T19:50:26+00:00\"'}]\n",
      "[{'room_id': '\"http://0.0.0.0:8001/thermostat/rooms/1\"', 'temp': '77', 'device_id': '\"http://0.0.0.0:8001/thermostat/devices/1\"', 'meas': '<http://0.0.0.0:8001/thermostat/measurements/cfac536a-a8a9-4c87-a1d2-63ba2180873a>', 'timestamp': '\"2023-06-18T19:50:32+00:00\"'}]\n",
      "[{'room_id': '\"http://0.0.0.0:8001/thermostat/rooms/1\"', 'temp': '78', 'device_id': '\"http://0.0.0.0:8001/thermostat/devices/1\"', 'meas': '<http://0.0.0.0:8001/thermostat/measurements/c8cb8f05-f462-453a-be4b-417348bcb2da>', 'timestamp': '\"2023-06-18T19:50:37+00:00\"'}]\n",
      "[{'room_id': '\"http://0.0.0.0:8001/thermostat/rooms/1\"', 'temp': '80', 'device_id': '\"http://0.0.0.0:8001/thermostat/devices/1\"', 'meas': '<http://0.0.0.0:8001/thermostat/measurements/d0b8bb37-d2b9-4495-9b75-5a11a46439bd>', 'timestamp': '\"2023-06-18T19:50:43+00:00\"'}]\n",
      "[{'room_id': '\"http://0.0.0.0:8001/thermostat/rooms/1\"', 'temp': '80', 'device_id': '\"http://0.0.0.0:8001/thermostat/devices/1\"', 'meas': '<http://0.0.0.0:8001/thermostat/measurements/d6e0e77c-f19a-4055-8976-298b7fed6c7c>', 'timestamp': '\"2023-06-18T19:50:49+00:00\"'}]\n",
      "[{'room_id': '\"http://0.0.0.0:8001/thermostat/rooms/1\"', 'temp': '78', 'device_id': '\"http://0.0.0.0:8001/thermostat/devices/1\"', 'meas': '<http://0.0.0.0:8001/thermostat/measurements/9b5228ce-7937-4445-9202-bdd49910340a>', 'timestamp': '\"2023-06-18T19:50:55+00:00\"'}]\n",
      "[{'room_id': '\"http://0.0.0.0:8001/thermostat/rooms/1\"', 'temp': '83', 'device_id': '\"http://0.0.0.0:8001/thermostat/devices/1\"', 'meas': '<http://0.0.0.0:8001/thermostat/measurements/b40ca6a3-37f9-4cf7-8b0b-3af532f38a4a>', 'timestamp': '\"2023-06-18T19:51:00+00:00\"'}]\n",
      "[{'room_id': '\"http://0.0.0.0:8001/thermostat/rooms/1\"', 'temp': '80', 'device_id': '\"http://0.0.0.0:8001/thermostat/devices/1\"', 'meas': '<http://0.0.0.0:8001/thermostat/measurements/7c69dc4d-1174-4fc9-b30f-db8f1e14f367>', 'timestamp': '\"2023-06-18T19:51:06+00:00\"'}]\n",
      "[{'room_id': '\"http://0.0.0.0:8001/thermostat/rooms/1\"', 'temp': '80', 'device_id': '\"http://0.0.0.0:8001/thermostat/devices/1\"', 'meas': '<http://0.0.0.0:8001/thermostat/measurements/1701973b-4013-4e02-9517-4528c3520913>', 'timestamp': '\"2023-06-18T19:51:12+00:00\"'}]\n",
      "[{'room_id': '\"http://0.0.0.0:8001/thermostat/rooms/1\"', 'temp': '83', 'device_id': '\"http://0.0.0.0:8001/thermostat/devices/1\"', 'meas': '<http://0.0.0.0:8001/thermostat/measurements/f0f11b17-fd5e-45fb-8afa-bd6e030a3df6>', 'timestamp': '\"2023-06-18T19:51:18+00:00\"'}]\n",
      "[{'room_id': '\"http://0.0.0.0:8001/thermostat/rooms/1\"', 'temp': '78', 'device_id': '\"http://0.0.0.0:8001/thermostat/devices/1\"', 'meas': '<http://0.0.0.0:8001/thermostat/measurements/70925952-2fbc-42d2-90a6-9ebae25d482c>', 'timestamp': '\"2023-06-18T19:51:24+00:00\"'}]\n",
      "[{'room_id': '\"http://0.0.0.0:8001/thermostat/rooms/1\"', 'temp': '81', 'device_id': '\"http://0.0.0.0:8001/thermostat/devices/1\"', 'meas': '<http://0.0.0.0:8001/thermostat/measurements/44717cf2-d14f-439f-9b04-f26156fa879f>', 'timestamp': '\"2023-06-18T19:51:31+00:00\"'}]\n",
      "[{'room_id': '\"http://0.0.0.0:8001/thermostat/rooms/1\"', 'temp': '83', 'device_id': '\"http://0.0.0.0:8001/thermostat/devices/1\"', 'meas': '<http://0.0.0.0:8001/thermostat/measurements/cc8c0642-fc20-4779-b749-adfd2e64c6fa>', 'timestamp': '\"2023-06-18T19:51:37+00:00\"'}]\n",
      "[{'room_id': '\"http://0.0.0.0:8001/thermostat/rooms/1\"', 'temp': '80', 'device_id': '\"http://0.0.0.0:8001/thermostat/devices/1\"', 'meas': '<http://0.0.0.0:8001/thermostat/measurements/898cd90e-a02e-43c3-b5ef-bcfe070648f5>', 'timestamp': '\"2023-06-18T19:51:42+00:00\"'}]\n",
      "[{'room_id': '\"http://0.0.0.0:8001/thermostat/rooms/1\"', 'temp': '82', 'device_id': '\"http://0.0.0.0:8001/thermostat/devices/1\"', 'meas': '<http://0.0.0.0:8001/thermostat/measurements/d5e75509-3884-46fc-aa2b-c70f9ec371fb>', 'timestamp': '\"2023-06-18T19:51:48+00:00\"'}]\n",
      "[{'room_id': '\"http://0.0.0.0:8001/thermostat/rooms/1\"', 'temp': '77', 'device_id': '\"http://0.0.0.0:8001/thermostat/devices/1\"', 'meas': '<http://0.0.0.0:8001/thermostat/measurements/e15785ed-f197-4519-bda7-eb26acdc13c5>', 'timestamp': '\"2023-06-18T19:51:54+00:00\"'}]\n",
      "[{'room_id': '\"http://0.0.0.0:8001/thermostat/rooms/1\"', 'temp': '78', 'device_id': '\"http://0.0.0.0:8001/thermostat/devices/1\"', 'meas': '<http://0.0.0.0:8001/thermostat/measurements/4527d15c-51f6-4712-9804-eec08a6d5b34>', 'timestamp': '\"2023-06-18T19:52:00+00:00\"'}]\n",
      "[{'room_id': '\"http://0.0.0.0:8001/thermostat/rooms/1\"', 'temp': '77', 'device_id': '\"http://0.0.0.0:8001/thermostat/devices/1\"', 'meas': '<http://0.0.0.0:8001/thermostat/measurements/e80ed8c7-e553-447d-a3e8-0984690b22b7>', 'timestamp': '\"2023-06-18T19:52:06+00:00\"'}]\n",
      "[{'room_id': '\"http://0.0.0.0:8001/thermostat/rooms/1\"', 'temp': '81', 'device_id': '\"http://0.0.0.0:8001/thermostat/devices/1\"', 'meas': '<http://0.0.0.0:8001/thermostat/measurements/5851c69e-635c-49fc-bbd8-3797df4480f1>', 'timestamp': '\"2023-06-18T19:52:12+00:00\"'}]\n"
     ]
    }
   ],
   "source": [
    "start_storage_kb(\n",
    "    \"http://example.org/storage\",\n",
    "    \"Storage\",\n",
    "    \"GraphDB smart connector\",\n",
    "    \"http://knowledge_engine:8280/rest/\",\n",
    ")"
   ]
  },
  {
   "cell_type": "code",
   "execution_count": null,
   "id": "f4cbf2a6-3a50-484c-9235-6a3d0aa185cb",
   "metadata": {},
   "outputs": [],
   "source": []
  }
 ],
 "metadata": {
  "kernelspec": {
   "display_name": "Python 3 (ipykernel)",
   "language": "python",
   "name": "python3"
  },
  "language_info": {
   "codemirror_mode": {
    "name": "ipython",
    "version": 3
   },
   "file_extension": ".py",
   "mimetype": "text/x-python",
   "name": "python",
   "nbconvert_exporter": "python",
   "pygments_lexer": "ipython3",
   "version": "3.10.11"
  }
 },
 "nbformat": 4,
 "nbformat_minor": 5
}
