{
 "cells": [
  {
   "cell_type": "code",
   "execution_count": 1,
   "metadata": {},
   "outputs": [
    {
     "name": "stdout",
     "output_type": "stream",
     "text": [
      "Requirement already satisfied: fastapi in /opt/conda/lib/python3.10/site-packages (0.97.0)\n",
      "Requirement already satisfied: uvicorn in /opt/conda/lib/python3.10/site-packages (0.22.0)\n",
      "Requirement already satisfied: pydantic in /opt/conda/lib/python3.10/site-packages (1.10.9)\n",
      "Requirement already satisfied: starlette<0.28.0,>=0.27.0 in /opt/conda/lib/python3.10/site-packages (from fastapi) (0.27.0)\n",
      "Requirement already satisfied: click>=7.0 in /opt/conda/lib/python3.10/site-packages (from uvicorn) (8.1.3)\n",
      "Requirement already satisfied: h11>=0.8 in /opt/conda/lib/python3.10/site-packages (from uvicorn) (0.14.0)\n",
      "Requirement already satisfied: typing-extensions>=4.2.0 in /opt/conda/lib/python3.10/site-packages (from pydantic) (4.5.0)\n",
      "Requirement already satisfied: anyio<5,>=3.4.0 in /opt/conda/lib/python3.10/site-packages (from starlette<0.28.0,>=0.27.0->fastapi) (3.6.2)\n",
      "Requirement already satisfied: idna>=2.8 in /opt/conda/lib/python3.10/site-packages (from anyio<5,>=3.4.0->starlette<0.28.0,>=0.27.0->fastapi) (3.4)\n",
      "Requirement already satisfied: sniffio>=1.1 in /opt/conda/lib/python3.10/site-packages (from anyio<5,>=3.4.0->starlette<0.28.0,>=0.27.0->fastapi) (1.3.0)\n"
     ]
    }
   ],
   "source": [
    "!pip install fastapi uvicorn pydantic"
   ]
  },
  {
   "cell_type": "code",
   "execution_count": 2,
   "metadata": {
    "ExecuteTime": {
     "end_time": "2023-05-12T14:17:46.010127487Z",
     "start_time": "2023-05-12T14:17:45.740407276Z"
    }
   },
   "outputs": [],
   "source": [
    "# Simple thermostat API using FastAPI\n",
    "# importing libraries\n",
    "import random\n",
    "\n",
    "import nest_asyncio\n",
    "import uvicorn\n",
    "from fastapi import Depends, FastAPI\n",
    "from pydantic import AnyUrl, BaseModel\n",
    "\n",
    "app = FastAPI()"
   ]
  },
  {
   "cell_type": "code",
   "execution_count": 3,
   "metadata": {
    "ExecuteTime": {
     "end_time": "2023-05-12T14:17:46.010996956Z",
     "start_time": "2023-05-12T14:17:45.964547923Z"
    },
    "collapsed": false,
    "jupyter": {
     "outputs_hidden": false
    }
   },
   "outputs": [],
   "source": [
    "class Thermostat(BaseModel):\n",
    "    name: str\n",
    "    desired_temperature: int = 0\n",
    "    actual_temperature: int = 0\n",
    "    humidity: int = 0\n",
    "    mode: str = \"heat\"\n",
    "    kb_id: AnyUrl"
   ]
  },
  {
   "cell_type": "code",
   "execution_count": 4,
   "metadata": {
    "ExecuteTime": {
     "end_time": "2023-05-12T14:17:46.011735698Z",
     "start_time": "2023-05-12T14:17:45.972799193Z"
    },
    "collapsed": false,
    "jupyter": {
     "outputs_hidden": false
    }
   },
   "outputs": [],
   "source": [
    "# Creating a thermostat object\n",
    "thermostat = Thermostat(\n",
    "    name=\"Thermostat\",\n",
    "    desired_temperature=20,\n",
    "    # actual_temperature=18,\n",
    "    humidity=50,\n",
    "    mode=\"heat\",\n",
    "    kb_id=\"http://0.0.0.0:8001/thermostat\",\n",
    ")"
   ]
  },
  {
   "cell_type": "code",
   "execution_count": 5,
   "metadata": {
    "ExecuteTime": {
     "end_time": "2023-05-12T14:17:46.102162247Z",
     "start_time": "2023-05-12T14:17:46.007956441Z"
    },
    "collapsed": false,
    "jupyter": {
     "outputs_hidden": false
    }
   },
   "outputs": [
    {
     "data": {
      "text/plain": [
       "{'name': 'Thermostat',\n",
       " 'desired_temperature': 20,\n",
       " 'actual_temperature': 0,\n",
       " 'humidity': 50,\n",
       " 'mode': 'heat',\n",
       " 'kb_id': AnyUrl('http://0.0.0.0:8001/thermostat', scheme='http', host='0.0.0.0', host_type='ipv4', port='8001', path='/thermostat')}"
      ]
     },
     "execution_count": 5,
     "metadata": {},
     "output_type": "execute_result"
    }
   ],
   "source": [
    "thermostat.dict()"
   ]
  },
  {
   "cell_type": "code",
   "execution_count": 6,
   "metadata": {
    "ExecuteTime": {
     "end_time": "2023-05-12T14:17:46.150356071Z",
     "start_time": "2023-05-12T14:17:46.022865099Z"
    },
    "collapsed": false,
    "jupyter": {
     "outputs_hidden": false
    }
   },
   "outputs": [],
   "source": [
    "# Defining the API endpoints\n",
    "@app.get(\"/\")\n",
    "async def root():\n",
    "    return {\"message\": \"Welcome to the thermostat API\"}\n",
    "\n",
    "\n",
    "@app.get(\"/thermostat\")\n",
    "async def get_thermostat() -> Thermostat:\n",
    "    thermostat.actual_temperature = thermostat.desired_temperature + random.randint(\n",
    "        -3, 3\n",
    "    )\n",
    "    return thermostat\n",
    "\n",
    "\n",
    "@app.get(\"/thermostat/name\")\n",
    "async def get_name():\n",
    "    return thermostat.name\n",
    "\n",
    "\n",
    "@app.get(\"/thermostat/actual_temperature\")\n",
    "async def get_actual_temperature() -> int:\n",
    "    return thermostat.desired_temperature + random.randint(-3, 3)\n",
    "\n",
    "\n",
    "@app.get(\"/thermostat/desired_temperature\")\n",
    "async def get_desired_temperature() -> int:\n",
    "    return thermostat.desired_temperature\n",
    "\n",
    "\n",
    "@app.get(\"/thermostat/humidity\")\n",
    "async def get_humidity():\n",
    "    return thermostat.humidity\n",
    "\n",
    "\n",
    "@app.get(\"/thermostat/mode\")\n",
    "async def get_mode():\n",
    "    return thermostat.mode\n",
    "\n",
    "\n",
    "@app.get(\"/thermostat/kb_id\")\n",
    "async def get_kb_id():\n",
    "    return thermostat.kb_id\n",
    "\n",
    "\n",
    "@app.put(\"/thermostat\")\n",
    "async def set_thermostat(commons: Thermostat = Depends()) -> Thermostat:\n",
    "    thermostat.actual_temperature = thermostat.desired_temperature + random.randint(\n",
    "        -3, 3\n",
    "    )\n",
    "    thermostat.__dict__.update(commons.__dict__)\n",
    "    return thermostat\n",
    "\n",
    "\n",
    "@app.put(\"/thermostat/desired_temperature\")\n",
    "async def set_desired_temperature(desired_temperature: int) -> int:\n",
    "    thermostat.desired_temperature = desired_temperature\n",
    "    return thermostat.desired_temperature\n",
    "\n",
    "\n",
    "@app.put(\"/thermostat/humidity\")\n",
    "async def set_humidity(humidity: int):\n",
    "    thermostat.humidity = humidity\n",
    "    return thermostat.humidity\n",
    "\n",
    "\n",
    "@app.put(\"/thermostat/mode\")\n",
    "async def set_mode(mode: str):\n",
    "    thermostat.mode = mode\n",
    "    return thermostat.mode\n",
    "\n",
    "\n",
    "@app.put(\"/thermostat/name\")\n",
    "async def set_name(name: str):\n",
    "    thermostat.name = name\n",
    "    return thermostat.name\n",
    "\n",
    "\n",
    "@app.put(\"/thermostat/kb_id\")\n",
    "async def set_kb_id(kb_id: str):\n",
    "    thermostat.kb_id = kb_id\n",
    "    return thermostat.kb_id"
   ]
  },
  {
   "cell_type": "code",
   "execution_count": null,
   "metadata": {
    "ExecuteTime": {
     "start_time": "2023-05-12T14:17:46.051990822Z"
    },
    "collapsed": false,
    "is_executing": true,
    "jupyter": {
     "outputs_hidden": false
    }
   },
   "outputs": [
    {
     "name": "stderr",
     "output_type": "stream",
     "text": [
      "INFO:     Started server process [2860]\n",
      "INFO:     Waiting for application startup.\n",
      "INFO:     Application startup complete.\n",
      "INFO:     Uvicorn running on http://0.0.0.0:8001 (Press CTRL+C to quit)\n"
     ]
    },
    {
     "name": "stdout",
     "output_type": "stream",
     "text": [
      "INFO:     127.0.0.1:48208 - \"GET /thermostat HTTP/1.1\" 200 OK\n",
      "INFO:     127.0.0.1:48214 - \"PUT /thermostat/desired_temperature?desired_temperature=8 HTTP/1.1\" 200 OK\n",
      "INFO:     127.0.0.1:48216 - \"GET /thermostat HTTP/1.1\" 200 OK\n",
      "INFO:     127.0.0.1:41514 - \"GET /thermostat HTTP/1.1\" 200 OK\n",
      "INFO:     127.0.0.1:51536 - \"GET /thermostat HTTP/1.1\" 200 OK\n",
      "INFO:     127.0.0.1:49854 - \"GET /thermostat/actual_temperature HTTP/1.1\" 200 OK\n",
      "INFO:     127.0.0.1:49858 - \"GET /thermostat/actual_temperature HTTP/1.1\" 200 OK\n",
      "INFO:     127.0.0.1:57030 - \"GET /thermostat/actual_temperature HTTP/1.1\" 200 OK\n",
      "INFO:     127.0.0.1:57036 - \"GET /thermostat/actual_temperature HTTP/1.1\" 200 OK\n",
      "INFO:     127.0.0.1:57050 - \"GET /thermostat/actual_temperature HTTP/1.1\" 200 OK\n",
      "INFO:     127.0.0.1:57054 - \"GET /thermostat/actual_temperature HTTP/1.1\" 200 OK\n",
      "INFO:     127.0.0.1:56120 - \"GET /thermostat/actual_temperature HTTP/1.1\" 200 OK\n",
      "INFO:     127.0.0.1:56128 - \"GET /thermostat/actual_temperature HTTP/1.1\" 200 OK\n",
      "INFO:     127.0.0.1:56132 - \"GET /thermostat/actual_temperature HTTP/1.1\" 200 OK\n",
      "INFO:     127.0.0.1:56148 - \"GET /thermostat/actual_temperature HTTP/1.1\" 200 OK\n",
      "INFO:     127.0.0.1:53884 - \"GET /thermostat/actual_temperature HTTP/1.1\" 200 OK\n",
      "INFO:     127.0.0.1:53900 - \"GET /thermostat/actual_temperature HTTP/1.1\" 200 OK\n",
      "INFO:     127.0.0.1:53908 - \"GET /thermostat/actual_temperature HTTP/1.1\" 200 OK\n",
      "INFO:     127.0.0.1:53914 - \"GET /thermostat/actual_temperature HTTP/1.1\" 200 OK\n",
      "INFO:     127.0.0.1:54076 - \"GET /thermostat/actual_temperature HTTP/1.1\" 200 OK\n",
      "INFO:     127.0.0.1:54084 - \"GET /thermostat/actual_temperature HTTP/1.1\" 200 OK\n",
      "INFO:     127.0.0.1:54098 - \"GET /thermostat/actual_temperature HTTP/1.1\" 200 OK\n",
      "INFO:     127.0.0.1:54112 - \"GET /thermostat/actual_temperature HTTP/1.1\" 200 OK\n",
      "INFO:     127.0.0.1:36302 - \"GET /thermostat/actual_temperature HTTP/1.1\" 200 OK\n",
      "INFO:     127.0.0.1:36316 - \"GET /thermostat/actual_temperature HTTP/1.1\" 200 OK\n",
      "INFO:     127.0.0.1:36324 - \"GET /thermostat/actual_temperature HTTP/1.1\" 200 OK\n",
      "INFO:     127.0.0.1:36340 - \"GET /thermostat/actual_temperature HTTP/1.1\" 200 OK\n",
      "INFO:     127.0.0.1:38986 - \"GET /thermostat/actual_temperature HTTP/1.1\" 200 OK\n",
      "INFO:     127.0.0.1:38990 - \"GET /thermostat/actual_temperature HTTP/1.1\" 200 OK\n",
      "INFO:     127.0.0.1:39002 - \"GET /thermostat/actual_temperature HTTP/1.1\" 200 OK\n",
      "INFO:     127.0.0.1:39006 - \"GET /thermostat/actual_temperature HTTP/1.1\" 200 OK\n",
      "INFO:     127.0.0.1:53994 - \"GET /thermostat/actual_temperature HTTP/1.1\" 200 OK\n",
      "INFO:     127.0.0.1:53998 - \"GET /thermostat/actual_temperature HTTP/1.1\" 200 OK\n",
      "INFO:     127.0.0.1:35244 - \"GET /thermostat/actual_temperature HTTP/1.1\" 200 OK\n",
      "INFO:     127.0.0.1:35260 - \"GET /thermostat/actual_temperature HTTP/1.1\" 200 OK\n",
      "INFO:     127.0.0.1:35272 - \"GET /thermostat/actual_temperature HTTP/1.1\" 200 OK\n",
      "INFO:     127.0.0.1:35282 - \"GET /thermostat/actual_temperature HTTP/1.1\" 200 OK\n",
      "INFO:     127.0.0.1:43598 - \"GET /thermostat/actual_temperature HTTP/1.1\" 200 OK\n",
      "INFO:     127.0.0.1:43602 - \"GET /thermostat/actual_temperature HTTP/1.1\" 200 OK\n",
      "INFO:     127.0.0.1:43618 - \"GET /thermostat/actual_temperature HTTP/1.1\" 200 OK\n",
      "INFO:     127.0.0.1:43630 - \"GET /thermostat/actual_temperature HTTP/1.1\" 200 OK\n",
      "INFO:     127.0.0.1:41430 - \"GET /thermostat/actual_temperature HTTP/1.1\" 200 OK\n",
      "INFO:     127.0.0.1:41436 - \"GET /thermostat/actual_temperature HTTP/1.1\" 200 OK\n",
      "INFO:     127.0.0.1:49978 - \"GET /thermostat/actual_temperature HTTP/1.1\" 200 OK\n",
      "INFO:     127.0.0.1:49992 - \"GET /thermostat/actual_temperature HTTP/1.1\" 200 OK\n",
      "INFO:     127.0.0.1:50008 - \"GET /thermostat/actual_temperature HTTP/1.1\" 200 OK\n",
      "INFO:     127.0.0.1:50014 - \"GET /thermostat/actual_temperature HTTP/1.1\" 200 OK\n",
      "INFO:     127.0.0.1:40982 - \"GET /thermostat/actual_temperature HTTP/1.1\" 200 OK\n",
      "INFO:     127.0.0.1:40990 - \"GET /thermostat/actual_temperature HTTP/1.1\" 200 OK\n",
      "INFO:     127.0.0.1:41002 - \"GET /thermostat/actual_temperature HTTP/1.1\" 200 OK\n",
      "INFO:     127.0.0.1:41018 - \"GET /thermostat/actual_temperature HTTP/1.1\" 200 OK\n",
      "INFO:     127.0.0.1:35620 - \"GET /thermostat/actual_temperature HTTP/1.1\" 200 OK\n",
      "INFO:     127.0.0.1:35630 - \"GET /thermostat/actual_temperature HTTP/1.1\" 200 OK\n",
      "INFO:     127.0.0.1:35632 - \"GET /thermostat/actual_temperature HTTP/1.1\" 200 OK\n",
      "INFO:     127.0.0.1:35636 - \"GET /thermostat/actual_temperature HTTP/1.1\" 200 OK\n",
      "INFO:     127.0.0.1:58890 - \"GET /thermostat/actual_temperature HTTP/1.1\" 200 OK\n",
      "INFO:     127.0.0.1:58902 - \"GET /thermostat/actual_temperature HTTP/1.1\" 200 OK\n",
      "INFO:     127.0.0.1:47452 - \"GET /thermostat/actual_temperature HTTP/1.1\" 200 OK\n",
      "INFO:     127.0.0.1:47466 - \"GET /thermostat/actual_temperature HTTP/1.1\" 200 OK\n",
      "INFO:     127.0.0.1:47478 - \"GET /thermostat/actual_temperature HTTP/1.1\" 200 OK\n",
      "INFO:     127.0.0.1:47486 - \"GET /thermostat/actual_temperature HTTP/1.1\" 200 OK\n",
      "INFO:     127.0.0.1:45366 - \"GET /thermostat/actual_temperature HTTP/1.1\" 200 OK\n",
      "INFO:     127.0.0.1:45382 - \"GET /thermostat/actual_temperature HTTP/1.1\" 200 OK\n",
      "INFO:     127.0.0.1:45398 - \"GET /thermostat/actual_temperature HTTP/1.1\" 200 OK\n",
      "INFO:     127.0.0.1:45408 - \"GET /thermostat/actual_temperature HTTP/1.1\" 200 OK\n",
      "INFO:     127.0.0.1:34202 - \"GET /thermostat/actual_temperature HTTP/1.1\" 200 OK\n",
      "INFO:     127.0.0.1:34206 - \"GET /thermostat/actual_temperature HTTP/1.1\" 200 OK\n",
      "INFO:     127.0.0.1:34576 - \"GET /thermostat/actual_temperature HTTP/1.1\" 200 OK\n",
      "INFO:     127.0.0.1:34588 - \"GET /thermostat/actual_temperature HTTP/1.1\" 200 OK\n",
      "INFO:     127.0.0.1:34598 - \"GET /thermostat/actual_temperature HTTP/1.1\" 200 OK\n",
      "INFO:     127.0.0.1:34604 - \"GET /thermostat/actual_temperature HTTP/1.1\" 200 OK\n",
      "INFO:     127.0.0.1:32906 - \"GET /thermostat/actual_temperature HTTP/1.1\" 200 OK\n",
      "INFO:     127.0.0.1:32910 - \"GET /thermostat/actual_temperature HTTP/1.1\" 200 OK\n",
      "INFO:     127.0.0.1:32914 - \"GET /thermostat/actual_temperature HTTP/1.1\" 200 OK\n",
      "INFO:     127.0.0.1:32930 - \"GET /thermostat/actual_temperature HTTP/1.1\" 200 OK\n",
      "INFO:     127.0.0.1:37510 - \"GET /thermostat/actual_temperature HTTP/1.1\" 200 OK\n",
      "INFO:     127.0.0.1:37518 - \"GET /thermostat/actual_temperature HTTP/1.1\" 200 OK\n",
      "INFO:     127.0.0.1:44522 - \"GET /thermostat/actual_temperature HTTP/1.1\" 200 OK\n",
      "INFO:     127.0.0.1:44538 - \"GET /thermostat/actual_temperature HTTP/1.1\" 200 OK\n",
      "INFO:     127.0.0.1:44544 - \"GET /thermostat/actual_temperature HTTP/1.1\" 200 OK\n",
      "INFO:     127.0.0.1:44556 - \"GET /thermostat/actual_temperature HTTP/1.1\" 200 OK\n",
      "INFO:     127.0.0.1:46606 - \"GET /thermostat/actual_temperature HTTP/1.1\" 200 OK\n",
      "INFO:     127.0.0.1:46616 - \"GET /thermostat/actual_temperature HTTP/1.1\" 200 OK\n",
      "INFO:     127.0.0.1:46626 - \"GET /thermostat/actual_temperature HTTP/1.1\" 200 OK\n",
      "INFO:     127.0.0.1:46636 - \"GET /thermostat/actual_temperature HTTP/1.1\" 200 OK\n",
      "INFO:     127.0.0.1:45288 - \"GET /thermostat/actual_temperature HTTP/1.1\" 200 OK\n",
      "INFO:     127.0.0.1:45292 - \"GET /thermostat/actual_temperature HTTP/1.1\" 200 OK\n",
      "INFO:     127.0.0.1:45302 - \"GET /thermostat/actual_temperature HTTP/1.1\" 200 OK\n",
      "INFO:     127.0.0.1:45308 - \"GET /thermostat/actual_temperature HTTP/1.1\" 200 OK\n",
      "INFO:     127.0.0.1:38852 - \"GET /thermostat/actual_temperature HTTP/1.1\" 200 OK\n",
      "INFO:     127.0.0.1:38862 - \"GET /thermostat/actual_temperature HTTP/1.1\" 200 OK\n",
      "INFO:     127.0.0.1:35304 - \"GET /thermostat/actual_temperature HTTP/1.1\" 200 OK\n",
      "INFO:     127.0.0.1:35312 - \"GET /thermostat/actual_temperature HTTP/1.1\" 200 OK\n",
      "INFO:     127.0.0.1:35328 - \"GET /thermostat/actual_temperature HTTP/1.1\" 200 OK\n",
      "INFO:     127.0.0.1:35338 - \"GET /thermostat/actual_temperature HTTP/1.1\" 200 OK\n",
      "INFO:     127.0.0.1:35598 - \"GET /thermostat/actual_temperature HTTP/1.1\" 200 OK\n",
      "INFO:     127.0.0.1:35606 - \"GET /thermostat/actual_temperature HTTP/1.1\" 200 OK\n",
      "INFO:     127.0.0.1:35620 - \"GET /thermostat/actual_temperature HTTP/1.1\" 200 OK\n",
      "INFO:     127.0.0.1:35626 - \"GET /thermostat/actual_temperature HTTP/1.1\" 200 OK\n",
      "INFO:     127.0.0.1:52168 - \"GET /thermostat/actual_temperature HTTP/1.1\" 200 OK\n",
      "INFO:     127.0.0.1:52184 - \"GET /thermostat/actual_temperature HTTP/1.1\" 200 OK\n",
      "INFO:     127.0.0.1:43308 - \"GET /thermostat/actual_temperature HTTP/1.1\" 200 OK\n",
      "INFO:     127.0.0.1:43316 - \"GET /thermostat/actual_temperature HTTP/1.1\" 200 OK\n",
      "INFO:     127.0.0.1:43318 - \"GET /thermostat/actual_temperature HTTP/1.1\" 200 OK\n",
      "INFO:     127.0.0.1:43320 - \"GET /thermostat/actual_temperature HTTP/1.1\" 200 OK\n",
      "INFO:     127.0.0.1:60810 - \"GET /thermostat/actual_temperature HTTP/1.1\" 200 OK\n",
      "INFO:     127.0.0.1:60822 - \"GET /thermostat/actual_temperature HTTP/1.1\" 200 OK\n",
      "INFO:     127.0.0.1:60830 - \"GET /thermostat/actual_temperature HTTP/1.1\" 200 OK\n",
      "INFO:     127.0.0.1:60842 - \"GET /thermostat/actual_temperature HTTP/1.1\" 200 OK\n",
      "INFO:     127.0.0.1:57554 - \"GET /thermostat/actual_temperature HTTP/1.1\" 200 OK\n",
      "INFO:     127.0.0.1:57556 - \"GET /thermostat/actual_temperature HTTP/1.1\" 200 OK\n",
      "INFO:     127.0.0.1:57566 - \"GET /thermostat/actual_temperature HTTP/1.1\" 200 OK\n",
      "INFO:     127.0.0.1:57582 - \"GET /thermostat/actual_temperature HTTP/1.1\" 200 OK\n",
      "INFO:     127.0.0.1:35054 - \"GET /thermostat/actual_temperature HTTP/1.1\" 200 OK\n",
      "INFO:     127.0.0.1:35062 - \"GET /thermostat/actual_temperature HTTP/1.1\" 200 OK\n",
      "INFO:     127.0.0.1:36304 - \"GET /thermostat/actual_temperature HTTP/1.1\" 200 OK\n",
      "INFO:     127.0.0.1:36310 - \"GET /thermostat/actual_temperature HTTP/1.1\" 200 OK\n",
      "INFO:     127.0.0.1:36322 - \"GET /thermostat/actual_temperature HTTP/1.1\" 200 OK\n",
      "INFO:     127.0.0.1:36332 - \"GET /thermostat/actual_temperature HTTP/1.1\" 200 OK\n",
      "INFO:     127.0.0.1:35946 - \"GET /thermostat/actual_temperature HTTP/1.1\" 200 OK\n",
      "INFO:     127.0.0.1:35950 - \"GET /thermostat/actual_temperature HTTP/1.1\" 200 OK\n",
      "INFO:     127.0.0.1:35964 - \"GET /thermostat/actual_temperature HTTP/1.1\" 200 OK\n",
      "INFO:     127.0.0.1:35980 - \"GET /thermostat/actual_temperature HTTP/1.1\" 200 OK\n",
      "INFO:     127.0.0.1:51058 - \"GET /thermostat/actual_temperature HTTP/1.1\" 200 OK\n",
      "INFO:     127.0.0.1:51072 - \"GET /thermostat/actual_temperature HTTP/1.1\" 200 OK\n",
      "INFO:     127.0.0.1:60702 - \"GET /thermostat/actual_temperature HTTP/1.1\" 200 OK\n",
      "INFO:     127.0.0.1:60708 - \"GET /thermostat/actual_temperature HTTP/1.1\" 200 OK\n",
      "INFO:     127.0.0.1:60724 - \"GET /thermostat/actual_temperature HTTP/1.1\" 200 OK\n",
      "INFO:     127.0.0.1:60736 - \"GET /thermostat/actual_temperature HTTP/1.1\" 200 OK\n"
     ]
    }
   ],
   "source": [
    "# Running the API\n",
    "if __name__ == \"__main__\":\n",
    "    nest_asyncio.apply()\n",
    "    uvicorn.run(app, host=\"0.0.0.0\", port=8001)\n",
    "    # uvicorn.run(app)"
   ]
  },
  {
   "cell_type": "code",
   "execution_count": null,
   "metadata": {
    "collapsed": false,
    "is_executing": true,
    "jupyter": {
     "outputs_hidden": false
    }
   },
   "outputs": [],
   "source": []
  },
  {
   "cell_type": "code",
   "execution_count": null,
   "metadata": {},
   "outputs": [],
   "source": []
  }
 ],
 "metadata": {
  "kernelspec": {
   "display_name": "Python 3 (ipykernel)",
   "language": "python",
   "name": "python3"
  },
  "language_info": {
   "codemirror_mode": {
    "name": "ipython",
    "version": 3
   },
   "file_extension": ".py",
   "mimetype": "text/x-python",
   "name": "python",
   "nbconvert_exporter": "python",
   "pygments_lexer": "ipython3",
   "version": "3.10.11"
  }
 },
 "nbformat": 4,
 "nbformat_minor": 4
}
