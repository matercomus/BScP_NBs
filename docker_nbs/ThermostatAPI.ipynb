{
 "cells": [
  {
   "cell_type": "code",
   "execution_count": 1,
   "metadata": {},
   "outputs": [
    {
     "name": "stdout",
     "output_type": "stream",
     "text": [
      "Requirement already satisfied: fastapi in /opt/conda/lib/python3.10/site-packages (0.97.0)\n",
      "Requirement already satisfied: uvicorn in /opt/conda/lib/python3.10/site-packages (0.22.0)\n",
      "Requirement already satisfied: pydantic in /opt/conda/lib/python3.10/site-packages (1.10.9)\n",
      "Requirement already satisfied: starlette<0.28.0,>=0.27.0 in /opt/conda/lib/python3.10/site-packages (from fastapi) (0.27.0)\n",
      "Requirement already satisfied: click>=7.0 in /opt/conda/lib/python3.10/site-packages (from uvicorn) (8.1.3)\n",
      "Requirement already satisfied: h11>=0.8 in /opt/conda/lib/python3.10/site-packages (from uvicorn) (0.14.0)\n",
      "Requirement already satisfied: typing-extensions>=4.2.0 in /opt/conda/lib/python3.10/site-packages (from pydantic) (4.5.0)\n",
      "Requirement already satisfied: anyio<5,>=3.4.0 in /opt/conda/lib/python3.10/site-packages (from starlette<0.28.0,>=0.27.0->fastapi) (3.6.2)\n",
      "Requirement already satisfied: idna>=2.8 in /opt/conda/lib/python3.10/site-packages (from anyio<5,>=3.4.0->starlette<0.28.0,>=0.27.0->fastapi) (3.4)\n",
      "Requirement already satisfied: sniffio>=1.1 in /opt/conda/lib/python3.10/site-packages (from anyio<5,>=3.4.0->starlette<0.28.0,>=0.27.0->fastapi) (1.3.0)\n"
     ]
    }
   ],
   "source": [
    "!pip install fastapi uvicorn pydantic"
   ]
  },
  {
   "cell_type": "code",
   "execution_count": 2,
   "metadata": {
    "ExecuteTime": {
     "end_time": "2023-05-12T14:17:46.010127487Z",
     "start_time": "2023-05-12T14:17:45.740407276Z"
    }
   },
   "outputs": [],
   "source": [
    "# Simple thermostat API using FastAPI\n",
    "# importing libraries\n",
    "import random\n",
    "\n",
    "import nest_asyncio\n",
    "import uvicorn\n",
    "from fastapi import Depends, FastAPI\n",
    "from pydantic import AnyUrl, BaseModel\n",
    "\n",
    "app = FastAPI()"
   ]
  },
  {
   "cell_type": "code",
   "execution_count": 3,
   "metadata": {
    "ExecuteTime": {
     "end_time": "2023-05-12T14:17:46.010996956Z",
     "start_time": "2023-05-12T14:17:45.964547923Z"
    },
    "collapsed": false,
    "jupyter": {
     "outputs_hidden": false
    }
   },
   "outputs": [],
   "source": [
    "class Thermostat(BaseModel):\n",
    "    name: str\n",
    "    desired_temperature: int = 0\n",
    "    actual_temperature: int = 0\n",
    "    humidity: int = 0\n",
    "    mode: str = \"heat\"\n",
    "    kb_id: AnyUrl"
   ]
  },
  {
   "cell_type": "code",
   "execution_count": 4,
   "metadata": {
    "ExecuteTime": {
     "end_time": "2023-05-12T14:17:46.011735698Z",
     "start_time": "2023-05-12T14:17:45.972799193Z"
    },
    "collapsed": false,
    "jupyter": {
     "outputs_hidden": false
    }
   },
   "outputs": [],
   "source": [
    "# Creating a thermostat object\n",
    "thermostat = Thermostat(\n",
    "    name=\"Thermostat\",\n",
    "    desired_temperature=20,\n",
    "    # actual_temperature=18,\n",
    "    humidity=50,\n",
    "    mode=\"heat\",\n",
    "    kb_id=\"http://0.0.0.0:8001/thermostat\",\n",
    ")"
   ]
  },
  {
   "cell_type": "code",
   "execution_count": 5,
   "metadata": {
    "ExecuteTime": {
     "end_time": "2023-05-12T14:17:46.102162247Z",
     "start_time": "2023-05-12T14:17:46.007956441Z"
    },
    "collapsed": false,
    "jupyter": {
     "outputs_hidden": false
    }
   },
   "outputs": [
    {
     "data": {
      "text/plain": [
       "{'name': 'Thermostat',\n",
       " 'desired_temperature': 20,\n",
       " 'actual_temperature': 0,\n",
       " 'humidity': 50,\n",
       " 'mode': 'heat',\n",
       " 'kb_id': AnyUrl('http://0.0.0.0:8001/thermostat', scheme='http', host='0.0.0.0', host_type='ipv4', port='8001', path='/thermostat')}"
      ]
     },
     "execution_count": 5,
     "metadata": {},
     "output_type": "execute_result"
    }
   ],
   "source": [
    "thermostat.dict()"
   ]
  },
  {
   "cell_type": "code",
   "execution_count": 6,
   "metadata": {
    "ExecuteTime": {
     "end_time": "2023-05-12T14:17:46.150356071Z",
     "start_time": "2023-05-12T14:17:46.022865099Z"
    },
    "collapsed": false,
    "jupyter": {
     "outputs_hidden": false
    }
   },
   "outputs": [],
   "source": [
    "# Defining the API endpoints\n",
    "@app.get(\"/\")\n",
    "async def root():\n",
    "    return {\"message\": \"Welcome to the thermostat API\"}\n",
    "\n",
    "\n",
    "@app.get(\"/thermostat\")\n",
    "async def get_thermostat() -> Thermostat:\n",
    "    thermostat.actual_temperature = thermostat.desired_temperature + random.randint(\n",
    "        -3, 3\n",
    "    )\n",
    "    return thermostat\n",
    "\n",
    "\n",
    "@app.get(\"/thermostat/name\")\n",
    "async def get_name():\n",
    "    return thermostat.name\n",
    "\n",
    "\n",
    "@app.get(\"/thermostat/actual_temperature\")\n",
    "async def get_actual_temperature() -> int:\n",
    "    return thermostat.desired_temperature + random.randint(-3, 3)\n",
    "\n",
    "\n",
    "@app.get(\"/thermostat/desired_temperature\")\n",
    "async def get_desired_temperature() -> int:\n",
    "    return thermostat.desired_temperature\n",
    "\n",
    "\n",
    "@app.get(\"/thermostat/humidity\")\n",
    "async def get_humidity():\n",
    "    return thermostat.humidity\n",
    "\n",
    "\n",
    "@app.get(\"/thermostat/mode\")\n",
    "async def get_mode():\n",
    "    return thermostat.mode\n",
    "\n",
    "\n",
    "@app.get(\"/thermostat/kb_id\")\n",
    "async def get_kb_id():\n",
    "    return thermostat.kb_id\n",
    "\n",
    "\n",
    "@app.put(\"/thermostat\")\n",
    "async def set_thermostat(commons: Thermostat = Depends()) -> Thermostat:\n",
    "    thermostat.actual_temperature = thermostat.desired_temperature + random.randint(\n",
    "        -3, 3\n",
    "    )\n",
    "    thermostat.__dict__.update(commons.__dict__)\n",
    "    return thermostat\n",
    "\n",
    "\n",
    "@app.put(\"/thermostat/desired_temperature\")\n",
    "async def set_desired_temperature(desired_temperature: int) -> int:\n",
    "    thermostat.desired_temperature = desired_temperature\n",
    "    return thermostat.desired_temperature\n",
    "\n",
    "\n",
    "@app.put(\"/thermostat/humidity\")\n",
    "async def set_humidity(humidity: int):\n",
    "    thermostat.humidity = humidity\n",
    "    return thermostat.humidity\n",
    "\n",
    "\n",
    "@app.put(\"/thermostat/mode\")\n",
    "async def set_mode(mode: str):\n",
    "    thermostat.mode = mode\n",
    "    return thermostat.mode\n",
    "\n",
    "\n",
    "@app.put(\"/thermostat/name\")\n",
    "async def set_name(name: str):\n",
    "    thermostat.name = name\n",
    "    return thermostat.name\n",
    "\n",
    "\n",
    "@app.put(\"/thermostat/kb_id\")\n",
    "async def set_kb_id(kb_id: str):\n",
    "    thermostat.kb_id = kb_id\n",
    "    return thermostat.kb_id"
   ]
  },
  {
   "cell_type": "code",
   "execution_count": 7,
   "metadata": {
    "ExecuteTime": {
     "start_time": "2023-05-12T14:17:46.051990822Z"
    },
    "collapsed": false,
    "is_executing": true,
    "jupyter": {
     "outputs_hidden": false
    }
   },
   "outputs": [
    {
     "name": "stderr",
     "output_type": "stream",
     "text": [
      "INFO:     Started server process [6688]\n",
      "INFO:     Waiting for application startup.\n",
      "INFO:     Application startup complete.\n",
      "INFO:     Uvicorn running on http://0.0.0.0:8001 (Press CTRL+C to quit)\n"
     ]
    },
    {
     "name": "stdout",
     "output_type": "stream",
     "text": [
      "INFO:     127.0.0.1:49792 - \"GET /thermostat/actual_temperature HTTP/1.1\" 200 OK\n",
      "INFO:     127.0.0.1:49796 - \"GET /thermostat/actual_temperature HTTP/1.1\" 200 OK\n",
      "INFO:     127.0.0.1:49808 - \"GET /thermostat/actual_temperature HTTP/1.1\" 200 OK\n",
      "INFO:     127.0.0.1:49822 - \"GET /thermostat/actual_temperature HTTP/1.1\" 200 OK\n",
      "INFO:     127.0.0.1:57436 - \"GET /thermostat/actual_temperature HTTP/1.1\" 200 OK\n",
      "INFO:     127.0.0.1:57444 - \"GET /thermostat/actual_temperature HTTP/1.1\" 200 OK\n",
      "INFO:     127.0.0.1:57452 - \"GET /thermostat/actual_temperature HTTP/1.1\" 200 OK\n",
      "INFO:     127.0.0.1:57462 - \"GET /thermostat/actual_temperature HTTP/1.1\" 200 OK\n",
      "INFO:     127.0.0.1:39192 - \"GET /thermostat/actual_temperature HTTP/1.1\" 200 OK\n",
      "INFO:     127.0.0.1:39200 - \"GET /thermostat/actual_temperature HTTP/1.1\" 200 OK\n",
      "INFO:     127.0.0.1:39216 - \"PUT /thermostat/desired_temperature?desired_temperature=10 HTTP/1.1\" 200 OK\n",
      "INFO:     127.0.0.1:39232 - \"GET /thermostat/actual_temperature HTTP/1.1\" 200 OK\n",
      "INFO:     127.0.0.1:39242 - \"GET /thermostat/actual_temperature HTTP/1.1\" 200 OK\n",
      "INFO:     127.0.0.1:46990 - \"GET /thermostat/actual_temperature HTTP/1.1\" 200 OK\n",
      "INFO:     127.0.0.1:47000 - \"GET /thermostat/actual_temperature HTTP/1.1\" 200 OK\n",
      "INFO:     127.0.0.1:47008 - \"GET /thermostat/actual_temperature HTTP/1.1\" 200 OK\n",
      "INFO:     127.0.0.1:47016 - \"GET /thermostat/actual_temperature HTTP/1.1\" 200 OK\n",
      "INFO:     127.0.0.1:38356 - \"GET /thermostat/actual_temperature HTTP/1.1\" 200 OK\n",
      "INFO:     127.0.0.1:38370 - \"GET /thermostat/actual_temperature HTTP/1.1\" 200 OK\n",
      "INFO:     127.0.0.1:43544 - \"GET /thermostat/actual_temperature HTTP/1.1\" 200 OK\n",
      "INFO:     127.0.0.1:43560 - \"GET /thermostat/actual_temperature HTTP/1.1\" 200 OK\n",
      "INFO:     127.0.0.1:43576 - \"GET /thermostat/actual_temperature HTTP/1.1\" 200 OK\n",
      "INFO:     127.0.0.1:43578 - \"GET /thermostat/actual_temperature HTTP/1.1\" 200 OK\n",
      "INFO:     127.0.0.1:47764 - \"GET /thermostat/actual_temperature HTTP/1.1\" 200 OK\n",
      "INFO:     127.0.0.1:47772 - \"GET /thermostat/actual_temperature HTTP/1.1\" 200 OK\n",
      "INFO:     127.0.0.1:58322 - \"GET /thermostat/actual_temperature HTTP/1.1\" 200 OK\n",
      "INFO:     127.0.0.1:58324 - \"GET /thermostat/actual_temperature HTTP/1.1\" 200 OK\n",
      "INFO:     127.0.0.1:58340 - \"GET /thermostat/actual_temperature HTTP/1.1\" 200 OK\n",
      "INFO:     127.0.0.1:58344 - \"GET /thermostat/actual_temperature HTTP/1.1\" 200 OK\n",
      "INFO:     127.0.0.1:54288 - \"GET /thermostat/actual_temperature HTTP/1.1\" 200 OK\n",
      "INFO:     127.0.0.1:54294 - \"GET /thermostat/actual_temperature HTTP/1.1\" 200 OK\n",
      "INFO:     127.0.0.1:54298 - \"GET /thermostat/actual_temperature HTTP/1.1\" 200 OK\n",
      "INFO:     127.0.0.1:54310 - \"GET /thermostat/actual_temperature HTTP/1.1\" 200 OK\n",
      "INFO:     127.0.0.1:45446 - \"GET /thermostat/actual_temperature HTTP/1.1\" 200 OK\n",
      "INFO:     127.0.0.1:45454 - \"GET /thermostat/actual_temperature HTTP/1.1\" 200 OK\n",
      "INFO:     127.0.0.1:53988 - \"GET /thermostat/actual_temperature HTTP/1.1\" 200 OK\n",
      "INFO:     127.0.0.1:53994 - \"GET /thermostat/actual_temperature HTTP/1.1\" 200 OK\n",
      "INFO:     127.0.0.1:54002 - \"GET /thermostat/actual_temperature HTTP/1.1\" 200 OK\n",
      "INFO:     127.0.0.1:54018 - \"GET /thermostat/actual_temperature HTTP/1.1\" 200 OK\n",
      "INFO:     127.0.0.1:37948 - \"GET /thermostat/actual_temperature HTTP/1.1\" 200 OK\n",
      "INFO:     127.0.0.1:37964 - \"GET /thermostat/actual_temperature HTTP/1.1\" 200 OK\n",
      "INFO:     127.0.0.1:49726 - \"GET /thermostat/actual_temperature HTTP/1.1\" 200 OK\n",
      "INFO:     127.0.0.1:49736 - \"GET /thermostat/actual_temperature HTTP/1.1\" 200 OK\n",
      "INFO:     127.0.0.1:49746 - \"GET /thermostat/actual_temperature HTTP/1.1\" 200 OK\n",
      "INFO:     127.0.0.1:49758 - \"GET /thermostat/actual_temperature HTTP/1.1\" 200 OK\n",
      "INFO:     127.0.0.1:49020 - \"GET /thermostat/actual_temperature HTTP/1.1\" 200 OK\n",
      "INFO:     127.0.0.1:49032 - \"GET /thermostat/actual_temperature HTTP/1.1\" 200 OK\n",
      "INFO:     127.0.0.1:49042 - \"GET /thermostat/actual_temperature HTTP/1.1\" 200 OK\n",
      "INFO:     127.0.0.1:49050 - \"GET /thermostat/actual_temperature HTTP/1.1\" 200 OK\n",
      "INFO:     127.0.0.1:60098 - \"GET /thermostat/actual_temperature HTTP/1.1\" 200 OK\n",
      "INFO:     127.0.0.1:60112 - \"GET /thermostat/actual_temperature HTTP/1.1\" 200 OK\n",
      "INFO:     127.0.0.1:32972 - \"GET /thermostat/actual_temperature HTTP/1.1\" 200 OK\n",
      "INFO:     127.0.0.1:32980 - \"GET /thermostat/actual_temperature HTTP/1.1\" 200 OK\n",
      "INFO:     127.0.0.1:32992 - \"GET /thermostat/actual_temperature HTTP/1.1\" 200 OK\n",
      "INFO:     127.0.0.1:33008 - \"GET /thermostat/actual_temperature HTTP/1.1\" 200 OK\n",
      "INFO:     127.0.0.1:43870 - \"GET /thermostat/actual_temperature HTTP/1.1\" 200 OK\n",
      "INFO:     127.0.0.1:43872 - \"GET /thermostat/actual_temperature HTTP/1.1\" 200 OK\n",
      "INFO:     127.0.0.1:43876 - \"GET /thermostat/actual_temperature HTTP/1.1\" 200 OK\n",
      "INFO:     127.0.0.1:43880 - \"GET /thermostat/actual_temperature HTTP/1.1\" 200 OK\n",
      "INFO:     127.0.0.1:45502 - \"GET /thermostat/actual_temperature HTTP/1.1\" 200 OK\n",
      "INFO:     127.0.0.1:45506 - \"GET /thermostat/actual_temperature HTTP/1.1\" 200 OK\n",
      "INFO:     127.0.0.1:52586 - \"GET /thermostat/actual_temperature HTTP/1.1\" 200 OK\n",
      "INFO:     127.0.0.1:52594 - \"GET /thermostat/actual_temperature HTTP/1.1\" 200 OK\n",
      "INFO:     127.0.0.1:52604 - \"GET /thermostat/actual_temperature HTTP/1.1\" 200 OK\n",
      "INFO:     127.0.0.1:52612 - \"GET /thermostat/actual_temperature HTTP/1.1\" 200 OK\n",
      "INFO:     127.0.0.1:57860 - \"GET /thermostat/actual_temperature HTTP/1.1\" 200 OK\n",
      "INFO:     127.0.0.1:57864 - \"GET /thermostat/actual_temperature HTTP/1.1\" 200 OK\n",
      "INFO:     127.0.0.1:57872 - \"GET /thermostat/actual_temperature HTTP/1.1\" 200 OK\n",
      "INFO:     127.0.0.1:57880 - \"GET /thermostat/actual_temperature HTTP/1.1\" 200 OK\n",
      "INFO:     127.0.0.1:49840 - \"GET /thermostat/actual_temperature HTTP/1.1\" 200 OK\n",
      "INFO:     127.0.0.1:49842 - \"GET /thermostat/actual_temperature HTTP/1.1\" 200 OK\n",
      "INFO:     127.0.0.1:50398 - \"GET /thermostat/actual_temperature HTTP/1.1\" 200 OK\n",
      "INFO:     127.0.0.1:50410 - \"GET /thermostat/actual_temperature HTTP/1.1\" 200 OK\n",
      "INFO:     127.0.0.1:50416 - \"GET /thermostat/actual_temperature HTTP/1.1\" 200 OK\n",
      "INFO:     127.0.0.1:50422 - \"GET /thermostat/actual_temperature HTTP/1.1\" 200 OK\n",
      "INFO:     127.0.0.1:58632 - \"GET /thermostat/actual_temperature HTTP/1.1\" 200 OK\n",
      "INFO:     127.0.0.1:58642 - \"GET /thermostat/actual_temperature HTTP/1.1\" 200 OK\n",
      "INFO:     127.0.0.1:49508 - \"GET /thermostat/actual_temperature HTTP/1.1\" 200 OK\n",
      "INFO:     127.0.0.1:49524 - \"GET /thermostat/actual_temperature HTTP/1.1\" 200 OK\n",
      "INFO:     127.0.0.1:49528 - \"GET /thermostat/actual_temperature HTTP/1.1\" 200 OK\n",
      "INFO:     127.0.0.1:49530 - \"GET /thermostat/actual_temperature HTTP/1.1\" 200 OK\n",
      "INFO:     127.0.0.1:36706 - \"GET /thermostat/actual_temperature HTTP/1.1\" 200 OK\n",
      "INFO:     127.0.0.1:36716 - \"GET /thermostat/actual_temperature HTTP/1.1\" 200 OK\n",
      "INFO:     127.0.0.1:36720 - \"GET /thermostat/actual_temperature HTTP/1.1\" 200 OK\n",
      "INFO:     127.0.0.1:36726 - \"GET /thermostat/actual_temperature HTTP/1.1\" 200 OK\n",
      "INFO:     127.0.0.1:51584 - \"GET /thermostat/actual_temperature HTTP/1.1\" 200 OK\n",
      "INFO:     127.0.0.1:51600 - \"GET /thermostat/actual_temperature HTTP/1.1\" 200 OK\n",
      "INFO:     127.0.0.1:54382 - \"GET /thermostat/actual_temperature HTTP/1.1\" 200 OK\n",
      "INFO:     127.0.0.1:54396 - \"GET /thermostat/actual_temperature HTTP/1.1\" 200 OK\n",
      "INFO:     127.0.0.1:54400 - \"GET /thermostat/actual_temperature HTTP/1.1\" 200 OK\n",
      "INFO:     127.0.0.1:54414 - \"GET /thermostat/actual_temperature HTTP/1.1\" 200 OK\n",
      "INFO:     127.0.0.1:52976 - \"GET /thermostat/actual_temperature HTTP/1.1\" 200 OK\n",
      "INFO:     127.0.0.1:52978 - \"GET /thermostat/actual_temperature HTTP/1.1\" 200 OK\n",
      "INFO:     127.0.0.1:52990 - \"GET /thermostat/actual_temperature HTTP/1.1\" 200 OK\n",
      "INFO:     127.0.0.1:52992 - \"GET /thermostat/actual_temperature HTTP/1.1\" 200 OK\n",
      "INFO:     127.0.0.1:34686 - \"GET /thermostat/actual_temperature HTTP/1.1\" 200 OK\n",
      "INFO:     127.0.0.1:34696 - \"GET /thermostat/actual_temperature HTTP/1.1\" 200 OK\n",
      "INFO:     127.0.0.1:58274 - \"GET /thermostat/actual_temperature HTTP/1.1\" 200 OK\n",
      "INFO:     127.0.0.1:58286 - \"GET /thermostat/actual_temperature HTTP/1.1\" 200 OK\n",
      "INFO:     127.0.0.1:58288 - \"GET /thermostat/actual_temperature HTTP/1.1\" 200 OK\n",
      "INFO:     127.0.0.1:58298 - \"GET /thermostat/actual_temperature HTTP/1.1\" 200 OK\n",
      "INFO:     127.0.0.1:38346 - \"GET /thermostat/actual_temperature HTTP/1.1\" 200 OK\n",
      "INFO:     127.0.0.1:38356 - \"GET /thermostat/actual_temperature HTTP/1.1\" 200 OK\n",
      "INFO:     127.0.0.1:38358 - \"GET /thermostat/actual_temperature HTTP/1.1\" 200 OK\n",
      "INFO:     127.0.0.1:38370 - \"GET /thermostat/actual_temperature HTTP/1.1\" 200 OK\n",
      "INFO:     127.0.0.1:35978 - \"GET /thermostat/actual_temperature HTTP/1.1\" 200 OK\n",
      "INFO:     127.0.0.1:35980 - \"GET /thermostat/actual_temperature HTTP/1.1\" 200 OK\n",
      "INFO:     127.0.0.1:58188 - \"GET /thermostat/actual_temperature HTTP/1.1\" 200 OK\n",
      "INFO:     127.0.0.1:58198 - \"GET /thermostat/actual_temperature HTTP/1.1\" 200 OK\n",
      "INFO:     127.0.0.1:58202 - \"GET /thermostat/actual_temperature HTTP/1.1\" 200 OK\n",
      "INFO:     127.0.0.1:58214 - \"GET /thermostat/actual_temperature HTTP/1.1\" 200 OK\n",
      "INFO:     127.0.0.1:50172 - \"GET /thermostat/actual_temperature HTTP/1.1\" 200 OK\n",
      "INFO:     127.0.0.1:50186 - \"GET /thermostat/actual_temperature HTTP/1.1\" 200 OK\n",
      "INFO:     127.0.0.1:35758 - \"GET /thermostat/actual_temperature HTTP/1.1\" 200 OK\n",
      "INFO:     127.0.0.1:35766 - \"GET /thermostat/actual_temperature HTTP/1.1\" 200 OK\n",
      "INFO:     127.0.0.1:35780 - \"PUT /thermostat/desired_temperature?desired_temperature=23 HTTP/1.1\" 200 OK\n",
      "INFO:     127.0.0.1:35788 - \"GET /thermostat/actual_temperature HTTP/1.1\" 200 OK\n",
      "INFO:     127.0.0.1:35796 - \"GET /thermostat/actual_temperature HTTP/1.1\" 200 OK\n",
      "INFO:     127.0.0.1:34836 - \"GET /thermostat/actual_temperature HTTP/1.1\" 200 OK\n",
      "INFO:     127.0.0.1:34852 - \"GET /thermostat/actual_temperature HTTP/1.1\" 200 OK\n",
      "INFO:     127.0.0.1:34868 - \"GET /thermostat/actual_temperature HTTP/1.1\" 200 OK\n",
      "INFO:     127.0.0.1:34884 - \"GET /thermostat/actual_temperature HTTP/1.1\" 200 OK\n",
      "INFO:     127.0.0.1:48096 - \"GET /thermostat/actual_temperature HTTP/1.1\" 200 OK\n",
      "INFO:     127.0.0.1:48108 - \"GET /thermostat/actual_temperature HTTP/1.1\" 200 OK\n",
      "INFO:     127.0.0.1:46400 - \"GET /thermostat/actual_temperature HTTP/1.1\" 200 OK\n",
      "INFO:     127.0.0.1:46414 - \"GET /thermostat/actual_temperature HTTP/1.1\" 200 OK\n",
      "INFO:     127.0.0.1:46420 - \"GET /thermostat/actual_temperature HTTP/1.1\" 200 OK\n",
      "INFO:     127.0.0.1:46428 - \"GET /thermostat/actual_temperature HTTP/1.1\" 200 OK\n",
      "INFO:     127.0.0.1:60396 - \"GET /thermostat/actual_temperature HTTP/1.1\" 200 OK\n",
      "INFO:     127.0.0.1:60412 - \"GET /thermostat/actual_temperature HTTP/1.1\" 200 OK\n",
      "INFO:     127.0.0.1:45882 - \"GET /thermostat/actual_temperature HTTP/1.1\" 200 OK\n",
      "INFO:     127.0.0.1:45886 - \"GET /thermostat/actual_temperature HTTP/1.1\" 200 OK\n",
      "INFO:     127.0.0.1:45900 - \"GET /thermostat/actual_temperature HTTP/1.1\" 200 OK\n",
      "INFO:     127.0.0.1:45912 - \"GET /thermostat/actual_temperature HTTP/1.1\" 200 OK\n",
      "INFO:     127.0.0.1:34882 - \"GET /thermostat/actual_temperature HTTP/1.1\" 200 OK\n",
      "INFO:     127.0.0.1:34884 - \"GET /thermostat/actual_temperature HTTP/1.1\" 200 OK\n",
      "INFO:     127.0.0.1:46996 - \"GET /thermostat/actual_temperature HTTP/1.1\" 200 OK\n",
      "INFO:     127.0.0.1:47010 - \"GET /thermostat/actual_temperature HTTP/1.1\" 200 OK\n",
      "INFO:     127.0.0.1:47018 - \"GET /thermostat/actual_temperature HTTP/1.1\" 200 OK\n",
      "INFO:     127.0.0.1:47030 - \"GET /thermostat/actual_temperature HTTP/1.1\" 200 OK\n",
      "INFO:     127.0.0.1:52828 - \"GET /thermostat/actual_temperature HTTP/1.1\" 200 OK\n",
      "INFO:     127.0.0.1:52830 - \"GET /thermostat/actual_temperature HTTP/1.1\" 200 OK\n",
      "INFO:     127.0.0.1:46300 - \"GET /thermostat/actual_temperature HTTP/1.1\" 200 OK\n",
      "INFO:     127.0.0.1:46314 - \"GET /thermostat/actual_temperature HTTP/1.1\" 200 OK\n",
      "INFO:     127.0.0.1:46318 - \"GET /thermostat/actual_temperature HTTP/1.1\" 200 OK\n",
      "INFO:     127.0.0.1:46332 - \"GET /thermostat/actual_temperature HTTP/1.1\" 200 OK\n",
      "INFO:     127.0.0.1:48786 - \"GET /thermostat/actual_temperature HTTP/1.1\" 200 OK\n",
      "INFO:     127.0.0.1:48802 - \"GET /thermostat/actual_temperature HTTP/1.1\" 200 OK\n",
      "INFO:     127.0.0.1:48804 - \"GET /thermostat/actual_temperature HTTP/1.1\" 200 OK\n",
      "INFO:     127.0.0.1:48814 - \"GET /thermostat/actual_temperature HTTP/1.1\" 200 OK\n",
      "INFO:     127.0.0.1:36314 - \"PUT /thermostat/desired_temperature?desired_temperature=28 HTTP/1.1\" 200 OK\n",
      "INFO:     127.0.0.1:36326 - \"GET /thermostat/actual_temperature HTTP/1.1\" 200 OK\n",
      "INFO:     127.0.0.1:36334 - \"GET /thermostat/actual_temperature HTTP/1.1\" 200 OK\n",
      "INFO:     127.0.0.1:49168 - \"GET /thermostat/actual_temperature HTTP/1.1\" 200 OK\n",
      "INFO:     127.0.0.1:49178 - \"GET /thermostat/actual_temperature HTTP/1.1\" 200 OK\n",
      "INFO:     127.0.0.1:49188 - \"PUT /thermostat/desired_temperature?desired_temperature=22 HTTP/1.1\" 200 OK\n",
      "INFO:     127.0.0.1:49194 - \"GET /thermostat/actual_temperature HTTP/1.1\" 200 OK\n",
      "INFO:     127.0.0.1:49198 - \"GET /thermostat/actual_temperature HTTP/1.1\" 200 OK\n",
      "INFO:     127.0.0.1:49202 - \"PUT /thermostat/desired_temperature?desired_temperature=22 HTTP/1.1\" 200 OK\n",
      "INFO:     127.0.0.1:41982 - \"PUT /thermostat/desired_temperature?desired_temperature=22 HTTP/1.1\" 200 OK\n",
      "INFO:     127.0.0.1:41988 - \"GET /thermostat/actual_temperature HTTP/1.1\" 200 OK\n",
      "INFO:     127.0.0.1:42004 - \"GET /thermostat/actual_temperature HTTP/1.1\" 200 OK\n",
      "INFO:     127.0.0.1:42012 - \"GET /thermostat/actual_temperature HTTP/1.1\" 200 OK\n",
      "INFO:     127.0.0.1:42026 - \"GET /thermostat/actual_temperature HTTP/1.1\" 200 OK\n",
      "INFO:     127.0.0.1:38022 - \"GET /thermostat/actual_temperature HTTP/1.1\" 200 OK\n",
      "INFO:     127.0.0.1:38030 - \"GET /thermostat/actual_temperature HTTP/1.1\" 200 OK\n",
      "INFO:     127.0.0.1:54876 - \"GET /thermostat/actual_temperature HTTP/1.1\" 200 OK\n",
      "INFO:     127.0.0.1:54884 - \"GET /thermostat/actual_temperature HTTP/1.1\" 200 OK\n",
      "INFO:     127.0.0.1:54892 - \"GET /thermostat/actual_temperature HTTP/1.1\" 200 OK\n",
      "INFO:     127.0.0.1:54908 - \"GET /thermostat/actual_temperature HTTP/1.1\" 200 OK\n",
      "INFO:     127.0.0.1:48588 - \"GET /thermostat/actual_temperature HTTP/1.1\" 200 OK\n",
      "INFO:     127.0.0.1:48594 - \"GET /thermostat/actual_temperature HTTP/1.1\" 200 OK\n",
      "INFO:     127.0.0.1:48602 - \"GET /thermostat/actual_temperature HTTP/1.1\" 200 OK\n",
      "INFO:     127.0.0.1:48610 - \"GET /thermostat/actual_temperature HTTP/1.1\" 200 OK\n",
      "INFO:     127.0.0.1:52788 - \"GET /thermostat/actual_temperature HTTP/1.1\" 200 OK\n",
      "INFO:     127.0.0.1:52794 - \"GET /thermostat/actual_temperature HTTP/1.1\" 200 OK\n",
      "INFO:     127.0.0.1:51832 - \"GET /thermostat/actual_temperature HTTP/1.1\" 200 OK\n",
      "INFO:     127.0.0.1:51846 - \"GET /thermostat/actual_temperature HTTP/1.1\" 200 OK\n",
      "INFO:     127.0.0.1:51860 - \"GET /thermostat/actual_temperature HTTP/1.1\" 200 OK\n",
      "INFO:     127.0.0.1:51874 - \"GET /thermostat/actual_temperature HTTP/1.1\" 200 OK\n",
      "INFO:     127.0.0.1:43644 - \"GET /thermostat/actual_temperature HTTP/1.1\" 200 OK\n",
      "INFO:     127.0.0.1:43658 - \"GET /thermostat/actual_temperature HTTP/1.1\" 200 OK\n",
      "INFO:     127.0.0.1:53666 - \"GET /thermostat/actual_temperature HTTP/1.1\" 200 OK\n",
      "INFO:     127.0.0.1:53678 - \"GET /thermostat/actual_temperature HTTP/1.1\" 200 OK\n",
      "INFO:     127.0.0.1:53680 - \"GET /thermostat/actual_temperature HTTP/1.1\" 200 OK\n",
      "INFO:     127.0.0.1:53688 - \"GET /thermostat/actual_temperature HTTP/1.1\" 200 OK\n",
      "INFO:     127.0.0.1:35664 - \"GET /thermostat/actual_temperature HTTP/1.1\" 200 OK\n",
      "INFO:     127.0.0.1:35672 - \"GET /thermostat/actual_temperature HTTP/1.1\" 200 OK\n",
      "INFO:     127.0.0.1:35682 - \"GET /thermostat/actual_temperature HTTP/1.1\" 200 OK\n",
      "INFO:     127.0.0.1:35690 - \"GET /thermostat/actual_temperature HTTP/1.1\" 200 OK\n",
      "INFO:     127.0.0.1:33696 - \"GET /thermostat/actual_temperature HTTP/1.1\" 200 OK\n",
      "INFO:     127.0.0.1:33712 - \"GET /thermostat/actual_temperature HTTP/1.1\" 200 OK\n",
      "INFO:     127.0.0.1:45680 - \"GET /thermostat/actual_temperature HTTP/1.1\" 200 OK\n",
      "INFO:     127.0.0.1:45682 - \"GET /thermostat/actual_temperature HTTP/1.1\" 200 OK\n",
      "INFO:     127.0.0.1:45698 - \"GET /thermostat/actual_temperature HTTP/1.1\" 200 OK\n",
      "INFO:     127.0.0.1:45710 - \"GET /thermostat/actual_temperature HTTP/1.1\" 200 OK\n",
      "INFO:     127.0.0.1:39080 - \"GET /thermostat/actual_temperature HTTP/1.1\" 200 OK\n",
      "INFO:     127.0.0.1:39096 - \"GET /thermostat/actual_temperature HTTP/1.1\" 200 OK\n",
      "INFO:     127.0.0.1:39106 - \"GET /thermostat/actual_temperature HTTP/1.1\" 200 OK\n",
      "INFO:     127.0.0.1:39116 - \"GET /thermostat/actual_temperature HTTP/1.1\" 200 OK\n",
      "INFO:     127.0.0.1:52596 - \"GET /thermostat/actual_temperature HTTP/1.1\" 200 OK\n",
      "INFO:     127.0.0.1:52608 - \"GET /thermostat/actual_temperature HTTP/1.1\" 200 OK\n",
      "INFO:     127.0.0.1:57384 - \"GET /thermostat/actual_temperature HTTP/1.1\" 200 OK\n",
      "INFO:     127.0.0.1:57398 - \"GET /thermostat/actual_temperature HTTP/1.1\" 200 OK\n",
      "INFO:     127.0.0.1:57400 - \"GET /thermostat/actual_temperature HTTP/1.1\" 200 OK\n",
      "INFO:     127.0.0.1:57406 - \"GET /thermostat/actual_temperature HTTP/1.1\" 200 OK\n"
     ]
    },
    {
     "ename": "RuntimeError",
     "evalue": "Event loop stopped before Future completed.",
     "output_type": "error",
     "traceback": [
      "\u001b[0;31m---------------------------------------------------------------------------\u001b[0m",
      "\u001b[0;31mRuntimeError\u001b[0m                              Traceback (most recent call last)",
      "Cell \u001b[0;32mIn[7], line 4\u001b[0m\n\u001b[1;32m      2\u001b[0m \u001b[38;5;28;01mif\u001b[39;00m \u001b[38;5;18m__name__\u001b[39m \u001b[38;5;241m==\u001b[39m \u001b[38;5;124m\"\u001b[39m\u001b[38;5;124m__main__\u001b[39m\u001b[38;5;124m\"\u001b[39m:\n\u001b[1;32m      3\u001b[0m     nest_asyncio\u001b[38;5;241m.\u001b[39mapply()\n\u001b[0;32m----> 4\u001b[0m     \u001b[43muvicorn\u001b[49m\u001b[38;5;241;43m.\u001b[39;49m\u001b[43mrun\u001b[49m\u001b[43m(\u001b[49m\u001b[43mapp\u001b[49m\u001b[43m,\u001b[49m\u001b[43m \u001b[49m\u001b[43mhost\u001b[49m\u001b[38;5;241;43m=\u001b[39;49m\u001b[38;5;124;43m\"\u001b[39;49m\u001b[38;5;124;43m0.0.0.0\u001b[39;49m\u001b[38;5;124;43m\"\u001b[39;49m\u001b[43m,\u001b[49m\u001b[43m \u001b[49m\u001b[43mport\u001b[49m\u001b[38;5;241;43m=\u001b[39;49m\u001b[38;5;241;43m8001\u001b[39;49m\u001b[43m)\u001b[49m\n\u001b[1;32m      5\u001b[0m     \u001b[38;5;66;03m# uvicorn.run(app)\u001b[39;00m\n",
      "File \u001b[0;32m/opt/conda/lib/python3.10/site-packages/uvicorn/main.py:578\u001b[0m, in \u001b[0;36mrun\u001b[0;34m(app, host, port, uds, fd, loop, http, ws, ws_max_size, ws_ping_interval, ws_ping_timeout, ws_per_message_deflate, lifespan, interface, reload, reload_dirs, reload_includes, reload_excludes, reload_delay, workers, env_file, log_config, log_level, access_log, proxy_headers, server_header, date_header, forwarded_allow_ips, root_path, limit_concurrency, backlog, limit_max_requests, timeout_keep_alive, timeout_graceful_shutdown, ssl_keyfile, ssl_certfile, ssl_keyfile_password, ssl_version, ssl_cert_reqs, ssl_ca_certs, ssl_ciphers, headers, use_colors, app_dir, factory, h11_max_incomplete_event_size)\u001b[0m\n\u001b[1;32m    576\u001b[0m     Multiprocess(config, target\u001b[38;5;241m=\u001b[39mserver\u001b[38;5;241m.\u001b[39mrun, sockets\u001b[38;5;241m=\u001b[39m[sock])\u001b[38;5;241m.\u001b[39mrun()\n\u001b[1;32m    577\u001b[0m \u001b[38;5;28;01melse\u001b[39;00m:\n\u001b[0;32m--> 578\u001b[0m     \u001b[43mserver\u001b[49m\u001b[38;5;241;43m.\u001b[39;49m\u001b[43mrun\u001b[49m\u001b[43m(\u001b[49m\u001b[43m)\u001b[49m\n\u001b[1;32m    579\u001b[0m \u001b[38;5;28;01mif\u001b[39;00m config\u001b[38;5;241m.\u001b[39muds \u001b[38;5;129;01mand\u001b[39;00m os\u001b[38;5;241m.\u001b[39mpath\u001b[38;5;241m.\u001b[39mexists(config\u001b[38;5;241m.\u001b[39muds):\n\u001b[1;32m    580\u001b[0m     os\u001b[38;5;241m.\u001b[39mremove(config\u001b[38;5;241m.\u001b[39muds)  \u001b[38;5;66;03m# pragma: py-win32\u001b[39;00m\n",
      "File \u001b[0;32m/opt/conda/lib/python3.10/site-packages/uvicorn/server.py:61\u001b[0m, in \u001b[0;36mServer.run\u001b[0;34m(self, sockets)\u001b[0m\n\u001b[1;32m     59\u001b[0m \u001b[38;5;28;01mdef\u001b[39;00m \u001b[38;5;21mrun\u001b[39m(\u001b[38;5;28mself\u001b[39m, sockets: Optional[List[socket\u001b[38;5;241m.\u001b[39msocket]] \u001b[38;5;241m=\u001b[39m \u001b[38;5;28;01mNone\u001b[39;00m) \u001b[38;5;241m-\u001b[39m\u001b[38;5;241m>\u001b[39m \u001b[38;5;28;01mNone\u001b[39;00m:\n\u001b[1;32m     60\u001b[0m     \u001b[38;5;28mself\u001b[39m\u001b[38;5;241m.\u001b[39mconfig\u001b[38;5;241m.\u001b[39msetup_event_loop()\n\u001b[0;32m---> 61\u001b[0m     \u001b[38;5;28;01mreturn\u001b[39;00m \u001b[43masyncio\u001b[49m\u001b[38;5;241;43m.\u001b[39;49m\u001b[43mrun\u001b[49m\u001b[43m(\u001b[49m\u001b[38;5;28;43mself\u001b[39;49m\u001b[38;5;241;43m.\u001b[39;49m\u001b[43mserve\u001b[49m\u001b[43m(\u001b[49m\u001b[43msockets\u001b[49m\u001b[38;5;241;43m=\u001b[39;49m\u001b[43msockets\u001b[49m\u001b[43m)\u001b[49m\u001b[43m)\u001b[49m\n",
      "File \u001b[0;32m/opt/conda/lib/python3.10/site-packages/nest_asyncio.py:35\u001b[0m, in \u001b[0;36m_patch_asyncio.<locals>.run\u001b[0;34m(main, debug)\u001b[0m\n\u001b[1;32m     33\u001b[0m task \u001b[38;5;241m=\u001b[39m asyncio\u001b[38;5;241m.\u001b[39mensure_future(main)\n\u001b[1;32m     34\u001b[0m \u001b[38;5;28;01mtry\u001b[39;00m:\n\u001b[0;32m---> 35\u001b[0m     \u001b[38;5;28;01mreturn\u001b[39;00m \u001b[43mloop\u001b[49m\u001b[38;5;241;43m.\u001b[39;49m\u001b[43mrun_until_complete\u001b[49m\u001b[43m(\u001b[49m\u001b[43mtask\u001b[49m\u001b[43m)\u001b[49m\n\u001b[1;32m     36\u001b[0m \u001b[38;5;28;01mfinally\u001b[39;00m:\n\u001b[1;32m     37\u001b[0m     \u001b[38;5;28;01mif\u001b[39;00m \u001b[38;5;129;01mnot\u001b[39;00m task\u001b[38;5;241m.\u001b[39mdone():\n",
      "File \u001b[0;32m/opt/conda/lib/python3.10/site-packages/nest_asyncio.py:88\u001b[0m, in \u001b[0;36m_patch_loop.<locals>.run_until_complete\u001b[0;34m(self, future)\u001b[0m\n\u001b[1;32m     86\u001b[0m         \u001b[38;5;28;01mbreak\u001b[39;00m\n\u001b[1;32m     87\u001b[0m \u001b[38;5;28;01mif\u001b[39;00m \u001b[38;5;129;01mnot\u001b[39;00m f\u001b[38;5;241m.\u001b[39mdone():\n\u001b[0;32m---> 88\u001b[0m     \u001b[38;5;28;01mraise\u001b[39;00m \u001b[38;5;167;01mRuntimeError\u001b[39;00m(\n\u001b[1;32m     89\u001b[0m         \u001b[38;5;124m'\u001b[39m\u001b[38;5;124mEvent loop stopped before Future completed.\u001b[39m\u001b[38;5;124m'\u001b[39m)\n\u001b[1;32m     90\u001b[0m \u001b[38;5;28;01mreturn\u001b[39;00m f\u001b[38;5;241m.\u001b[39mresult()\n",
      "\u001b[0;31mRuntimeError\u001b[0m: Event loop stopped before Future completed."
     ]
    }
   ],
   "source": [
    "# Running the API\n",
    "if __name__ == \"__main__\":\n",
    "    nest_asyncio.apply()\n",
    "    uvicorn.run(app, host=\"0.0.0.0\", port=8001)\n",
    "    # uvicorn.run(app)"
   ]
  },
  {
   "cell_type": "code",
   "execution_count": null,
   "metadata": {
    "collapsed": false,
    "is_executing": true,
    "jupyter": {
     "outputs_hidden": false
    }
   },
   "outputs": [],
   "source": []
  },
  {
   "cell_type": "code",
   "execution_count": null,
   "metadata": {},
   "outputs": [],
   "source": []
  }
 ],
 "metadata": {
  "kernelspec": {
   "display_name": "Python 3 (ipykernel)",
   "language": "python",
   "name": "python3"
  },
  "language_info": {
   "codemirror_mode": {
    "name": "ipython",
    "version": 3
   },
   "file_extension": ".py",
   "mimetype": "text/x-python",
   "name": "python",
   "nbconvert_exporter": "python",
   "pygments_lexer": "ipython3",
   "version": "3.10.11"
  }
 },
 "nbformat": 4,
 "nbformat_minor": 4
}
