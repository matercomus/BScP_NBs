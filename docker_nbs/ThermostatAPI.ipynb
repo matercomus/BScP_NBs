{
 "cells": [
  {
   "cell_type": "code",
   "execution_count": 1,
   "metadata": {},
   "outputs": [
    {
     "name": "stdout",
     "output_type": "stream",
     "text": [
      "Requirement already satisfied: fastapi in /opt/conda/lib/python3.10/site-packages (0.97.0)\n",
      "Requirement already satisfied: uvicorn in /opt/conda/lib/python3.10/site-packages (0.22.0)\n",
      "Requirement already satisfied: pydantic in /opt/conda/lib/python3.10/site-packages (1.10.9)\n",
      "Requirement already satisfied: starlette<0.28.0,>=0.27.0 in /opt/conda/lib/python3.10/site-packages (from fastapi) (0.27.0)\n",
      "Requirement already satisfied: click>=7.0 in /opt/conda/lib/python3.10/site-packages (from uvicorn) (8.1.3)\n",
      "Requirement already satisfied: h11>=0.8 in /opt/conda/lib/python3.10/site-packages (from uvicorn) (0.14.0)\n",
      "Requirement already satisfied: typing-extensions>=4.2.0 in /opt/conda/lib/python3.10/site-packages (from pydantic) (4.5.0)\n",
      "Requirement already satisfied: anyio<5,>=3.4.0 in /opt/conda/lib/python3.10/site-packages (from starlette<0.28.0,>=0.27.0->fastapi) (3.6.2)\n",
      "Requirement already satisfied: idna>=2.8 in /opt/conda/lib/python3.10/site-packages (from anyio<5,>=3.4.0->starlette<0.28.0,>=0.27.0->fastapi) (3.4)\n",
      "Requirement already satisfied: sniffio>=1.1 in /opt/conda/lib/python3.10/site-packages (from anyio<5,>=3.4.0->starlette<0.28.0,>=0.27.0->fastapi) (1.3.0)\n"
     ]
    }
   ],
   "source": [
    "!pip install fastapi uvicorn pydantic"
   ]
  },
  {
   "cell_type": "code",
   "execution_count": 2,
   "metadata": {
    "ExecuteTime": {
     "end_time": "2023-05-12T14:17:46.010127487Z",
     "start_time": "2023-05-12T14:17:45.740407276Z"
    }
   },
   "outputs": [],
   "source": [
    "# Simple thermostat API using FastAPI\n",
    "# importing libraries\n",
    "import random\n",
    "\n",
    "import nest_asyncio\n",
    "import uvicorn\n",
    "from fastapi import Depends, FastAPI\n",
    "from pydantic import AnyUrl, BaseModel\n",
    "\n",
    "app = FastAPI()"
   ]
  },
  {
   "cell_type": "code",
   "execution_count": 3,
   "metadata": {
    "ExecuteTime": {
     "end_time": "2023-05-12T14:17:46.010996956Z",
     "start_time": "2023-05-12T14:17:45.964547923Z"
    },
    "collapsed": false,
    "jupyter": {
     "outputs_hidden": false
    }
   },
   "outputs": [],
   "source": [
    "class Thermostat(BaseModel):\n",
    "    name: str\n",
    "    desired_temperature: int = 0\n",
    "    actual_temperature: int = 0\n",
    "    humidity: int = 0\n",
    "    mode: str = \"heat\"\n",
    "    kb_id: AnyUrl"
   ]
  },
  {
   "cell_type": "code",
   "execution_count": 4,
   "metadata": {
    "ExecuteTime": {
     "end_time": "2023-05-12T14:17:46.011735698Z",
     "start_time": "2023-05-12T14:17:45.972799193Z"
    },
    "collapsed": false,
    "jupyter": {
     "outputs_hidden": false
    }
   },
   "outputs": [],
   "source": [
    "# Creating a thermostat object\n",
    "thermostat = Thermostat(\n",
    "    name=\"Thermostat\",\n",
    "    desired_temperature=20,\n",
    "    # actual_temperature=18,\n",
    "    humidity=50,\n",
    "    mode=\"heat\",\n",
    "    kb_id=\"http://0.0.0.0:8001/thermostat\",\n",
    ")"
   ]
  },
  {
   "cell_type": "code",
   "execution_count": 5,
   "metadata": {
    "ExecuteTime": {
     "end_time": "2023-05-12T14:17:46.102162247Z",
     "start_time": "2023-05-12T14:17:46.007956441Z"
    },
    "collapsed": false,
    "jupyter": {
     "outputs_hidden": false
    }
   },
   "outputs": [
    {
     "data": {
      "text/plain": [
       "{'name': 'Thermostat',\n",
       " 'desired_temperature': 20,\n",
       " 'actual_temperature': 0,\n",
       " 'humidity': 50,\n",
       " 'mode': 'heat',\n",
       " 'kb_id': AnyUrl('http://0.0.0.0:8001/thermostat', scheme='http', host='0.0.0.0', host_type='ipv4', port='8001', path='/thermostat')}"
      ]
     },
     "execution_count": 5,
     "metadata": {},
     "output_type": "execute_result"
    }
   ],
   "source": [
    "thermostat.dict()"
   ]
  },
  {
   "cell_type": "code",
   "execution_count": 6,
   "metadata": {
    "ExecuteTime": {
     "end_time": "2023-05-12T14:17:46.150356071Z",
     "start_time": "2023-05-12T14:17:46.022865099Z"
    },
    "collapsed": false,
    "jupyter": {
     "outputs_hidden": false
    }
   },
   "outputs": [],
   "source": [
    "# Defining the API endpoints\n",
    "@app.get(\"/\")\n",
    "async def root():\n",
    "    return {\"message\": \"Welcome to the thermostat API\"}\n",
    "\n",
    "\n",
    "@app.get(\"/thermostat\")\n",
    "async def get_thermostat() -> Thermostat:\n",
    "    thermostat.actual_temperature = thermostat.desired_temperature + random.randint(\n",
    "        -3, 3\n",
    "    )\n",
    "    return thermostat\n",
    "\n",
    "\n",
    "@app.get(\"/thermostat/name\")\n",
    "async def get_name():\n",
    "    return thermostat.name\n",
    "\n",
    "\n",
    "@app.get(\"/thermostat/actual_temperature\")\n",
    "async def get_actual_temperature() -> int:\n",
    "    return thermostat.desired_temperature + random.randint(-3, 3)\n",
    "\n",
    "\n",
    "@app.get(\"/thermostat/desired_temperature\")\n",
    "async def get_desired_temperature() -> int:\n",
    "    return thermostat.desired_temperature\n",
    "\n",
    "\n",
    "@app.get(\"/thermostat/humidity\")\n",
    "async def get_humidity():\n",
    "    return thermostat.humidity\n",
    "\n",
    "\n",
    "@app.get(\"/thermostat/mode\")\n",
    "async def get_mode():\n",
    "    return thermostat.mode\n",
    "\n",
    "\n",
    "@app.get(\"/thermostat/kb_id\")\n",
    "async def get_kb_id():\n",
    "    return thermostat.kb_id\n",
    "\n",
    "\n",
    "@app.put(\"/thermostat\")\n",
    "async def set_thermostat(commons: Thermostat = Depends()) -> Thermostat:\n",
    "    thermostat.actual_temperature = thermostat.desired_temperature + random.randint(\n",
    "        -3, 3\n",
    "    )\n",
    "    thermostat.__dict__.update(commons.__dict__)\n",
    "    return thermostat\n",
    "\n",
    "\n",
    "@app.put(\"/thermostat/desired_temperature\")\n",
    "async def set_desired_temperature(desired_temperature: int) -> int:\n",
    "    thermostat.desired_temperature = desired_temperature\n",
    "    return thermostat.desired_temperature\n",
    "\n",
    "\n",
    "@app.put(\"/thermostat/humidity\")\n",
    "async def set_humidity(humidity: int):\n",
    "    thermostat.humidity = humidity\n",
    "    return thermostat.humidity\n",
    "\n",
    "\n",
    "@app.put(\"/thermostat/mode\")\n",
    "async def set_mode(mode: str):\n",
    "    thermostat.mode = mode\n",
    "    return thermostat.mode\n",
    "\n",
    "\n",
    "@app.put(\"/thermostat/name\")\n",
    "async def set_name(name: str):\n",
    "    thermostat.name = name\n",
    "    return thermostat.name\n",
    "\n",
    "\n",
    "@app.put(\"/thermostat/kb_id\")\n",
    "async def set_kb_id(kb_id: str):\n",
    "    thermostat.kb_id = kb_id\n",
    "    return thermostat.kb_id"
   ]
  },
  {
   "cell_type": "code",
   "execution_count": null,
   "metadata": {
    "ExecuteTime": {
     "start_time": "2023-05-12T14:17:46.051990822Z"
    },
    "collapsed": false,
    "is_executing": true,
    "jupyter": {
     "outputs_hidden": false
    }
   },
   "outputs": [
    {
     "name": "stderr",
     "output_type": "stream",
     "text": [
      "INFO:     Started server process [14802]\n",
      "INFO:     Waiting for application startup.\n",
      "INFO:     Application startup complete.\n",
      "INFO:     Uvicorn running on http://0.0.0.0:8001 (Press CTRL+C to quit)\n"
     ]
    },
    {
     "name": "stdout",
     "output_type": "stream",
     "text": [
      "INFO:     127.0.0.1:49886 - \"GET /thermostat/actual_temperature HTTP/1.1\" 200 OK\n"
     ]
    }
   ],
   "source": [
    "# Running the API\n",
    "if __name__ == \"__main__\":\n",
    "    nest_asyncio.apply()\n",
    "    uvicorn.run(app, host=\"0.0.0.0\", port=8001)\n",
    "    # uvicorn.run(app)"
   ]
  },
  {
   "cell_type": "code",
   "execution_count": null,
   "metadata": {
    "collapsed": false,
    "is_executing": true,
    "jupyter": {
     "outputs_hidden": false
    }
   },
   "outputs": [],
   "source": []
  },
  {
   "cell_type": "code",
   "execution_count": null,
   "metadata": {},
   "outputs": [],
   "source": []
  }
 ],
 "metadata": {
  "kernelspec": {
   "display_name": "Python 3 (ipykernel)",
   "language": "python",
   "name": "python3"
  },
  "language_info": {
   "codemirror_mode": {
    "name": "ipython",
    "version": 3
   },
   "file_extension": ".py",
   "mimetype": "text/x-python",
   "name": "python",
   "nbconvert_exporter": "python",
   "pygments_lexer": "ipython3",
   "version": "3.10.11"
  }
 },
 "nbformat": 4,
 "nbformat_minor": 4
}
