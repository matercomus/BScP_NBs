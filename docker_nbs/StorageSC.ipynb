{
 "cells": [
  {
   "cell_type": "code",
   "execution_count": 1,
   "id": "b3cee4f6-f8dd-451c-8183-a7a9970faea8",
   "metadata": {
    "tags": []
   },
   "outputs": [],
   "source": [
    "# Storage SC"
   ]
  },
  {
   "cell_type": "code",
   "execution_count": 2,
   "id": "189f592d-591e-4bc4-bff4-7d2cb22d4d67",
   "metadata": {
    "tags": []
   },
   "outputs": [],
   "source": [
    "import logging\n",
    "\n",
    "import smartpynector as sp\n",
    "from utils import *"
   ]
  },
  {
   "cell_type": "code",
   "execution_count": 3,
   "id": "0555451d-80cb-411b-8d5d-90e25b18e179",
   "metadata": {
    "tags": []
   },
   "outputs": [],
   "source": [
    "logging.basicConfig(level=logging.INFO)\n",
    "logger = logging.getLogger(__name__)"
   ]
  },
  {
   "cell_type": "code",
   "execution_count": 4,
   "id": "d078da21-a840-4d32-9fd5-027922c7fde6",
   "metadata": {},
   "outputs": [],
   "source": [
    "# Constants\n",
    "READ_URL = \"https://graphdb.odissei.nl/repositories/MateuszTest\"\n",
    "WRITE_URL = \"https://graphdb.odissei.nl/repositories/MateuszTest/statements\"\n",
    "\n",
    "THERMOSTAT_API_URL = \"http://0.0.0.0:8001/thermostat\"\n",
    "PREFIXES = {\n",
    "    \"rdf\": \"http://www.w3.org/1999/02/22-rdf-syntax-ns#\",\n",
    "    \"saref\": \"https://w3id.org/saref#\",\n",
    "}\n",
    "\n",
    "MEAS_GRAPH_PATTERN = \"\"\"?meas rdf:type saref:Measurement .\n",
    "                     ?meas saref:hasValue ?temp .\n",
    "                     ?meas saref:isMeasuredIn saref:TemperatureUnit .\n",
    "                     ?meas saref:hasTimestamp ?timestamp .\n",
    "                     ?meas saref:isMeasurementOf ?room_id .\n",
    "                     ?meas saref:relatesToProperty saref:Temperature .\n",
    "                     ?meas saref:measurementMadeBy ?device_id .\"\"\"\n",
    "\n",
    "COMMAND_GRAPH_PATTERN = \"\"\"?command rdf:type saref:GetMeterHistoryCommand .\n",
    "                        ?command saref:isCommandOf ?device_id .\n",
    "                        ?command saref:hasTimestampStart ?startTimestamp .\n",
    "                        ?command saref:hasTimestampEnd ?endTimestamp .\n",
    "                        ?command saref:relatesToProperty saref:Temperature .\"\"\""
   ]
  },
  {
   "cell_type": "code",
   "execution_count": 5,
   "id": "77579d5e-c09b-45ac-a737-f4617ae52838",
   "metadata": {
    "tags": []
   },
   "outputs": [],
   "source": [
    "# Return last 100 measurements from GraphDB\n",
    "def handle_answer_measurements(query_bindings):\n",
    "    for binding in query_bindings:\n",
    "        logger.info(f\"Answer query bindings: {binding}\")\n",
    "        start_timestamp = binding[\"startTimestamp\"]\n",
    "        end_timestamp = binding[\"endTimestamp\"]\n",
    "        sparql_query = f\"\"\"PREFIX rdf: <http://www.w3.org/1999/02/22-rdf-syntax-ns#>\n",
    "                            PREFIX saref: <https://w3id.org/saref#>\n",
    "\n",
    "                            SELECT *\n",
    "                            WHERE {{\n",
    "                                ?meas rdf:type saref:Measurement .\n",
    "                                ?meas saref:hasValue ?temp .\n",
    "                                ?meas saref:isMeasuredIn saref:TemperatureUnit .\n",
    "                                ?meas saref:hasTimestamp ?timestamp .\n",
    "                                FILTER (?timestamp >= \"{start_timestamp}\"^^xsd:date && ?timestamp <= \"{end_timestamp}\"^^xsd:date)\n",
    "                                ?meas saref:isMeasurementOf ?room_id .\n",
    "                                ?meas saref:relatesToProperty saref:Temperature .\n",
    "                                ?meas saref:measurementMadeBy ?device_id .\n",
    "                            }}\n",
    "                            \"\"\"\n",
    "        res = sp.run_sparql_query(READ_URL, sparql_query)\n",
    "        logger.info(res)\n",
    "\n",
    "    return [res]\n",
    "\n",
    "\n",
    "def handle_react_measurements(bindings):\n",
    "    logger.info(f\"Handling react binding: {bindings}\")\n",
    "    sp.store_data_in_graphdb(\n",
    "        graph_pattern=MEAS_GRAPH_PATTERN,\n",
    "        binding_set=bindings,\n",
    "        prefixes=PREFIXES,\n",
    "        read_url=READ_URL,\n",
    "        write_url=WRITE_URL,\n",
    "    )\n",
    "    return []"
   ]
  },
  {
   "cell_type": "code",
   "execution_count": 6,
   "id": "37738bd3-7c29-40aa-8013-aedf5cb0fe44",
   "metadata": {
    "tags": []
   },
   "outputs": [],
   "source": [
    "def start_storage_kb(kb_id, kb_name, kb_description, ke_endpoint):\n",
    "    register_knowledge_base(kb_id, kb_name, kb_description, ke_endpoint)\n",
    "\n",
    "    answer_measurements_ki = register_answer_knowledge_interaction(\n",
    "        COMMAND_GRAPH_PATTERN,\n",
    "        \"answer-measurements\",\n",
    "        kb_id,\n",
    "        ke_endpoint,\n",
    "        PREFIXES,\n",
    "    )\n",
    "\n",
    "    react_measurements_ki = register_react_knowledge_interaction(\n",
    "        MEAS_GRAPH_PATTERN,\n",
    "        None,\n",
    "        \"react-measurements\",\n",
    "        kb_id,\n",
    "        ke_endpoint,\n",
    "        PREFIXES,\n",
    "    )\n",
    "\n",
    "    start_handle_loop(\n",
    "        {\n",
    "            answer_measurements_ki: handle_answer_measurements,\n",
    "            react_measurements_ki: handle_react_measurements,\n",
    "        },\n",
    "        kb_id,\n",
    "        ke_endpoint,\n",
    "    )"
   ]
  },
  {
   "cell_type": "code",
   "execution_count": 7,
   "id": "be696002-0ace-4f28-9693-643c374b2a7b",
   "metadata": {
    "tags": []
   },
   "outputs": [
    {
     "name": "stderr",
     "output_type": "stream",
     "text": [
      "2023-06-20 01:27:34 INFO registered Storage\n",
      "2023-06-20 01:27:34 INFO received issued knowledge interaction id: http://example.org/storage/interaction/answer-measurements\n",
      "2023-06-20 01:27:34 INFO received issued knowledge interaction id: http://example.org/storage/interaction/react-measurements\n",
      "2023-06-20 01:28:28 INFO Answer query bindings: {'device_id': '\"http://0.0.0.0:8001/thermostat/devices/1\"', 'endTimestamp': '2023-06-20 01:33:00+00:00', 'startTimestamp': '2023-06-19 09:01:00+00:00', 'command': '<http://0.0.0.0:8001/thermostat/command/92851539-5b1b-4548-9bb0-57d4330d8dba>'}\n",
      "2023-06-20 01:28:28 INFO {'head': {'vars': ['meas', 'temp', 'timestamp', 'room_id', 'device_id']}, 'results': {'bindings': []}}\n"
     ]
    },
    {
     "ename": "AssertionError",
     "evalue": "",
     "output_type": "error",
     "traceback": [
      "\u001b[0;31m---------------------------------------------------------------------------\u001b[0m",
      "\u001b[0;31mAssertionError\u001b[0m                            Traceback (most recent call last)",
      "Cell \u001b[0;32mIn[7], line 1\u001b[0m\n\u001b[0;32m----> 1\u001b[0m \u001b[43mstart_storage_kb\u001b[49m\u001b[43m(\u001b[49m\n\u001b[1;32m      2\u001b[0m \u001b[43m    \u001b[49m\u001b[38;5;124;43m\"\u001b[39;49m\u001b[38;5;124;43mhttp://example.org/storage\u001b[39;49m\u001b[38;5;124;43m\"\u001b[39;49m\u001b[43m,\u001b[49m\n\u001b[1;32m      3\u001b[0m \u001b[43m    \u001b[49m\u001b[38;5;124;43m\"\u001b[39;49m\u001b[38;5;124;43mStorage\u001b[39;49m\u001b[38;5;124;43m\"\u001b[39;49m\u001b[43m,\u001b[49m\n\u001b[1;32m      4\u001b[0m \u001b[43m    \u001b[49m\u001b[38;5;124;43m\"\u001b[39;49m\u001b[38;5;124;43mGraphDB smart connector\u001b[39;49m\u001b[38;5;124;43m\"\u001b[39;49m\u001b[43m,\u001b[49m\n\u001b[1;32m      5\u001b[0m \u001b[43m    \u001b[49m\u001b[38;5;124;43m\"\u001b[39;49m\u001b[38;5;124;43mhttp://knowledge_engine:8280/rest/\u001b[39;49m\u001b[38;5;124;43m\"\u001b[39;49m\u001b[43m,\u001b[49m\n\u001b[1;32m      6\u001b[0m \u001b[43m)\u001b[49m\n",
      "Cell \u001b[0;32mIn[6], line 21\u001b[0m, in \u001b[0;36mstart_storage_kb\u001b[0;34m(kb_id, kb_name, kb_description, ke_endpoint)\u001b[0m\n\u001b[1;32m      4\u001b[0m answer_measurements_ki \u001b[38;5;241m=\u001b[39m register_answer_knowledge_interaction(\n\u001b[1;32m      5\u001b[0m     COMMAND_GRAPH_PATTERN,\n\u001b[1;32m      6\u001b[0m     \u001b[38;5;124m\"\u001b[39m\u001b[38;5;124manswer-measurements\u001b[39m\u001b[38;5;124m\"\u001b[39m,\n\u001b[0;32m   (...)\u001b[0m\n\u001b[1;32m      9\u001b[0m     PREFIXES,\n\u001b[1;32m     10\u001b[0m )\n\u001b[1;32m     12\u001b[0m react_measurements_ki \u001b[38;5;241m=\u001b[39m register_react_knowledge_interaction(\n\u001b[1;32m     13\u001b[0m     MEAS_GRAPH_PATTERN,\n\u001b[1;32m     14\u001b[0m     \u001b[38;5;28;01mNone\u001b[39;00m,\n\u001b[0;32m   (...)\u001b[0m\n\u001b[1;32m     18\u001b[0m     PREFIXES,\n\u001b[1;32m     19\u001b[0m )\n\u001b[0;32m---> 21\u001b[0m \u001b[43mstart_handle_loop\u001b[49m\u001b[43m(\u001b[49m\n\u001b[1;32m     22\u001b[0m \u001b[43m    \u001b[49m\u001b[43m{\u001b[49m\n\u001b[1;32m     23\u001b[0m \u001b[43m        \u001b[49m\u001b[43manswer_measurements_ki\u001b[49m\u001b[43m:\u001b[49m\u001b[43m \u001b[49m\u001b[43mhandle_answer_measurements\u001b[49m\u001b[43m,\u001b[49m\n\u001b[1;32m     24\u001b[0m \u001b[43m        \u001b[49m\u001b[43mreact_measurements_ki\u001b[49m\u001b[43m:\u001b[49m\u001b[43m \u001b[49m\u001b[43mhandle_react_measurements\u001b[49m\u001b[43m,\u001b[49m\n\u001b[1;32m     25\u001b[0m \u001b[43m    \u001b[49m\u001b[43m}\u001b[49m\u001b[43m,\u001b[49m\n\u001b[1;32m     26\u001b[0m \u001b[43m    \u001b[49m\u001b[43mkb_id\u001b[49m\u001b[43m,\u001b[49m\n\u001b[1;32m     27\u001b[0m \u001b[43m    \u001b[49m\u001b[43mke_endpoint\u001b[49m\u001b[43m,\u001b[49m\n\u001b[1;32m     28\u001b[0m \u001b[43m\u001b[49m\u001b[43m)\u001b[49m\n",
      "File \u001b[0;32m~/work/BScP_NBs/docker_nbs/utils.py:253\u001b[0m, in \u001b[0;36mstart_handle_loop\u001b[0;34m(handlers, kb_id, ke_endpoint)\u001b[0m\n\u001b[1;32m    240\u001b[0m     result_bindings \u001b[38;5;241m=\u001b[39m handler(bindings)\n\u001b[1;32m    242\u001b[0m     handle_response \u001b[38;5;241m=\u001b[39m requests\u001b[38;5;241m.\u001b[39mpost(\n\u001b[1;32m    243\u001b[0m         ke_endpoint \u001b[38;5;241m+\u001b[39m \u001b[38;5;124m\"\u001b[39m\u001b[38;5;124msc/handle\u001b[39m\u001b[38;5;124m\"\u001b[39m,\n\u001b[1;32m    244\u001b[0m         json\u001b[38;5;241m=\u001b[39m{\n\u001b[0;32m   (...)\u001b[0m\n\u001b[1;32m    251\u001b[0m         },\n\u001b[1;32m    252\u001b[0m     )\n\u001b[0;32m--> 253\u001b[0m     \u001b[38;5;28;01massert\u001b[39;00m handle_response\u001b[38;5;241m.\u001b[39mok\n\u001b[1;32m    255\u001b[0m     \u001b[38;5;28;01mcontinue\u001b[39;00m\n\u001b[1;32m    256\u001b[0m \u001b[38;5;28;01melif\u001b[39;00m response\u001b[38;5;241m.\u001b[39mstatus_code \u001b[38;5;241m==\u001b[39m \u001b[38;5;241m202\u001b[39m:\n\u001b[1;32m    257\u001b[0m     \u001b[38;5;66;03m# 202 means: repoll (heartbeat)\u001b[39;00m\n",
      "\u001b[0;31mAssertionError\u001b[0m: "
     ]
    }
   ],
   "source": [
    "start_storage_kb(\n",
    "    \"http://example.org/storage\",\n",
    "    \"Storage\",\n",
    "    \"GraphDB smart connector\",\n",
    "    \"http://knowledge_engine:8280/rest/\",\n",
    ")"
   ]
  },
  {
   "cell_type": "code",
   "execution_count": null,
   "id": "f4cbf2a6-3a50-484c-9235-6a3d0aa185cb",
   "metadata": {},
   "outputs": [],
   "source": []
  }
 ],
 "metadata": {
  "kernelspec": {
   "display_name": "Python 3 (ipykernel)",
   "language": "python",
   "name": "python3"
  },
  "language_info": {
   "codemirror_mode": {
    "name": "ipython",
    "version": 3
   },
   "file_extension": ".py",
   "mimetype": "text/x-python",
   "name": "python",
   "nbconvert_exporter": "python",
   "pygments_lexer": "ipython3",
   "version": "3.10.11"
  }
 },
 "nbformat": 4,
 "nbformat_minor": 5
}
