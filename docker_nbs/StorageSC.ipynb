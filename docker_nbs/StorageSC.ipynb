{
 "cells": [
  {
   "cell_type": "code",
   "execution_count": 1,
   "id": "b3cee4f6-f8dd-451c-8183-a7a9970faea8",
   "metadata": {
    "tags": []
   },
   "outputs": [],
   "source": [
    "# Storage SC"
   ]
  },
  {
   "cell_type": "code",
   "execution_count": 2,
   "id": "189f592d-591e-4bc4-bff4-7d2cb22d4d67",
   "metadata": {
    "tags": []
   },
   "outputs": [],
   "source": [
    "import logging\n",
    "from utils import *\n",
    "import smartpynector as sp"
   ]
  },
  {
   "cell_type": "code",
   "execution_count": 3,
   "id": "0555451d-80cb-411b-8d5d-90e25b18e179",
   "metadata": {
    "tags": []
   },
   "outputs": [],
   "source": [
    "logging.basicConfig(level=logging.INFO)\n",
    "logger = logging.getLogger(__name__)\n"
   ]
  },
  {
   "cell_type": "code",
   "execution_count": 4,
   "id": "d078da21-a840-4d32-9fd5-027922c7fde6",
   "metadata": {},
   "outputs": [],
   "source": [
    "# Constants\n",
    "READ_URL = \"https://graphdb.odissei.nl/repositories/MateuszTest\"\n",
    "WRITE_URL = \"https://graphdb.odissei.nl/repositories/MateuszTest/statements\"\n",
    "\n",
    "THERMOSTAT_API_URL = \"http://0.0.0.0:8001/thermostat\"\n",
    "PREFIXES={\n",
    "        \"rdf\": \"http://www.w3.org/1999/02/22-rdf-syntax-ns#\",\n",
    "        \"saref\": \"https://w3id.org/saref#\",\n",
    "    }\n",
    "\n",
    "MEAS_GRAPH_PATTERN = \"\"\"?meas rdf:type saref:Measurement .\n",
    "                     ?meas saref:hasValue ?temp .\n",
    "                     ?meas saref:isMeasuredIn saref:TemperatureUnit .\n",
    "                     ?meas saref:hasTimestamp ?timestamp .\n",
    "                     ?meas saref:isMeasurementOf ?room_id .\n",
    "                     ?meas saref:relatesToProperty saref:Temperature .\n",
    "                     ?meas saref:measurementMadeBy ?device_id .\"\"\"\n"
   ]
  },
  {
   "cell_type": "code",
   "execution_count": 5,
   "id": "77579d5e-c09b-45ac-a737-f4617ae52838",
   "metadata": {
    "tags": []
   },
   "outputs": [],
   "source": [
    "measurements = []\n",
    "\n",
    "def handle_answer_measurements(query_bindings):\n",
    "    global measurements\n",
    "    print(f'Answer query bindings: {query_bindings}')\n",
    "    sp.store_data_in_graphdb(\n",
    "        graph_pattern=MEAS_GRAPH_PATTERN,\n",
    "        binding_set=query_bindings,\n",
    "        prefixes=PREFIXES,\n",
    "        read_url=READ_URL,\n",
    "        write_url=WRITE_URL,\n",
    "    )\n",
    "    return match_bindings(query_bindings, measurements)\n",
    "\n",
    "\n",
    "def handle_react_measurements(bindings):\n",
    "    logger.info(f'Handling react binding: {bindings}')\n",
    "    sp.store_data_in_graphdb(\n",
    "        graph_pattern=MEAS_GRAPH_PATTERN,\n",
    "        binding_set=bindings,\n",
    "        prefixes=PREFIXES,\n",
    "        read_url=READ_URL,\n",
    "        write_url=WRITE_URL,\n",
    "    )\n",
    "    return []\n"
   ]
  },
  {
   "cell_type": "code",
   "execution_count": 6,
   "id": "37738bd3-7c29-40aa-8013-aedf5cb0fe44",
   "metadata": {
    "tags": []
   },
   "outputs": [],
   "source": [
    "def start_storage_kb(kb_id, kb_name, kb_description, ke_endpoint):\n",
    "    register_knowledge_base(kb_id, kb_name, kb_description, ke_endpoint)\n",
    "\n",
    "    answer_measurements_ki = register_answer_knowledge_interaction(\n",
    "        MEAS_GRAPH_PATTERN,\n",
    "        \"answer-measurements\",\n",
    "        kb_id,\n",
    "        ke_endpoint,\n",
    "        PREFIXES,\n",
    "    )\n",
    "\n",
    "    react_measurements_ki = register_react_knowledge_interaction(\n",
    "        MEAS_GRAPH_PATTERN,\n",
    "        None,\n",
    "        \"react-measurements\",\n",
    "        kb_id,\n",
    "        ke_endpoint,\n",
    "        PREFIXES,\n",
    "    )\n",
    "\n",
    "    start_handle_loop(\n",
    "        {\n",
    "            answer_measurements_ki: handle_answer_measurements,\n",
    "            react_measurements_ki: handle_react_measurements,\n",
    "        },\n",
    "        kb_id,\n",
    "        ke_endpoint,\n",
    "    )\n",
    "\n"
   ]
  },
  {
   "cell_type": "code",
   "execution_count": null,
   "id": "be696002-0ace-4f28-9693-643c374b2a7b",
   "metadata": {
    "tags": []
   },
   "outputs": [
    {
     "name": "stderr",
     "output_type": "stream",
     "text": [
      "INFO:utils:registered Storage\n",
      "INFO:utils:received issued knowledge interaction id: http://example.org/storage/interaction/answer-measurements\n",
      "INFO:utils:received issued knowledge interaction id: http://example.org/storage/interaction/react-measurements\n"
     ]
    }
   ],
   "source": [
    "start_storage_kb(\n",
    "    \"http://example.org/storage\",\n",
    "    \"Storage\",\n",
    "    \"GraphDB smart connector\",\n",
    "    \"http://knowledge_engine:8280/rest/\",\n",
    ")"
   ]
  },
  {
   "cell_type": "code",
   "execution_count": null,
   "id": "f4cbf2a6-3a50-484c-9235-6a3d0aa185cb",
   "metadata": {},
   "outputs": [],
   "source": []
  }
 ],
 "metadata": {
  "kernelspec": {
   "display_name": "Python 3 (ipykernel)",
   "language": "python",
   "name": "python3"
  },
  "language_info": {
   "codemirror_mode": {
    "name": "ipython",
    "version": 3
   },
   "file_extension": ".py",
   "mimetype": "text/x-python",
   "name": "python",
   "nbconvert_exporter": "python",
   "pygments_lexer": "ipython3",
   "version": "3.10.11"
  }
 },
 "nbformat": 4,
 "nbformat_minor": 5
}
