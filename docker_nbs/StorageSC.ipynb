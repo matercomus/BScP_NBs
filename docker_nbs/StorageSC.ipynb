{
 "cells": [
  {
   "cell_type": "code",
   "execution_count": 1,
   "id": "b3cee4f6-f8dd-451c-8183-a7a9970faea8",
   "metadata": {
    "tags": []
   },
   "outputs": [],
   "source": [
    "# Storage SC"
   ]
  },
  {
   "cell_type": "code",
   "execution_count": 2,
   "id": "189f592d-591e-4bc4-bff4-7d2cb22d4d67",
   "metadata": {
    "tags": []
   },
   "outputs": [],
   "source": [
    "import logging\n",
    "\n",
    "import smartpynector as sp\n",
    "from utils import *"
   ]
  },
  {
   "cell_type": "code",
   "execution_count": 3,
   "id": "0555451d-80cb-411b-8d5d-90e25b18e179",
   "metadata": {
    "tags": []
   },
   "outputs": [],
   "source": [
    "logging.basicConfig(level=logging.INFO)\n",
    "logger = logging.getLogger(\"StorageSC\")"
   ]
  },
  {
   "cell_type": "code",
   "execution_count": 4,
   "id": "d078da21-a840-4d32-9fd5-027922c7fde6",
   "metadata": {},
   "outputs": [],
   "source": [
    "# Constants\n",
    "READ_URL = \"https://graphdb.odissei.nl/repositories/MateuszTest\"\n",
    "WRITE_URL = \"https://graphdb.odissei.nl/repositories/MateuszTest/statements\"\n",
    "\n",
    "THERMOSTAT_API_URL = \"http://0.0.0.0:8001/thermostat\"\n",
    "PREFIXES = {\n",
    "    \"rdf\": \"http://www.w3.org/1999/02/22-rdf-syntax-ns#\",\n",
    "    \"saref\": \"https://w3id.org/saref#\",\n",
    "    \"xsd\": \"http://www.w3.org/2001/XMLSchema#\",\n",
    "    \"ex\": \"http://example.org/\",\n",
    "}\n",
    "\n",
    "MEAS_GRAPH_PATTERN = \"\"\"?meas rdf:type saref:Measurement .\n",
    "                        ?meas saref:hasValue ?temp .\n",
    "                        ?meas saref:isMeasuredIn saref:TemperatureUnit .\n",
    "                        ?meas saref:hasTimestamp ?timestamp .\n",
    "                        ?meas saref:isMeasurementOf ?room_id .\n",
    "                        ?meas saref:relatesToProperty saref:Temperature .\n",
    "                        ?meas saref:measurementMadeBy ?device_id .\"\"\"\n",
    "\n",
    "H_MEAS_II_GRAPH_PATTERN = \"\"\"?timeseries rdf:type ex:Timeseries .\n",
    "                            ?timeseries ex:hasMeasurement ?meas .\n",
    "                            ?timeseries ex:measuredAfter ?startTimestamp .\n",
    "                            ?timeseries ex:measuredBefore ?endTimestamp .\n",
    "                            ?meas rdf:type saref:Measurement .\n",
    "                            ?meas saref:hasValue ?temp .\n",
    "                            ?meas saref:hasTimestamp ?timestamp .\n",
    "                            \"\"\""
   ]
  },
  {
   "cell_type": "code",
   "execution_count": 5,
   "id": "0307912c-ca58-4844-8b6c-2aea7e684ae2",
   "metadata": {},
   "outputs": [],
   "source": [
    "def parse_response(response, start_timestamp, end_timestamp, timeseries):\n",
    "    variables = response[\"head\"][\"vars\"]\n",
    "    bindings = response[\"results\"][\"bindings\"]\n",
    "    result = []\n",
    "    for binding in bindings:\n",
    "        measurement = {}\n",
    "        for var in variables:\n",
    "            measurement[var] = f'\"{binding[var][\"value\"]}\"'\n",
    "\n",
    "        measurement[\"timeseries\"] = timeseries\n",
    "        measurement[\"startTimestamp\"] = start_timestamp\n",
    "        measurement[\"endTimestamp\"] = end_timestamp\n",
    "\n",
    "        result.append(measurement)\n",
    "    return result"
   ]
  },
  {
   "cell_type": "code",
   "execution_count": 6,
   "id": "77579d5e-c09b-45ac-a737-f4617ae52838",
   "metadata": {
    "tags": []
   },
   "outputs": [],
   "source": [
    "# Return measurements in datetime range from GraphDB\n",
    "def handle_answer_measurements(query_bindings):\n",
    "    for binding in query_bindings:\n",
    "        logger.info(f\"Handling answer for: {binding['timeseries']}\")\n",
    "\n",
    "        start_timestamp = binding[\"startTimestamp\"]\n",
    "        end_timestamp = binding[\"endTimestamp\"]\n",
    "        timeseries = binding[\"timeseries\"]\n",
    "\n",
    "        sparql_query = f\"\"\"PREFIX rdf: <http://www.w3.org/1999/02/22-rdf-syntax-ns#>\n",
    "                            PREFIX saref: <https://w3id.org/saref#>\n",
    "                            PREFIX xsd: <http://www.w3.org/2001/XMLSchema#>\n",
    "\n",
    "                            SELECT *\n",
    "\n",
    "                            WHERE {{\n",
    "                                ?meas rdf:type saref:Measurement .\n",
    "                                ?meas saref:hasValue ?temp .\n",
    "                                ?meas saref:isMeasuredIn saref:TemperatureUnit .\n",
    "                                ?meas saref:hasTimestamp ?timestamp .\n",
    "                                FILTER (xsd:dateTime(?timestamp) >= {start_timestamp}^^xsd:dateTime && xsd:dateTime(?timestamp) <= {end_timestamp}^^xsd:dateTime)\n",
    "                                }}\"\"\"\n",
    "        res = sp.run_sparql_query(READ_URL, sparql_query)\n",
    "        result = parse_response(res, start_timestamp, end_timestamp, timeseries)\n",
    "\n",
    "    return result\n",
    "\n",
    "\n",
    "def handle_react_measurements(bindings):\n",
    "    sp.store_data_in_graphdb(\n",
    "        graph_pattern=MEAS_GRAPH_PATTERN,\n",
    "        binding_set=bindings,\n",
    "        prefixes=PREFIXES,\n",
    "        read_url=READ_URL,\n",
    "        write_url=WRITE_URL,\n",
    "    )\n",
    "    for binding in bindings:\n",
    "        logger.info(f\"Saving measurement {binding['meas']}\")\n",
    "    return []"
   ]
  },
  {
   "cell_type": "code",
   "execution_count": 7,
   "id": "37738bd3-7c29-40aa-8013-aedf5cb0fe44",
   "metadata": {
    "tags": []
   },
   "outputs": [],
   "source": [
    "def start_storage_kb(kb_id, kb_name, kb_description, ke_endpoint):\n",
    "    register_knowledge_base(kb_id, kb_name, kb_description, ke_endpoint)\n",
    "\n",
    "    answer_measurements_ki = register_answer_knowledge_interaction(\n",
    "        H_MEAS_II_GRAPH_PATTERN,\n",
    "        \"answer-historical-measurements\",\n",
    "        kb_id,\n",
    "        ke_endpoint,\n",
    "        PREFIXES,\n",
    "    )\n",
    "\n",
    "    react_measurements_ki = register_react_knowledge_interaction(\n",
    "        MEAS_GRAPH_PATTERN,\n",
    "        None,\n",
    "        \"react-measurements\",\n",
    "        kb_id,\n",
    "        ke_endpoint,\n",
    "        PREFIXES,\n",
    "    )\n",
    "\n",
    "    start_handle_loop(\n",
    "        {\n",
    "            answer_measurements_ki: handle_answer_measurements,\n",
    "            react_measurements_ki: handle_react_measurements,\n",
    "        },\n",
    "        kb_id,\n",
    "        ke_endpoint,\n",
    "    )"
   ]
  },
  {
   "cell_type": "code",
   "execution_count": null,
   "id": "be696002-0ace-4f28-9693-643c374b2a7b",
   "metadata": {
    "tags": []
   },
   "outputs": [
    {
     "name": "stderr",
     "output_type": "stream",
     "text": [
      "2023-06-21 23:18:17 INFO registered Storage\n",
      "2023-06-21 23:18:18 INFO received issued knowledge interaction id: http://example.org/storage/interaction/answer-historical-measurements\n",
      "2023-06-21 23:18:18 INFO received issued knowledge interaction id: http://example.org/storage/interaction/react-measurements\n",
      "2023-06-21 23:18:57 INFO Handling answer for: <http://0.0.0.0:8001/thermostat/timeseries/c2abb6d5-a415-4233-ad6e-2ddb0ef6563b>\n",
      "2023-06-21 23:20:08 INFO Handling answer for: <http://0.0.0.0:8001/thermostat/timeseries/3153a030-15c4-4bf5-aafa-8cd14a0266d1>\n",
      "2023-06-21 23:27:15 INFO Handling answer for: <http://0.0.0.0:8001/thermostat/timeseries/3dd78be1-e48a-4e20-b46a-fec1eaa04084>\n",
      "2023-06-21 23:29:32 INFO Handling answer for: <http://0.0.0.0:8001/thermostat/timeseries/679aebb6-8beb-4ecd-8b75-e6b0e41a7e50>\n",
      "2023-06-21 23:32:19 INFO Handling answer for: <http://0.0.0.0:8001/thermostat/timeseries/8d55f51f-8bb6-433e-8346-9f1b675d2eab>\n",
      "2023-06-21 23:34:10 INFO Handling answer for: <http://0.0.0.0:8001/thermostat/timeseries/da01138a-4863-4a03-ba34-387d346cd98c>\n",
      "2023-06-21 23:40:11 INFO Handling answer for: <http://0.0.0.0:8001/thermostat/timeseries/bad7a17f-9f83-409f-b991-2ad88221caf8>\n",
      "2023-06-21 23:40:44 INFO Handling answer for: <http://0.0.0.0:8001/thermostat/timeseries/0dd38af6-62ed-447a-b063-c9c59fee2f9f>\n",
      "2023-06-21 23:42:57 INFO Handling answer for: <http://0.0.0.0:8001/thermostat/timeseries/6efbadff-a49a-4c2f-b4f8-659fa015bab1>\n",
      "2023-06-21 23:46:18 INFO Handling answer for: <http://0.0.0.0:8001/thermostat/timeseries/dbcb900f-87bc-4012-893d-624c4df71018>\n",
      "2023-06-21 23:53:10 INFO Handling answer for: <http://0.0.0.0:8001/thermostat/timeseries/c05f3875-1774-42a8-8fbc-915ae7a49180>\n",
      "2023-06-21 23:55:01 INFO Handling answer for: <http://0.0.0.0:8001/thermostat/timeseries/43e23853-29a7-4379-ae59-f3c2643a0e59>\n",
      "2023-06-21 23:58:18 INFO Handling answer for: <http://0.0.0.0:8001/thermostat/timeseries/0e6022dc-e4b3-416e-a8d8-2ebcde019460>\n",
      "2023-06-22 00:00:29 INFO Handling answer for: <http://0.0.0.0:8001/thermostat/timeseries/f6306aac-4c2e-47eb-9eb0-8d55b36a41c4>\n",
      "2023-06-22 00:06:56 INFO Handling answer for: <http://0.0.0.0:8001/thermostat/timeseries/d48a9f3f-5494-42dc-8baf-ffd7b2bb9356>\n",
      "2023-06-22 00:09:31 INFO Handling answer for: <http://0.0.0.0:8001/thermostat/timeseries/72674443-a1ca-4ab7-8a45-51f9a73ea578>\n",
      "2023-06-22 00:09:46 INFO Handling answer for: <http://0.0.0.0:8001/thermostat/timeseries/fc10d1c0-cc18-456e-8e36-3c0d79e38643>\n",
      "2023-06-22 00:11:05 INFO Handling answer for: <http://0.0.0.0:8001/thermostat/timeseries/4bfee061-bffe-4327-8a21-4d7d60c1ff44>\n"
     ]
    }
   ],
   "source": [
    "start_storage_kb(\n",
    "    \"http://example.org/storage\",\n",
    "    \"Storage\",\n",
    "    \"GraphDB smart connector\",\n",
    "    \"http://knowledge_engine:8280/rest/\",\n",
    ")"
   ]
  }
 ],
 "metadata": {
  "kernelspec": {
   "display_name": "Python 3 (ipykernel)",
   "language": "python",
   "name": "python3"
  },
  "language_info": {
   "codemirror_mode": {
    "name": "ipython",
    "version": 3
   },
   "file_extension": ".py",
   "mimetype": "text/x-python",
   "name": "python",
   "nbconvert_exporter": "python",
   "pygments_lexer": "ipython3",
   "version": "3.10.11"
  }
 },
 "nbformat": 4,
 "nbformat_minor": 5
}
