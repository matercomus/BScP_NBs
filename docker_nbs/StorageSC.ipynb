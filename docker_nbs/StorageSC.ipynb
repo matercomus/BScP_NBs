{
 "cells": [
  {
   "cell_type": "code",
   "execution_count": 1,
   "id": "b3cee4f6-f8dd-451c-8183-a7a9970faea8",
   "metadata": {
    "tags": []
   },
   "outputs": [],
   "source": [
    "# Storage SC"
   ]
  },
  {
   "cell_type": "code",
   "execution_count": 2,
   "id": "189f592d-591e-4bc4-bff4-7d2cb22d4d67",
   "metadata": {
    "tags": []
   },
   "outputs": [],
   "source": [
    "import logging\n",
    "\n",
    "import smartpynector as sp\n",
    "from utils import *"
   ]
  },
  {
   "cell_type": "code",
   "execution_count": 3,
   "id": "0555451d-80cb-411b-8d5d-90e25b18e179",
   "metadata": {
    "tags": []
   },
   "outputs": [],
   "source": [
    "logging.basicConfig(level=logging.INFO)\n",
    "logger = logging.getLogger(\"StorageSC\")"
   ]
  },
  {
   "cell_type": "code",
   "execution_count": 4,
   "id": "d078da21-a840-4d32-9fd5-027922c7fde6",
   "metadata": {},
   "outputs": [],
   "source": [
    "# Constants\n",
    "READ_URL = \"https://graphdb.odissei.nl/repositories/MateuszTest\"\n",
    "WRITE_URL = \"https://graphdb.odissei.nl/repositories/MateuszTest/statements\"\n",
    "\n",
    "THERMOSTAT_API_URL = \"http://0.0.0.0:8001/thermostat\"\n",
    "PREFIXES = {\n",
    "    \"rdf\": \"http://www.w3.org/1999/02/22-rdf-syntax-ns#\",\n",
    "    \"saref\": \"https://w3id.org/saref#\",\n",
    "    \"xsd\": \"http://www.w3.org/2001/XMLSchema#\",\n",
    "}\n",
    "\n",
    "MEAS_GRAPH_PATTERN = \"\"\"?meas rdf:type saref:Measurement .\n",
    "                        ?meas saref:hasValue ?temp .\n",
    "                        ?meas saref:isMeasuredIn saref:TemperatureUnit .\n",
    "                        ?meas saref:hasTimestamp ?timestamp .\n",
    "                        ?meas saref:isMeasurementOf ?room_id .\n",
    "                        ?meas saref:relatesToProperty saref:Temperature .\n",
    "                        ?meas saref:measurementMadeBy ?device_id .\"\"\"\n",
    "\n",
    "COMMAND_GRAPH_PATTERN = \"\"\"?command rdf:type saref:GetMeterHistoryCommand .\n",
    "                        ?command saref:hasTimestamp ?timestamp .\n",
    "                        ?command saref:hasValue ?temp .\n",
    "                        ?command saref:isCommandOf ?device_id .\n",
    "                        ?command saref:hasTimestampStart ?startTimestamp .\n",
    "                        ?command saref:hasTimestampEnd ?endTimestamp .\n",
    "                        ?command saref:relatesToProperty saref:Temperature .\"\"\""
   ]
  },
  {
   "cell_type": "code",
   "execution_count": 5,
   "id": "0307912c-ca58-4844-8b6c-2aea7e684ae2",
   "metadata": {},
   "outputs": [],
   "source": [
    "from typing import Dict, List\n",
    "\n",
    "\n",
    "def extract_timestamp_and_temp(json_obj: Dict, q_binding) -> List[Dict[str, str]]:\n",
    "    measurements = []\n",
    "    for binding in json_obj[\"results\"][\"bindings\"]:\n",
    "        timestamp = binding[\"timestamp\"][\"value\"]\n",
    "        temp = binding[\"temp\"][\"value\"]\n",
    "        measurements.append(\n",
    "            {\n",
    "                \"timestamp\": f'\"{timestamp}\"',\n",
    "                \"temp\": temp,\n",
    "            }\n",
    "        )\n",
    "    result = [\n",
    "        {\n",
    "            \"command\": q_binding[\"command\"],\n",
    "            \"device_id\": q_binding[\"device_id\"],\n",
    "            \"startTimestamp\": q_binding[\"startTimestamp\"],\n",
    "            \"endTimestamp\": q_binding[\"endTimestamp\"],\n",
    "        },\n",
    "        *measurements,\n",
    "    ]\n",
    "    return result"
   ]
  },
  {
   "cell_type": "code",
   "execution_count": 6,
   "id": "77579d5e-c09b-45ac-a737-f4617ae52838",
   "metadata": {
    "tags": []
   },
   "outputs": [],
   "source": [
    "# Return measurements in datetime range from GraphDB\n",
    "def handle_answer_measurements(query_bindings):\n",
    "    for binding in query_bindings:\n",
    "        logger.info(f\"Answer query bindings: {binding}\")\n",
    "\n",
    "        start_timestamp = binding[\"startTimestamp\"]\n",
    "        end_timestamp = binding[\"endTimestamp\"]\n",
    "        sparql_query = f\"\"\"PREFIX rdf: <http://www.w3.org/1999/02/22-rdf-syntax-ns#>\n",
    "                            PREFIX saref: <https://w3id.org/saref#>\n",
    "                            PREFIX xsd: <http://www.w3.org/2001/XMLSchema#>\n",
    "\n",
    "                            SELECT *\n",
    "\n",
    "                            WHERE {{\n",
    "                                ?meas rdf:type saref:Measurement .\n",
    "                                ?meas saref:hasValue ?temp .\n",
    "                                ?meas saref:isMeasuredIn saref:TemperatureUnit .\n",
    "                                ?meas saref:hasTimestamp ?timestamp .\n",
    "                                FILTER (xsd:dateTime(?timestamp) >= \"{start_timestamp}\"^^xsd:dateTime && xsd:dateTime(?timestamp) <= \"{end_timestamp}\"^^xsd:dateTime)\n",
    "                                ?meas saref:isMeasurementOf ?room_id .\n",
    "                                ?meas saref:relatesToProperty saref:Temperature .\n",
    "                                ?meas saref:measurementMadeBy ?device_id .\n",
    "                                }}\"\"\"\n",
    "        # logger.info(sparql_query)\n",
    "        res = sp.run_sparql_query(READ_URL, sparql_query)\n",
    "        result = extract_timestamp_and_temp(res, binding)\n",
    "        # logger.info(res)\n",
    "        logger.info(result)\n",
    "\n",
    "    return result\n",
    "\n",
    "\n",
    "def handle_react_measurements(bindings):\n",
    "    sp.store_data_in_graphdb(\n",
    "        graph_pattern=MEAS_GRAPH_PATTERN,\n",
    "        binding_set=bindings,\n",
    "        prefixes=PREFIXES,\n",
    "        read_url=READ_URL,\n",
    "        write_url=WRITE_URL,\n",
    "    )\n",
    "    for binding in bindings:\n",
    "        logger.info(f\"Saving measurement {binding['meas']}\")\n",
    "    return []"
   ]
  },
  {
   "cell_type": "code",
   "execution_count": 7,
   "id": "37738bd3-7c29-40aa-8013-aedf5cb0fe44",
   "metadata": {
    "tags": []
   },
   "outputs": [],
   "source": [
    "def start_storage_kb(kb_id, kb_name, kb_description, ke_endpoint):\n",
    "    register_knowledge_base(kb_id, kb_name, kb_description, ke_endpoint)\n",
    "\n",
    "    answer_measurements_ki = register_answer_knowledge_interaction(\n",
    "        COMMAND_GRAPH_PATTERN,\n",
    "        \"answer-measurements\",\n",
    "        kb_id,\n",
    "        ke_endpoint,\n",
    "        PREFIXES,\n",
    "    )\n",
    "\n",
    "    react_measurements_ki = register_react_knowledge_interaction(\n",
    "        MEAS_GRAPH_PATTERN,\n",
    "        None,\n",
    "        \"react-measurements\",\n",
    "        kb_id,\n",
    "        ke_endpoint,\n",
    "        PREFIXES,\n",
    "    )\n",
    "\n",
    "    start_handle_loop(\n",
    "        {\n",
    "            answer_measurements_ki: handle_answer_measurements,\n",
    "            react_measurements_ki: handle_react_measurements,\n",
    "        },\n",
    "        kb_id,\n",
    "        ke_endpoint,\n",
    "    )"
   ]
  },
  {
   "cell_type": "code",
   "execution_count": 8,
   "id": "be696002-0ace-4f28-9693-643c374b2a7b",
   "metadata": {
    "tags": []
   },
   "outputs": [
    {
     "name": "stderr",
     "output_type": "stream",
     "text": [
      "2023-06-20 23:20:03 INFO registered Storage\n",
      "2023-06-20 23:20:03 INFO received issued knowledge interaction id: http://example.org/storage/interaction/answer-measurements\n",
      "2023-06-20 23:20:03 INFO received issued knowledge interaction id: http://example.org/storage/interaction/react-measurements\n",
      "2023-06-20 23:20:19 INFO Answer query bindings: {'device_id': '\"http://0.0.0.0:8001/thermostat/devices/1\"', 'endTimestamp': '2023-06-20T23:20:09+00:00', 'startTimestamp': '2023-06-20T21:55:55+00:00', 'command': '<http://0.0.0.0:8001/thermostat/command/641a977a-f897-4775-8971-042c47878786>'}\n",
      "2023-06-20 23:20:19 INFO [{'command': '<http://0.0.0.0:8001/thermostat/command/641a977a-f897-4775-8971-042c47878786>', 'device_id': '\"http://0.0.0.0:8001/thermostat/devices/1\"', 'startTimestamp': '2023-06-20T21:55:55+00:00', 'endTimestamp': '2023-06-20T23:20:09+00:00'}, {'timestamp': '\"2023-06-20T21:55:56+00:00\"', 'temp': '13'}, {'timestamp': '\"2023-06-20T21:56:02+00:00\"', 'temp': '15'}, {'timestamp': '\"2023-06-20T21:56:08+00:00\"', 'temp': '16'}, {'timestamp': '\"2023-06-20T21:56:15+00:00\"', 'temp': '12'}, {'timestamp': '\"2023-06-20T21:56:21+00:00\"', 'temp': '17'}, {'timestamp': '\"2023-06-20T21:56:28+00:00\"', 'temp': '17'}, {'timestamp': '\"2023-06-20T21:56:34+00:00\"', 'temp': '13'}, {'timestamp': '\"2023-06-20T21:56:41+00:00\"', 'temp': '13'}, {'timestamp': '\"2023-06-20T21:56:47+00:00\"', 'temp': '15'}, {'timestamp': '\"2023-06-20T21:56:54+00:00\"', 'temp': '16'}, {'timestamp': '\"2023-06-20T21:57:00+00:00\"', 'temp': '18'}, {'timestamp': '\"2023-06-20T21:57:08+00:00\"', 'temp': '18'}, {'timestamp': '\"2023-06-20T21:57:15+00:00\"', 'temp': '15'}, {'timestamp': '\"2023-06-20T21:57:21+00:00\"', 'temp': '18'}, {'timestamp': '\"2023-06-20T21:57:28+00:00\"', 'temp': '18'}, {'timestamp': '\"2023-06-20T21:57:37+00:00\"', 'temp': '18'}, {'timestamp': '\"2023-06-20T21:57:47+00:00\"', 'temp': '18'}, {'timestamp': '\"2023-06-20T21:57:53+00:00\"', 'temp': '16'}, {'timestamp': '\"2023-06-20T21:57:59+00:00\"', 'temp': '14'}, {'timestamp': '\"2023-06-20T21:58:04+00:00\"', 'temp': '16'}, {'timestamp': '\"2023-06-20T21:58:12+00:00\"', 'temp': '16'}, {'timestamp': '\"2023-06-20T21:58:18+00:00\"', 'temp': '12'}, {'timestamp': '\"2023-06-20T21:58:25+00:00\"', 'temp': '15'}, {'timestamp': '\"2023-06-20T21:58:31+00:00\"', 'temp': '14'}, {'timestamp': '\"2023-06-20T21:58:36+00:00\"', 'temp': '15'}, {'timestamp': '\"2023-06-20T21:58:42+00:00\"', 'temp': '18'}, {'timestamp': '\"2023-06-20T21:58:48+00:00\"', 'temp': '16'}, {'timestamp': '\"2023-06-20T21:58:54+00:00\"', 'temp': '14'}, {'timestamp': '\"2023-06-20T21:58:59+00:00\"', 'temp': '16'}, {'timestamp': '\"2023-06-20T21:59:05+00:00\"', 'temp': '18'}, {'timestamp': '\"2023-06-20T21:59:11+00:00\"', 'temp': '13'}, {'timestamp': '\"2023-06-20T21:59:17+00:00\"', 'temp': '15'}, {'timestamp': '\"2023-06-20T21:59:23+00:00\"', 'temp': '15'}, {'timestamp': '\"2023-06-20T21:59:28+00:00\"', 'temp': '13'}, {'timestamp': '\"2023-06-20T21:59:34+00:00\"', 'temp': '12'}, {'timestamp': '\"2023-06-20T21:59:40+00:00\"', 'temp': '14'}, {'timestamp': '\"2023-06-20T21:59:46+00:00\"', 'temp': '18'}, {'timestamp': '\"2023-06-20T21:59:51+00:00\"', 'temp': '18'}, {'timestamp': '\"2023-06-20T21:59:57+00:00\"', 'temp': '17'}, {'timestamp': '\"2023-06-20T22:00:03+00:00\"', 'temp': '15'}, {'timestamp': '\"2023-06-20T22:00:09+00:00\"', 'temp': '13'}, {'timestamp': '\"2023-06-20T22:00:15+00:00\"', 'temp': '16'}, {'timestamp': '\"2023-06-20T22:00:21+00:00\"', 'temp': '18'}, {'timestamp': '\"2023-06-20T22:00:26+00:00\"', 'temp': '15'}, {'timestamp': '\"2023-06-20T22:00:32+00:00\"', 'temp': '14'}]\n",
      "2023-06-20 23:20:19 INFO {\"messageType\":\"error\",\"message\":\"Expected a complete binding, but was missing some variable(s) that ARE in the graph pattern ('?command <http://www.w3.org/1999/02/22-rdf-syntax-ns#type> <https://w3id.org/saref#GetMeterHistoryCommand> . ?command <https://w3id.org/saref#hasTimestamp> ?timestamp . ?command <https://w3id.org/saref#hasValue> ?temp . ?command <https://w3id.org/saref#isCommandOf> ?device_id . ?command <https://w3id.org/saref#hasTimestampStart> ?startTimestamp . ?command <https://w3id.org/saref#hasTimestampEnd> ?endTimestamp . ?command <https://w3id.org/saref#relatesToProperty> <https://w3id.org/saref#Temperature> . '), but are missing from the binding, namely: [device_id, endTimestamp, command, startTimestamp]. Note that the question mark should NOT be included in your binding keys.\"}\n"
     ]
    },
    {
     "ename": "AssertionError",
     "evalue": "",
     "output_type": "error",
     "traceback": [
      "\u001b[0;31m---------------------------------------------------------------------------\u001b[0m",
      "\u001b[0;31mAssertionError\u001b[0m                            Traceback (most recent call last)",
      "Cell \u001b[0;32mIn[8], line 1\u001b[0m\n\u001b[0;32m----> 1\u001b[0m \u001b[43mstart_storage_kb\u001b[49m\u001b[43m(\u001b[49m\n\u001b[1;32m      2\u001b[0m \u001b[43m    \u001b[49m\u001b[38;5;124;43m\"\u001b[39;49m\u001b[38;5;124;43mhttp://example.org/storage\u001b[39;49m\u001b[38;5;124;43m\"\u001b[39;49m\u001b[43m,\u001b[49m\n\u001b[1;32m      3\u001b[0m \u001b[43m    \u001b[49m\u001b[38;5;124;43m\"\u001b[39;49m\u001b[38;5;124;43mStorage\u001b[39;49m\u001b[38;5;124;43m\"\u001b[39;49m\u001b[43m,\u001b[49m\n\u001b[1;32m      4\u001b[0m \u001b[43m    \u001b[49m\u001b[38;5;124;43m\"\u001b[39;49m\u001b[38;5;124;43mGraphDB smart connector\u001b[39;49m\u001b[38;5;124;43m\"\u001b[39;49m\u001b[43m,\u001b[49m\n\u001b[1;32m      5\u001b[0m \u001b[43m    \u001b[49m\u001b[38;5;124;43m\"\u001b[39;49m\u001b[38;5;124;43mhttp://knowledge_engine:8280/rest/\u001b[39;49m\u001b[38;5;124;43m\"\u001b[39;49m\u001b[43m,\u001b[49m\n\u001b[1;32m      6\u001b[0m \u001b[43m)\u001b[49m\n",
      "Cell \u001b[0;32mIn[7], line 21\u001b[0m, in \u001b[0;36mstart_storage_kb\u001b[0;34m(kb_id, kb_name, kb_description, ke_endpoint)\u001b[0m\n\u001b[1;32m      4\u001b[0m answer_measurements_ki \u001b[38;5;241m=\u001b[39m register_answer_knowledge_interaction(\n\u001b[1;32m      5\u001b[0m     COMMAND_GRAPH_PATTERN,\n\u001b[1;32m      6\u001b[0m     \u001b[38;5;124m\"\u001b[39m\u001b[38;5;124manswer-measurements\u001b[39m\u001b[38;5;124m\"\u001b[39m,\n\u001b[0;32m   (...)\u001b[0m\n\u001b[1;32m      9\u001b[0m     PREFIXES,\n\u001b[1;32m     10\u001b[0m )\n\u001b[1;32m     12\u001b[0m react_measurements_ki \u001b[38;5;241m=\u001b[39m register_react_knowledge_interaction(\n\u001b[1;32m     13\u001b[0m     MEAS_GRAPH_PATTERN,\n\u001b[1;32m     14\u001b[0m     \u001b[38;5;28;01mNone\u001b[39;00m,\n\u001b[0;32m   (...)\u001b[0m\n\u001b[1;32m     18\u001b[0m     PREFIXES,\n\u001b[1;32m     19\u001b[0m )\n\u001b[0;32m---> 21\u001b[0m \u001b[43mstart_handle_loop\u001b[49m\u001b[43m(\u001b[49m\n\u001b[1;32m     22\u001b[0m \u001b[43m    \u001b[49m\u001b[43m{\u001b[49m\n\u001b[1;32m     23\u001b[0m \u001b[43m        \u001b[49m\u001b[43manswer_measurements_ki\u001b[49m\u001b[43m:\u001b[49m\u001b[43m \u001b[49m\u001b[43mhandle_answer_measurements\u001b[49m\u001b[43m,\u001b[49m\n\u001b[1;32m     24\u001b[0m \u001b[43m        \u001b[49m\u001b[43mreact_measurements_ki\u001b[49m\u001b[43m:\u001b[49m\u001b[43m \u001b[49m\u001b[43mhandle_react_measurements\u001b[49m\u001b[43m,\u001b[49m\n\u001b[1;32m     25\u001b[0m \u001b[43m    \u001b[49m\u001b[43m}\u001b[49m\u001b[43m,\u001b[49m\n\u001b[1;32m     26\u001b[0m \u001b[43m    \u001b[49m\u001b[43mkb_id\u001b[49m\u001b[43m,\u001b[49m\n\u001b[1;32m     27\u001b[0m \u001b[43m    \u001b[49m\u001b[43mke_endpoint\u001b[49m\u001b[43m,\u001b[49m\n\u001b[1;32m     28\u001b[0m \u001b[43m\u001b[49m\u001b[43m)\u001b[49m\n",
      "File \u001b[0;32m~/work/BScP_NBs/docker_nbs/utils.py:254\u001b[0m, in \u001b[0;36mstart_handle_loop\u001b[0;34m(handlers, kb_id, ke_endpoint)\u001b[0m\n\u001b[1;32m    242\u001b[0m     handle_response \u001b[38;5;241m=\u001b[39m requests\u001b[38;5;241m.\u001b[39mpost(\n\u001b[1;32m    243\u001b[0m         ke_endpoint \u001b[38;5;241m+\u001b[39m \u001b[38;5;124m\"\u001b[39m\u001b[38;5;124msc/handle\u001b[39m\u001b[38;5;124m\"\u001b[39m,\n\u001b[1;32m    244\u001b[0m         json\u001b[38;5;241m=\u001b[39m{\n\u001b[0;32m   (...)\u001b[0m\n\u001b[1;32m    251\u001b[0m         },\n\u001b[1;32m    252\u001b[0m     )\n\u001b[1;32m    253\u001b[0m     logger\u001b[38;5;241m.\u001b[39minfo(handle_response\u001b[38;5;241m.\u001b[39mtext)\n\u001b[0;32m--> 254\u001b[0m     \u001b[38;5;28;01massert\u001b[39;00m handle_response\u001b[38;5;241m.\u001b[39mok\n\u001b[1;32m    256\u001b[0m     \u001b[38;5;28;01mcontinue\u001b[39;00m\n\u001b[1;32m    257\u001b[0m \u001b[38;5;28;01melif\u001b[39;00m response\u001b[38;5;241m.\u001b[39mstatus_code \u001b[38;5;241m==\u001b[39m \u001b[38;5;241m202\u001b[39m:\n\u001b[1;32m    258\u001b[0m     \u001b[38;5;66;03m# 202 means: repoll (heartbeat)\u001b[39;00m\n",
      "\u001b[0;31mAssertionError\u001b[0m: "
     ]
    }
   ],
   "source": [
    "start_storage_kb(\n",
    "    \"http://example.org/storage\",\n",
    "    \"Storage\",\n",
    "    \"GraphDB smart connector\",\n",
    "    \"http://knowledge_engine:8280/rest/\",\n",
    ")"
   ]
  },
  {
   "cell_type": "code",
   "execution_count": null,
   "id": "f4cbf2a6-3a50-484c-9235-6a3d0aa185cb",
   "metadata": {},
   "outputs": [],
   "source": []
  }
 ],
 "metadata": {
  "kernelspec": {
   "display_name": "Python 3 (ipykernel)",
   "language": "python",
   "name": "python3"
  },
  "language_info": {
   "codemirror_mode": {
    "name": "ipython",
    "version": 3
   },
   "file_extension": ".py",
   "mimetype": "text/x-python",
   "name": "python",
   "nbconvert_exporter": "python",
   "pygments_lexer": "ipython3",
   "version": "3.10.11"
  }
 },
 "nbformat": 4,
 "nbformat_minor": 5
}
