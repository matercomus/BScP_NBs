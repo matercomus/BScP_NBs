{
 "cells": [
  {
   "cell_type": "code",
   "execution_count": 1,
   "id": "b3cee4f6-f8dd-451c-8183-a7a9970faea8",
   "metadata": {
    "tags": []
   },
   "outputs": [],
   "source": [
    "# Storage SC"
   ]
  },
  {
   "cell_type": "code",
   "execution_count": 2,
   "id": "189f592d-591e-4bc4-bff4-7d2cb22d4d67",
   "metadata": {
    "tags": []
   },
   "outputs": [],
   "source": [
    "import logging\n",
    "\n",
    "import smartpynector as sp\n",
    "from utils import *"
   ]
  },
  {
   "cell_type": "code",
   "execution_count": 3,
   "id": "0555451d-80cb-411b-8d5d-90e25b18e179",
   "metadata": {
    "tags": []
   },
   "outputs": [],
   "source": [
    "logging.basicConfig(level=logging.INFO)\n",
    "logger = logging.getLogger(\"StorageSC\")"
   ]
  },
  {
   "cell_type": "code",
   "execution_count": 4,
   "id": "d078da21-a840-4d32-9fd5-027922c7fde6",
   "metadata": {},
   "outputs": [],
   "source": [
    "# Constants\n",
    "READ_URL = \"https://graphdb.odissei.nl/repositories/MateuszTest\"\n",
    "WRITE_URL = \"https://graphdb.odissei.nl/repositories/MateuszTest/statements\"\n",
    "\n",
    "THERMOSTAT_API_URL = \"http://0.0.0.0:8001/thermostat\"\n",
    "PREFIXES = {\n",
    "    \"rdf\": \"http://www.w3.org/1999/02/22-rdf-syntax-ns#\",\n",
    "    \"saref\": \"https://w3id.org/saref#\",\n",
    "    \"xsd\": \"http://www.w3.org/2001/XMLSchema#\",\n",
    "    \"ex\": \"http://example.org/\",\n",
    "}\n",
    "\n",
    "MEAS_GRAPH_PATTERN = \"\"\"?meas rdf:type saref:Measurement .\n",
    "                        ?meas saref:hasValue ?temp .\n",
    "                        ?meas saref:isMeasuredIn saref:TemperatureUnit .\n",
    "                        ?meas saref:hasTimestamp ?timestamp .\n",
    "                        ?meas saref:isMeasurementOf ?room_id .\n",
    "                        ?meas saref:relatesToProperty saref:Temperature .\n",
    "                        ?meas saref:measurementMadeBy ?device_id .\"\"\"\n",
    "\n",
    "H_MEAS_GRAPH_PATTERN = \"\"\"?meas rdf:type saref:Measurement .\n",
    "                        ?meas saref:hasValue ?temp .\n",
    "                        ?meas saref:isMeasuredIn saref:TemperatureUnit .\n",
    "                        ?meas saref:hasTimestamp ?timestamp .\n",
    "                        ?meas saref:isMeasurementOf ?room_id .\n",
    "                        ?meas saref:relatesToProperty saref:Temperature .\n",
    "                        ?meas saref:measurementMadeBy ?device_id .\n",
    "                        ?meas ex:measuredAfter ?startTimestamp .\n",
    "                        ?meas ex:measuredBefore ?endTimestamp .\"\"\"\n",
    "\n",
    "H_MEAS_II_GRAPH_PATTERN = \"\"\"?timeseries rdf:type ex:Timeseries .\n",
    "                            ?timeseries ex:hasMeasurement ?meas .\n",
    "                            ?timeseries ex:measuredAfter ?startTimestamp .\n",
    "                            ?timeseries ex:measuredBefore ?endTimestamp .\n",
    "                            ?meas rdf:type saref:Measurement .\n",
    "                            ?meas saref:hasValue ?temp .\n",
    "                            ?meas saref:hasTimestamp ?timestamp .\n",
    "                            \"\"\""
   ]
  },
  {
   "cell_type": "code",
   "execution_count": 5,
   "id": "0307912c-ca58-4844-8b6c-2aea7e684ae2",
   "metadata": {},
   "outputs": [],
   "source": [
    "def parse_response(response, start_timestamp, end_timestamp, timeseries):\n",
    "    variables = response[\"head\"][\"vars\"]\n",
    "    bindings = response[\"results\"][\"bindings\"]\n",
    "    result = []\n",
    "    for binding in bindings:\n",
    "        measurement = {}\n",
    "        for var in variables:\n",
    "            measurement[var] = f'\"{binding[var][\"value\"]}\"'\n",
    "\n",
    "        measurement[\"timeseries\"] = timeseries\n",
    "        measurement[\"startTimestamp\"] = start_timestamp\n",
    "        measurement[\"endTimestamp\"] = end_timestamp\n",
    "\n",
    "        result.append(measurement)\n",
    "    return result"
   ]
  },
  {
   "cell_type": "code",
   "execution_count": 6,
   "id": "77579d5e-c09b-45ac-a737-f4617ae52838",
   "metadata": {
    "tags": []
   },
   "outputs": [],
   "source": [
    "# Return measurements in datetime range from GraphDB\n",
    "def handle_answer_measurements(query_bindings):\n",
    "    for binding in query_bindings:\n",
    "        logger.info(f\"Handling answer for: {binding['timeseries']}\")\n",
    "\n",
    "        start_timestamp = binding[\"startTimestamp\"]\n",
    "        end_timestamp = binding[\"endTimestamp\"]\n",
    "        timeseries = binding[\"timeseries\"]\n",
    "\n",
    "        sparql_query = f\"\"\"PREFIX rdf: <http://www.w3.org/1999/02/22-rdf-syntax-ns#>\n",
    "                            PREFIX saref: <https://w3id.org/saref#>\n",
    "                            PREFIX xsd: <http://www.w3.org/2001/XMLSchema#>\n",
    "\n",
    "                            SELECT *\n",
    "\n",
    "                            WHERE {{\n",
    "                                ?meas rdf:type saref:Measurement .\n",
    "                                ?meas saref:hasValue ?temp .\n",
    "                                ?meas saref:isMeasuredIn saref:TemperatureUnit .\n",
    "                                ?meas saref:hasTimestamp ?timestamp .\n",
    "                                FILTER (xsd:dateTime(?timestamp) >= {start_timestamp}^^xsd:dateTime && xsd:dateTime(?timestamp) <= {end_timestamp}^^xsd:dateTime)\n",
    "                                }}\"\"\"\n",
    "        res = sp.run_sparql_query(READ_URL, sparql_query)\n",
    "        result = parse_response(res, start_timestamp, end_timestamp, timeseries)\n",
    "\n",
    "    return result\n",
    "\n",
    "\n",
    "def handle_react_measurements(bindings):\n",
    "    sp.store_data_in_graphdb(\n",
    "        graph_pattern=MEAS_GRAPH_PATTERN,\n",
    "        binding_set=bindings,\n",
    "        prefixes=PREFIXES,\n",
    "        read_url=READ_URL,\n",
    "        write_url=WRITE_URL,\n",
    "    )\n",
    "    for binding in bindings:\n",
    "        logger.info(f\"Saving measurement {binding['meas']}\")\n",
    "    return []"
   ]
  },
  {
   "cell_type": "code",
   "execution_count": 7,
   "id": "37738bd3-7c29-40aa-8013-aedf5cb0fe44",
   "metadata": {
    "tags": []
   },
   "outputs": [],
   "source": [
    "def start_storage_kb(kb_id, kb_name, kb_description, ke_endpoint):\n",
    "    register_knowledge_base(kb_id, kb_name, kb_description, ke_endpoint)\n",
    "\n",
    "    answer_measurements_ki = register_answer_knowledge_interaction(\n",
    "        H_MEAS_II_GRAPH_PATTERN,\n",
    "        \"answer-historical-measurements\",\n",
    "        kb_id,\n",
    "        ke_endpoint,\n",
    "        PREFIXES,\n",
    "    )\n",
    "\n",
    "    react_measurements_ki = register_react_knowledge_interaction(\n",
    "        MEAS_GRAPH_PATTERN,\n",
    "        None,\n",
    "        \"react-measurements\",\n",
    "        kb_id,\n",
    "        ke_endpoint,\n",
    "        PREFIXES,\n",
    "    )\n",
    "\n",
    "    start_handle_loop(\n",
    "        {\n",
    "            answer_measurements_ki: handle_answer_measurements,\n",
    "            react_measurements_ki: handle_react_measurements,\n",
    "        },\n",
    "        kb_id,\n",
    "        ke_endpoint,\n",
    "    )"
   ]
  },
  {
   "cell_type": "code",
   "execution_count": 8,
   "id": "be696002-0ace-4f28-9693-643c374b2a7b",
   "metadata": {
    "tags": []
   },
   "outputs": [
    {
     "name": "stderr",
     "output_type": "stream",
     "text": [
      "2023-06-21 22:21:00 INFO registered Storage\n",
      "2023-06-21 22:21:00 INFO received issued knowledge interaction id: http://example.org/storage/interaction/answer-historical-measurements\n",
      "2023-06-21 22:21:00 INFO received issued knowledge interaction id: http://example.org/storage/interaction/react-measurements\n",
      "2023-06-21 22:21:02 INFO Saving measurement <http://0.0.0.0:8001/thermostat/measurements/ec8f6765-8b0e-4b49-8865-b9b6430a294d>\n",
      "2023-06-21 22:21:08 INFO Saving measurement <http://0.0.0.0:8001/thermostat/measurements/8883e0a3-41be-45cc-bc0f-e3ef67caff58>\n",
      "2023-06-21 22:21:14 INFO Saving measurement <http://0.0.0.0:8001/thermostat/measurements/150a40e6-29b5-4bf2-9d7f-dc45c10ed72a>\n",
      "2023-06-21 22:21:20 INFO Saving measurement <http://0.0.0.0:8001/thermostat/measurements/efd79124-c88a-4d9f-bac7-9cd6134a06c3>\n",
      "2023-06-21 22:21:26 INFO Saving measurement <http://0.0.0.0:8001/thermostat/measurements/c275603e-2ee9-497e-b218-7fe5ab13b8ad>\n",
      "2023-06-21 22:21:31 INFO Saving measurement <http://0.0.0.0:8001/thermostat/measurements/71449a8a-3772-4bff-aab5-27ff94bbcfbc>\n",
      "2023-06-21 22:21:37 INFO Saving measurement <http://0.0.0.0:8001/thermostat/measurements/61be1be2-3651-4700-9f2e-6c372ebdf4e5>\n",
      "2023-06-21 22:21:43 INFO Saving measurement <http://0.0.0.0:8001/thermostat/measurements/a18a0530-b453-4b46-8df4-c9bb5a82b791>\n",
      "2023-06-21 22:21:49 INFO Saving measurement <http://0.0.0.0:8001/thermostat/measurements/57bf8075-4a26-4def-890f-07ff71ea7904>\n",
      "2023-06-21 22:21:55 INFO Saving measurement <http://0.0.0.0:8001/thermostat/measurements/bd4a9032-c099-4354-912c-34fddb816451>\n",
      "2023-06-21 22:22:00 INFO Saving measurement <http://0.0.0.0:8001/thermostat/measurements/62edcc4a-8001-4b80-93d3-88425b3bde61>\n",
      "2023-06-21 22:22:06 INFO Saving measurement <http://0.0.0.0:8001/thermostat/measurements/d7c4df8e-51f7-49e9-b727-d4ebad9bd741>\n",
      "2023-06-21 22:22:12 INFO Saving measurement <http://0.0.0.0:8001/thermostat/measurements/504428b7-2437-4673-9881-f358d81be817>\n",
      "2023-06-21 22:22:18 INFO Saving measurement <http://0.0.0.0:8001/thermostat/measurements/797b2cf1-c4d4-4d3d-a566-b9e271c16d95>\n",
      "2023-06-21 22:22:24 INFO Saving measurement <http://0.0.0.0:8001/thermostat/measurements/8edbe2aa-28e8-4f8e-81e1-680013579ae1>\n",
      "2023-06-21 22:22:30 INFO Saving measurement <http://0.0.0.0:8001/thermostat/measurements/96387390-78e2-4c8e-8d0e-84ca4b3d5668>\n",
      "2023-06-21 22:22:36 INFO Saving measurement <http://0.0.0.0:8001/thermostat/measurements/6aff34e9-25e5-4209-8f97-c36434076cca>\n",
      "2023-06-21 22:22:42 INFO Saving measurement <http://0.0.0.0:8001/thermostat/measurements/87ff39eb-06a0-4fdc-8905-c3d1e2a535b0>\n",
      "2023-06-21 22:22:48 INFO Saving measurement <http://0.0.0.0:8001/thermostat/measurements/453eb0e5-107e-4556-b1c0-3a95c1a35b80>\n",
      "2023-06-21 22:22:53 INFO Saving measurement <http://0.0.0.0:8001/thermostat/measurements/4d1ca4b4-ed5d-4487-8fcf-6aa72fdcc8fa>\n",
      "2023-06-21 22:23:00 INFO Saving measurement <http://0.0.0.0:8001/thermostat/measurements/db3be2f1-5bb4-4ee7-b961-afd36cab0d58>\n",
      "2023-06-21 22:23:06 INFO Saving measurement <http://0.0.0.0:8001/thermostat/measurements/a2531656-7319-4f8b-8c4f-b9d9be4b5110>\n",
      "2023-06-21 22:23:12 INFO Saving measurement <http://0.0.0.0:8001/thermostat/measurements/68c4a7db-15a9-4758-85f7-ce37929e8af6>\n",
      "2023-06-21 22:23:17 INFO Saving measurement <http://0.0.0.0:8001/thermostat/measurements/dbb3c86b-eff1-4434-b119-b2a91fa55436>\n",
      "2023-06-21 22:23:23 INFO Saving measurement <http://0.0.0.0:8001/thermostat/measurements/08c15dcd-fdfa-4fea-a402-33a8c05eba7b>\n",
      "2023-06-21 22:23:29 INFO Saving measurement <http://0.0.0.0:8001/thermostat/measurements/02b9d070-2ae8-4a2e-96b9-66ac313536cb>\n",
      "2023-06-21 22:23:35 INFO Saving measurement <http://0.0.0.0:8001/thermostat/measurements/ba3222cd-be70-4b53-9b25-18932717de31>\n",
      "2023-06-21 22:23:40 INFO Saving measurement <http://0.0.0.0:8001/thermostat/measurements/0cf7b707-0a91-468b-a82a-03ecbe8649b3>\n",
      "2023-06-21 22:23:47 INFO Saving measurement <http://0.0.0.0:8001/thermostat/measurements/61be4964-d618-4166-81a7-2000e6c212af>\n",
      "2023-06-21 22:23:52 INFO Saving measurement <http://0.0.0.0:8001/thermostat/measurements/a7fa4059-077b-49e9-b0f3-ef065c422c71>\n",
      "2023-06-21 22:23:58 INFO Saving measurement <http://0.0.0.0:8001/thermostat/measurements/6d171ac2-6fa7-4cae-87ee-3a08692e0678>\n",
      "2023-06-21 22:24:04 INFO Saving measurement <http://0.0.0.0:8001/thermostat/measurements/14ab03c6-ad97-481f-964a-26333112cc8e>\n",
      "2023-06-21 22:24:10 INFO Saving measurement <http://0.0.0.0:8001/thermostat/measurements/018cd4eb-7e46-4eef-95c8-2d0b84d213f8>\n",
      "2023-06-21 22:24:16 INFO Saving measurement <http://0.0.0.0:8001/thermostat/measurements/58e50ba4-27bb-4ae3-a1de-b790e938d2e1>\n",
      "2023-06-21 22:24:22 INFO Saving measurement <http://0.0.0.0:8001/thermostat/measurements/f0106b5f-5e67-4e03-b79d-936b28db6c0d>\n",
      "2023-06-21 22:24:28 INFO Saving measurement <http://0.0.0.0:8001/thermostat/measurements/b6d01d7d-83ed-4528-baf9-c6966e1f578b>\n",
      "2023-06-21 22:24:33 INFO Saving measurement <http://0.0.0.0:8001/thermostat/measurements/e85ce1d4-fe2d-47fa-b631-6ef97bb657d0>\n",
      "2023-06-21 22:24:39 INFO Saving measurement <http://0.0.0.0:8001/thermostat/measurements/55acdc84-b35e-4312-b41f-4ed7a79c3906>\n",
      "2023-06-21 22:24:45 INFO Saving measurement <http://0.0.0.0:8001/thermostat/measurements/d0cd0529-00cc-4bbf-bcd0-d8cedecc4427>\n",
      "2023-06-21 22:24:51 INFO Saving measurement <http://0.0.0.0:8001/thermostat/measurements/8ef023de-845e-4523-b277-c8359e4923cd>\n",
      "2023-06-21 22:24:56 INFO Saving measurement <http://0.0.0.0:8001/thermostat/measurements/65de7f55-36f1-45a5-8a6d-fe654fbac875>\n",
      "2023-06-21 22:25:02 INFO Saving measurement <http://0.0.0.0:8001/thermostat/measurements/f2db391e-a62c-4025-b384-8b8801d9250b>\n",
      "2023-06-21 22:25:09 INFO Saving measurement <http://0.0.0.0:8001/thermostat/measurements/ed879c1c-4b9f-4501-bd58-25cb7bc1a1f1>\n",
      "2023-06-21 22:25:15 INFO Saving measurement <http://0.0.0.0:8001/thermostat/measurements/989be9c6-b6fd-4d93-930d-6f35765fd10f>\n",
      "2023-06-21 22:25:20 INFO Saving measurement <http://0.0.0.0:8001/thermostat/measurements/e183056f-8680-40ad-9668-e3eb0b53c402>\n",
      "2023-06-21 22:25:26 INFO Saving measurement <http://0.0.0.0:8001/thermostat/measurements/2355a9a8-ac47-4cc7-aabb-17036c9ee381>\n",
      "2023-06-21 22:25:32 INFO Saving measurement <http://0.0.0.0:8001/thermostat/measurements/e45fc213-ec68-4b1b-a3eb-14fc9106c870>\n",
      "2023-06-21 22:25:38 INFO Saving measurement <http://0.0.0.0:8001/thermostat/measurements/13c32e61-c0cc-4fa8-9301-ff2b11d4cfa9>\n",
      "2023-06-21 22:25:43 INFO Saving measurement <http://0.0.0.0:8001/thermostat/measurements/4bfa4ad5-b0ea-4199-b6d0-6bf356f4989b>\n",
      "2023-06-21 22:25:49 INFO Saving measurement <http://0.0.0.0:8001/thermostat/measurements/8b31799e-8acb-48ee-b73e-4e45926ec671>\n",
      "2023-06-21 22:25:55 INFO Saving measurement <http://0.0.0.0:8001/thermostat/measurements/2fc66adb-33a6-4ee1-b87f-59162722b18c>\n",
      "2023-06-21 22:26:01 INFO Saving measurement <http://0.0.0.0:8001/thermostat/measurements/ae364eef-0b72-4b6d-b0df-60dd698ba13a>\n",
      "2023-06-21 22:26:07 INFO Saving measurement <http://0.0.0.0:8001/thermostat/measurements/f230ff8a-969d-4d8e-a5a0-956858500f99>\n",
      "2023-06-21 22:26:13 INFO Saving measurement <http://0.0.0.0:8001/thermostat/measurements/8f80f516-7b17-40fa-b9a9-c13e6ac662a3>\n",
      "2023-06-21 22:26:18 INFO Saving measurement <http://0.0.0.0:8001/thermostat/measurements/2a02c3d7-e7df-4768-bb22-15767739d308>\n",
      "2023-06-21 22:26:24 INFO Saving measurement <http://0.0.0.0:8001/thermostat/measurements/eb90f6e8-b5be-4716-a3b4-029dacb63a34>\n",
      "2023-06-21 22:26:30 INFO Saving measurement <http://0.0.0.0:8001/thermostat/measurements/5984ca13-18e4-48ed-88f3-dca11314b5d3>\n"
     ]
    },
    {
     "ename": "KeyboardInterrupt",
     "evalue": "",
     "output_type": "error",
     "traceback": [
      "\u001b[0;31m---------------------------------------------------------------------------\u001b[0m",
      "\u001b[0;31mKeyboardInterrupt\u001b[0m                         Traceback (most recent call last)",
      "Cell \u001b[0;32mIn[8], line 1\u001b[0m\n\u001b[0;32m----> 1\u001b[0m \u001b[43mstart_storage_kb\u001b[49m\u001b[43m(\u001b[49m\n\u001b[1;32m      2\u001b[0m \u001b[43m    \u001b[49m\u001b[38;5;124;43m\"\u001b[39;49m\u001b[38;5;124;43mhttp://example.org/storage\u001b[39;49m\u001b[38;5;124;43m\"\u001b[39;49m\u001b[43m,\u001b[49m\n\u001b[1;32m      3\u001b[0m \u001b[43m    \u001b[49m\u001b[38;5;124;43m\"\u001b[39;49m\u001b[38;5;124;43mStorage\u001b[39;49m\u001b[38;5;124;43m\"\u001b[39;49m\u001b[43m,\u001b[49m\n\u001b[1;32m      4\u001b[0m \u001b[43m    \u001b[49m\u001b[38;5;124;43m\"\u001b[39;49m\u001b[38;5;124;43mGraphDB smart connector\u001b[39;49m\u001b[38;5;124;43m\"\u001b[39;49m\u001b[43m,\u001b[49m\n\u001b[1;32m      5\u001b[0m \u001b[43m    \u001b[49m\u001b[38;5;124;43m\"\u001b[39;49m\u001b[38;5;124;43mhttp://knowledge_engine:8280/rest/\u001b[39;49m\u001b[38;5;124;43m\"\u001b[39;49m\u001b[43m,\u001b[49m\n\u001b[1;32m      6\u001b[0m \u001b[43m)\u001b[49m\n",
      "Cell \u001b[0;32mIn[7], line 21\u001b[0m, in \u001b[0;36mstart_storage_kb\u001b[0;34m(kb_id, kb_name, kb_description, ke_endpoint)\u001b[0m\n\u001b[1;32m      4\u001b[0m answer_measurements_ki \u001b[38;5;241m=\u001b[39m register_answer_knowledge_interaction(\n\u001b[1;32m      5\u001b[0m     H_MEAS_II_GRAPH_PATTERN,\n\u001b[1;32m      6\u001b[0m     \u001b[38;5;124m\"\u001b[39m\u001b[38;5;124manswer-historical-measurements\u001b[39m\u001b[38;5;124m\"\u001b[39m,\n\u001b[0;32m   (...)\u001b[0m\n\u001b[1;32m      9\u001b[0m     PREFIXES,\n\u001b[1;32m     10\u001b[0m )\n\u001b[1;32m     12\u001b[0m react_measurements_ki \u001b[38;5;241m=\u001b[39m register_react_knowledge_interaction(\n\u001b[1;32m     13\u001b[0m     MEAS_GRAPH_PATTERN,\n\u001b[1;32m     14\u001b[0m     \u001b[38;5;28;01mNone\u001b[39;00m,\n\u001b[0;32m   (...)\u001b[0m\n\u001b[1;32m     18\u001b[0m     PREFIXES,\n\u001b[1;32m     19\u001b[0m )\n\u001b[0;32m---> 21\u001b[0m \u001b[43mstart_handle_loop\u001b[49m\u001b[43m(\u001b[49m\n\u001b[1;32m     22\u001b[0m \u001b[43m    \u001b[49m\u001b[43m{\u001b[49m\n\u001b[1;32m     23\u001b[0m \u001b[43m        \u001b[49m\u001b[43manswer_measurements_ki\u001b[49m\u001b[43m:\u001b[49m\u001b[43m \u001b[49m\u001b[43mhandle_answer_measurements\u001b[49m\u001b[43m,\u001b[49m\n\u001b[1;32m     24\u001b[0m \u001b[43m        \u001b[49m\u001b[43mreact_measurements_ki\u001b[49m\u001b[43m:\u001b[49m\u001b[43m \u001b[49m\u001b[43mhandle_react_measurements\u001b[49m\u001b[43m,\u001b[49m\n\u001b[1;32m     25\u001b[0m \u001b[43m    \u001b[49m\u001b[43m}\u001b[49m\u001b[43m,\u001b[49m\n\u001b[1;32m     26\u001b[0m \u001b[43m    \u001b[49m\u001b[43mkb_id\u001b[49m\u001b[43m,\u001b[49m\n\u001b[1;32m     27\u001b[0m \u001b[43m    \u001b[49m\u001b[43mke_endpoint\u001b[49m\u001b[43m,\u001b[49m\n\u001b[1;32m     28\u001b[0m \u001b[43m\u001b[49m\u001b[43m)\u001b[49m\n",
      "File \u001b[0;32m~/work/BScP_NBs/docker_nbs/utils.py:245\u001b[0m, in \u001b[0;36mstart_handle_loop\u001b[0;34m(handlers, kb_id, ke_endpoint)\u001b[0m\n\u001b[1;32m    235\u001b[0m \u001b[38;5;250m\u001b[39m\u001b[38;5;124;03m\"\"\"\u001b[39;00m\n\u001b[1;32m    236\u001b[0m \u001b[38;5;124;03mStart the handle loop, where it will long poll to a route that returns a\u001b[39;00m\n\u001b[1;32m    237\u001b[0m \u001b[38;5;124;03mhandle request when it arrives.\u001b[39;00m\n\u001b[0;32m   (...)\u001b[0m\n\u001b[1;32m    242\u001b[0m \u001b[38;5;124;03mback to the KE.\u001b[39;00m\n\u001b[1;32m    243\u001b[0m \u001b[38;5;124;03m\"\"\"\u001b[39;00m\n\u001b[1;32m    244\u001b[0m \u001b[38;5;28;01mwhile\u001b[39;00m \u001b[38;5;28;01mTrue\u001b[39;00m:\n\u001b[0;32m--> 245\u001b[0m     response \u001b[38;5;241m=\u001b[39m \u001b[43mrequests\u001b[49m\u001b[38;5;241;43m.\u001b[39;49m\u001b[43mget\u001b[49m\u001b[43m(\u001b[49m\n\u001b[1;32m    246\u001b[0m \u001b[43m        \u001b[49m\u001b[43mke_endpoint\u001b[49m\u001b[43m \u001b[49m\u001b[38;5;241;43m+\u001b[39;49m\u001b[43m \u001b[49m\u001b[38;5;124;43m\"\u001b[39;49m\u001b[38;5;124;43msc/handle\u001b[39;49m\u001b[38;5;124;43m\"\u001b[39;49m\u001b[43m,\u001b[49m\u001b[43m \u001b[49m\u001b[43mheaders\u001b[49m\u001b[38;5;241;43m=\u001b[39;49m\u001b[43m{\u001b[49m\u001b[38;5;124;43m\"\u001b[39;49m\u001b[38;5;124;43mKnowledge-Base-Id\u001b[39;49m\u001b[38;5;124;43m\"\u001b[39;49m\u001b[43m:\u001b[49m\u001b[43m \u001b[49m\u001b[43mkb_id\u001b[49m\u001b[43m}\u001b[49m\n\u001b[1;32m    247\u001b[0m \u001b[43m    \u001b[49m\u001b[43m)\u001b[49m\n\u001b[1;32m    249\u001b[0m     \u001b[38;5;28;01mif\u001b[39;00m response\u001b[38;5;241m.\u001b[39mstatus_code \u001b[38;5;241m==\u001b[39m \u001b[38;5;241m200\u001b[39m:\n\u001b[1;32m    250\u001b[0m         \u001b[38;5;66;03m# 200 means: we receive bindings that we need to handle, then repoll asap.\u001b[39;00m\n\u001b[1;32m    251\u001b[0m         handle_request \u001b[38;5;241m=\u001b[39m response\u001b[38;5;241m.\u001b[39mjson()\n",
      "File \u001b[0;32m/opt/conda/lib/python3.10/site-packages/requests/api.py:73\u001b[0m, in \u001b[0;36mget\u001b[0;34m(url, params, **kwargs)\u001b[0m\n\u001b[1;32m     62\u001b[0m \u001b[38;5;28;01mdef\u001b[39;00m \u001b[38;5;21mget\u001b[39m(url, params\u001b[38;5;241m=\u001b[39m\u001b[38;5;28;01mNone\u001b[39;00m, \u001b[38;5;241m*\u001b[39m\u001b[38;5;241m*\u001b[39mkwargs):\n\u001b[1;32m     63\u001b[0m \u001b[38;5;250m    \u001b[39m\u001b[38;5;124mr\u001b[39m\u001b[38;5;124;03m\"\"\"Sends a GET request.\u001b[39;00m\n\u001b[1;32m     64\u001b[0m \n\u001b[1;32m     65\u001b[0m \u001b[38;5;124;03m    :param url: URL for the new :class:`Request` object.\u001b[39;00m\n\u001b[0;32m   (...)\u001b[0m\n\u001b[1;32m     70\u001b[0m \u001b[38;5;124;03m    :rtype: requests.Response\u001b[39;00m\n\u001b[1;32m     71\u001b[0m \u001b[38;5;124;03m    \"\"\"\u001b[39;00m\n\u001b[0;32m---> 73\u001b[0m     \u001b[38;5;28;01mreturn\u001b[39;00m \u001b[43mrequest\u001b[49m\u001b[43m(\u001b[49m\u001b[38;5;124;43m\"\u001b[39;49m\u001b[38;5;124;43mget\u001b[39;49m\u001b[38;5;124;43m\"\u001b[39;49m\u001b[43m,\u001b[49m\u001b[43m \u001b[49m\u001b[43murl\u001b[49m\u001b[43m,\u001b[49m\u001b[43m \u001b[49m\u001b[43mparams\u001b[49m\u001b[38;5;241;43m=\u001b[39;49m\u001b[43mparams\u001b[49m\u001b[43m,\u001b[49m\u001b[43m \u001b[49m\u001b[38;5;241;43m*\u001b[39;49m\u001b[38;5;241;43m*\u001b[39;49m\u001b[43mkwargs\u001b[49m\u001b[43m)\u001b[49m\n",
      "File \u001b[0;32m/opt/conda/lib/python3.10/site-packages/requests/api.py:59\u001b[0m, in \u001b[0;36mrequest\u001b[0;34m(method, url, **kwargs)\u001b[0m\n\u001b[1;32m     55\u001b[0m \u001b[38;5;66;03m# By using the 'with' statement we are sure the session is closed, thus we\u001b[39;00m\n\u001b[1;32m     56\u001b[0m \u001b[38;5;66;03m# avoid leaving sockets open which can trigger a ResourceWarning in some\u001b[39;00m\n\u001b[1;32m     57\u001b[0m \u001b[38;5;66;03m# cases, and look like a memory leak in others.\u001b[39;00m\n\u001b[1;32m     58\u001b[0m \u001b[38;5;28;01mwith\u001b[39;00m sessions\u001b[38;5;241m.\u001b[39mSession() \u001b[38;5;28;01mas\u001b[39;00m session:\n\u001b[0;32m---> 59\u001b[0m     \u001b[38;5;28;01mreturn\u001b[39;00m \u001b[43msession\u001b[49m\u001b[38;5;241;43m.\u001b[39;49m\u001b[43mrequest\u001b[49m\u001b[43m(\u001b[49m\u001b[43mmethod\u001b[49m\u001b[38;5;241;43m=\u001b[39;49m\u001b[43mmethod\u001b[49m\u001b[43m,\u001b[49m\u001b[43m \u001b[49m\u001b[43murl\u001b[49m\u001b[38;5;241;43m=\u001b[39;49m\u001b[43murl\u001b[49m\u001b[43m,\u001b[49m\u001b[43m \u001b[49m\u001b[38;5;241;43m*\u001b[39;49m\u001b[38;5;241;43m*\u001b[39;49m\u001b[43mkwargs\u001b[49m\u001b[43m)\u001b[49m\n",
      "File \u001b[0;32m/opt/conda/lib/python3.10/site-packages/requests/sessions.py:587\u001b[0m, in \u001b[0;36mSession.request\u001b[0;34m(self, method, url, params, data, headers, cookies, files, auth, timeout, allow_redirects, proxies, hooks, stream, verify, cert, json)\u001b[0m\n\u001b[1;32m    582\u001b[0m send_kwargs \u001b[38;5;241m=\u001b[39m {\n\u001b[1;32m    583\u001b[0m     \u001b[38;5;124m\"\u001b[39m\u001b[38;5;124mtimeout\u001b[39m\u001b[38;5;124m\"\u001b[39m: timeout,\n\u001b[1;32m    584\u001b[0m     \u001b[38;5;124m\"\u001b[39m\u001b[38;5;124mallow_redirects\u001b[39m\u001b[38;5;124m\"\u001b[39m: allow_redirects,\n\u001b[1;32m    585\u001b[0m }\n\u001b[1;32m    586\u001b[0m send_kwargs\u001b[38;5;241m.\u001b[39mupdate(settings)\n\u001b[0;32m--> 587\u001b[0m resp \u001b[38;5;241m=\u001b[39m \u001b[38;5;28;43mself\u001b[39;49m\u001b[38;5;241;43m.\u001b[39;49m\u001b[43msend\u001b[49m\u001b[43m(\u001b[49m\u001b[43mprep\u001b[49m\u001b[43m,\u001b[49m\u001b[43m \u001b[49m\u001b[38;5;241;43m*\u001b[39;49m\u001b[38;5;241;43m*\u001b[39;49m\u001b[43msend_kwargs\u001b[49m\u001b[43m)\u001b[49m\n\u001b[1;32m    589\u001b[0m \u001b[38;5;28;01mreturn\u001b[39;00m resp\n",
      "File \u001b[0;32m/opt/conda/lib/python3.10/site-packages/requests/sessions.py:701\u001b[0m, in \u001b[0;36mSession.send\u001b[0;34m(self, request, **kwargs)\u001b[0m\n\u001b[1;32m    698\u001b[0m start \u001b[38;5;241m=\u001b[39m preferred_clock()\n\u001b[1;32m    700\u001b[0m \u001b[38;5;66;03m# Send the request\u001b[39;00m\n\u001b[0;32m--> 701\u001b[0m r \u001b[38;5;241m=\u001b[39m \u001b[43madapter\u001b[49m\u001b[38;5;241;43m.\u001b[39;49m\u001b[43msend\u001b[49m\u001b[43m(\u001b[49m\u001b[43mrequest\u001b[49m\u001b[43m,\u001b[49m\u001b[43m \u001b[49m\u001b[38;5;241;43m*\u001b[39;49m\u001b[38;5;241;43m*\u001b[39;49m\u001b[43mkwargs\u001b[49m\u001b[43m)\u001b[49m\n\u001b[1;32m    703\u001b[0m \u001b[38;5;66;03m# Total elapsed time of the request (approximately)\u001b[39;00m\n\u001b[1;32m    704\u001b[0m elapsed \u001b[38;5;241m=\u001b[39m preferred_clock() \u001b[38;5;241m-\u001b[39m start\n",
      "File \u001b[0;32m/opt/conda/lib/python3.10/site-packages/requests/adapters.py:487\u001b[0m, in \u001b[0;36mHTTPAdapter.send\u001b[0;34m(self, request, stream, timeout, verify, cert, proxies)\u001b[0m\n\u001b[1;32m    484\u001b[0m     timeout \u001b[38;5;241m=\u001b[39m TimeoutSauce(connect\u001b[38;5;241m=\u001b[39mtimeout, read\u001b[38;5;241m=\u001b[39mtimeout)\n\u001b[1;32m    486\u001b[0m \u001b[38;5;28;01mtry\u001b[39;00m:\n\u001b[0;32m--> 487\u001b[0m     resp \u001b[38;5;241m=\u001b[39m \u001b[43mconn\u001b[49m\u001b[38;5;241;43m.\u001b[39;49m\u001b[43murlopen\u001b[49m\u001b[43m(\u001b[49m\n\u001b[1;32m    488\u001b[0m \u001b[43m        \u001b[49m\u001b[43mmethod\u001b[49m\u001b[38;5;241;43m=\u001b[39;49m\u001b[43mrequest\u001b[49m\u001b[38;5;241;43m.\u001b[39;49m\u001b[43mmethod\u001b[49m\u001b[43m,\u001b[49m\n\u001b[1;32m    489\u001b[0m \u001b[43m        \u001b[49m\u001b[43murl\u001b[49m\u001b[38;5;241;43m=\u001b[39;49m\u001b[43murl\u001b[49m\u001b[43m,\u001b[49m\n\u001b[1;32m    490\u001b[0m \u001b[43m        \u001b[49m\u001b[43mbody\u001b[49m\u001b[38;5;241;43m=\u001b[39;49m\u001b[43mrequest\u001b[49m\u001b[38;5;241;43m.\u001b[39;49m\u001b[43mbody\u001b[49m\u001b[43m,\u001b[49m\n\u001b[1;32m    491\u001b[0m \u001b[43m        \u001b[49m\u001b[43mheaders\u001b[49m\u001b[38;5;241;43m=\u001b[39;49m\u001b[43mrequest\u001b[49m\u001b[38;5;241;43m.\u001b[39;49m\u001b[43mheaders\u001b[49m\u001b[43m,\u001b[49m\n\u001b[1;32m    492\u001b[0m \u001b[43m        \u001b[49m\u001b[43mredirect\u001b[49m\u001b[38;5;241;43m=\u001b[39;49m\u001b[38;5;28;43;01mFalse\u001b[39;49;00m\u001b[43m,\u001b[49m\n\u001b[1;32m    493\u001b[0m \u001b[43m        \u001b[49m\u001b[43massert_same_host\u001b[49m\u001b[38;5;241;43m=\u001b[39;49m\u001b[38;5;28;43;01mFalse\u001b[39;49;00m\u001b[43m,\u001b[49m\n\u001b[1;32m    494\u001b[0m \u001b[43m        \u001b[49m\u001b[43mpreload_content\u001b[49m\u001b[38;5;241;43m=\u001b[39;49m\u001b[38;5;28;43;01mFalse\u001b[39;49;00m\u001b[43m,\u001b[49m\n\u001b[1;32m    495\u001b[0m \u001b[43m        \u001b[49m\u001b[43mdecode_content\u001b[49m\u001b[38;5;241;43m=\u001b[39;49m\u001b[38;5;28;43;01mFalse\u001b[39;49;00m\u001b[43m,\u001b[49m\n\u001b[1;32m    496\u001b[0m \u001b[43m        \u001b[49m\u001b[43mretries\u001b[49m\u001b[38;5;241;43m=\u001b[39;49m\u001b[38;5;28;43mself\u001b[39;49m\u001b[38;5;241;43m.\u001b[39;49m\u001b[43mmax_retries\u001b[49m\u001b[43m,\u001b[49m\n\u001b[1;32m    497\u001b[0m \u001b[43m        \u001b[49m\u001b[43mtimeout\u001b[49m\u001b[38;5;241;43m=\u001b[39;49m\u001b[43mtimeout\u001b[49m\u001b[43m,\u001b[49m\n\u001b[1;32m    498\u001b[0m \u001b[43m        \u001b[49m\u001b[43mchunked\u001b[49m\u001b[38;5;241;43m=\u001b[39;49m\u001b[43mchunked\u001b[49m\u001b[43m,\u001b[49m\n\u001b[1;32m    499\u001b[0m \u001b[43m    \u001b[49m\u001b[43m)\u001b[49m\n\u001b[1;32m    501\u001b[0m \u001b[38;5;28;01mexcept\u001b[39;00m (ProtocolError, \u001b[38;5;167;01mOSError\u001b[39;00m) \u001b[38;5;28;01mas\u001b[39;00m err:\n\u001b[1;32m    502\u001b[0m     \u001b[38;5;28;01mraise\u001b[39;00m \u001b[38;5;167;01mConnectionError\u001b[39;00m(err, request\u001b[38;5;241m=\u001b[39mrequest)\n",
      "File \u001b[0;32m/opt/conda/lib/python3.10/site-packages/urllib3/connectionpool.py:703\u001b[0m, in \u001b[0;36mHTTPConnectionPool.urlopen\u001b[0;34m(self, method, url, body, headers, retries, redirect, assert_same_host, timeout, pool_timeout, release_conn, chunked, body_pos, **response_kw)\u001b[0m\n\u001b[1;32m    700\u001b[0m     \u001b[38;5;28mself\u001b[39m\u001b[38;5;241m.\u001b[39m_prepare_proxy(conn)\n\u001b[1;32m    702\u001b[0m \u001b[38;5;66;03m# Make the request on the httplib connection object.\u001b[39;00m\n\u001b[0;32m--> 703\u001b[0m httplib_response \u001b[38;5;241m=\u001b[39m \u001b[38;5;28;43mself\u001b[39;49m\u001b[38;5;241;43m.\u001b[39;49m\u001b[43m_make_request\u001b[49m\u001b[43m(\u001b[49m\n\u001b[1;32m    704\u001b[0m \u001b[43m    \u001b[49m\u001b[43mconn\u001b[49m\u001b[43m,\u001b[49m\n\u001b[1;32m    705\u001b[0m \u001b[43m    \u001b[49m\u001b[43mmethod\u001b[49m\u001b[43m,\u001b[49m\n\u001b[1;32m    706\u001b[0m \u001b[43m    \u001b[49m\u001b[43murl\u001b[49m\u001b[43m,\u001b[49m\n\u001b[1;32m    707\u001b[0m \u001b[43m    \u001b[49m\u001b[43mtimeout\u001b[49m\u001b[38;5;241;43m=\u001b[39;49m\u001b[43mtimeout_obj\u001b[49m\u001b[43m,\u001b[49m\n\u001b[1;32m    708\u001b[0m \u001b[43m    \u001b[49m\u001b[43mbody\u001b[49m\u001b[38;5;241;43m=\u001b[39;49m\u001b[43mbody\u001b[49m\u001b[43m,\u001b[49m\n\u001b[1;32m    709\u001b[0m \u001b[43m    \u001b[49m\u001b[43mheaders\u001b[49m\u001b[38;5;241;43m=\u001b[39;49m\u001b[43mheaders\u001b[49m\u001b[43m,\u001b[49m\n\u001b[1;32m    710\u001b[0m \u001b[43m    \u001b[49m\u001b[43mchunked\u001b[49m\u001b[38;5;241;43m=\u001b[39;49m\u001b[43mchunked\u001b[49m\u001b[43m,\u001b[49m\n\u001b[1;32m    711\u001b[0m \u001b[43m\u001b[49m\u001b[43m)\u001b[49m\n\u001b[1;32m    713\u001b[0m \u001b[38;5;66;03m# If we're going to release the connection in ``finally:``, then\u001b[39;00m\n\u001b[1;32m    714\u001b[0m \u001b[38;5;66;03m# the response doesn't need to know about the connection. Otherwise\u001b[39;00m\n\u001b[1;32m    715\u001b[0m \u001b[38;5;66;03m# it will also try to release it and we'll have a double-release\u001b[39;00m\n\u001b[1;32m    716\u001b[0m \u001b[38;5;66;03m# mess.\u001b[39;00m\n\u001b[1;32m    717\u001b[0m response_conn \u001b[38;5;241m=\u001b[39m conn \u001b[38;5;28;01mif\u001b[39;00m \u001b[38;5;129;01mnot\u001b[39;00m release_conn \u001b[38;5;28;01melse\u001b[39;00m \u001b[38;5;28;01mNone\u001b[39;00m\n",
      "File \u001b[0;32m/opt/conda/lib/python3.10/site-packages/urllib3/connectionpool.py:449\u001b[0m, in \u001b[0;36mHTTPConnectionPool._make_request\u001b[0;34m(self, conn, method, url, timeout, chunked, **httplib_request_kw)\u001b[0m\n\u001b[1;32m    444\u001b[0m             httplib_response \u001b[38;5;241m=\u001b[39m conn\u001b[38;5;241m.\u001b[39mgetresponse()\n\u001b[1;32m    445\u001b[0m         \u001b[38;5;28;01mexcept\u001b[39;00m \u001b[38;5;167;01mBaseException\u001b[39;00m \u001b[38;5;28;01mas\u001b[39;00m e:\n\u001b[1;32m    446\u001b[0m             \u001b[38;5;66;03m# Remove the TypeError from the exception chain in\u001b[39;00m\n\u001b[1;32m    447\u001b[0m             \u001b[38;5;66;03m# Python 3 (including for exceptions like SystemExit).\u001b[39;00m\n\u001b[1;32m    448\u001b[0m             \u001b[38;5;66;03m# Otherwise it looks like a bug in the code.\u001b[39;00m\n\u001b[0;32m--> 449\u001b[0m             \u001b[43msix\u001b[49m\u001b[38;5;241;43m.\u001b[39;49m\u001b[43mraise_from\u001b[49m\u001b[43m(\u001b[49m\u001b[43me\u001b[49m\u001b[43m,\u001b[49m\u001b[43m \u001b[49m\u001b[38;5;28;43;01mNone\u001b[39;49;00m\u001b[43m)\u001b[49m\n\u001b[1;32m    450\u001b[0m \u001b[38;5;28;01mexcept\u001b[39;00m (SocketTimeout, BaseSSLError, SocketError) \u001b[38;5;28;01mas\u001b[39;00m e:\n\u001b[1;32m    451\u001b[0m     \u001b[38;5;28mself\u001b[39m\u001b[38;5;241m.\u001b[39m_raise_timeout(err\u001b[38;5;241m=\u001b[39me, url\u001b[38;5;241m=\u001b[39murl, timeout_value\u001b[38;5;241m=\u001b[39mread_timeout)\n",
      "File \u001b[0;32m<string>:3\u001b[0m, in \u001b[0;36mraise_from\u001b[0;34m(value, from_value)\u001b[0m\n",
      "File \u001b[0;32m/opt/conda/lib/python3.10/site-packages/urllib3/connectionpool.py:444\u001b[0m, in \u001b[0;36mHTTPConnectionPool._make_request\u001b[0;34m(self, conn, method, url, timeout, chunked, **httplib_request_kw)\u001b[0m\n\u001b[1;32m    441\u001b[0m \u001b[38;5;28;01mexcept\u001b[39;00m \u001b[38;5;167;01mTypeError\u001b[39;00m:\n\u001b[1;32m    442\u001b[0m     \u001b[38;5;66;03m# Python 3\u001b[39;00m\n\u001b[1;32m    443\u001b[0m     \u001b[38;5;28;01mtry\u001b[39;00m:\n\u001b[0;32m--> 444\u001b[0m         httplib_response \u001b[38;5;241m=\u001b[39m \u001b[43mconn\u001b[49m\u001b[38;5;241;43m.\u001b[39;49m\u001b[43mgetresponse\u001b[49m\u001b[43m(\u001b[49m\u001b[43m)\u001b[49m\n\u001b[1;32m    445\u001b[0m     \u001b[38;5;28;01mexcept\u001b[39;00m \u001b[38;5;167;01mBaseException\u001b[39;00m \u001b[38;5;28;01mas\u001b[39;00m e:\n\u001b[1;32m    446\u001b[0m         \u001b[38;5;66;03m# Remove the TypeError from the exception chain in\u001b[39;00m\n\u001b[1;32m    447\u001b[0m         \u001b[38;5;66;03m# Python 3 (including for exceptions like SystemExit).\u001b[39;00m\n\u001b[1;32m    448\u001b[0m         \u001b[38;5;66;03m# Otherwise it looks like a bug in the code.\u001b[39;00m\n\u001b[1;32m    449\u001b[0m         six\u001b[38;5;241m.\u001b[39mraise_from(e, \u001b[38;5;28;01mNone\u001b[39;00m)\n",
      "File \u001b[0;32m/opt/conda/lib/python3.10/http/client.py:1375\u001b[0m, in \u001b[0;36mHTTPConnection.getresponse\u001b[0;34m(self)\u001b[0m\n\u001b[1;32m   1373\u001b[0m \u001b[38;5;28;01mtry\u001b[39;00m:\n\u001b[1;32m   1374\u001b[0m     \u001b[38;5;28;01mtry\u001b[39;00m:\n\u001b[0;32m-> 1375\u001b[0m         \u001b[43mresponse\u001b[49m\u001b[38;5;241;43m.\u001b[39;49m\u001b[43mbegin\u001b[49m\u001b[43m(\u001b[49m\u001b[43m)\u001b[49m\n\u001b[1;32m   1376\u001b[0m     \u001b[38;5;28;01mexcept\u001b[39;00m \u001b[38;5;167;01mConnectionError\u001b[39;00m:\n\u001b[1;32m   1377\u001b[0m         \u001b[38;5;28mself\u001b[39m\u001b[38;5;241m.\u001b[39mclose()\n",
      "File \u001b[0;32m/opt/conda/lib/python3.10/http/client.py:318\u001b[0m, in \u001b[0;36mHTTPResponse.begin\u001b[0;34m(self)\u001b[0m\n\u001b[1;32m    316\u001b[0m \u001b[38;5;66;03m# read until we get a non-100 response\u001b[39;00m\n\u001b[1;32m    317\u001b[0m \u001b[38;5;28;01mwhile\u001b[39;00m \u001b[38;5;28;01mTrue\u001b[39;00m:\n\u001b[0;32m--> 318\u001b[0m     version, status, reason \u001b[38;5;241m=\u001b[39m \u001b[38;5;28;43mself\u001b[39;49m\u001b[38;5;241;43m.\u001b[39;49m\u001b[43m_read_status\u001b[49m\u001b[43m(\u001b[49m\u001b[43m)\u001b[49m\n\u001b[1;32m    319\u001b[0m     \u001b[38;5;28;01mif\u001b[39;00m status \u001b[38;5;241m!=\u001b[39m CONTINUE:\n\u001b[1;32m    320\u001b[0m         \u001b[38;5;28;01mbreak\u001b[39;00m\n",
      "File \u001b[0;32m/opt/conda/lib/python3.10/http/client.py:279\u001b[0m, in \u001b[0;36mHTTPResponse._read_status\u001b[0;34m(self)\u001b[0m\n\u001b[1;32m    278\u001b[0m \u001b[38;5;28;01mdef\u001b[39;00m \u001b[38;5;21m_read_status\u001b[39m(\u001b[38;5;28mself\u001b[39m):\n\u001b[0;32m--> 279\u001b[0m     line \u001b[38;5;241m=\u001b[39m \u001b[38;5;28mstr\u001b[39m(\u001b[38;5;28;43mself\u001b[39;49m\u001b[38;5;241;43m.\u001b[39;49m\u001b[43mfp\u001b[49m\u001b[38;5;241;43m.\u001b[39;49m\u001b[43mreadline\u001b[49m\u001b[43m(\u001b[49m\u001b[43m_MAXLINE\u001b[49m\u001b[43m \u001b[49m\u001b[38;5;241;43m+\u001b[39;49m\u001b[43m \u001b[49m\u001b[38;5;241;43m1\u001b[39;49m\u001b[43m)\u001b[49m, \u001b[38;5;124m\"\u001b[39m\u001b[38;5;124miso-8859-1\u001b[39m\u001b[38;5;124m\"\u001b[39m)\n\u001b[1;32m    280\u001b[0m     \u001b[38;5;28;01mif\u001b[39;00m \u001b[38;5;28mlen\u001b[39m(line) \u001b[38;5;241m>\u001b[39m _MAXLINE:\n\u001b[1;32m    281\u001b[0m         \u001b[38;5;28;01mraise\u001b[39;00m LineTooLong(\u001b[38;5;124m\"\u001b[39m\u001b[38;5;124mstatus line\u001b[39m\u001b[38;5;124m\"\u001b[39m)\n",
      "File \u001b[0;32m/opt/conda/lib/python3.10/socket.py:705\u001b[0m, in \u001b[0;36mSocketIO.readinto\u001b[0;34m(self, b)\u001b[0m\n\u001b[1;32m    703\u001b[0m \u001b[38;5;28;01mwhile\u001b[39;00m \u001b[38;5;28;01mTrue\u001b[39;00m:\n\u001b[1;32m    704\u001b[0m     \u001b[38;5;28;01mtry\u001b[39;00m:\n\u001b[0;32m--> 705\u001b[0m         \u001b[38;5;28;01mreturn\u001b[39;00m \u001b[38;5;28;43mself\u001b[39;49m\u001b[38;5;241;43m.\u001b[39;49m\u001b[43m_sock\u001b[49m\u001b[38;5;241;43m.\u001b[39;49m\u001b[43mrecv_into\u001b[49m\u001b[43m(\u001b[49m\u001b[43mb\u001b[49m\u001b[43m)\u001b[49m\n\u001b[1;32m    706\u001b[0m     \u001b[38;5;28;01mexcept\u001b[39;00m timeout:\n\u001b[1;32m    707\u001b[0m         \u001b[38;5;28mself\u001b[39m\u001b[38;5;241m.\u001b[39m_timeout_occurred \u001b[38;5;241m=\u001b[39m \u001b[38;5;28;01mTrue\u001b[39;00m\n",
      "\u001b[0;31mKeyboardInterrupt\u001b[0m: "
     ]
    }
   ],
   "source": [
    "start_storage_kb(\n",
    "    \"http://example.org/storage\",\n",
    "    \"Storage\",\n",
    "    \"GraphDB smart connector\",\n",
    "    \"http://knowledge_engine:8280/rest/\",\n",
    ")"
   ]
  },
  {
   "cell_type": "code",
   "execution_count": null,
   "id": "f4cbf2a6-3a50-484c-9235-6a3d0aa185cb",
   "metadata": {},
   "outputs": [],
   "source": [
    "# java.util.concurrent.CompletionException: java.lang.IllegalArgumentException: KB gave outgoing binding Binding [map={room_id=\"http://0.0.0.0:8001/thermostat/rooms/1\", temp=\"13\", device_id=\"http://0.0.0.0:8001/thermostat/devices/1\", meas=\"http://0.0.0.0:8001/thermostat/measurements/07ade4c8-8221-4679-9348-0972cae20ad8\", endTimestamp=\"2023-06-21T15:28:09+00:00\", startTimestamp=\"2023-06-20T21:00:00+00:00\", timestamp=\"2023-06-20T21:56:34+00:00\"}], but this doesn't have a matching incoming binding!"
   ]
  },
  {
   "cell_type": "code",
   "execution_count": null,
   "id": "72515543-c37f-4be4-9ac2-2c3493020d6d",
   "metadata": {},
   "outputs": [],
   "source": []
  }
 ],
 "metadata": {
  "kernelspec": {
   "display_name": "Python 3 (ipykernel)",
   "language": "python",
   "name": "python3"
  },
  "language_info": {
   "codemirror_mode": {
    "name": "ipython",
    "version": 3
   },
   "file_extension": ".py",
   "mimetype": "text/x-python",
   "name": "python",
   "nbconvert_exporter": "python",
   "pygments_lexer": "ipython3",
   "version": "3.10.11"
  }
 },
 "nbformat": 4,
 "nbformat_minor": 5
}
