{
 "cells": [
  {
   "cell_type": "code",
   "execution_count": 1,
   "id": "fe3850c0-7c57-454d-98d6-f2fab223e2be",
   "metadata": {
    "tags": []
   },
   "outputs": [],
   "source": [
    "# Monitor SC"
   ]
  },
  {
   "cell_type": "code",
   "execution_count": 2,
   "id": "efdd297b-1f15-4622-a5c0-860d5076e532",
   "metadata": {
    "tags": []
   },
   "outputs": [],
   "source": [
    "import logging\n",
    "import uuid\n",
    "\n",
    "import smartpynector as sp\n",
    "from utils import *"
   ]
  },
  {
   "cell_type": "code",
   "execution_count": 3,
   "id": "4a9f43c4-ed79-43fc-8b0c-ee890f32ccc6",
   "metadata": {
    "tags": []
   },
   "outputs": [],
   "source": [
    "logging.basicConfig(level=logging.INFO)\n",
    "logger = logging.getLogger(\"MonitorSC\")"
   ]
  },
  {
   "cell_type": "code",
   "execution_count": 4,
   "id": "a24170e2-d4e6-4b7c-9ce0-9f8bf647ac41",
   "metadata": {
    "tags": []
   },
   "outputs": [],
   "source": [
    "# Constants\n",
    "READ_URL = \"https://graphdb.odissei.nl/repositories/MateuszTest\"\n",
    "WRITE_URL = \"https://graphdb.odissei.nl/repositories/MateuszTest/statements\"\n",
    "\n",
    "THERMOSTAT_API_URL = \"http://0.0.0.0:8001/thermostat\"\n",
    "PREFIXES = {\n",
    "    \"rdf\": \"http://www.w3.org/1999/02/22-rdf-syntax-ns#\",\n",
    "    \"saref\": \"https://w3id.org/saref#\",\n",
    "    \"xsd\": \"http://www.w3.org/2001/XMLSchema#\",\n",
    "    \"ex\": \"http://example.org/\",\n",
    "}\n",
    "\n",
    "MEAS_GRAPH_PATTERN = \"\"\"?meas rdf:type saref:Measurement .\n",
    "                        ?meas saref:hasValue ?temp .\n",
    "                        ?meas saref:isMeasuredIn saref:TemperatureUnit .\n",
    "                        ?meas saref:hasTimestamp ?timestamp .\n",
    "                        ?meas saref:isMeasurementOf ?room_id .\n",
    "                        ?meas saref:relatesToProperty saref:Temperature .\n",
    "                        ?meas saref:measurementMadeBy ?device_id .\"\"\"\n",
    "\n",
    "H_MEAS_GRAPH_PATTERN = \"\"\"?meas rdf:type saref:Measurement .\n",
    "                        ?meas saref:hasValue ?temp .\n",
    "                        ?meas saref:isMeasuredIn saref:TemperatureUnit .\n",
    "                        ?meas saref:hasTimestamp ?timestamp .\n",
    "                        ?meas saref:isMeasurementOf ?room_id .\n",
    "                        ?meas saref:relatesToProperty saref:Temperature .\n",
    "                        ?meas saref:measurementMadeBy ?device_id .\n",
    "                        ?meas ex:measuredAfter ?startTimestamp .\n",
    "                        ?meas ex:measuredBefore ?endTimestamp .\"\"\""
   ]
  },
  {
   "cell_type": "code",
   "execution_count": 5,
   "id": "c414c89c-e6cd-42b1-b8dc-518ca32afb45",
   "metadata": {
    "tags": []
   },
   "outputs": [],
   "source": [
    "def start_monitor_kb(kb_id, kb_name, kb_description, ke_endpoint):\n",
    "    register_knowledge_base(kb_id, kb_name, kb_description, ke_endpoint)\n",
    "\n",
    "    global ask_measurements_ki\n",
    "    ask_measurements_ki = register_ask_knowledge_interaction(\n",
    "        H_MEAS_GRAPH_PATTERN,\n",
    "        \"ask-measurements\",\n",
    "        kb_id,\n",
    "        ke_endpoint,\n",
    "        PREFIXES,\n",
    "    )"
   ]
  },
  {
   "cell_type": "code",
   "execution_count": 6,
   "id": "759c97f5-cc16-4e4d-915e-bc389badb1a2",
   "metadata": {
    "tags": []
   },
   "outputs": [
    {
     "name": "stderr",
     "output_type": "stream",
     "text": [
      "2023-06-21 16:00:14 INFO registered Monitor\n",
      "2023-06-21 16:00:14 INFO received issued knowledge interaction id: http://example.org/monitor/interaction/ask-measurements\n"
     ]
    }
   ],
   "source": [
    "start_monitor_kb(\n",
    "    \"http://example.org/monitor\",\n",
    "    \"Monitor\",\n",
    "    \"Monitor for storage\",\n",
    "    \"http://knowledge_engine:8280/rest/\",\n",
    ")"
   ]
  },
  {
   "cell_type": "code",
   "execution_count": 7,
   "id": "8a350239-13d8-41a3-a272-a5e78816a38c",
   "metadata": {
    "tags": []
   },
   "outputs": [],
   "source": [
    "# java.util.concurrent.CompletionException: java.lang.IllegalArgumentException: KB gave outgoing binding Binding [map={room_id=\"http://0.0.0.0:8001/thermostat/rooms/1\", temp=\"13\", device_id=\"http://0.0.0.0:8001/thermostat/devices/1\", meas=\"http://0.0.0.0:8001/thermostat/measurements/07ade4c8-8221-4679-9348-0972cae20ad8\", endTimestamp=\"2023-06-21T15:28:09+00:00\", startTimestamp=\"2023-06-20T21:00:00+00:00\", timestamp=\"2023-06-20T21:56:34+00:00\"}], but this doesn't have a matching incoming binding!"
   ]
  },
  {
   "cell_type": "code",
   "execution_count": 8,
   "id": "108201b0-d4a4-49f6-aaf4-e1858d9a2b0c",
   "metadata": {
    "tags": []
   },
   "outputs": [],
   "source": [
    "def graph_data(start_time, end_time):\n",
    "    global histhistorical_measurements\n",
    "    historical_measurements = ask(\n",
    "        [\n",
    "            {\n",
    "                \"meas\": f\"<{THERMOSTAT_API_URL}/measurements/{str(uuid.uuid4())}>\",\n",
    "                \"temp\": \"n/a\",\n",
    "                \"timestamp\": f'\"{sp.get_timestamp_now()}\"',  # ISO 8601 format\n",
    "                \"room_id\": f'\"{THERMOSTAT_API_URL}/rooms/1\"',\n",
    "                \"device_id\": f'\"{THERMOSTAT_API_URL}/devices/1\"',\n",
    "                \"startTimestamp\": f\"{start_time}\",\n",
    "                \"endTimestamp\": f\"{end_time}\",\n",
    "            }\n",
    "        ],\n",
    "        ask_measurements_ki,\n",
    "        \"http://example.org/monitor\",\n",
    "        \"http://knowledge_engine:8280/rest/\",\n",
    "    )\n",
    "\n",
    "    logger.info(f\"Historical measurements: {historical_measurements}\")"
   ]
  },
  {
   "cell_type": "code",
   "execution_count": 9,
   "id": "f53ba272-6fa1-4d7d-b56e-50928f228fd9",
   "metadata": {},
   "outputs": [
    {
     "data": {
      "application/vnd.jupyter.widget-view+json": {
       "model_id": "c94c42371f164f2b935221c775f83ad8",
       "version_major": 2,
       "version_minor": 0
      },
      "text/plain": [
       "HBox(children=(DatetimePicker(value=datetime.datetime(2023, 6, 21, 16, 0, 14, tzinfo=datetime.timezone(datetim…"
      ]
     },
     "metadata": {},
     "output_type": "display_data"
    }
   ],
   "source": [
    "from datetime import datetime\n",
    "\n",
    "from IPython.display import display\n",
    "from ipywidgets import Button, DatetimePicker, HBox\n",
    "\n",
    "\n",
    "def convert_datetimes(start_widget, end_widget):\n",
    "    start_datetime_obj = (\n",
    "        start_widget.value.astimezone().replace(microsecond=0).isoformat()\n",
    "    )  # ISO 8601\n",
    "    end_datetime_obj = (\n",
    "        end_widget.value.astimezone().replace(microsecond=0).isoformat()\n",
    "    )  # ISO 8601\n",
    "    return start_datetime_obj, end_datetime_obj\n",
    "\n",
    "\n",
    "start_widget = DatetimePicker(description=\"Start Time:\", disabled=False)\n",
    "start_widget.value = datetime.now().astimezone().replace(microsecond=0)\n",
    "\n",
    "end_widget = DatetimePicker(description=\"End Time:\", disabled=False)\n",
    "end_widget.value = datetime.now().astimezone().replace(microsecond=0)\n",
    "\n",
    "submit_button = Button(description=\"Submit\", button_style=\"danger\")\n",
    "\n",
    "display(HBox([start_widget, end_widget, submit_button]))\n",
    "\n",
    "\n",
    "def on_button_click(button):\n",
    "    start_timestamp, end_timestamp = convert_datetimes(start_widget, end_widget)\n",
    "    logger.info(f\"Start: {start_timestamp}, End: {end_timestamp}\")\n",
    "    graph_data(start_timestamp, end_timestamp)\n",
    "\n",
    "\n",
    "submit_button.on_click(on_button_click)"
   ]
  },
  {
   "cell_type": "code",
   "execution_count": null,
   "id": "32f7258c-d1a4-4d91-bb79-384240afae77",
   "metadata": {},
   "outputs": [],
   "source": []
  }
 ],
 "metadata": {
  "kernelspec": {
   "display_name": "Python 3 (ipykernel)",
   "language": "python",
   "name": "python3"
  },
  "language_info": {
   "codemirror_mode": {
    "name": "ipython",
    "version": 3
   },
   "file_extension": ".py",
   "mimetype": "text/x-python",
   "name": "python",
   "nbconvert_exporter": "python",
   "pygments_lexer": "ipython3",
   "version": "3.10.11"
  }
 },
 "nbformat": 4,
 "nbformat_minor": 5
}
