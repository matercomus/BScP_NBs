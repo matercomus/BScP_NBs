{
 "cells": [
  {
   "cell_type": "code",
   "execution_count": 1,
   "id": "fe3850c0-7c57-454d-98d6-f2fab223e2be",
   "metadata": {
    "tags": []
   },
   "outputs": [],
   "source": [
    "# Monitor SC"
   ]
  },
  {
   "cell_type": "code",
   "execution_count": 2,
   "id": "6f4c608a-061b-47ec-97da-46267c1b7997",
   "metadata": {
    "tags": []
   },
   "outputs": [
    {
     "name": "stdout",
     "output_type": "stream",
     "text": [
      "Requirement already satisfied: matplotlib in /opt/conda/lib/python3.10/site-packages (3.7.1)\n",
      "Requirement already satisfied: seaborn in /opt/conda/lib/python3.10/site-packages (0.12.2)\n",
      "Requirement already satisfied: pandas in /opt/conda/lib/python3.10/site-packages (2.0.2)\n",
      "Requirement already satisfied: contourpy>=1.0.1 in /opt/conda/lib/python3.10/site-packages (from matplotlib) (1.1.0)\n",
      "Requirement already satisfied: cycler>=0.10 in /opt/conda/lib/python3.10/site-packages (from matplotlib) (0.11.0)\n",
      "Requirement already satisfied: fonttools>=4.22.0 in /opt/conda/lib/python3.10/site-packages (from matplotlib) (4.40.0)\n",
      "Requirement already satisfied: kiwisolver>=1.0.1 in /opt/conda/lib/python3.10/site-packages (from matplotlib) (1.4.4)\n",
      "Requirement already satisfied: numpy>=1.20 in /opt/conda/lib/python3.10/site-packages (from matplotlib) (1.25.0)\n",
      "Requirement already satisfied: packaging>=20.0 in /opt/conda/lib/python3.10/site-packages (from matplotlib) (23.1)\n",
      "Requirement already satisfied: pillow>=6.2.0 in /opt/conda/lib/python3.10/site-packages (from matplotlib) (9.5.0)\n",
      "Requirement already satisfied: pyparsing>=2.3.1 in /opt/conda/lib/python3.10/site-packages (from matplotlib) (3.0.9)\n",
      "Requirement already satisfied: python-dateutil>=2.7 in /opt/conda/lib/python3.10/site-packages (from matplotlib) (2.8.2)\n",
      "Requirement already satisfied: pytz>=2020.1 in /opt/conda/lib/python3.10/site-packages (from pandas) (2023.3)\n",
      "Requirement already satisfied: tzdata>=2022.1 in /opt/conda/lib/python3.10/site-packages (from pandas) (2023.3)\n",
      "Requirement already satisfied: six>=1.5 in /opt/conda/lib/python3.10/site-packages (from python-dateutil>=2.7->matplotlib) (1.16.0)\n"
     ]
    }
   ],
   "source": [
    "!pip install matplotlib seaborn pandas"
   ]
  },
  {
   "cell_type": "code",
   "execution_count": 3,
   "id": "efdd297b-1f15-4622-a5c0-860d5076e532",
   "metadata": {
    "tags": []
   },
   "outputs": [],
   "source": [
    "import logging\n",
    "import uuid\n",
    "\n",
    "import matplotlib.pyplot as plt\n",
    "import pandas as pd\n",
    "import seaborn as sns\n",
    "import smartpynector as sp\n",
    "from utils import *"
   ]
  },
  {
   "cell_type": "code",
   "execution_count": 4,
   "id": "4a9f43c4-ed79-43fc-8b0c-ee890f32ccc6",
   "metadata": {
    "tags": []
   },
   "outputs": [],
   "source": [
    "logging.basicConfig(level=logging.INFO)\n",
    "logger = logging.getLogger(\"MonitorSC\")"
   ]
  },
  {
   "cell_type": "code",
   "execution_count": 5,
   "id": "a24170e2-d4e6-4b7c-9ce0-9f8bf647ac41",
   "metadata": {
    "tags": []
   },
   "outputs": [],
   "source": [
    "# Constants\n",
    "READ_URL = \"https://graphdb.odissei.nl/repositories/MateuszTest\"\n",
    "WRITE_URL = \"https://graphdb.odissei.nl/repositories/MateuszTest/statements\"\n",
    "\n",
    "THERMOSTAT_API_URL = \"http://0.0.0.0:8001/thermostat\"\n",
    "PREFIXES = {\n",
    "    \"rdf\": \"http://www.w3.org/1999/02/22-rdf-syntax-ns#\",\n",
    "    \"saref\": \"https://w3id.org/saref#\",\n",
    "    \"xsd\": \"http://www.w3.org/2001/XMLSchema#\",\n",
    "    \"ex\": \"http://example.org/\",\n",
    "}\n",
    "\n",
    "MEAS_GRAPH_PATTERN = \"\"\"?meas rdf:type saref:Measurement .\n",
    "                        ?meas saref:hasValue ?temp .\n",
    "                        ?meas saref:isMeasuredIn saref:TemperatureUnit .\n",
    "                        ?meas saref:hasTimestamp ?timestamp .\n",
    "                        ?meas saref:isMeasurementOf ?room_id .\n",
    "                        ?meas saref:relatesToProperty saref:Temperature .\n",
    "                        ?meas saref:measurementMadeBy ?device_id .\"\"\"\n",
    "\n",
    "H_MEAS_II_GRAPH_PATTERN = \"\"\"?timeseries rdf:type ex:Timeseries .\n",
    "                            ?timeseries ex:hasMeasurement ?meas .\n",
    "                            ?timeseries ex:measuredAfter ?startTimestamp .\n",
    "                            ?timeseries ex:measuredBefore ?endTimestamp .\n",
    "                            ?meas rdf:type saref:Measurement .\n",
    "                            ?meas saref:hasValue ?temp .\n",
    "                            ?meas saref:hasTimestamp ?timestamp .\n",
    "                            \"\"\""
   ]
  },
  {
   "cell_type": "code",
   "execution_count": 6,
   "id": "c414c89c-e6cd-42b1-b8dc-518ca32afb45",
   "metadata": {
    "tags": []
   },
   "outputs": [],
   "source": [
    "def start_monitor_kb(kb_id, kb_name, kb_description, ke_endpoint):\n",
    "    # delete in case allready exists\n",
    "    delete_knowledge_base(kb_id, ke_endpoint)\n",
    "\n",
    "    # register kb\n",
    "    register_knowledge_base(kb_id, kb_name, kb_description, ke_endpoint)\n",
    "\n",
    "    global ask_measurements_ki\n",
    "    ask_measurements_ki = register_ask_knowledge_interaction(\n",
    "        H_MEAS_II_GRAPH_PATTERN,\n",
    "        \"ask-measurements\",\n",
    "        kb_id,\n",
    "        ke_endpoint,\n",
    "        PREFIXES,\n",
    "    )"
   ]
  },
  {
   "cell_type": "code",
   "execution_count": 7,
   "id": "759c97f5-cc16-4e4d-915e-bc389badb1a2",
   "metadata": {
    "tags": []
   },
   "outputs": [
    {
     "name": "stderr",
     "output_type": "stream",
     "text": [
      "2023-06-22 00:48:08 INFO deleted http://example.org/monitor\n",
      "2023-06-22 00:48:08 INFO registered Monitor\n",
      "2023-06-22 00:48:08 INFO received issued knowledge interaction id: http://example.org/monitor/interaction/ask-measurements\n"
     ]
    }
   ],
   "source": [
    "start_monitor_kb(\n",
    "    \"http://example.org/monitor\",\n",
    "    \"Monitor\",\n",
    "    \"Monitor for storage\",\n",
    "    \"http://knowledge_engine:8280/rest/\",\n",
    ")"
   ]
  },
  {
   "cell_type": "code",
   "execution_count": 8,
   "id": "8a350239-13d8-41a3-a272-a5e78816a38c",
   "metadata": {
    "tags": []
   },
   "outputs": [],
   "source": [
    "def plot_temperature(data):\n",
    "    # Convert data to a DataFrame\n",
    "    df = pd.DataFrame(data)\n",
    "\n",
    "    # Convert timestamp and temperature columns to appropriate data types\n",
    "    df[\"timestamp\"] = df[\"timestamp\"].str.strip('\"')\n",
    "    df[\"timestamp\"] = pd.to_datetime(df[\"timestamp\"])\n",
    "\n",
    "    df[\"temp\"] = df[\"temp\"].str.strip('\"')\n",
    "    df[\"temp\"] = pd.to_numeric(df[\"temp\"])\n",
    "\n",
    "    # Create line plot using seaborn\n",
    "    sns.lineplot(data=df, x=\"timestamp\", y=\"temp\")\n",
    "    plt.xticks(rotation=90)\n",
    "\n",
    "    # Show plot\n",
    "    plt.show()"
   ]
  },
  {
   "cell_type": "code",
   "execution_count": 9,
   "id": "108201b0-d4a4-49f6-aaf4-e1858d9a2b0c",
   "metadata": {
    "tags": []
   },
   "outputs": [],
   "source": [
    "def graph_data(start_time, end_time):\n",
    "    global historical_measurements\n",
    "    historical_measurements = ask(\n",
    "        [\n",
    "            {\n",
    "                \"timeseries\": f\"<{THERMOSTAT_API_URL}/timeseries/{str(uuid.uuid4())}>\",\n",
    "                \"startTimestamp\": f'\"{start_time}\"',\n",
    "                \"endTimestamp\": f'\"{end_time}\"',\n",
    "            }\n",
    "        ],\n",
    "        ask_measurements_ki,\n",
    "        \"http://example.org/monitor\",\n",
    "        \"http://knowledge_engine:8280/rest/\",\n",
    "    )\n",
    "\n",
    "    # logger.info(f\"Historical measurements: {historical_measurements}\")\n",
    "    if historical_measurements and historical_measurements != [{}]:\n",
    "        plot_temperature(historical_measurements)\n",
    "    else:\n",
    "        logger.info(\"No historical measurements found.\")"
   ]
  },
  {
   "cell_type": "code",
   "execution_count": 10,
   "id": "f53ba272-6fa1-4d7d-b56e-50928f228fd9",
   "metadata": {},
   "outputs": [
    {
     "data": {
      "application/vnd.jupyter.widget-view+json": {
       "model_id": "e869ae9abf424b96a465da41318621af",
       "version_major": 2,
       "version_minor": 0
      },
      "text/plain": [
       "HBox(children=(DatetimePicker(value=datetime.datetime(2023, 6, 22, 0, 48, 8, tzinfo=datetime.timezone.utc), de…"
      ]
     },
     "metadata": {},
     "output_type": "display_data"
    }
   ],
   "source": [
    "from datetime import datetime, timezone\n",
    "\n",
    "from IPython.display import display\n",
    "from ipywidgets import Button, DatetimePicker, HBox\n",
    "\n",
    "\n",
    "def convert_datetimes(start_widget, end_widget):\n",
    "    # Convert the datetime object from UTC to the local timezone\n",
    "    start_datetime_obj = (\n",
    "        start_widget.value.astimezone().replace(microsecond=0).isoformat()\n",
    "    )\n",
    "    end_datetime_obj = end_widget.value.astimezone().replace(microsecond=0).isoformat()\n",
    "    return start_datetime_obj, end_datetime_obj\n",
    "\n",
    "\n",
    "start_widget = DatetimePicker(description=\"Start Time:\", disabled=False)\n",
    "start_widget.value = datetime.now(timezone.utc).replace(microsecond=0)\n",
    "\n",
    "end_widget = DatetimePicker(description=\"End Time:\", disabled=False)\n",
    "end_widget.value = datetime.now(timezone.utc).replace(microsecond=0)\n",
    "\n",
    "\n",
    "submit_button = Button(description=\"Submit\", button_style=\"danger\")\n",
    "\n",
    "display(HBox([start_widget, end_widget, submit_button]))\n",
    "\n",
    "\n",
    "def on_button_click(button):\n",
    "    start_timestamp, end_timestamp = convert_datetimes(start_widget, end_widget)\n",
    "    logger.info(f\"Start: {start_timestamp}, End: {end_timestamp}\")\n",
    "    graph_data(start_timestamp, end_timestamp)\n",
    "\n",
    "\n",
    "submit_button.on_click(on_button_click)"
   ]
  },
  {
   "cell_type": "code",
   "execution_count": null,
   "id": "6f8e8641-dff7-439c-a434-fe539fa0358e",
   "metadata": {},
   "outputs": [],
   "source": []
  }
 ],
 "metadata": {
  "kernelspec": {
   "display_name": "Python 3 (ipykernel)",
   "language": "python",
   "name": "python3"
  },
  "language_info": {
   "codemirror_mode": {
    "name": "ipython",
    "version": 3
   },
   "file_extension": ".py",
   "mimetype": "text/x-python",
   "name": "python",
   "nbconvert_exporter": "python",
   "pygments_lexer": "ipython3",
   "version": "3.10.11"
  }
 },
 "nbformat": 4,
 "nbformat_minor": 5
}
